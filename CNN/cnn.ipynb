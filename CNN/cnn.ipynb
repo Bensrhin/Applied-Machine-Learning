{
 "cells": [
  {
   "cell_type": "markdown",
   "metadata": {
    "id": "uF_925d7jjhI"
   },
   "source": [
    "# Programming Assignment #3: Convolutional Networks\n",
    "Author: Pierre Nugues"
   ]
  },
  {
   "cell_type": "markdown",
   "metadata": {
    "id": "OtxrQBZ6jjhR"
   },
   "source": [
    "<h2>Objectives</h2>"
   ]
  },
  {
   "cell_type": "markdown",
   "metadata": {
    "id": "qVwpezZFjjhS"
   },
   "source": [
    "The objectives of this assignment are to:\n",
    "* Write a program to recognize flowers on images\n",
    "* Learn how to manage an image data set\n",
    "* Apply convolutional networks to images\n",
    "* Know what Python generators are\n",
    "* Understand class activation\n",
    "* Write a short report on your experiments. This report is mandatory to pass the assignment."
   ]
  },
  {
   "cell_type": "markdown",
   "metadata": {
    "id": "QiU4suNsjjhY"
   },
   "source": [
    "## Organization"
   ]
  },
  {
   "cell_type": "markdown",
   "metadata": {
    "id": "173mdJh1jjhb"
   },
   "source": [
    "Each group will have to:\n",
    "* Write Python programs to recognize the sort of flower in an image.\n",
    "* Experiment different neural architectures and compare the results.\n",
    "\n",
    "Each student will have to:\n",
    "* Run at home Chollet's notebook: `5.4-visualizing-what-convnets-learn.ipynb`. The version available here https://github.com/fchollet/deep-learning-with-python-notebooks does not work with TensorFlow 2. Use the implementation available here: https://github.com/pnugues/edan95/tree/master/labs instead.\n",
    "* Write an individual report on these experiments.\n",
    "\n",
    "While not compulsory, I highly recommend that you use Google colab and run your program on a GPU. This is something you select when you run the notebook (runtime type). You will have to create a Google account for this: https://colab.research.google.com\n",
    "\n",
    "As there are a few parameterization steps, I recommend that you start this lab as early as you can."
   ]
  },
  {
   "cell_type": "markdown",
   "metadata": {
    "id": "YQ93I01Ojjhc"
   },
   "source": [
    "## Collecting a Dataset"
   ]
  },
  {
   "cell_type": "markdown",
   "metadata": {
    "id": "uffBSr0Qjjhe"
   },
   "source": [
    "1. You will collect a dataset from Kaggle (https://www.kaggle.com/). First register, it is free, and you will have access to lots of datasets.\n",
    "2. Download the Flower corpus (https://www.kaggle.com/alxmamaev/flowers-recognition). You can find a local copy in the `/usr/local/cs/EDAN95/datasets` folder.\n",
    "3. Split randomly your dataset into training, validation, and test sets: Use a 60/20/20 ratio. You will read all the file names and create a list of pairs, (file_name, category). You will then shuffle your list and save your partition of the data. To speed up the lab, you can also:\n",
    " * Start with the partition available in the `/usr/local/cs/EDAN95/datasets` folder; or\n",
    " * You can also run the code in the cells below (recommended).\n"
   ]
  },
  {
   "cell_type": "code",
   "execution_count": 3,
   "metadata": {
    "id": "77hdBvQmjjhg"
   },
   "outputs": [],
   "source": [
    "import os\n",
    "import random\n",
    "import shutil\n",
    "from tqdm import tqdm\n",
    "# To create the same dataset\n",
    "random.seed(0)"
   ]
  },
  {
   "cell_type": "markdown",
   "metadata": {
    "id": "IMNPWU3Ajjhr"
   },
   "source": [
    "If you use Google colab (recommended). Use the GPU accelerator"
   ]
  },
  {
   "cell_type": "code",
   "execution_count": null,
   "metadata": {
    "colab": {
     "base_uri": "https://localhost:8080/"
    },
    "id": "7SMD9glKjjhs",
    "outputId": "ca1ea4e6-387d-4f83-b2e0-cb12833fc451"
   },
   "outputs": [],
   "source": []
  },
  {
   "cell_type": "code",
   "execution_count": 4,
   "metadata": {
    "id": "0vSvnFCYjjhy"
   },
   "outputs": [],
   "source": [
    "# # Here write the path to your dataset\n",
    "# if machine_name == 'colab': # If you run your notebook with colab\n",
    "#   base = '/content/drive/My Drive/Applied machine learning'\n",
    "base = '/home/nabil/Bureau/3A/courses/machine_learning/lab/lab2020/CNN'"
   ]
  },
  {
   "cell_type": "code",
   "execution_count": 5,
   "metadata": {
    "colab": {
     "base_uri": "https://localhost:8080/"
    },
    "id": "bdR3LVK2jjh5",
    "outputId": "0468ab22-ddf4-4a48-e670-6e46c67d0184"
   },
   "outputs": [
    {
     "name": "stdout",
     "output_type": "stream",
     "text": [
      "Image types: ['dandelion', 'daisy', 'tulip', 'sunflower', 'rose']\n"
     ]
    },
    {
     "data": {
      "text/plain": [
       "['/home/nabil/Bureau/3A/courses/machine_learning/lab/lab2020/CNN/flowers/dandelion',\n",
       " '/home/nabil/Bureau/3A/courses/machine_learning/lab/lab2020/CNN/flowers/daisy',\n",
       " '/home/nabil/Bureau/3A/courses/machine_learning/lab/lab2020/CNN/flowers/tulip',\n",
       " '/home/nabil/Bureau/3A/courses/machine_learning/lab/lab2020/CNN/flowers/sunflower',\n",
       " '/home/nabil/Bureau/3A/courses/machine_learning/lab/lab2020/CNN/flowers/rose']"
      ]
     },
     "execution_count": 5,
     "metadata": {},
     "output_type": "execute_result"
    }
   ],
   "source": [
    "original_dataset_dir = os.path.join(base, 'flowers')\n",
    "dataset = os.path.join(base, 'flowers_split')\n",
    "\n",
    "train_dir = os.path.join(dataset, 'train')\n",
    "validation_dir = os.path.join(dataset, 'validation')\n",
    "test_dir = os.path.join(dataset, 'test')\n",
    "\n",
    "categories = os.listdir(original_dataset_dir)\n",
    "categories = [category for category in categories if not category.startswith('.')]\n",
    "print('Image types:', categories)\n",
    "data_folders = [os.path.join(original_dataset_dir, category) for category in categories]\n",
    "data_folders"
   ]
  },
  {
   "cell_type": "markdown",
   "metadata": {
    "id": "4JieqDfMjjh_"
   },
   "source": [
    "We build the (image, label) pairs"
   ]
  },
  {
   "cell_type": "code",
   "execution_count": 6,
   "metadata": {
    "colab": {
     "base_uri": "https://localhost:8080/"
    },
    "id": "VLH0FDzAjjiB",
    "outputId": "b08a8bcd-df41-4070-d00c-c9561ce488a5"
   },
   "outputs": [
    {
     "data": {
      "text/plain": [
       "[('14728922673_99086a3818_n.jpg', 'dandelion'),\n",
       " ('31530587330_ba31bd196e_n.jpg', 'dandelion'),\n",
       " ('3539077354_c67aa7168d_m.jpg', 'dandelion'),\n",
       " ('13881700933_69a750d418_n.jpg', 'dandelion'),\n",
       " ('12093962485_7c3e9a2a23_n.jpg', 'dandelion'),\n",
       " ('2387025546_6aecb1b984_n.jpg', 'dandelion'),\n",
       " ('34694292346_83b4d97809_n.jpg', 'dandelion'),\n",
       " ('5675705011_82729927ca_n.jpg', 'dandelion'),\n",
       " ('4558536575_d43a611bd4_n.jpg', 'dandelion'),\n",
       " ('4258272381_65bd4b8191_m.jpg', 'dandelion')]"
      ]
     },
     "execution_count": 6,
     "metadata": {},
     "output_type": "execute_result"
    }
   ],
   "source": [
    "pairs = []\n",
    "for folder, category in zip(data_folders, categories):\n",
    "    images = os.listdir(folder)\n",
    "    images = [image for image in images if not image.startswith('.')]\n",
    "    pairs.extend([(image, category) for image in images])\n",
    "pairs[:10]"
   ]
  },
  {
   "cell_type": "markdown",
   "metadata": {
    "id": "HPUM6sJbjjiH"
   },
   "source": [
    "We define a split. We will run this part only once to create the partition into training, validation, and test sets."
   ]
  },
  {
   "cell_type": "code",
   "execution_count": 7,
   "metadata": {
    "id": "UEF4UFuEjjiI"
   },
   "outputs": [],
   "source": [
    "if not os.path.isdir(dataset):\n",
    "    random.shuffle(pairs)\n",
    "    img_nbr = len(pairs)\n",
    "    train_images = pairs[0:int(0.6 * img_nbr)]\n",
    "    val_images = pairs[int(0.6 * img_nbr):int(0.8 * img_nbr)]\n",
    "    test_images = pairs[int(0.8 * img_nbr):]\n",
    "\n",
    "    # print(train_images)\n",
    "    print(len(train_images))\n",
    "    print(len(val_images))\n",
    "    print(len(test_images))"
   ]
  },
  {
   "cell_type": "markdown",
   "metadata": {
    "id": "BkNEykb4jjiM"
   },
   "source": [
    "We create the three subsets. We will run this part only once to create the partition into training, validation, and test sets."
   ]
  },
  {
   "cell_type": "code",
   "execution_count": 8,
   "metadata": {
    "id": "MLKCa4PXjjiO"
   },
   "outputs": [],
   "source": [
    "if not os.path.isdir(dataset):\n",
    "    for image, label in tqdm(train_images):\n",
    "        src = os.path.join(original_dataset_dir, label, image)\n",
    "        dst = os.path.join(train_dir, label, image)\n",
    "        os.makedirs(os.path.dirname(dst), exist_ok=True)\n",
    "        shutil.copyfile(src, dst)\n",
    "\n",
    "    for image, label in tqdm(val_images):\n",
    "        src = os.path.join(original_dataset_dir, label, image)\n",
    "        dst = os.path.join(validation_dir, label, image)\n",
    "        os.makedirs(os.path.dirname(dst), exist_ok=True)\n",
    "        shutil.copyfile(src, dst)\n",
    "\n",
    "    for image, label in tqdm(test_images):\n",
    "        src = os.path.join(original_dataset_dir, label, image)\n",
    "        dst = os.path.join(test_dir, label, image)\n",
    "        os.makedirs(os.path.dirname(dst), exist_ok=True)\n",
    "        shutil.copyfile(src, dst)"
   ]
  },
  {
   "cell_type": "code",
   "execution_count": 161,
   "metadata": {
    "colab": {
     "base_uri": "https://localhost:8080/",
     "height": 238
    },
    "id": "HS_9IKXZ8crS",
    "outputId": "ca8f88ea-dcaf-4a29-f87e-3ec19dbfbbbe"
   },
   "outputs": [],
   "source": [
    "# The target shape\n",
    "import cv2\n",
    "dim = (0, 0)\n",
    "for i in range(0,50):  \n",
    "    img_path = pairs[i][0]\n",
    "    color = pairs[i][1]\n",
    "    im = os.path.join(original_dataset_dir, color, img_path)\n",
    "#     print(im)\n",
    "    img = cv2.imread(im)\n",
    "    dimensions = img.shape\n",
    "    dim = (dim[0] + dimensions[0], dim[1] + dimensions[1])\n",
    "dim = (dim[0]//50, dim[1]//50)\n",
    "dimension = dim\n",
    "dimensions = (dim[0], dim[1], 3)\n",
    "\n",
    "dimension = (150, 150)\n",
    "dimensions = (150, 150, 3)"
   ]
  },
  {
   "cell_type": "markdown",
   "metadata": {
    "id": "OJqAEOp9jjiR"
   },
   "source": [
    "## Building a Simple Convolutional Neural Network"
   ]
  },
  {
   "cell_type": "markdown",
   "metadata": {
    "id": "ebYSKiX2jjiT"
   },
   "source": [
    "### Architecture"
   ]
  },
  {
   "cell_type": "markdown",
   "metadata": {
    "id": "ydASfD39jjiU"
   },
   "source": [
    "Create a simple convolutional network and train a model with the train set. You can start from the architecture proposed by Chollet, Listing 5.5 (in Chollet's notebook 5.2), and a small number of epochs. Use the `ImageDataGenerator` class to scale your images as in the book:\n",
    "```\n",
    "train_datagen = ImageDataGenerator(rescale=1. / 255)\n",
    "val_datagen = ImageDataGenerator(rescale=1. / 255)\n",
    "test_datagen = ImageDataGenerator(rescale=1. / 255)\n",
    "```\n",
    "* You will need to modify some parameters so that your network handles multiple classes.\n",
    "* You will also adjust the number of steps so that your generator in the fitting procedure sees all the samples.\n",
    "* You will report the training and validation losses and accuracies and comment on the possible overfit."
   ]
  },
  {
   "cell_type": "code",
   "execution_count": 10,
   "metadata": {
    "id": "wdmKZvssjjiV"
   },
   "outputs": [
    {
     "name": "stderr",
     "output_type": "stream",
     "text": [
      "Using TensorFlow backend.\n"
     ]
    }
   ],
   "source": [
    "import numpy as np\n",
    "from sklearn.metrics import classification_report, confusion_matrix, accuracy_score\n",
    "import matplotlib.pyplot as plt\n",
    "from keras import layers\n",
    "from keras import models\n",
    "from keras import optimizers\n",
    "from keras.preprocessing.image import ImageDataGenerator\n",
    "from keras.models import load_model\n",
    "EPOCHS = 30\n",
    "OPTIMIZER = 'rmsprop'\n",
    "# The pretrained network\n",
    "PRETRAINED = 'INCEPTION'"
   ]
  },
  {
   "cell_type": "code",
   "execution_count": 11,
   "metadata": {},
   "outputs": [],
   "source": [
    "# Data preprocessing\n",
    "train_path = os.path.join(dataset, 'train')\n",
    "test_path = os.path.join(dataset, 'test')\n",
    "val_path = os.path.join(dataset, 'validation')"
   ]
  },
  {
   "cell_type": "markdown",
   "metadata": {
    "id": "sa7qrJcajjiZ"
   },
   "source": [
    "Create the network and compile it"
   ]
  },
  {
   "cell_type": "code",
   "execution_count": 12,
   "metadata": {
    "id": "-3q6k3MawQRc"
   },
   "outputs": [],
   "source": [
    "classifier = models.Sequential()\n",
    "classifier.add(layers.Conv2D(filters = 32, kernel_size = 3, input_shape = dimensions))\n",
    "classifier.add(layers.MaxPooling2D(pool_size = (2, 2)))\n",
    "classifier.add(layers.Conv2D(filters = 64, kernel_size = 3 , activation='relu'))\n",
    "classifier.add(layers.MaxPooling2D(pool_size = (2, 2)))\n",
    "classifier.add(layers.Conv2D(filters = 128, kernel_size = 3, activation='relu'))\n",
    "classifier.add(layers.MaxPooling2D(pool_size = (2, 2)))\n",
    "classifier.add(layers.Conv2D(filters = 128, kernel_size = 3, activation='relu'))\n",
    "classifier.add(layers.MaxPooling2D(pool_size = (2, 2)))\n",
    "classifier.add(layers.Flatten())\n",
    "classifier.add(layers.Dense(units = 512, activation='relu'))\n",
    "classifier.add(layers.Dense(units = 5, activation='softmax'))\n",
    "classifier.compile(optimizer = OPTIMIZER,\n",
    "                    loss = 'categorical_crossentropy',\n",
    "                    metrics = ['accuracy'])"
   ]
  },
  {
   "cell_type": "markdown",
   "metadata": {
    "id": "GgLY1Rgujjie"
   },
   "source": [
    "Create now the data generators for the training, validation, and test set"
   ]
  },
  {
   "cell_type": "code",
   "execution_count": 13,
   "metadata": {
    "colab": {
     "base_uri": "https://localhost:8080/"
    },
    "id": "Su6DQ__jRvH0",
    "outputId": "9c512047-b8fc-4c04-8ba1-f965b9d5c611"
   },
   "outputs": [
    {
     "name": "stdout",
     "output_type": "stream",
     "text": [
      "Found 2595 images belonging to 5 classes.\n",
      "Found 863 images belonging to 5 classes.\n",
      "Found 865 images belonging to 5 classes.\n"
     ]
    }
   ],
   "source": [
    "# normalizing and scaling data\n",
    "train_datagen = ImageDataGenerator(rescale=1. / 255)\n",
    "val_datagen = ImageDataGenerator(rescale=1. / 255)\n",
    "test_datagen = ImageDataGenerator(rescale=1. / 255)\n",
    "\n",
    "train_generator = train_datagen.flow_from_directory(\n",
    "        train_path, target_size = dimension,\n",
    "        batch_size = 20,\n",
    "        class_mode=\"categorical\")\n",
    "\n",
    "val_generator = val_datagen.flow_from_directory(\n",
    "        val_path, target_size = dimension,\n",
    "        batch_size = 20,\n",
    "        class_mode=\"categorical\")\n",
    "\n",
    "test_generator = test_datagen.flow_from_directory(\n",
    "        test_path, target_size = dimension,\n",
    "        batch_size = 20,\n",
    "        shuffle=False,\n",
    "        class_mode=\"categorical\")\n"
   ]
  },
  {
   "cell_type": "markdown",
   "metadata": {
    "id": "fE-bW-c1jjij"
   },
   "source": [
    "Compute `STEPS_PER_EPOCH` and `VALIDATION_STEPS`"
   ]
  },
  {
   "cell_type": "code",
   "execution_count": 14,
   "metadata": {
    "colab": {
     "base_uri": "https://localhost:8080/"
    },
    "id": "ZTG_8zf1jjil",
    "outputId": "e1769788-de44-4bb8-b7a9-aa322545fb93"
   },
   "outputs": [],
   "source": [
    "STEPS_PER_EPOCH = train_generator.n // train_generator.batch_size\n",
    "VALIDATION_STEPS = val_generator.n // val_generator.batch_size"
   ]
  },
  {
   "cell_type": "markdown",
   "metadata": {
    "id": "LjajUd17jjip"
   },
   "source": [
    "And fit your model"
   ]
  },
  {
   "cell_type": "code",
   "execution_count": 15,
   "metadata": {
    "colab": {
     "base_uri": "https://localhost:8080/"
    },
    "id": "bTM1sk-Kjjiq",
    "outputId": "918b7188-402c-468d-9bd0-d641bdff9abf",
    "scrolled": true
   },
   "outputs": [
    {
     "name": "stdout",
     "output_type": "stream",
     "text": [
      "Epoch 1/30\n",
      "129/129 [==============================] - 14s 111ms/step - loss: 1.9670 - accuracy: 0.3911 - val_loss: 1.2460 - val_accuracy: 0.5186\n",
      "Epoch 2/30\n",
      "129/129 [==============================] - 12s 91ms/step - loss: 1.1048 - accuracy: 0.5740 - val_loss: 0.7931 - val_accuracy: 0.6097\n",
      "Epoch 3/30\n",
      "129/129 [==============================] - 12s 90ms/step - loss: 0.9188 - accuracy: 0.6575 - val_loss: 0.8455 - val_accuracy: 0.6441\n",
      "Epoch 4/30\n",
      "129/129 [==============================] - 12s 90ms/step - loss: 0.7292 - accuracy: 0.7363 - val_loss: 1.0261 - val_accuracy: 0.6275\n",
      "Epoch 5/30\n",
      "129/129 [==============================] - 12s 90ms/step - loss: 0.4793 - accuracy: 0.8287 - val_loss: 0.5506 - val_accuracy: 0.6548\n",
      "Epoch 6/30\n",
      "129/129 [==============================] - 12s 91ms/step - loss: 0.3321 - accuracy: 0.8882 - val_loss: 1.9713 - val_accuracy: 0.6536\n",
      "Epoch 7/30\n",
      "129/129 [==============================] - 12s 93ms/step - loss: 0.2242 - accuracy: 0.9270 - val_loss: 2.0798 - val_accuracy: 0.6560\n",
      "Epoch 8/30\n",
      "129/129 [==============================] - 12s 91ms/step - loss: 0.1485 - accuracy: 0.9546 - val_loss: 1.0426 - val_accuracy: 0.6560\n",
      "Epoch 9/30\n",
      "129/129 [==============================] - 12s 90ms/step - loss: 0.1572 - accuracy: 0.9671 - val_loss: 2.4871 - val_accuracy: 0.6180\n",
      "Epoch 10/30\n",
      "129/129 [==============================] - 12s 89ms/step - loss: 0.1464 - accuracy: 0.9650 - val_loss: 2.5485 - val_accuracy: 0.6002\n",
      "Epoch 11/30\n",
      "129/129 [==============================] - 12s 92ms/step - loss: 0.1454 - accuracy: 0.9771 - val_loss: 2.3304 - val_accuracy: 0.6346\n",
      "Epoch 12/30\n",
      "129/129 [==============================] - 12s 92ms/step - loss: 0.1066 - accuracy: 0.9771 - val_loss: 3.4026 - val_accuracy: 0.6062\n",
      "Epoch 13/30\n",
      "129/129 [==============================] - 12s 92ms/step - loss: 0.1523 - accuracy: 0.9751 - val_loss: 4.4064 - val_accuracy: 0.5955\n",
      "Epoch 14/30\n",
      "129/129 [==============================] - 12s 92ms/step - loss: 0.0899 - accuracy: 0.9860 - val_loss: 2.2178 - val_accuracy: 0.6335\n",
      "Epoch 15/30\n",
      "129/129 [==============================] - 12s 94ms/step - loss: 0.1601 - accuracy: 0.9720 - val_loss: 3.7957 - val_accuracy: 0.5682\n",
      "Epoch 16/30\n",
      "129/129 [==============================] - 12s 96ms/step - loss: 0.0967 - accuracy: 0.9833 - val_loss: 3.2864 - val_accuracy: 0.5907\n",
      "Epoch 17/30\n",
      "129/129 [==============================] - 12s 93ms/step - loss: 0.1521 - accuracy: 0.9740 - val_loss: 8.9048 - val_accuracy: 0.5824\n",
      "Epoch 18/30\n",
      "129/129 [==============================] - 12s 94ms/step - loss: 0.1406 - accuracy: 0.9825 - val_loss: 3.3230 - val_accuracy: 0.6097\n",
      "Epoch 19/30\n",
      "129/129 [==============================] - 12s 94ms/step - loss: 0.1363 - accuracy: 0.9786 - val_loss: 5.0758 - val_accuracy: 0.5931\n",
      "Epoch 20/30\n",
      "129/129 [==============================] - 12s 95ms/step - loss: 0.1462 - accuracy: 0.9806 - val_loss: 6.5511 - val_accuracy: 0.5611\n",
      "Epoch 21/30\n",
      "129/129 [==============================] - 13s 97ms/step - loss: 0.1168 - accuracy: 0.9852 - val_loss: 19.0369 - val_accuracy: 0.5125\n",
      "Epoch 22/30\n",
      "129/129 [==============================] - 13s 99ms/step - loss: 0.1456 - accuracy: 0.9829 - val_loss: 8.4210 - val_accuracy: 0.5647\n",
      "Epoch 23/30\n",
      "129/129 [==============================] - 13s 98ms/step - loss: 0.1182 - accuracy: 0.9841 - val_loss: 8.7423 - val_accuracy: 0.6157\n",
      "Epoch 24/30\n",
      "129/129 [==============================] - 12s 95ms/step - loss: 0.1016 - accuracy: 0.9852 - val_loss: 9.1143 - val_accuracy: 0.6002\n",
      "Epoch 25/30\n",
      "129/129 [==============================] - 12s 91ms/step - loss: 0.2416 - accuracy: 0.9849 - val_loss: 2.7045 - val_accuracy: 0.6180\n",
      "Epoch 26/30\n",
      "129/129 [==============================] - 12s 96ms/step - loss: 0.0970 - accuracy: 0.9864 - val_loss: 9.9842 - val_accuracy: 0.6085\n",
      "Epoch 27/30\n",
      "129/129 [==============================] - 13s 97ms/step - loss: 0.1393 - accuracy: 0.9845 - val_loss: 7.5740 - val_accuracy: 0.5670\n",
      "Epoch 28/30\n",
      "129/129 [==============================] - 12s 97ms/step - loss: 0.1022 - accuracy: 0.9879 - val_loss: 9.5321 - val_accuracy: 0.5931\n",
      "Epoch 29/30\n",
      "129/129 [==============================] - 13s 97ms/step - loss: 0.1672 - accuracy: 0.9860 - val_loss: 22.4547 - val_accuracy: 0.6168\n",
      "Epoch 30/30\n",
      "129/129 [==============================] - 13s 101ms/step - loss: 0.0952 - accuracy: 0.9922 - val_loss: 13.4184 - val_accuracy: 0.5967\n"
     ]
    }
   ],
   "source": [
    "history = classifier.fit_generator(train_generator, steps_per_epoch=STEPS_PER_EPOCH,\n",
    "                                   epochs = EPOCHS,\n",
    "                                   validation_data = val_generator,\n",
    "                                   validation_steps = VALIDATION_STEPS)"
   ]
  },
  {
   "cell_type": "code",
   "execution_count": 16,
   "metadata": {},
   "outputs": [],
   "source": [
    "# save the model\n",
    "classifier.save('classifier_1.h5')"
   ]
  },
  {
   "cell_type": "code",
   "execution_count": null,
   "metadata": {},
   "outputs": [],
   "source": [
    "classifier = load_model('classifier_2.h5')"
   ]
  },
  {
   "cell_type": "code",
   "execution_count": 17,
   "metadata": {},
   "outputs": [
    {
     "data": {
      "text/plain": [
       "dict_keys(['val_loss', 'val_accuracy', 'loss', 'accuracy'])"
      ]
     },
     "execution_count": 17,
     "metadata": {},
     "output_type": "execute_result"
    }
   ],
   "source": [
    "history.history.keys()"
   ]
  },
  {
   "cell_type": "markdown",
   "metadata": {
    "id": "fc2LwqFYjjiu"
   },
   "source": [
    "### Analyzing the fitting performance over epochs"
   ]
  },
  {
   "cell_type": "markdown",
   "metadata": {
    "id": "z2evFskBjjiv"
   },
   "source": [
    "As in Chollet's examples, print the training and validation loss"
   ]
  },
  {
   "cell_type": "code",
   "execution_count": 18,
   "metadata": {},
   "outputs": [
    {
     "data": {
      "image/png": "[encoded data removed]",
      "text/plain": [
       "<Figure size 432x288 with 1 Axes>"
      ]
     },
     "metadata": {
      "needs_background": "light"
     },
     "output_type": "display_data"
    },
    {
     "data": {
      "image/png": "[encoded data removed]",
      "text/plain": [
       "<Figure size 432x288 with 1 Axes>"
      ]
     },
     "metadata": {
      "needs_background": "light"
     },
     "output_type": "display_data"
    }
   ],
   "source": [
    "def plot_perf():\n",
    "    acc = history.history['accuracy']\n",
    "    val_acc = history.history['val_accuracy']\n",
    "    loss = history.history['loss']\n",
    "    val_loss = history.history['val_loss']\n",
    "\n",
    "    epochs = range(len(acc))\n",
    "\n",
    "    plt.plot(epochs, acc, 'bo', label='Training acc')\n",
    "    plt.plot(epochs, val_acc, 'b', label='Validation acc')\n",
    "    plt.title('Training and validation accuracy')\n",
    "    plt.legend()\n",
    "\n",
    "    plt.figure()\n",
    "\n",
    "    plt.plot(epochs, loss, 'bo', label='Training loss')\n",
    "    plt.plot(epochs, val_loss, 'b', label='Validation loss')\n",
    "    plt.title('Training and validation loss')\n",
    "    plt.legend()\n",
    "\n",
    "    plt.show()\n",
    "plot_perf()"
   ]
  },
  {
   "cell_type": "markdown",
   "metadata": {
    "id": "_DWJMbqhjji7"
   },
   "source": [
    "### Predicting the test set"
   ]
  },
  {
   "cell_type": "markdown",
   "metadata": {
    "id": "GbsxtwlZjji9"
   },
   "source": [
    "Apply now your network to the test set"
   ]
  },
  {
   "cell_type": "code",
   "execution_count": 19,
   "metadata": {
    "id": "bCj9Tsecjji-"
   },
   "outputs": [],
   "source": [
    "# predict\n",
    "y_hat = classifier.predict_generator(test_generator, test_generator.n//test_generator.batch_size +1)\n",
    "y_hat = np.argmax(y_hat, axis=1)\n",
    "\n",
    "# true labels\n",
    "y_true = test_generator.classes"
   ]
  },
  {
   "cell_type": "markdown",
   "metadata": {
    "id": "bqgR36BLjjjB"
   },
   "source": [
    "Report the accuracy as well as the classification report. Use sklearn functions"
   ]
  },
  {
   "cell_type": "code",
   "execution_count": 20,
   "metadata": {
    "id": "pjQnsam5jjjC"
   },
   "outputs": [
    {
     "name": "stdout",
     "output_type": "stream",
     "text": [
      "Simple CNN\n",
      "Class indices  {'daisy': 0, 'dandelion': 1, 'rose': 2, 'sunflower': 3, 'tulip': 4}\n",
      "sklearn accuracy: 0.6358381502890174\n",
      "Classification report:\n",
      "               precision    recall  f1-score   support\n",
      "\n",
      "           0       0.65      0.56      0.60       162\n",
      "           1       0.71      0.75      0.72       228\n",
      "           2       0.55      0.44      0.49       152\n",
      "           3       0.61      0.74      0.67       137\n",
      "           4       0.61      0.66      0.63       186\n",
      "\n",
      "    accuracy                           0.64       865\n",
      "   macro avg       0.63      0.63      0.62       865\n",
      "weighted avg       0.63      0.64      0.63       865\n",
      "\n"
     ]
    }
   ],
   "source": [
    "print('Simple CNN')\n",
    "print(\"Class indices \", train_generator.class_indices)\n",
    "print(\"sklearn accuracy:\", accuracy_score(y_true, y_hat))\n",
    "print(\"Classification report:\\n\",classification_report(y_true, y_hat))"
   ]
  },
  {
   "cell_type": "markdown",
   "metadata": {
    "id": "ICk-qsztjjjG"
   },
   "source": [
    "Print the confusion matrix"
   ]
  },
  {
   "cell_type": "code",
   "execution_count": 21,
   "metadata": {
    "id": "5b0JU2vGjjjG"
   },
   "outputs": [
    {
     "name": "stdout",
     "output_type": "stream",
     "text": [
      "[[ 90  26  12  22  12]\n",
      " [ 20 170   7  24   7]\n",
      " [ 13  12  67   9  51]\n",
      " [  6  19   4 101   7]\n",
      " [  9  14  32   9 122]]\n"
     ]
    }
   ],
   "source": [
    "# the confusion matrix\n",
    "print(confusion_matrix(y_true, y_hat))"
   ]
  },
  {
   "cell_type": "markdown",
   "metadata": {
    "id": "fQgvab-SjjjJ"
   },
   "source": [
    "Finally, run a model evaluation and store the loss and accuracy in the `test_loss_1` and `test_acc_1` variables. As with fitting, you may need to adjust the number of steps so that your network tests all the samples."
   ]
  },
  {
   "cell_type": "code",
   "execution_count": 22,
   "metadata": {
    "id": "o8AM_V_tjjjK"
   },
   "outputs": [
    {
     "data": {
      "text/plain": [
       "(13.753254890441895, 0.6358381509780884)"
      ]
     },
     "execution_count": 22,
     "metadata": {},
     "output_type": "execute_result"
    }
   ],
   "source": [
    "test_loss_1, test_acc_1 = classifier.evaluate_generator(test_generator, test_generator.n//test_generator.batch_size +1)\n",
    "test_loss_1, test_acc_1"
   ]
  },
  {
   "cell_type": "code",
   "execution_count": 38,
   "metadata": {},
   "outputs": [],
   "source": [
    "# Classifier\n",
    "def classifier():\n",
    "    classifier = models.Sequential()\n",
    "\n",
    "    classifier.add(layers.Conv2D(filters = 32, kernel_size = 5, input_shape = dimensions))\n",
    "    classifier.add(layers.MaxPooling2D(pool_size = (2, 2)))\n",
    "    classifier.add(layers.BatchNormalization())\n",
    "    classifier.add(layers.Dropout(0.2))\n",
    "\n",
    "    classifier.add(layers.Conv2D(filters = 64, kernel_size = 3 , activation='relu'))\n",
    "    classifier.add(layers.MaxPooling2D(pool_size = (2, 2)))\n",
    "    classifier.add(layers.BatchNormalization())\n",
    "    classifier.add(layers.Dropout(0.2))\n",
    "\n",
    "    classifier.add(layers.Conv2D(filters = 96, kernel_size = 3 , activation='relu'))\n",
    "    classifier.add(layers.MaxPooling2D(pool_size = (2, 2)))\n",
    "    classifier.add(layers.BatchNormalization())\n",
    "    classifier.add(layers.Dropout(0.2))\n",
    "\n",
    "    classifier.add(layers.Conv2D(filters = 128, kernel_size = 3 , activation='relu'))\n",
    "    classifier.add(layers.MaxPooling2D(pool_size = (2, 2)))\n",
    "    classifier.add(layers.BatchNormalization())\n",
    "    classifier.add(layers.Dropout(0.3))\n",
    "    \n",
    "    classifier.add(layers.Conv2D(filters = 256, kernel_size = 3 , activation='relu'))\n",
    "    classifier.add(layers.MaxPooling2D(pool_size = (2, 2)))\n",
    "    classifier.add(layers.BatchNormalization())\n",
    "    classifier.add(layers.Dropout(0.3))\n",
    "\n",
    "    classifier.add(layers.Flatten())\n",
    "\n",
    "    classifier.add(layers.Dense(units = 256, activation='relu', input_dim= 5*7*128 ))\n",
    "    classifier.add(layers.Dropout(0.3))\n",
    "    classifier.add(layers.BatchNormalization())\n",
    "    # classifier.add(layers.BatchNormalization())\n",
    "\n",
    "    classifier.add(layers.Dense(units = 5, activation='softmax'))\n",
    "\n",
    "    classifier.compile(optimizer = OPTIMIZER, loss = 'categorical_crossentropy', metrics = ['accuracy'])\n",
    "    return classifier"
   ]
  },
  {
   "cell_type": "code",
   "execution_count": 39,
   "metadata": {
    "scrolled": true
   },
   "outputs": [
    {
     "name": "stdout",
     "output_type": "stream",
     "text": [
      "Model: \"sequential_10\"\n",
      "_________________________________________________________________\n",
      "Layer (type)                 Output Shape              Param #   \n",
      "=================================================================\n",
      "conv2d_38 (Conv2D)           (None, 235, 311, 32)      2432      \n",
      "_________________________________________________________________\n",
      "max_pooling2d_38 (MaxPooling (None, 117, 155, 32)      0         \n",
      "_________________________________________________________________\n",
      "batch_normalization_43 (Batc (None, 117, 155, 32)      128       \n",
      "_________________________________________________________________\n",
      "dropout_43 (Dropout)         (None, 117, 155, 32)      0         \n",
      "_________________________________________________________________\n",
      "conv2d_39 (Conv2D)           (None, 115, 153, 64)      18496     \n",
      "_________________________________________________________________\n",
      "max_pooling2d_39 (MaxPooling (None, 57, 76, 64)        0         \n",
      "_________________________________________________________________\n",
      "batch_normalization_44 (Batc (None, 57, 76, 64)        256       \n",
      "_________________________________________________________________\n",
      "dropout_44 (Dropout)         (None, 57, 76, 64)        0         \n",
      "_________________________________________________________________\n",
      "conv2d_40 (Conv2D)           (None, 55, 74, 96)        55392     \n",
      "_________________________________________________________________\n",
      "max_pooling2d_40 (MaxPooling (None, 27, 37, 96)        0         \n",
      "_________________________________________________________________\n",
      "batch_normalization_45 (Batc (None, 27, 37, 96)        384       \n",
      "_________________________________________________________________\n",
      "dropout_45 (Dropout)         (None, 27, 37, 96)        0         \n",
      "_________________________________________________________________\n",
      "conv2d_41 (Conv2D)           (None, 25, 35, 128)       110720    \n",
      "_________________________________________________________________\n",
      "max_pooling2d_41 (MaxPooling (None, 12, 17, 128)       0         \n",
      "_________________________________________________________________\n",
      "batch_normalization_46 (Batc (None, 12, 17, 128)       512       \n",
      "_________________________________________________________________\n",
      "dropout_46 (Dropout)         (None, 12, 17, 128)       0         \n",
      "_________________________________________________________________\n",
      "conv2d_42 (Conv2D)           (None, 10, 15, 128)       147584    \n",
      "_________________________________________________________________\n",
      "max_pooling2d_42 (MaxPooling (None, 5, 7, 128)         0         \n",
      "_________________________________________________________________\n",
      "batch_normalization_47 (Batc (None, 5, 7, 128)         512       \n",
      "_________________________________________________________________\n",
      "dropout_47 (Dropout)         (None, 5, 7, 128)         0         \n",
      "_________________________________________________________________\n",
      "flatten_10 (Flatten)         (None, 4480)              0         \n",
      "_________________________________________________________________\n",
      "dense_20 (Dense)             (None, 256)               1147136   \n",
      "_________________________________________________________________\n",
      "dropout_48 (Dropout)         (None, 256)               0         \n",
      "_________________________________________________________________\n",
      "batch_normalization_48 (Batc (None, 256)               1024      \n",
      "_________________________________________________________________\n",
      "dense_21 (Dense)             (None, 5)                 1285      \n",
      "=================================================================\n",
      "Total params: 1,485,861\n",
      "Trainable params: 1,484,453\n",
      "Non-trainable params: 1,408\n",
      "_________________________________________________________________\n",
      "Epoch 1/30\n",
      "129/129 [==============================] - 20s 158ms/step - loss: 1.5954 - accuracy: 0.4264 - val_loss: 1.8886 - val_accuracy: 0.2942\n",
      "Epoch 2/30\n",
      "129/129 [==============================] - 19s 144ms/step - loss: 1.2159 - accuracy: 0.5375 - val_loss: 1.6636 - val_accuracy: 0.3333\n",
      "Epoch 3/30\n",
      "129/129 [==============================] - 18s 142ms/step - loss: 1.0663 - accuracy: 0.5926 - val_loss: 1.1107 - val_accuracy: 0.4816\n",
      "Epoch 4/30\n",
      "129/129 [==============================] - 18s 143ms/step - loss: 0.9494 - accuracy: 0.6478 - val_loss: 1.4094 - val_accuracy: 0.5326\n",
      "Epoch 5/30\n",
      "129/129 [==============================] - 19s 145ms/step - loss: 0.8448 - accuracy: 0.6827 - val_loss: 0.8744 - val_accuracy: 0.5718\n",
      "Epoch 6/30\n",
      "129/129 [==============================] - 19s 145ms/step - loss: 0.7809 - accuracy: 0.7099 - val_loss: 1.3530 - val_accuracy: 0.6667\n",
      "Epoch 7/30\n",
      "129/129 [==============================] - 19s 144ms/step - loss: 0.6980 - accuracy: 0.7348 - val_loss: 0.7318 - val_accuracy: 0.6548\n",
      "Epoch 8/30\n",
      "129/129 [==============================] - 20s 152ms/step - loss: 0.6261 - accuracy: 0.7693 - val_loss: 0.8397 - val_accuracy: 0.6560\n",
      "Epoch 9/30\n",
      "129/129 [==============================] - 18s 143ms/step - loss: 0.5754 - accuracy: 0.7705 - val_loss: 0.5388 - val_accuracy: 0.6679\n",
      "Epoch 10/30\n",
      "129/129 [==============================] - 19s 145ms/step - loss: 0.5207 - accuracy: 0.8047 - val_loss: 0.6521 - val_accuracy: 0.7212\n",
      "Epoch 11/30\n",
      "129/129 [==============================] - 18s 142ms/step - loss: 0.4680 - accuracy: 0.8334 - val_loss: 0.8126 - val_accuracy: 0.6607\n",
      "Epoch 12/30\n",
      "129/129 [==============================] - 18s 141ms/step - loss: 0.4200 - accuracy: 0.8509 - val_loss: 0.9686 - val_accuracy: 0.6453\n",
      "Epoch 13/30\n",
      "129/129 [==============================] - 18s 141ms/step - loss: 0.3608 - accuracy: 0.8672 - val_loss: 1.1695 - val_accuracy: 0.7070\n",
      "Epoch 14/30\n",
      "129/129 [==============================] - 19s 144ms/step - loss: 0.3364 - accuracy: 0.8771 - val_loss: 1.0278 - val_accuracy: 0.6738\n",
      "Epoch 15/30\n",
      "129/129 [==============================] - 18s 143ms/step - loss: 0.2970 - accuracy: 0.8891 - val_loss: 0.8575 - val_accuracy: 0.7011\n",
      "Epoch 16/30\n",
      "129/129 [==============================] - 18s 141ms/step - loss: 0.2747 - accuracy: 0.8975 - val_loss: 1.2585 - val_accuracy: 0.6773\n",
      "Epoch 17/30\n",
      "129/129 [==============================] - 18s 143ms/step - loss: 0.2275 - accuracy: 0.9231 - val_loss: 1.2135 - val_accuracy: 0.6880\n",
      "Epoch 18/30\n",
      "129/129 [==============================] - 18s 141ms/step - loss: 0.2187 - accuracy: 0.9247 - val_loss: 0.6261 - val_accuracy: 0.7153\n",
      "Epoch 19/30\n",
      "129/129 [==============================] - 18s 142ms/step - loss: 0.1976 - accuracy: 0.9293 - val_loss: 0.4851 - val_accuracy: 0.7319\n",
      "Epoch 20/30\n",
      "129/129 [==============================] - 18s 140ms/step - loss: 0.2025 - accuracy: 0.9313 - val_loss: 1.1871 - val_accuracy: 0.7117\n",
      "Epoch 21/30\n",
      "129/129 [==============================] - 20s 152ms/step - loss: 0.1653 - accuracy: 0.9438 - val_loss: 1.0201 - val_accuracy: 0.7117\n",
      "Epoch 22/30\n",
      "129/129 [==============================] - 19s 148ms/step - loss: 0.1635 - accuracy: 0.9467 - val_loss: 0.7377 - val_accuracy: 0.7094\n",
      "Epoch 23/30\n",
      "129/129 [==============================] - 19s 149ms/step - loss: 0.1551 - accuracy: 0.9449 - val_loss: 1.3425 - val_accuracy: 0.7070\n",
      "Epoch 24/30\n",
      "129/129 [==============================] - 19s 145ms/step - loss: 0.1484 - accuracy: 0.9499 - val_loss: 1.5201 - val_accuracy: 0.6940\n",
      "Epoch 25/30\n",
      "129/129 [==============================] - 19s 144ms/step - loss: 0.1475 - accuracy: 0.9511 - val_loss: 1.2588 - val_accuracy: 0.7248\n",
      "Epoch 26/30\n",
      "129/129 [==============================] - 18s 143ms/step - loss: 0.1481 - accuracy: 0.9542 - val_loss: 0.4620 - val_accuracy: 0.7129\n",
      "Epoch 27/30\n",
      "129/129 [==============================] - 19s 144ms/step - loss: 0.1300 - accuracy: 0.9585 - val_loss: 1.1127 - val_accuracy: 0.7106\n",
      "Epoch 28/30\n",
      "129/129 [==============================] - 19s 148ms/step - loss: 0.1100 - accuracy: 0.9623 - val_loss: 1.7016 - val_accuracy: 0.6726\n",
      "Epoch 29/30\n",
      "129/129 [==============================] - 19s 150ms/step - loss: 0.1239 - accuracy: 0.9581 - val_loss: 0.8902 - val_accuracy: 0.6987\n",
      "Epoch 30/30\n",
      "129/129 [==============================] - 19s 144ms/step - loss: 0.0973 - accuracy: 0.9655 - val_loss: 1.4580 - val_accuracy: 0.6762\n"
     ]
    }
   ],
   "source": [
    "classifier1 = classifier()\n",
    "classifier1.summary()\n",
    "history = classifier1.fit_generator(train_generator, steps_per_epoch=STEPS_PER_EPOCH,\n",
    "                                   epochs = EPOCHS,\n",
    "                                   validation_data = val_generator,\n",
    "                                   validation_steps = VALIDATION_STEPS)"
   ]
  },
  {
   "cell_type": "code",
   "execution_count": 44,
   "metadata": {},
   "outputs": [],
   "source": [
    "# save the model\n",
    "classifier1.save('classifier_2.h5')"
   ]
  },
  {
   "cell_type": "code",
   "execution_count": 125,
   "metadata": {},
   "outputs": [],
   "source": [
    "classifier1 = load_model('classifier_2.h5')"
   ]
  },
  {
   "cell_type": "code",
   "execution_count": 40,
   "metadata": {
    "id": "sjPwkL7Vjjiv"
   },
   "outputs": [
    {
     "data": {
      "image/png": "[encoded data removed]",
      "text/plain": [
       "<Figure size 432x288 with 1 Axes>"
      ]
     },
     "metadata": {
      "needs_background": "light"
     },
     "output_type": "display_data"
    },
    {
     "data": {
      "image/png": "[encoded data removed]",
      "text/plain": [
       "<Figure size 432x288 with 1 Axes>"
      ]
     },
     "metadata": {
      "needs_background": "light"
     },
     "output_type": "display_data"
    }
   ],
   "source": [
    "plot_perf()"
   ]
  },
  {
   "cell_type": "code",
   "execution_count": 41,
   "metadata": {},
   "outputs": [],
   "source": [
    "# predict\n",
    "y_hat = classifier1.predict_generator(test_generator, test_generator.n//test_generator.batch_size +1)\n",
    "y_hat = np.argmax(y_hat, axis=1)\n",
    "\n",
    "# true labelslab\n",
    "y_true = test_generator.classes"
   ]
  },
  {
   "cell_type": "code",
   "execution_count": 42,
   "metadata": {},
   "outputs": [
    {
     "name": "stdout",
     "output_type": "stream",
     "text": [
      "Simple CNN\n",
      "Class indices  {'daisy': 0, 'dandelion': 1, 'rose': 2, 'sunflower': 3, 'tulip': 4}\n",
      "sklearn accuracy: 0.7283236994219653\n",
      "Classification report:\n",
      "               precision    recall  f1-score   support\n",
      "\n",
      "           0       0.74      0.73      0.73       162\n",
      "           1       0.71      0.86      0.78       228\n",
      "           2       0.68      0.57      0.62       152\n",
      "           3       0.79      0.76      0.78       137\n",
      "           4       0.74      0.68      0.71       186\n",
      "\n",
      "    accuracy                           0.73       865\n",
      "   macro avg       0.73      0.72      0.72       865\n",
      "weighted avg       0.73      0.73      0.73       865\n",
      "\n",
      "[[118  27   5   5   7]\n",
      " [ 15 196   3   8   6]\n",
      " [ 15  17  86   7  27]\n",
      " [  5  18   6 104   4]\n",
      " [  7  19  27   7 126]]\n"
     ]
    }
   ],
   "source": [
    "print('Simple CNN')\n",
    "print(\"Class indices \", train_generator.class_indices)\n",
    "print(\"sklearn accuracy:\", accuracy_score(y_true, y_hat))\n",
    "print(\"Classification report:\\n\",classification_report(y_true, y_hat))\n",
    "print(confusion_matrix(y_true, y_hat))"
   ]
  },
  {
   "cell_type": "code",
   "execution_count": 43,
   "metadata": {},
   "outputs": [
    {
     "data": {
      "text/plain": [
       "(1.8937839269638062, 0.7283236980438232)"
      ]
     },
     "execution_count": 43,
     "metadata": {},
     "output_type": "execute_result"
    }
   ],
   "source": [
    "test_loss_1, test_acc_1 = classifier1.evaluate_generator(test_generator, test_generator.n//test_generator.batch_size +1)\n",
    "test_loss_1, test_acc_1"
   ]
  },
  {
   "cell_type": "markdown",
   "metadata": {
    "id": "EBhBMgZwjjjO"
   },
   "source": [
    "Try to improve your model by modifying some parameters and evaluate your network again."
   ]
  },
  {
   "cell_type": "markdown",
   "metadata": {
    "id": "A0vIBDVRjjjO"
   },
   "source": [
    "## Using Image Augmentation"
   ]
  },
  {
   "cell_type": "markdown",
   "metadata": {
    "id": "B7LjAj8DjjjQ"
   },
   "source": [
    "### Architecture"
   ]
  },
  {
   "cell_type": "markdown",
   "metadata": {
    "id": "lmGERO2mjjjQ"
   },
   "source": [
    "The flower dataset is relatively small. A way to expand such datasets is to generate artificial images by applying small transformations to existing images. Keras provides a built-in class for this: `ImageDataGenerator`. You will reuse it and apply it to the flower data set.\n",
    "1. Using the network from the previous exercise, apply some transformations to your images. You can start from Chollet, Listing 5.11 (in notebook 5.2 also).\n",
    "2. Report the training and validation losses and accuracies and comment on the possible overfit.\n",
    "3. Apply your network to the test set and report the accuracy as well as the confusion matrix you obtained.\n"
   ]
  },
  {
   "cell_type": "markdown",
   "metadata": {
    "id": "I1SK8DUljjjQ"
   },
   "source": [
    "Write a new generator for the training set"
   ]
  },
  {
   "cell_type": "code",
   "execution_count": 47,
   "metadata": {
    "id": "WGG2rrPWjjjS"
   },
   "outputs": [
    {
     "name": "stdout",
     "output_type": "stream",
     "text": [
      "Found 2595 images belonging to 5 classes.\n",
      "Found 863 images belonging to 5 classes.\n",
      "Found 865 images belonging to 5 classes.\n"
     ]
    }
   ],
   "source": [
    "train_datagen = ImageDataGenerator(\n",
    "      rescale = 1./255,\n",
    "      rotation_range=40,\n",
    "      width_shift_range=0.2,\n",
    "      height_shift_range=0.2,\n",
    "      shear_range=0.2,\n",
    "      zoom_range=0.2,\n",
    "      horizontal_flip=True,\n",
    "      fill_mode='nearest')\n",
    "\n",
    "train_generator = train_datagen.flow_from_directory(\n",
    "        train_path, target_size = dimension,\n",
    "        batch_size = 32,\n",
    "        class_mode=\"categorical\")\n",
    "\n",
    "val_generator = val_datagen.flow_from_directory(\n",
    "        val_path, target_size = dimension,\n",
    "        batch_size = 32,\n",
    "        class_mode=\"categorical\")\n",
    "\n",
    "test_generator = test_datagen.flow_from_directory(\n",
    "        test_path, target_size = dimension,\n",
    "        batch_size = 32,\n",
    "        shuffle=False,\n",
    "        class_mode=\"categorical\")"
   ]
  },
  {
   "cell_type": "markdown",
   "metadata": {
    "id": "aeXgAzOVjjjV"
   },
   "source": [
    "Fit a model. You reset the model by recreating it."
   ]
  },
  {
   "cell_type": "code",
   "execution_count": 48,
   "metadata": {
    "id": "KHBuhSUAjjjW",
    "scrolled": true
   },
   "outputs": [
    {
     "name": "stdout",
     "output_type": "stream",
     "text": [
      "Epoch 1/30\n",
      "81/81 [==============================] - 56s 694ms/step - loss: 1.6304 - accuracy: 0.4163 - val_loss: 3.9848 - val_accuracy: 0.2368\n",
      "Epoch 2/30\n",
      "81/81 [==============================] - 60s 736ms/step - loss: 1.3346 - accuracy: 0.4865 - val_loss: 2.2465 - val_accuracy: 0.3032\n",
      "Epoch 3/30\n",
      "81/81 [==============================] - 57s 704ms/step - loss: 1.1989 - accuracy: 0.5521 - val_loss: 2.0382 - val_accuracy: 0.3418\n",
      "Epoch 4/30\n",
      "81/81 [==============================] - 59s 726ms/step - loss: 1.1229 - accuracy: 0.5712 - val_loss: 1.9109 - val_accuracy: 0.4621\n",
      "Epoch 5/30\n",
      "81/81 [==============================] - 58s 714ms/step - loss: 1.0406 - accuracy: 0.5993 - val_loss: 1.6160 - val_accuracy: 0.5680\n",
      "Epoch 6/30\n",
      "81/81 [==============================] - 58s 715ms/step - loss: 0.9680 - accuracy: 0.6219 - val_loss: 1.8303 - val_accuracy: 0.5150\n",
      "Epoch 7/30\n",
      "81/81 [==============================] - 58s 715ms/step - loss: 0.9453 - accuracy: 0.6391 - val_loss: 1.1914 - val_accuracy: 0.6438\n",
      "Epoch 8/30\n",
      "81/81 [==============================] - 56s 689ms/step - loss: 0.9311 - accuracy: 0.6442 - val_loss: 0.9258 - val_accuracy: 0.6450\n",
      "Epoch 9/30\n",
      "81/81 [==============================] - 56s 687ms/step - loss: 0.8704 - accuracy: 0.6746 - val_loss: 1.0631 - val_accuracy: 0.6751\n",
      "Epoch 10/30\n",
      "81/81 [==============================] - 56s 692ms/step - loss: 0.8699 - accuracy: 0.6754 - val_loss: 1.3729 - val_accuracy: 0.6161\n",
      "Epoch 11/30\n",
      "81/81 [==============================] - 55s 683ms/step - loss: 0.8159 - accuracy: 0.6988 - val_loss: 0.8143 - val_accuracy: 0.7112\n",
      "Epoch 12/30\n",
      "81/81 [==============================] - 58s 712ms/step - loss: 0.8058 - accuracy: 0.6937 - val_loss: 0.6999 - val_accuracy: 0.7100\n",
      "Epoch 13/30\n",
      "81/81 [==============================] - 67s 822ms/step - loss: 0.7868 - accuracy: 0.6906 - val_loss: 0.7101 - val_accuracy: 0.7413\n",
      "Epoch 14/30\n",
      "81/81 [==============================] - 57s 704ms/step - loss: 0.7374 - accuracy: 0.7195 - val_loss: 0.3970 - val_accuracy: 0.7497\n",
      "Epoch 15/30\n",
      "81/81 [==============================] - 60s 745ms/step - loss: 0.7160 - accuracy: 0.7180 - val_loss: 1.0069 - val_accuracy: 0.6992\n",
      "Epoch 16/30\n",
      "81/81 [==============================] - 57s 705ms/step - loss: 0.7437 - accuracy: 0.7245 - val_loss: 0.6885 - val_accuracy: 0.7497\n",
      "Epoch 17/30\n",
      "81/81 [==============================] - 55s 684ms/step - loss: 0.7328 - accuracy: 0.7210 - val_loss: 0.5605 - val_accuracy: 0.7545\n",
      "Epoch 18/30\n",
      "81/81 [==============================] - 58s 715ms/step - loss: 0.6821 - accuracy: 0.7366 - val_loss: 0.6960 - val_accuracy: 0.7413\n",
      "Epoch 19/30\n",
      "81/81 [==============================] - 58s 720ms/step - loss: 0.6894 - accuracy: 0.7411 - val_loss: 1.0818 - val_accuracy: 0.6968\n",
      "Epoch 20/30\n",
      "81/81 [==============================] - 62s 760ms/step - loss: 0.6875 - accuracy: 0.7498 - val_loss: 0.6648 - val_accuracy: 0.7545\n",
      "Epoch 21/30\n",
      "81/81 [==============================] - 60s 743ms/step - loss: 0.6823 - accuracy: 0.7448 - val_loss: 0.3416 - val_accuracy: 0.7774\n",
      "Epoch 22/30\n",
      "81/81 [==============================] - 58s 716ms/step - loss: 0.6659 - accuracy: 0.7511 - val_loss: 0.6576 - val_accuracy: 0.7160\n",
      "Epoch 23/30\n",
      "81/81 [==============================] - 58s 713ms/step - loss: 0.6443 - accuracy: 0.7522 - val_loss: 0.6392 - val_accuracy: 0.7581\n",
      "Epoch 24/30\n",
      "81/81 [==============================] - 57s 707ms/step - loss: 0.6358 - accuracy: 0.7698 - val_loss: 0.5337 - val_accuracy: 0.7004\n",
      "Epoch 25/30\n",
      "81/81 [==============================] - 58s 716ms/step - loss: 0.6325 - accuracy: 0.7788 - val_loss: 0.4641 - val_accuracy: 0.7509\n",
      "Epoch 26/30\n",
      "81/81 [==============================] - 59s 727ms/step - loss: 0.6532 - accuracy: 0.7675 - val_loss: 0.8311 - val_accuracy: 0.7870\n",
      "Epoch 27/30\n",
      "81/81 [==============================] - 59s 731ms/step - loss: 0.6090 - accuracy: 0.7612 - val_loss: 0.8041 - val_accuracy: 0.7702\n",
      "Epoch 28/30\n",
      "81/81 [==============================] - 59s 733ms/step - loss: 0.5830 - accuracy: 0.7816 - val_loss: 0.5509 - val_accuracy: 0.7368\n",
      "Epoch 29/30\n",
      "81/81 [==============================] - 62s 763ms/step - loss: 0.5932 - accuracy: 0.7694 - val_loss: 0.7131 - val_accuracy: 0.7870\n",
      "Epoch 30/30\n",
      "81/81 [==============================] - 57s 700ms/step - loss: 0.5808 - accuracy: 0.7881 - val_loss: 0.4677 - val_accuracy: 0.7882\n"
     ]
    }
   ],
   "source": [
    "STEPS_PER_EPOCH = train_generator.n // train_generator.batch_size\n",
    "VALIDATION_STEPS = val_generator.n // val_generator.batch_size\n",
    "classifier2 = classifier()\n",
    "history = classifier2.fit_generator(train_generator, steps_per_epoch=STEPS_PER_EPOCH,\n",
    "                                   epochs = EPOCHS,\n",
    "                                   validation_data = val_generator,\n",
    "                                   validation_steps = VALIDATION_STEPS)"
   ]
  },
  {
   "cell_type": "code",
   "execution_count": 52,
   "metadata": {},
   "outputs": [],
   "source": [
    "# save the model\n",
    "classifier2.save('classifier_aug.h5')"
   ]
  },
  {
   "cell_type": "code",
   "execution_count": 130,
   "metadata": {},
   "outputs": [],
   "source": [
    "classifier2 = load_model('classifier_aug.h5')"
   ]
  },
  {
   "cell_type": "markdown",
   "metadata": {
    "id": "qByVL0-hjjjY"
   },
   "source": [
    "### Analyzing the fitting performance over epochs"
   ]
  },
  {
   "cell_type": "markdown",
   "metadata": {
    "id": "vQOdPBkijjjZ"
   },
   "source": [
    "Show the training accuracy along with the epochs"
   ]
  },
  {
   "cell_type": "code",
   "execution_count": 49,
   "metadata": {
    "id": "uSkYI7PNjjja"
   },
   "outputs": [
    {
     "data": {
      "image/png": "[encoded data removed]",
      "text/plain": [
       "<Figure size 432x288 with 1 Axes>"
      ]
     },
     "metadata": {
      "needs_background": "light"
     },
     "output_type": "display_data"
    },
    {
     "data": {
      "image/png": "[encoded data removed]",
      "text/plain": [
       "<Figure size 432x288 with 1 Axes>"
      ]
     },
     "metadata": {
      "needs_background": "light"
     },
     "output_type": "display_data"
    }
   ],
   "source": [
    "plot_perf()"
   ]
  },
  {
   "cell_type": "markdown",
   "metadata": {
    "id": "ySF0Lxd3jjje"
   },
   "source": [
    "### Predicting the test set"
   ]
  },
  {
   "cell_type": "markdown",
   "metadata": {
    "id": "Q1S2BuUSjjjf"
   },
   "source": [
    "Finally, run a model evaluation and store the loss and accuracy in the `test_loss_2` and `test_acc_2` variables."
   ]
  },
  {
   "cell_type": "code",
   "execution_count": 50,
   "metadata": {
    "id": "5Jqlss6Rjjjg"
   },
   "outputs": [
    {
     "name": "stdout",
     "output_type": "stream",
     "text": [
      "sklearn accuracy: 0.7838150289017342\n",
      "Classification report:\n",
      "               precision    recall  f1-score   support\n",
      "\n",
      "           0       0.90      0.72      0.80       162\n",
      "           1       0.89      0.81      0.85       228\n",
      "           2       0.69      0.70      0.70       152\n",
      "           3       0.76      0.88      0.82       137\n",
      "           4       0.69      0.80      0.74       186\n",
      "\n",
      "    accuracy                           0.78       865\n",
      "   macro avg       0.79      0.78      0.78       865\n",
      "weighted avg       0.79      0.78      0.79       865\n",
      "\n",
      "Confusion matrix:\n",
      " [[117  12  14   6  13]\n",
      " [  9 185   3  23   8]\n",
      " [  1   3 107   3  38]\n",
      " [  3   4   3 121   6]\n",
      " [  0   4  28   6 148]]\n"
     ]
    }
   ],
   "source": [
    "# predict\n",
    "y_hat = classifier2.predict_generator(test_generator, test_generator.n//test_generator.batch_size +1)\n",
    "y_hat = np.argmax(y_hat, axis=1)\n",
    "# true labels\n",
    "y_true = test_generator.classes\n",
    "print(\"sklearn accuracy:\", accuracy_score(y_true, y_hat))\n",
    "print(\"Classification report:\\n\",classification_report(y_true, y_hat))\n",
    "print(\"Confusion matrix:\\n\", confusion_matrix(y_true, y_hat))"
   ]
  },
  {
   "cell_type": "code",
   "execution_count": 51,
   "metadata": {},
   "outputs": [
    {
     "data": {
      "text/plain": [
       "(0.8976224064826965, 0.7838150262832642)"
      ]
     },
     "execution_count": 51,
     "metadata": {},
     "output_type": "execute_result"
    }
   ],
   "source": [
    "test_loss_2, test_acc_2 = classifier2.evaluate_generator(test_generator, test_generator.n//test_generator.batch_size +1)\n",
    "test_loss_2, test_acc_2"
   ]
  },
  {
   "cell_type": "markdown",
   "metadata": {
    "id": "-KfYh3oajjjj"
   },
   "source": [
    "## Using a Pretrained Convolutional Base"
   ]
  },
  {
   "cell_type": "markdown",
   "metadata": {
    "id": "Wf1fMeCKjjjk"
   },
   "source": [
    "### Architecture"
   ]
  },
  {
   "cell_type": "markdown",
   "metadata": {
    "id": "0ND7MeGUjjjl"
   },
   "source": [
    "Some research teams have trained convolutional neural networks on much larger datasets. We have seen during the lecture that the networks can model conceptual patterns as they go through the layers. This was identified by Le Cun in his first experiments [http://yann.lecun.com/exdb/lenet/](http://yann.lecun.com/exdb/lenet/). In this last part, you will train classifiers on top of a pretrained convolutional base.\n",
    "1. Train your network and report the training and validation losses and accuracies.\n",
    "2. Apply your network to the test set and report the accuracy as well as the confusion matrix you obtained."
   ]
  },
  {
   "cell_type": "code",
   "execution_count": 53,
   "metadata": {
    "id": "dF2xK0yYjjjl"
   },
   "outputs": [],
   "source": [
    "from keras.applications import VGG16, InceptionV3"
   ]
  },
  {
   "cell_type": "code",
   "execution_count": 95,
   "metadata": {
    "id": "daBkhrbdjjjn"
   },
   "outputs": [
    {
     "name": "stdout",
     "output_type": "stream",
     "text": [
      "Model: \"inception_v3\"\n",
      "__________________________________________________________________________________________________\n",
      "Layer (type)                    Output Shape         Param #     Connected to                     \n",
      "==================================================================================================\n",
      "input_8 (InputLayer)            (None, 150, 150, 3)  0                                            \n",
      "__________________________________________________________________________________________________\n",
      "conv2d_523 (Conv2D)             (None, 74, 74, 32)   864         input_8[0][0]                    \n",
      "__________________________________________________________________________________________________\n",
      "batch_normalization_531 (BatchN (None, 74, 74, 32)   96          conv2d_523[0][0]                 \n",
      "__________________________________________________________________________________________________\n",
      "activation_471 (Activation)     (None, 74, 74, 32)   0           batch_normalization_531[0][0]    \n",
      "__________________________________________________________________________________________________\n",
      "conv2d_524 (Conv2D)             (None, 72, 72, 32)   9216        activation_471[0][0]             \n",
      "__________________________________________________________________________________________________\n",
      "batch_normalization_532 (BatchN (None, 72, 72, 32)   96          conv2d_524[0][0]                 \n",
      "__________________________________________________________________________________________________\n",
      "activation_472 (Activation)     (None, 72, 72, 32)   0           batch_normalization_532[0][0]    \n",
      "__________________________________________________________________________________________________\n",
      "conv2d_525 (Conv2D)             (None, 72, 72, 64)   18432       activation_472[0][0]             \n",
      "__________________________________________________________________________________________________\n",
      "batch_normalization_533 (BatchN (None, 72, 72, 64)   192         conv2d_525[0][0]                 \n",
      "__________________________________________________________________________________________________\n",
      "activation_473 (Activation)     (None, 72, 72, 64)   0           batch_normalization_533[0][0]    \n",
      "__________________________________________________________________________________________________\n",
      "max_pooling2d_73 (MaxPooling2D) (None, 35, 35, 64)   0           activation_473[0][0]             \n",
      "__________________________________________________________________________________________________\n",
      "conv2d_526 (Conv2D)             (None, 35, 35, 80)   5120        max_pooling2d_73[0][0]           \n",
      "__________________________________________________________________________________________________\n",
      "batch_normalization_534 (BatchN (None, 35, 35, 80)   240         conv2d_526[0][0]                 \n",
      "__________________________________________________________________________________________________\n",
      "activation_474 (Activation)     (None, 35, 35, 80)   0           batch_normalization_534[0][0]    \n",
      "__________________________________________________________________________________________________\n",
      "conv2d_527 (Conv2D)             (None, 33, 33, 192)  138240      activation_474[0][0]             \n",
      "__________________________________________________________________________________________________\n",
      "batch_normalization_535 (BatchN (None, 33, 33, 192)  576         conv2d_527[0][0]                 \n",
      "__________________________________________________________________________________________________\n",
      "activation_475 (Activation)     (None, 33, 33, 192)  0           batch_normalization_535[0][0]    \n",
      "__________________________________________________________________________________________________\n",
      "max_pooling2d_74 (MaxPooling2D) (None, 16, 16, 192)  0           activation_475[0][0]             \n",
      "__________________________________________________________________________________________________\n",
      "conv2d_531 (Conv2D)             (None, 16, 16, 64)   12288       max_pooling2d_74[0][0]           \n",
      "__________________________________________________________________________________________________\n",
      "batch_normalization_539 (BatchN (None, 16, 16, 64)   192         conv2d_531[0][0]                 \n",
      "__________________________________________________________________________________________________\n",
      "activation_479 (Activation)     (None, 16, 16, 64)   0           batch_normalization_539[0][0]    \n",
      "__________________________________________________________________________________________________\n",
      "conv2d_529 (Conv2D)             (None, 16, 16, 48)   9216        max_pooling2d_74[0][0]           \n",
      "__________________________________________________________________________________________________\n",
      "conv2d_532 (Conv2D)             (None, 16, 16, 96)   55296       activation_479[0][0]             \n",
      "__________________________________________________________________________________________________\n",
      "batch_normalization_537 (BatchN (None, 16, 16, 48)   144         conv2d_529[0][0]                 \n",
      "__________________________________________________________________________________________________\n",
      "batch_normalization_540 (BatchN (None, 16, 16, 96)   288         conv2d_532[0][0]                 \n",
      "__________________________________________________________________________________________________\n",
      "activation_477 (Activation)     (None, 16, 16, 48)   0           batch_normalization_537[0][0]    \n",
      "__________________________________________________________________________________________________\n",
      "activation_480 (Activation)     (None, 16, 16, 96)   0           batch_normalization_540[0][0]    \n",
      "__________________________________________________________________________________________________\n",
      "average_pooling2d_46 (AveragePo (None, 16, 16, 192)  0           max_pooling2d_74[0][0]           \n",
      "__________________________________________________________________________________________________\n",
      "conv2d_528 (Conv2D)             (None, 16, 16, 64)   12288       max_pooling2d_74[0][0]           \n",
      "__________________________________________________________________________________________________\n",
      "conv2d_530 (Conv2D)             (None, 16, 16, 64)   76800       activation_477[0][0]             \n",
      "__________________________________________________________________________________________________\n",
      "conv2d_533 (Conv2D)             (None, 16, 16, 96)   82944       activation_480[0][0]             \n",
      "__________________________________________________________________________________________________\n",
      "conv2d_534 (Conv2D)             (None, 16, 16, 32)   6144        average_pooling2d_46[0][0]       \n",
      "__________________________________________________________________________________________________\n",
      "batch_normalization_536 (BatchN (None, 16, 16, 64)   192         conv2d_528[0][0]                 \n",
      "__________________________________________________________________________________________________\n",
      "batch_normalization_538 (BatchN (None, 16, 16, 64)   192         conv2d_530[0][0]                 \n",
      "__________________________________________________________________________________________________\n",
      "batch_normalization_541 (BatchN (None, 16, 16, 96)   288         conv2d_533[0][0]                 \n",
      "__________________________________________________________________________________________________\n",
      "batch_normalization_542 (BatchN (None, 16, 16, 32)   96          conv2d_534[0][0]                 \n",
      "__________________________________________________________________________________________________\n",
      "activation_476 (Activation)     (None, 16, 16, 64)   0           batch_normalization_536[0][0]    \n",
      "__________________________________________________________________________________________________\n",
      "activation_478 (Activation)     (None, 16, 16, 64)   0           batch_normalization_538[0][0]    \n",
      "__________________________________________________________________________________________________\n",
      "activation_481 (Activation)     (None, 16, 16, 96)   0           batch_normalization_541[0][0]    \n",
      "__________________________________________________________________________________________________\n",
      "activation_482 (Activation)     (None, 16, 16, 32)   0           batch_normalization_542[0][0]    \n",
      "__________________________________________________________________________________________________\n",
      "mixed0 (Concatenate)            (None, 16, 16, 256)  0           activation_476[0][0]             \n",
      "                                                                 activation_478[0][0]             \n",
      "                                                                 activation_481[0][0]             \n",
      "                                                                 activation_482[0][0]             \n",
      "__________________________________________________________________________________________________\n",
      "conv2d_538 (Conv2D)             (None, 16, 16, 64)   16384       mixed0[0][0]                     \n",
      "__________________________________________________________________________________________________\n",
      "batch_normalization_546 (BatchN (None, 16, 16, 64)   192         conv2d_538[0][0]                 \n",
      "__________________________________________________________________________________________________\n",
      "activation_486 (Activation)     (None, 16, 16, 64)   0           batch_normalization_546[0][0]    \n",
      "__________________________________________________________________________________________________\n",
      "conv2d_536 (Conv2D)             (None, 16, 16, 48)   12288       mixed0[0][0]                     \n",
      "__________________________________________________________________________________________________\n",
      "conv2d_539 (Conv2D)             (None, 16, 16, 96)   55296       activation_486[0][0]             \n",
      "__________________________________________________________________________________________________\n",
      "batch_normalization_544 (BatchN (None, 16, 16, 48)   144         conv2d_536[0][0]                 \n",
      "__________________________________________________________________________________________________\n",
      "batch_normalization_547 (BatchN (None, 16, 16, 96)   288         conv2d_539[0][0]                 \n",
      "__________________________________________________________________________________________________\n",
      "activation_484 (Activation)     (None, 16, 16, 48)   0           batch_normalization_544[0][0]    \n",
      "__________________________________________________________________________________________________\n",
      "activation_487 (Activation)     (None, 16, 16, 96)   0           batch_normalization_547[0][0]    \n",
      "__________________________________________________________________________________________________\n",
      "average_pooling2d_47 (AveragePo (None, 16, 16, 256)  0           mixed0[0][0]                     \n",
      "__________________________________________________________________________________________________\n",
      "conv2d_535 (Conv2D)             (None, 16, 16, 64)   16384       mixed0[0][0]                     \n",
      "__________________________________________________________________________________________________\n",
      "conv2d_537 (Conv2D)             (None, 16, 16, 64)   76800       activation_484[0][0]             \n",
      "__________________________________________________________________________________________________\n",
      "conv2d_540 (Conv2D)             (None, 16, 16, 96)   82944       activation_487[0][0]             \n",
      "__________________________________________________________________________________________________\n",
      "conv2d_541 (Conv2D)             (None, 16, 16, 64)   16384       average_pooling2d_47[0][0]       \n",
      "__________________________________________________________________________________________________\n",
      "batch_normalization_543 (BatchN (None, 16, 16, 64)   192         conv2d_535[0][0]                 \n",
      "__________________________________________________________________________________________________\n",
      "batch_normalization_545 (BatchN (None, 16, 16, 64)   192         conv2d_537[0][0]                 \n",
      "__________________________________________________________________________________________________\n",
      "batch_normalization_548 (BatchN (None, 16, 16, 96)   288         conv2d_540[0][0]                 \n",
      "__________________________________________________________________________________________________\n",
      "batch_normalization_549 (BatchN (None, 16, 16, 64)   192         conv2d_541[0][0]                 \n",
      "__________________________________________________________________________________________________\n",
      "activation_483 (Activation)     (None, 16, 16, 64)   0           batch_normalization_543[0][0]    \n",
      "__________________________________________________________________________________________________\n",
      "activation_485 (Activation)     (None, 16, 16, 64)   0           batch_normalization_545[0][0]    \n",
      "__________________________________________________________________________________________________\n",
      "activation_488 (Activation)     (None, 16, 16, 96)   0           batch_normalization_548[0][0]    \n",
      "__________________________________________________________________________________________________\n",
      "activation_489 (Activation)     (None, 16, 16, 64)   0           batch_normalization_549[0][0]    \n",
      "__________________________________________________________________________________________________\n",
      "mixed1 (Concatenate)            (None, 16, 16, 288)  0           activation_483[0][0]             \n",
      "                                                                 activation_485[0][0]             \n",
      "                                                                 activation_488[0][0]             \n",
      "                                                                 activation_489[0][0]             \n",
      "__________________________________________________________________________________________________\n",
      "conv2d_545 (Conv2D)             (None, 16, 16, 64)   18432       mixed1[0][0]                     \n",
      "__________________________________________________________________________________________________\n",
      "batch_normalization_553 (BatchN (None, 16, 16, 64)   192         conv2d_545[0][0]                 \n",
      "__________________________________________________________________________________________________\n",
      "activation_493 (Activation)     (None, 16, 16, 64)   0           batch_normalization_553[0][0]    \n",
      "__________________________________________________________________________________________________\n",
      "conv2d_543 (Conv2D)             (None, 16, 16, 48)   13824       mixed1[0][0]                     \n",
      "__________________________________________________________________________________________________\n",
      "conv2d_546 (Conv2D)             (None, 16, 16, 96)   55296       activation_493[0][0]             \n",
      "__________________________________________________________________________________________________\n",
      "batch_normalization_551 (BatchN (None, 16, 16, 48)   144         conv2d_543[0][0]                 \n",
      "__________________________________________________________________________________________________\n",
      "batch_normalization_554 (BatchN (None, 16, 16, 96)   288         conv2d_546[0][0]                 \n",
      "__________________________________________________________________________________________________\n",
      "activation_491 (Activation)     (None, 16, 16, 48)   0           batch_normalization_551[0][0]    \n",
      "__________________________________________________________________________________________________\n",
      "activation_494 (Activation)     (None, 16, 16, 96)   0           batch_normalization_554[0][0]    \n",
      "__________________________________________________________________________________________________\n",
      "average_pooling2d_48 (AveragePo (None, 16, 16, 288)  0           mixed1[0][0]                     \n",
      "__________________________________________________________________________________________________\n",
      "conv2d_542 (Conv2D)             (None, 16, 16, 64)   18432       mixed1[0][0]                     \n",
      "__________________________________________________________________________________________________\n",
      "conv2d_544 (Conv2D)             (None, 16, 16, 64)   76800       activation_491[0][0]             \n",
      "__________________________________________________________________________________________________\n",
      "conv2d_547 (Conv2D)             (None, 16, 16, 96)   82944       activation_494[0][0]             \n",
      "__________________________________________________________________________________________________\n",
      "conv2d_548 (Conv2D)             (None, 16, 16, 64)   18432       average_pooling2d_48[0][0]       \n",
      "__________________________________________________________________________________________________\n",
      "batch_normalization_550 (BatchN (None, 16, 16, 64)   192         conv2d_542[0][0]                 \n",
      "__________________________________________________________________________________________________\n",
      "batch_normalization_552 (BatchN (None, 16, 16, 64)   192         conv2d_544[0][0]                 \n",
      "__________________________________________________________________________________________________\n",
      "batch_normalization_555 (BatchN (None, 16, 16, 96)   288         conv2d_547[0][0]                 \n",
      "__________________________________________________________________________________________________\n",
      "batch_normalization_556 (BatchN (None, 16, 16, 64)   192         conv2d_548[0][0]                 \n",
      "__________________________________________________________________________________________________\n",
      "activation_490 (Activation)     (None, 16, 16, 64)   0           batch_normalization_550[0][0]    \n",
      "__________________________________________________________________________________________________\n",
      "activation_492 (Activation)     (None, 16, 16, 64)   0           batch_normalization_552[0][0]    \n",
      "__________________________________________________________________________________________________\n",
      "activation_495 (Activation)     (None, 16, 16, 96)   0           batch_normalization_555[0][0]    \n",
      "__________________________________________________________________________________________________\n",
      "activation_496 (Activation)     (None, 16, 16, 64)   0           batch_normalization_556[0][0]    \n",
      "__________________________________________________________________________________________________\n",
      "mixed2 (Concatenate)            (None, 16, 16, 288)  0           activation_490[0][0]             \n",
      "                                                                 activation_492[0][0]             \n",
      "                                                                 activation_495[0][0]             \n",
      "                                                                 activation_496[0][0]             \n",
      "__________________________________________________________________________________________________\n",
      "conv2d_550 (Conv2D)             (None, 16, 16, 64)   18432       mixed2[0][0]                     \n",
      "__________________________________________________________________________________________________\n",
      "batch_normalization_558 (BatchN (None, 16, 16, 64)   192         conv2d_550[0][0]                 \n",
      "__________________________________________________________________________________________________\n",
      "activation_498 (Activation)     (None, 16, 16, 64)   0           batch_normalization_558[0][0]    \n",
      "__________________________________________________________________________________________________\n",
      "conv2d_551 (Conv2D)             (None, 16, 16, 96)   55296       activation_498[0][0]             \n",
      "__________________________________________________________________________________________________\n",
      "batch_normalization_559 (BatchN (None, 16, 16, 96)   288         conv2d_551[0][0]                 \n",
      "__________________________________________________________________________________________________\n",
      "activation_499 (Activation)     (None, 16, 16, 96)   0           batch_normalization_559[0][0]    \n",
      "__________________________________________________________________________________________________\n",
      "conv2d_549 (Conv2D)             (None, 7, 7, 384)    995328      mixed2[0][0]                     \n",
      "__________________________________________________________________________________________________\n",
      "conv2d_552 (Conv2D)             (None, 7, 7, 96)     82944       activation_499[0][0]             \n",
      "__________________________________________________________________________________________________\n",
      "batch_normalization_557 (BatchN (None, 7, 7, 384)    1152        conv2d_549[0][0]                 \n",
      "__________________________________________________________________________________________________\n",
      "batch_normalization_560 (BatchN (None, 7, 7, 96)     288         conv2d_552[0][0]                 \n",
      "__________________________________________________________________________________________________\n",
      "activation_497 (Activation)     (None, 7, 7, 384)    0           batch_normalization_557[0][0]    \n",
      "__________________________________________________________________________________________________\n",
      "activation_500 (Activation)     (None, 7, 7, 96)     0           batch_normalization_560[0][0]    \n",
      "__________________________________________________________________________________________________\n",
      "max_pooling2d_75 (MaxPooling2D) (None, 7, 7, 288)    0           mixed2[0][0]                     \n",
      "__________________________________________________________________________________________________\n",
      "mixed3 (Concatenate)            (None, 7, 7, 768)    0           activation_497[0][0]             \n",
      "                                                                 activation_500[0][0]             \n",
      "                                                                 max_pooling2d_75[0][0]           \n",
      "__________________________________________________________________________________________________\n",
      "conv2d_557 (Conv2D)             (None, 7, 7, 128)    98304       mixed3[0][0]                     \n",
      "__________________________________________________________________________________________________\n",
      "batch_normalization_565 (BatchN (None, 7, 7, 128)    384         conv2d_557[0][0]                 \n",
      "__________________________________________________________________________________________________\n",
      "activation_505 (Activation)     (None, 7, 7, 128)    0           batch_normalization_565[0][0]    \n",
      "__________________________________________________________________________________________________\n",
      "conv2d_558 (Conv2D)             (None, 7, 7, 128)    114688      activation_505[0][0]             \n",
      "__________________________________________________________________________________________________\n",
      "batch_normalization_566 (BatchN (None, 7, 7, 128)    384         conv2d_558[0][0]                 \n",
      "__________________________________________________________________________________________________\n",
      "activation_506 (Activation)     (None, 7, 7, 128)    0           batch_normalization_566[0][0]    \n",
      "__________________________________________________________________________________________________\n",
      "conv2d_554 (Conv2D)             (None, 7, 7, 128)    98304       mixed3[0][0]                     \n",
      "__________________________________________________________________________________________________\n",
      "conv2d_559 (Conv2D)             (None, 7, 7, 128)    114688      activation_506[0][0]             \n",
      "__________________________________________________________________________________________________\n",
      "batch_normalization_562 (BatchN (None, 7, 7, 128)    384         conv2d_554[0][0]                 \n",
      "__________________________________________________________________________________________________\n",
      "batch_normalization_567 (BatchN (None, 7, 7, 128)    384         conv2d_559[0][0]                 \n",
      "__________________________________________________________________________________________________\n",
      "activation_502 (Activation)     (None, 7, 7, 128)    0           batch_normalization_562[0][0]    \n",
      "__________________________________________________________________________________________________\n",
      "activation_507 (Activation)     (None, 7, 7, 128)    0           batch_normalization_567[0][0]    \n",
      "__________________________________________________________________________________________________\n",
      "conv2d_555 (Conv2D)             (None, 7, 7, 128)    114688      activation_502[0][0]             \n",
      "__________________________________________________________________________________________________\n",
      "conv2d_560 (Conv2D)             (None, 7, 7, 128)    114688      activation_507[0][0]             \n",
      "__________________________________________________________________________________________________\n",
      "batch_normalization_563 (BatchN (None, 7, 7, 128)    384         conv2d_555[0][0]                 \n",
      "__________________________________________________________________________________________________\n",
      "batch_normalization_568 (BatchN (None, 7, 7, 128)    384         conv2d_560[0][0]                 \n",
      "__________________________________________________________________________________________________\n",
      "activation_503 (Activation)     (None, 7, 7, 128)    0           batch_normalization_563[0][0]    \n",
      "__________________________________________________________________________________________________\n",
      "activation_508 (Activation)     (None, 7, 7, 128)    0           batch_normalization_568[0][0]    \n",
      "__________________________________________________________________________________________________\n",
      "average_pooling2d_49 (AveragePo (None, 7, 7, 768)    0           mixed3[0][0]                     \n",
      "__________________________________________________________________________________________________\n",
      "conv2d_553 (Conv2D)             (None, 7, 7, 192)    147456      mixed3[0][0]                     \n",
      "__________________________________________________________________________________________________\n",
      "conv2d_556 (Conv2D)             (None, 7, 7, 192)    172032      activation_503[0][0]             \n",
      "__________________________________________________________________________________________________\n",
      "conv2d_561 (Conv2D)             (None, 7, 7, 192)    172032      activation_508[0][0]             \n",
      "__________________________________________________________________________________________________\n",
      "conv2d_562 (Conv2D)             (None, 7, 7, 192)    147456      average_pooling2d_49[0][0]       \n",
      "__________________________________________________________________________________________________\n",
      "batch_normalization_561 (BatchN (None, 7, 7, 192)    576         conv2d_553[0][0]                 \n",
      "__________________________________________________________________________________________________\n",
      "batch_normalization_564 (BatchN (None, 7, 7, 192)    576         conv2d_556[0][0]                 \n",
      "__________________________________________________________________________________________________\n",
      "batch_normalization_569 (BatchN (None, 7, 7, 192)    576         conv2d_561[0][0]                 \n",
      "__________________________________________________________________________________________________\n",
      "batch_normalization_570 (BatchN (None, 7, 7, 192)    576         conv2d_562[0][0]                 \n",
      "__________________________________________________________________________________________________\n",
      "activation_501 (Activation)     (None, 7, 7, 192)    0           batch_normalization_561[0][0]    \n",
      "__________________________________________________________________________________________________\n",
      "activation_504 (Activation)     (None, 7, 7, 192)    0           batch_normalization_564[0][0]    \n",
      "__________________________________________________________________________________________________\n",
      "activation_509 (Activation)     (None, 7, 7, 192)    0           batch_normalization_569[0][0]    \n",
      "__________________________________________________________________________________________________\n",
      "activation_510 (Activation)     (None, 7, 7, 192)    0           batch_normalization_570[0][0]    \n",
      "__________________________________________________________________________________________________\n",
      "mixed4 (Concatenate)            (None, 7, 7, 768)    0           activation_501[0][0]             \n",
      "                                                                 activation_504[0][0]             \n",
      "                                                                 activation_509[0][0]             \n",
      "                                                                 activation_510[0][0]             \n",
      "__________________________________________________________________________________________________\n",
      "conv2d_567 (Conv2D)             (None, 7, 7, 160)    122880      mixed4[0][0]                     \n",
      "__________________________________________________________________________________________________\n",
      "batch_normalization_575 (BatchN (None, 7, 7, 160)    480         conv2d_567[0][0]                 \n",
      "__________________________________________________________________________________________________\n",
      "activation_515 (Activation)     (None, 7, 7, 160)    0           batch_normalization_575[0][0]    \n",
      "__________________________________________________________________________________________________\n",
      "conv2d_568 (Conv2D)             (None, 7, 7, 160)    179200      activation_515[0][0]             \n",
      "__________________________________________________________________________________________________\n",
      "batch_normalization_576 (BatchN (None, 7, 7, 160)    480         conv2d_568[0][0]                 \n",
      "__________________________________________________________________________________________________\n",
      "activation_516 (Activation)     (None, 7, 7, 160)    0           batch_normalization_576[0][0]    \n",
      "__________________________________________________________________________________________________\n",
      "conv2d_564 (Conv2D)             (None, 7, 7, 160)    122880      mixed4[0][0]                     \n",
      "__________________________________________________________________________________________________\n",
      "conv2d_569 (Conv2D)             (None, 7, 7, 160)    179200      activation_516[0][0]             \n",
      "__________________________________________________________________________________________________\n",
      "batch_normalization_572 (BatchN (None, 7, 7, 160)    480         conv2d_564[0][0]                 \n",
      "__________________________________________________________________________________________________\n",
      "batch_normalization_577 (BatchN (None, 7, 7, 160)    480         conv2d_569[0][0]                 \n",
      "__________________________________________________________________________________________________\n",
      "activation_512 (Activation)     (None, 7, 7, 160)    0           batch_normalization_572[0][0]    \n",
      "__________________________________________________________________________________________________\n",
      "activation_517 (Activation)     (None, 7, 7, 160)    0           batch_normalization_577[0][0]    \n",
      "__________________________________________________________________________________________________\n",
      "conv2d_565 (Conv2D)             (None, 7, 7, 160)    179200      activation_512[0][0]             \n",
      "__________________________________________________________________________________________________\n",
      "conv2d_570 (Conv2D)             (None, 7, 7, 160)    179200      activation_517[0][0]             \n",
      "__________________________________________________________________________________________________\n",
      "batch_normalization_573 (BatchN (None, 7, 7, 160)    480         conv2d_565[0][0]                 \n",
      "__________________________________________________________________________________________________\n",
      "batch_normalization_578 (BatchN (None, 7, 7, 160)    480         conv2d_570[0][0]                 \n",
      "__________________________________________________________________________________________________\n",
      "activation_513 (Activation)     (None, 7, 7, 160)    0           batch_normalization_573[0][0]    \n",
      "__________________________________________________________________________________________________\n",
      "activation_518 (Activation)     (None, 7, 7, 160)    0           batch_normalization_578[0][0]    \n",
      "__________________________________________________________________________________________________\n",
      "average_pooling2d_50 (AveragePo (None, 7, 7, 768)    0           mixed4[0][0]                     \n",
      "__________________________________________________________________________________________________\n",
      "conv2d_563 (Conv2D)             (None, 7, 7, 192)    147456      mixed4[0][0]                     \n",
      "__________________________________________________________________________________________________\n",
      "conv2d_566 (Conv2D)             (None, 7, 7, 192)    215040      activation_513[0][0]             \n",
      "__________________________________________________________________________________________________\n",
      "conv2d_571 (Conv2D)             (None, 7, 7, 192)    215040      activation_518[0][0]             \n",
      "__________________________________________________________________________________________________\n",
      "conv2d_572 (Conv2D)             (None, 7, 7, 192)    147456      average_pooling2d_50[0][0]       \n",
      "__________________________________________________________________________________________________\n",
      "batch_normalization_571 (BatchN (None, 7, 7, 192)    576         conv2d_563[0][0]                 \n",
      "__________________________________________________________________________________________________\n",
      "batch_normalization_574 (BatchN (None, 7, 7, 192)    576         conv2d_566[0][0]                 \n",
      "__________________________________________________________________________________________________\n",
      "batch_normalization_579 (BatchN (None, 7, 7, 192)    576         conv2d_571[0][0]                 \n",
      "__________________________________________________________________________________________________\n",
      "batch_normalization_580 (BatchN (None, 7, 7, 192)    576         conv2d_572[0][0]                 \n",
      "__________________________________________________________________________________________________\n",
      "activation_511 (Activation)     (None, 7, 7, 192)    0           batch_normalization_571[0][0]    \n",
      "__________________________________________________________________________________________________\n",
      "activation_514 (Activation)     (None, 7, 7, 192)    0           batch_normalization_574[0][0]    \n",
      "__________________________________________________________________________________________________\n",
      "activation_519 (Activation)     (None, 7, 7, 192)    0           batch_normalization_579[0][0]    \n",
      "__________________________________________________________________________________________________\n",
      "activation_520 (Activation)     (None, 7, 7, 192)    0           batch_normalization_580[0][0]    \n",
      "__________________________________________________________________________________________________\n",
      "mixed5 (Concatenate)            (None, 7, 7, 768)    0           activation_511[0][0]             \n",
      "                                                                 activation_514[0][0]             \n",
      "                                                                 activation_519[0][0]             \n",
      "                                                                 activation_520[0][0]             \n",
      "__________________________________________________________________________________________________\n",
      "conv2d_577 (Conv2D)             (None, 7, 7, 160)    122880      mixed5[0][0]                     \n",
      "__________________________________________________________________________________________________\n",
      "batch_normalization_585 (BatchN (None, 7, 7, 160)    480         conv2d_577[0][0]                 \n",
      "__________________________________________________________________________________________________\n",
      "activation_525 (Activation)     (None, 7, 7, 160)    0           batch_normalization_585[0][0]    \n",
      "__________________________________________________________________________________________________\n",
      "conv2d_578 (Conv2D)             (None, 7, 7, 160)    179200      activation_525[0][0]             \n",
      "__________________________________________________________________________________________________\n",
      "batch_normalization_586 (BatchN (None, 7, 7, 160)    480         conv2d_578[0][0]                 \n",
      "__________________________________________________________________________________________________\n",
      "activation_526 (Activation)     (None, 7, 7, 160)    0           batch_normalization_586[0][0]    \n",
      "__________________________________________________________________________________________________\n",
      "conv2d_574 (Conv2D)             (None, 7, 7, 160)    122880      mixed5[0][0]                     \n",
      "__________________________________________________________________________________________________\n",
      "conv2d_579 (Conv2D)             (None, 7, 7, 160)    179200      activation_526[0][0]             \n",
      "__________________________________________________________________________________________________\n",
      "batch_normalization_582 (BatchN (None, 7, 7, 160)    480         conv2d_574[0][0]                 \n",
      "__________________________________________________________________________________________________\n",
      "batch_normalization_587 (BatchN (None, 7, 7, 160)    480         conv2d_579[0][0]                 \n",
      "__________________________________________________________________________________________________\n",
      "activation_522 (Activation)     (None, 7, 7, 160)    0           batch_normalization_582[0][0]    \n",
      "__________________________________________________________________________________________________\n",
      "activation_527 (Activation)     (None, 7, 7, 160)    0           batch_normalization_587[0][0]    \n",
      "__________________________________________________________________________________________________\n",
      "conv2d_575 (Conv2D)             (None, 7, 7, 160)    179200      activation_522[0][0]             \n",
      "__________________________________________________________________________________________________\n",
      "conv2d_580 (Conv2D)             (None, 7, 7, 160)    179200      activation_527[0][0]             \n",
      "__________________________________________________________________________________________________\n",
      "batch_normalization_583 (BatchN (None, 7, 7, 160)    480         conv2d_575[0][0]                 \n",
      "__________________________________________________________________________________________________\n",
      "batch_normalization_588 (BatchN (None, 7, 7, 160)    480         conv2d_580[0][0]                 \n",
      "__________________________________________________________________________________________________\n",
      "activation_523 (Activation)     (None, 7, 7, 160)    0           batch_normalization_583[0][0]    \n",
      "__________________________________________________________________________________________________\n",
      "activation_528 (Activation)     (None, 7, 7, 160)    0           batch_normalization_588[0][0]    \n",
      "__________________________________________________________________________________________________\n",
      "average_pooling2d_51 (AveragePo (None, 7, 7, 768)    0           mixed5[0][0]                     \n",
      "__________________________________________________________________________________________________\n",
      "conv2d_573 (Conv2D)             (None, 7, 7, 192)    147456      mixed5[0][0]                     \n",
      "__________________________________________________________________________________________________\n",
      "conv2d_576 (Conv2D)             (None, 7, 7, 192)    215040      activation_523[0][0]             \n",
      "__________________________________________________________________________________________________\n",
      "conv2d_581 (Conv2D)             (None, 7, 7, 192)    215040      activation_528[0][0]             \n",
      "__________________________________________________________________________________________________\n",
      "conv2d_582 (Conv2D)             (None, 7, 7, 192)    147456      average_pooling2d_51[0][0]       \n",
      "__________________________________________________________________________________________________\n",
      "batch_normalization_581 (BatchN (None, 7, 7, 192)    576         conv2d_573[0][0]                 \n",
      "__________________________________________________________________________________________________\n",
      "batch_normalization_584 (BatchN (None, 7, 7, 192)    576         conv2d_576[0][0]                 \n",
      "__________________________________________________________________________________________________\n",
      "batch_normalization_589 (BatchN (None, 7, 7, 192)    576         conv2d_581[0][0]                 \n",
      "__________________________________________________________________________________________________\n",
      "batch_normalization_590 (BatchN (None, 7, 7, 192)    576         conv2d_582[0][0]                 \n",
      "__________________________________________________________________________________________________\n",
      "activation_521 (Activation)     (None, 7, 7, 192)    0           batch_normalization_581[0][0]    \n",
      "__________________________________________________________________________________________________\n",
      "activation_524 (Activation)     (None, 7, 7, 192)    0           batch_normalization_584[0][0]    \n",
      "__________________________________________________________________________________________________\n",
      "activation_529 (Activation)     (None, 7, 7, 192)    0           batch_normalization_589[0][0]    \n",
      "__________________________________________________________________________________________________\n",
      "activation_530 (Activation)     (None, 7, 7, 192)    0           batch_normalization_590[0][0]    \n",
      "__________________________________________________________________________________________________\n",
      "mixed6 (Concatenate)            (None, 7, 7, 768)    0           activation_521[0][0]             \n",
      "                                                                 activation_524[0][0]             \n",
      "                                                                 activation_529[0][0]             \n",
      "                                                                 activation_530[0][0]             \n",
      "__________________________________________________________________________________________________\n",
      "conv2d_587 (Conv2D)             (None, 7, 7, 192)    147456      mixed6[0][0]                     \n",
      "__________________________________________________________________________________________________\n",
      "batch_normalization_595 (BatchN (None, 7, 7, 192)    576         conv2d_587[0][0]                 \n",
      "__________________________________________________________________________________________________\n",
      "activation_535 (Activation)     (None, 7, 7, 192)    0           batch_normalization_595[0][0]    \n",
      "__________________________________________________________________________________________________\n",
      "conv2d_588 (Conv2D)             (None, 7, 7, 192)    258048      activation_535[0][0]             \n",
      "__________________________________________________________________________________________________\n",
      "batch_normalization_596 (BatchN (None, 7, 7, 192)    576         conv2d_588[0][0]                 \n",
      "__________________________________________________________________________________________________\n",
      "activation_536 (Activation)     (None, 7, 7, 192)    0           batch_normalization_596[0][0]    \n",
      "__________________________________________________________________________________________________\n",
      "conv2d_584 (Conv2D)             (None, 7, 7, 192)    147456      mixed6[0][0]                     \n",
      "__________________________________________________________________________________________________\n",
      "conv2d_589 (Conv2D)             (None, 7, 7, 192)    258048      activation_536[0][0]             \n",
      "__________________________________________________________________________________________________\n",
      "batch_normalization_592 (BatchN (None, 7, 7, 192)    576         conv2d_584[0][0]                 \n",
      "__________________________________________________________________________________________________\n",
      "batch_normalization_597 (BatchN (None, 7, 7, 192)    576         conv2d_589[0][0]                 \n",
      "__________________________________________________________________________________________________\n",
      "activation_532 (Activation)     (None, 7, 7, 192)    0           batch_normalization_592[0][0]    \n",
      "__________________________________________________________________________________________________\n",
      "activation_537 (Activation)     (None, 7, 7, 192)    0           batch_normalization_597[0][0]    \n",
      "__________________________________________________________________________________________________\n",
      "conv2d_585 (Conv2D)             (None, 7, 7, 192)    258048      activation_532[0][0]             \n",
      "__________________________________________________________________________________________________\n",
      "conv2d_590 (Conv2D)             (None, 7, 7, 192)    258048      activation_537[0][0]             \n",
      "__________________________________________________________________________________________________\n",
      "batch_normalization_593 (BatchN (None, 7, 7, 192)    576         conv2d_585[0][0]                 \n",
      "__________________________________________________________________________________________________\n",
      "batch_normalization_598 (BatchN (None, 7, 7, 192)    576         conv2d_590[0][0]                 \n",
      "__________________________________________________________________________________________________\n",
      "activation_533 (Activation)     (None, 7, 7, 192)    0           batch_normalization_593[0][0]    \n",
      "__________________________________________________________________________________________________\n",
      "activation_538 (Activation)     (None, 7, 7, 192)    0           batch_normalization_598[0][0]    \n",
      "__________________________________________________________________________________________________\n",
      "average_pooling2d_52 (AveragePo (None, 7, 7, 768)    0           mixed6[0][0]                     \n",
      "__________________________________________________________________________________________________\n",
      "conv2d_583 (Conv2D)             (None, 7, 7, 192)    147456      mixed6[0][0]                     \n",
      "__________________________________________________________________________________________________\n",
      "conv2d_586 (Conv2D)             (None, 7, 7, 192)    258048      activation_533[0][0]             \n",
      "__________________________________________________________________________________________________\n",
      "conv2d_591 (Conv2D)             (None, 7, 7, 192)    258048      activation_538[0][0]             \n",
      "__________________________________________________________________________________________________\n",
      "conv2d_592 (Conv2D)             (None, 7, 7, 192)    147456      average_pooling2d_52[0][0]       \n",
      "__________________________________________________________________________________________________\n",
      "batch_normalization_591 (BatchN (None, 7, 7, 192)    576         conv2d_583[0][0]                 \n",
      "__________________________________________________________________________________________________\n",
      "batch_normalization_594 (BatchN (None, 7, 7, 192)    576         conv2d_586[0][0]                 \n",
      "__________________________________________________________________________________________________\n",
      "batch_normalization_599 (BatchN (None, 7, 7, 192)    576         conv2d_591[0][0]                 \n",
      "__________________________________________________________________________________________________\n",
      "batch_normalization_600 (BatchN (None, 7, 7, 192)    576         conv2d_592[0][0]                 \n",
      "__________________________________________________________________________________________________\n",
      "activation_531 (Activation)     (None, 7, 7, 192)    0           batch_normalization_591[0][0]    \n",
      "__________________________________________________________________________________________________\n",
      "activation_534 (Activation)     (None, 7, 7, 192)    0           batch_normalization_594[0][0]    \n",
      "__________________________________________________________________________________________________\n",
      "activation_539 (Activation)     (None, 7, 7, 192)    0           batch_normalization_599[0][0]    \n",
      "__________________________________________________________________________________________________\n",
      "activation_540 (Activation)     (None, 7, 7, 192)    0           batch_normalization_600[0][0]    \n",
      "__________________________________________________________________________________________________\n",
      "mixed7 (Concatenate)            (None, 7, 7, 768)    0           activation_531[0][0]             \n",
      "                                                                 activation_534[0][0]             \n",
      "                                                                 activation_539[0][0]             \n",
      "                                                                 activation_540[0][0]             \n",
      "__________________________________________________________________________________________________\n",
      "conv2d_595 (Conv2D)             (None, 7, 7, 192)    147456      mixed7[0][0]                     \n",
      "__________________________________________________________________________________________________\n",
      "batch_normalization_603 (BatchN (None, 7, 7, 192)    576         conv2d_595[0][0]                 \n",
      "__________________________________________________________________________________________________\n",
      "activation_543 (Activation)     (None, 7, 7, 192)    0           batch_normalization_603[0][0]    \n",
      "__________________________________________________________________________________________________\n",
      "conv2d_596 (Conv2D)             (None, 7, 7, 192)    258048      activation_543[0][0]             \n",
      "__________________________________________________________________________________________________\n",
      "batch_normalization_604 (BatchN (None, 7, 7, 192)    576         conv2d_596[0][0]                 \n",
      "__________________________________________________________________________________________________\n",
      "activation_544 (Activation)     (None, 7, 7, 192)    0           batch_normalization_604[0][0]    \n",
      "__________________________________________________________________________________________________\n",
      "conv2d_593 (Conv2D)             (None, 7, 7, 192)    147456      mixed7[0][0]                     \n",
      "__________________________________________________________________________________________________\n",
      "conv2d_597 (Conv2D)             (None, 7, 7, 192)    258048      activation_544[0][0]             \n",
      "__________________________________________________________________________________________________\n",
      "batch_normalization_601 (BatchN (None, 7, 7, 192)    576         conv2d_593[0][0]                 \n",
      "__________________________________________________________________________________________________\n",
      "batch_normalization_605 (BatchN (None, 7, 7, 192)    576         conv2d_597[0][0]                 \n",
      "__________________________________________________________________________________________________\n",
      "activation_541 (Activation)     (None, 7, 7, 192)    0           batch_normalization_601[0][0]    \n",
      "__________________________________________________________________________________________________\n",
      "activation_545 (Activation)     (None, 7, 7, 192)    0           batch_normalization_605[0][0]    \n",
      "__________________________________________________________________________________________________\n",
      "conv2d_594 (Conv2D)             (None, 3, 3, 320)    552960      activation_541[0][0]             \n",
      "__________________________________________________________________________________________________\n",
      "conv2d_598 (Conv2D)             (None, 3, 3, 192)    331776      activation_545[0][0]             \n",
      "__________________________________________________________________________________________________\n",
      "batch_normalization_602 (BatchN (None, 3, 3, 320)    960         conv2d_594[0][0]                 \n",
      "__________________________________________________________________________________________________\n",
      "batch_normalization_606 (BatchN (None, 3, 3, 192)    576         conv2d_598[0][0]                 \n",
      "__________________________________________________________________________________________________\n",
      "activation_542 (Activation)     (None, 3, 3, 320)    0           batch_normalization_602[0][0]    \n",
      "__________________________________________________________________________________________________\n",
      "activation_546 (Activation)     (None, 3, 3, 192)    0           batch_normalization_606[0][0]    \n",
      "__________________________________________________________________________________________________\n",
      "max_pooling2d_76 (MaxPooling2D) (None, 3, 3, 768)    0           mixed7[0][0]                     \n",
      "__________________________________________________________________________________________________\n",
      "mixed8 (Concatenate)            (None, 3, 3, 1280)   0           activation_542[0][0]             \n",
      "                                                                 activation_546[0][0]             \n",
      "                                                                 max_pooling2d_76[0][0]           \n",
      "__________________________________________________________________________________________________\n",
      "conv2d_603 (Conv2D)             (None, 3, 3, 448)    573440      mixed8[0][0]                     \n",
      "__________________________________________________________________________________________________\n",
      "batch_normalization_611 (BatchN (None, 3, 3, 448)    1344        conv2d_603[0][0]                 \n",
      "__________________________________________________________________________________________________\n",
      "activation_551 (Activation)     (None, 3, 3, 448)    0           batch_normalization_611[0][0]    \n",
      "__________________________________________________________________________________________________\n",
      "conv2d_600 (Conv2D)             (None, 3, 3, 384)    491520      mixed8[0][0]                     \n",
      "__________________________________________________________________________________________________\n",
      "conv2d_604 (Conv2D)             (None, 3, 3, 384)    1548288     activation_551[0][0]             \n",
      "__________________________________________________________________________________________________\n",
      "batch_normalization_608 (BatchN (None, 3, 3, 384)    1152        conv2d_600[0][0]                 \n",
      "__________________________________________________________________________________________________\n",
      "batch_normalization_612 (BatchN (None, 3, 3, 384)    1152        conv2d_604[0][0]                 \n",
      "__________________________________________________________________________________________________\n",
      "activation_548 (Activation)     (None, 3, 3, 384)    0           batch_normalization_608[0][0]    \n",
      "__________________________________________________________________________________________________\n",
      "activation_552 (Activation)     (None, 3, 3, 384)    0           batch_normalization_612[0][0]    \n",
      "__________________________________________________________________________________________________\n",
      "conv2d_601 (Conv2D)             (None, 3, 3, 384)    442368      activation_548[0][0]             \n",
      "__________________________________________________________________________________________________\n",
      "conv2d_602 (Conv2D)             (None, 3, 3, 384)    442368      activation_548[0][0]             \n",
      "__________________________________________________________________________________________________\n",
      "conv2d_605 (Conv2D)             (None, 3, 3, 384)    442368      activation_552[0][0]             \n",
      "__________________________________________________________________________________________________\n",
      "conv2d_606 (Conv2D)             (None, 3, 3, 384)    442368      activation_552[0][0]             \n",
      "__________________________________________________________________________________________________\n",
      "average_pooling2d_53 (AveragePo (None, 3, 3, 1280)   0           mixed8[0][0]                     \n",
      "__________________________________________________________________________________________________\n",
      "conv2d_599 (Conv2D)             (None, 3, 3, 320)    409600      mixed8[0][0]                     \n",
      "__________________________________________________________________________________________________\n",
      "batch_normalization_609 (BatchN (None, 3, 3, 384)    1152        conv2d_601[0][0]                 \n",
      "__________________________________________________________________________________________________\n",
      "batch_normalization_610 (BatchN (None, 3, 3, 384)    1152        conv2d_602[0][0]                 \n",
      "__________________________________________________________________________________________________\n",
      "batch_normalization_613 (BatchN (None, 3, 3, 384)    1152        conv2d_605[0][0]                 \n",
      "__________________________________________________________________________________________________\n",
      "batch_normalization_614 (BatchN (None, 3, 3, 384)    1152        conv2d_606[0][0]                 \n",
      "__________________________________________________________________________________________________\n",
      "conv2d_607 (Conv2D)             (None, 3, 3, 192)    245760      average_pooling2d_53[0][0]       \n",
      "__________________________________________________________________________________________________\n",
      "batch_normalization_607 (BatchN (None, 3, 3, 320)    960         conv2d_599[0][0]                 \n",
      "__________________________________________________________________________________________________\n",
      "activation_549 (Activation)     (None, 3, 3, 384)    0           batch_normalization_609[0][0]    \n",
      "__________________________________________________________________________________________________\n",
      "activation_550 (Activation)     (None, 3, 3, 384)    0           batch_normalization_610[0][0]    \n",
      "__________________________________________________________________________________________________\n",
      "activation_553 (Activation)     (None, 3, 3, 384)    0           batch_normalization_613[0][0]    \n",
      "__________________________________________________________________________________________________\n",
      "activation_554 (Activation)     (None, 3, 3, 384)    0           batch_normalization_614[0][0]    \n",
      "__________________________________________________________________________________________________\n",
      "batch_normalization_615 (BatchN (None, 3, 3, 192)    576         conv2d_607[0][0]                 \n",
      "__________________________________________________________________________________________________\n",
      "activation_547 (Activation)     (None, 3, 3, 320)    0           batch_normalization_607[0][0]    \n",
      "__________________________________________________________________________________________________\n",
      "mixed9_0 (Concatenate)          (None, 3, 3, 768)    0           activation_549[0][0]             \n",
      "                                                                 activation_550[0][0]             \n",
      "__________________________________________________________________________________________________\n",
      "concatenate_11 (Concatenate)    (None, 3, 3, 768)    0           activation_553[0][0]             \n",
      "                                                                 activation_554[0][0]             \n",
      "__________________________________________________________________________________________________\n",
      "activation_555 (Activation)     (None, 3, 3, 192)    0           batch_normalization_615[0][0]    \n",
      "__________________________________________________________________________________________________\n",
      "mixed9 (Concatenate)            (None, 3, 3, 2048)   0           activation_547[0][0]             \n",
      "                                                                 mixed9_0[0][0]                   \n",
      "                                                                 concatenate_11[0][0]             \n",
      "                                                                 activation_555[0][0]             \n",
      "__________________________________________________________________________________________________\n",
      "conv2d_612 (Conv2D)             (None, 3, 3, 448)    917504      mixed9[0][0]                     \n",
      "__________________________________________________________________________________________________\n",
      "batch_normalization_620 (BatchN (None, 3, 3, 448)    1344        conv2d_612[0][0]                 \n",
      "__________________________________________________________________________________________________\n",
      "activation_560 (Activation)     (None, 3, 3, 448)    0           batch_normalization_620[0][0]    \n",
      "__________________________________________________________________________________________________\n",
      "conv2d_609 (Conv2D)             (None, 3, 3, 384)    786432      mixed9[0][0]                     \n",
      "__________________________________________________________________________________________________\n",
      "conv2d_613 (Conv2D)             (None, 3, 3, 384)    1548288     activation_560[0][0]             \n",
      "__________________________________________________________________________________________________\n",
      "batch_normalization_617 (BatchN (None, 3, 3, 384)    1152        conv2d_609[0][0]                 \n",
      "__________________________________________________________________________________________________\n",
      "batch_normalization_621 (BatchN (None, 3, 3, 384)    1152        conv2d_613[0][0]                 \n",
      "__________________________________________________________________________________________________\n",
      "activation_557 (Activation)     (None, 3, 3, 384)    0           batch_normalization_617[0][0]    \n",
      "__________________________________________________________________________________________________\n",
      "activation_561 (Activation)     (None, 3, 3, 384)    0           batch_normalization_621[0][0]    \n",
      "__________________________________________________________________________________________________\n",
      "conv2d_610 (Conv2D)             (None, 3, 3, 384)    442368      activation_557[0][0]             \n",
      "__________________________________________________________________________________________________\n",
      "conv2d_611 (Conv2D)             (None, 3, 3, 384)    442368      activation_557[0][0]             \n",
      "__________________________________________________________________________________________________\n",
      "conv2d_614 (Conv2D)             (None, 3, 3, 384)    442368      activation_561[0][0]             \n",
      "__________________________________________________________________________________________________\n",
      "conv2d_615 (Conv2D)             (None, 3, 3, 384)    442368      activation_561[0][0]             \n",
      "__________________________________________________________________________________________________\n",
      "average_pooling2d_54 (AveragePo (None, 3, 3, 2048)   0           mixed9[0][0]                     \n",
      "__________________________________________________________________________________________________\n",
      "conv2d_608 (Conv2D)             (None, 3, 3, 320)    655360      mixed9[0][0]                     \n",
      "__________________________________________________________________________________________________\n",
      "batch_normalization_618 (BatchN (None, 3, 3, 384)    1152        conv2d_610[0][0]                 \n",
      "__________________________________________________________________________________________________\n",
      "batch_normalization_619 (BatchN (None, 3, 3, 384)    1152        conv2d_611[0][0]                 \n",
      "__________________________________________________________________________________________________\n",
      "batch_normalization_622 (BatchN (None, 3, 3, 384)    1152        conv2d_614[0][0]                 \n",
      "__________________________________________________________________________________________________\n",
      "batch_normalization_623 (BatchN (None, 3, 3, 384)    1152        conv2d_615[0][0]                 \n",
      "__________________________________________________________________________________________________\n",
      "conv2d_616 (Conv2D)             (None, 3, 3, 192)    393216      average_pooling2d_54[0][0]       \n",
      "__________________________________________________________________________________________________\n",
      "batch_normalization_616 (BatchN (None, 3, 3, 320)    960         conv2d_608[0][0]                 \n",
      "__________________________________________________________________________________________________\n",
      "activation_558 (Activation)     (None, 3, 3, 384)    0           batch_normalization_618[0][0]    \n",
      "__________________________________________________________________________________________________\n",
      "activation_559 (Activation)     (None, 3, 3, 384)    0           batch_normalization_619[0][0]    \n",
      "__________________________________________________________________________________________________\n",
      "activation_562 (Activation)     (None, 3, 3, 384)    0           batch_normalization_622[0][0]    \n",
      "__________________________________________________________________________________________________\n",
      "activation_563 (Activation)     (None, 3, 3, 384)    0           batch_normalization_623[0][0]    \n",
      "__________________________________________________________________________________________________\n",
      "batch_normalization_624 (BatchN (None, 3, 3, 192)    576         conv2d_616[0][0]                 \n",
      "__________________________________________________________________________________________________\n",
      "activation_556 (Activation)     (None, 3, 3, 320)    0           batch_normalization_616[0][0]    \n",
      "__________________________________________________________________________________________________\n",
      "mixed9_1 (Concatenate)          (None, 3, 3, 768)    0           activation_558[0][0]             \n",
      "                                                                 activation_559[0][0]             \n",
      "__________________________________________________________________________________________________\n",
      "concatenate_12 (Concatenate)    (None, 3, 3, 768)    0           activation_562[0][0]             \n",
      "                                                                 activation_563[0][0]             \n",
      "__________________________________________________________________________________________________\n",
      "activation_564 (Activation)     (None, 3, 3, 192)    0           batch_normalization_624[0][0]    \n",
      "__________________________________________________________________________________________________\n",
      "mixed10 (Concatenate)           (None, 3, 3, 2048)   0           activation_556[0][0]             \n",
      "                                                                 mixed9_1[0][0]                   \n",
      "                                                                 concatenate_12[0][0]             \n",
      "                                                                 activation_564[0][0]             \n",
      "==================================================================================================\n",
      "Total params: 21,802,784\n",
      "Trainable params: 21,768,352\n",
      "Non-trainable params: 34,432\n",
      "__________________________________________________________________________________________________\n"
     ]
    }
   ],
   "source": [
    "if PRETRAINED == 'VGG':\n",
    "    conv_base = VGG16(weights='imagenet',\n",
    "                  include_top=False,\n",
    "                  input_shape=(150, 150, 3))\n",
    "else:\n",
    "    conv_base = InceptionV3(weights='imagenet',\n",
    "                        include_top=False,\n",
    "                        input_shape=(150, 150, 3))\n",
    "conv_base.summary()"
   ]
  },
  {
   "cell_type": "markdown",
   "metadata": {
    "id": "TggADfWzjjjr"
   },
   "source": [
    "As in Chollet, Listing 5.17 (in Chollet's notebook 5.3), you will program an `extract_features()` function."
   ]
  },
  {
   "cell_type": "code",
   "execution_count": 139,
   "metadata": {
    "id": "9akUqIfrjjjr"
   },
   "outputs": [],
   "source": [
    "datagen = ImageDataGenerator(rescale=1./255)\n",
    "batch_size = 32\n",
    "def extract_features(directory, sample_count):\n",
    "    shuffle = False if directory == test_path else True\n",
    "    features = np.zeros(shape=(sample_count, 3, 3, 2048))\n",
    "    labels = np.zeros(shape=(sample_count, 5))\n",
    "    generator = datagen.flow_from_directory(\n",
    "        directory,\n",
    "        target_size=(150,150),\n",
    "        batch_size=batch_size,\n",
    "        shuffle= shuffle,\n",
    "        class_mode='categorical')\n",
    "    i = 0\n",
    "    for inputs_batch, labels_batch in generator:\n",
    "        features_batch = conv_base.predict(inputs_batch)\n",
    "        features[i * batch_size : (i + 1) * batch_size] = features_batch\n",
    "        labels[i * batch_size : (i + 1) * batch_size] = labels_batch\n",
    "        i += 1\n",
    "        if i * batch_size >= sample_count:\n",
    "            break\n",
    "    return features, labels"
   ]
  },
  {
   "cell_type": "markdown",
   "metadata": {
    "id": "UzTFBv9Njjjt"
   },
   "source": [
    "The features and labels"
   ]
  },
  {
   "cell_type": "code",
   "execution_count": 140,
   "metadata": {
    "id": "QfWUyDK1jjju"
   },
   "outputs": [
    {
     "name": "stdout",
     "output_type": "stream",
     "text": [
      "Found 2595 images belonging to 5 classes.\n",
      "Found 863 images belonging to 5 classes.\n",
      "Found 865 images belonging to 5 classes.\n"
     ]
    }
   ],
   "source": [
    "train_features, train_labels = extract_features(train_path, 2595)\n",
    "validation_features, validation_labels = extract_features(val_path, 863)\n",
    "test_features, test_labels = extract_features(test_path, 865)"
   ]
  },
  {
   "cell_type": "code",
   "execution_count": 141,
   "metadata": {
    "id": "33D7KHQujjjx"
   },
   "outputs": [],
   "source": [
    "train_features = np.reshape(train_features, (train_features.shape[0], np.prod(train_features.shape[1:])))  # (2593, 4 * 4 * 512))\n",
    "validation_features = np.reshape(validation_features, (validation_features.shape[0], np.prod(validation_features.shape[1:]))) # (865, 4 * 4 * 512)\n",
    "test_features = np.reshape(test_features, (test_features.shape[0], np.prod(test_features.shape[1:]))) # (865, 4 * 4 * 512))"
   ]
  },
  {
   "cell_type": "markdown",
   "metadata": {
    "id": "nxVVBBLqjjjz"
   },
   "source": [
    "Build a network that consists of the Inception V3 convolutional base and two dense layers."
   ]
  },
  {
   "cell_type": "code",
   "execution_count": 142,
   "metadata": {
    "id": "4m3hetcbjjj0"
   },
   "outputs": [
    {
     "name": "stdout",
     "output_type": "stream",
     "text": [
      "Model: \"sequential_18\"\n",
      "_________________________________________________________________\n",
      "Layer (type)                 Output Shape              Param #   \n",
      "=================================================================\n",
      "dense_36 (Dense)             (None, 256)               4718848   \n",
      "_________________________________________________________________\n",
      "dropout_66 (Dropout)         (None, 256)               0         \n",
      "_________________________________________________________________\n",
      "dense_37 (Dense)             (None, 5)                 1285      \n",
      "=================================================================\n",
      "Total params: 4,720,133\n",
      "Trainable params: 4,720,133\n",
      "Non-trainable params: 0\n",
      "_________________________________________________________________\n"
     ]
    }
   ],
   "source": [
    "model = models.Sequential()\n",
    "model.add(layers.Dense(256, activation='relu', input_dim= np.prod(test_features.shape[1:])))\n",
    "model.add(layers.Dropout(0.3))\n",
    "model.add(layers.Dense(5, activation='softmax'))\n",
    "\n",
    "model.compile(optimizer=OPTIMIZER,\n",
    "              loss='binary_crossentropy',\n",
    "              metrics=['accuracy'])\n",
    "model.summary()"
   ]
  },
  {
   "cell_type": "markdown",
   "metadata": {
    "id": "62SMIQc0jjj3"
   },
   "source": [
    "Fit your network"
   ]
  },
  {
   "cell_type": "code",
   "execution_count": 143,
   "metadata": {
    "id": "t90anLC1jjj3",
    "scrolled": true
   },
   "outputs": [
    {
     "name": "stdout",
     "output_type": "stream",
     "text": [
      "Train on 2595 samples, validate on 863 samples\n",
      "Epoch 1/30\n",
      "2595/2595 [==============================] - 1s 281us/step - loss: 3.6809 - accuracy: 0.7438 - val_loss: 3.3610 - val_accuracy: 0.7692\n",
      "Epoch 2/30\n",
      "2595/2595 [==============================] - 1s 230us/step - loss: 2.6943 - accuracy: 0.8015 - val_loss: 2.3293 - val_accuracy: 0.8257\n",
      "Epoch 3/30\n",
      "2595/2595 [==============================] - 1s 245us/step - loss: 2.1671 - accuracy: 0.8334 - val_loss: 1.8257 - val_accuracy: 0.8589\n",
      "Epoch 4/30\n",
      "2595/2595 [==============================] - 1s 240us/step - loss: 1.7964 - accuracy: 0.8531 - val_loss: 1.5958 - val_accuracy: 0.8468\n",
      "Epoch 5/30\n",
      "2595/2595 [==============================] - 1s 226us/step - loss: 1.2021 - accuracy: 0.8662 - val_loss: 0.4497 - val_accuracy: 0.8660\n",
      "Epoch 6/30\n",
      "2595/2595 [==============================] - 1s 227us/step - loss: 0.2998 - accuracy: 0.9044 - val_loss: 0.3015 - val_accuracy: 0.8915\n",
      "Epoch 7/30\n",
      "2595/2595 [==============================] - 1s 230us/step - loss: 0.2362 - accuracy: 0.9203 - val_loss: 0.3804 - val_accuracy: 0.8913\n",
      "Epoch 8/30\n",
      "2595/2595 [==============================] - 1s 228us/step - loss: 0.2218 - accuracy: 0.9286 - val_loss: 0.3390 - val_accuracy: 0.8990\n",
      "Epoch 9/30\n",
      "2595/2595 [==============================] - 1s 239us/step - loss: 0.1983 - accuracy: 0.9393 - val_loss: 0.2583 - val_accuracy: 0.9156\n",
      "Epoch 10/30\n",
      "2595/2595 [==============================] - 1s 228us/step - loss: 0.1622 - accuracy: 0.9464 - val_loss: 0.2392 - val_accuracy: 0.9275\n",
      "Epoch 11/30\n",
      "2595/2595 [==============================] - 1s 231us/step - loss: 0.1536 - accuracy: 0.9526 - val_loss: 0.3007 - val_accuracy: 0.9173\n",
      "Epoch 12/30\n",
      "2595/2595 [==============================] - 1s 227us/step - loss: 0.1666 - accuracy: 0.9588 - val_loss: 0.4750 - val_accuracy: 0.9103\n",
      "Epoch 13/30\n",
      "2595/2595 [==============================] - 1s 227us/step - loss: 0.1198 - accuracy: 0.9639 - val_loss: 0.4832 - val_accuracy: 0.9073\n",
      "Epoch 14/30\n",
      "2595/2595 [==============================] - 1s 230us/step - loss: 0.1238 - accuracy: 0.9653 - val_loss: 0.4082 - val_accuracy: 0.9238\n",
      "Epoch 15/30\n",
      "2595/2595 [==============================] - 1s 233us/step - loss: 0.1094 - accuracy: 0.9715 - val_loss: 0.3458 - val_accuracy: 0.9242\n",
      "Epoch 16/30\n",
      "2595/2595 [==============================] - 1s 228us/step - loss: 0.1141 - accuracy: 0.9704 - val_loss: 0.3856 - val_accuracy: 0.9175\n",
      "Epoch 17/30\n",
      "2595/2595 [==============================] - 1s 228us/step - loss: 0.0918 - accuracy: 0.9733 - val_loss: 0.3370 - val_accuracy: 0.9268\n",
      "Epoch 18/30\n",
      "2595/2595 [==============================] - 1s 226us/step - loss: 0.0953 - accuracy: 0.9766 - val_loss: 0.4519 - val_accuracy: 0.9228\n",
      "Epoch 19/30\n",
      "2595/2595 [==============================] - 1s 228us/step - loss: 0.0661 - accuracy: 0.9805 - val_loss: 0.5067 - val_accuracy: 0.9240\n",
      "Epoch 20/30\n",
      "2595/2595 [==============================] - 1s 228us/step - loss: 0.0749 - accuracy: 0.9806 - val_loss: 0.4347 - val_accuracy: 0.9242\n",
      "Epoch 21/30\n",
      "2595/2595 [==============================] - 1s 231us/step - loss: 0.0728 - accuracy: 0.9803 - val_loss: 0.4598 - val_accuracy: 0.9256\n",
      "Epoch 22/30\n",
      "2595/2595 [==============================] - 1s 230us/step - loss: 0.0760 - accuracy: 0.9802 - val_loss: 0.4667 - val_accuracy: 0.9298\n",
      "Epoch 23/30\n",
      "2595/2595 [==============================] - 1s 228us/step - loss: 0.0562 - accuracy: 0.9850 - val_loss: 0.6598 - val_accuracy: 0.9048\n",
      "Epoch 24/30\n",
      "2595/2595 [==============================] - 1s 234us/step - loss: 0.0521 - accuracy: 0.9854 - val_loss: 0.5169 - val_accuracy: 0.9249\n",
      "Epoch 25/30\n",
      "2595/2595 [==============================] - 1s 237us/step - loss: 0.0491 - accuracy: 0.9851 - val_loss: 0.4519 - val_accuracy: 0.9251\n",
      "Epoch 26/30\n",
      "2595/2595 [==============================] - 1s 228us/step - loss: 0.0430 - accuracy: 0.9887 - val_loss: 0.4326 - val_accuracy: 0.9312\n",
      "Epoch 27/30\n",
      "2595/2595 [==============================] - 1s 231us/step - loss: 0.0460 - accuracy: 0.9886 - val_loss: 0.4886 - val_accuracy: 0.9272\n",
      "Epoch 28/30\n",
      "2595/2595 [==============================] - 1s 233us/step - loss: 0.0522 - accuracy: 0.9884 - val_loss: 0.4876 - val_accuracy: 0.9289\n",
      "Epoch 29/30\n",
      "2595/2595 [==============================] - 1s 226us/step - loss: 0.0471 - accuracy: 0.9884 - val_loss: 0.5502 - val_accuracy: 0.9265\n",
      "Epoch 30/30\n",
      "2595/2595 [==============================] - 1s 229us/step - loss: 0.0374 - accuracy: 0.9918 - val_loss: 0.6167 - val_accuracy: 0.9224\n"
     ]
    }
   ],
   "source": [
    "\n",
    "history = model.fit(train_features, train_labels,\n",
    "                    batch_size = batch_size,\n",
    "                    epochs=30,\n",
    "                    validation_data=(validation_features, validation_labels))"
   ]
  },
  {
   "cell_type": "markdown",
   "metadata": {
    "id": "a4QoySMKjjj6"
   },
   "source": [
    "### Analyzing the fitting performance over epochs"
   ]
  },
  {
   "cell_type": "markdown",
   "metadata": {
    "id": "ATUqk0Zkjjj7"
   },
   "source": [
    "Show the training accuracy along with the epochs"
   ]
  },
  {
   "cell_type": "code",
   "execution_count": 118,
   "metadata": {
    "id": "AJicYRNtjjj7"
   },
   "outputs": [],
   "source": [
    "# save the model\n",
    "model.save('classifier_pre.h5')"
   ]
  },
  {
   "cell_type": "code",
   "execution_count": 119,
   "metadata": {},
   "outputs": [
    {
     "data": {
      "image/png": "[encoded data removed]",
      "text/plain": [
       "<Figure size 432x288 with 1 Axes>"
      ]
     },
     "metadata": {
      "needs_background": "light"
     },
     "output_type": "display_data"
    },
    {
     "data": {
      "image/png": "[encoded data removed]",
      "text/plain": [
       "<Figure size 432x288 with 1 Axes>"
      ]
     },
     "metadata": {
      "needs_background": "light"
     },
     "output_type": "display_data"
    }
   ],
   "source": [
    "model = load_model('classifier_pre.h5')\n",
    "plot_perf()"
   ]
  },
  {
   "cell_type": "markdown",
   "metadata": {
    "id": "iO2E-jVGjjj-"
   },
   "source": [
    "### Predicting the test set"
   ]
  },
  {
   "cell_type": "markdown",
   "metadata": {
    "id": "tHDwGXHJjjj-"
   },
   "source": [
    "Apply now your network to the test set"
   ]
  },
  {
   "cell_type": "code",
   "execution_count": 151,
   "metadata": {
    "id": "U_zBK2qojjj-",
    "scrolled": true
   },
   "outputs": [
    {
     "data": {
      "text/plain": [
       "[0,\n",
       " 0,\n",
       " 0,\n",
       " 0,\n",
       " 0,\n",
       " 0,\n",
       " 0,\n",
       " 0,\n",
       " 4,\n",
       " 2,\n",
       " 0,\n",
       " 0,\n",
       " 3,\n",
       " 0,\n",
       " 0,\n",
       " 0,\n",
       " 0,\n",
       " 0,\n",
       " 2,\n",
       " 0,\n",
       " 0,\n",
       " 0,\n",
       " 0,\n",
       " 0,\n",
       " 0,\n",
       " 0,\n",
       " 0,\n",
       " 0,\n",
       " 0,\n",
       " 0,\n",
       " 3,\n",
       " 0,\n",
       " 0,\n",
       " 0,\n",
       " 0,\n",
       " 0,\n",
       " 0,\n",
       " 0,\n",
       " 0,\n",
       " 0,\n",
       " 0,\n",
       " 0,\n",
       " 0,\n",
       " 0,\n",
       " 4,\n",
       " 0,\n",
       " 0,\n",
       " 0,\n",
       " 3,\n",
       " 2,\n",
       " 0,\n",
       " 2,\n",
       " 0,\n",
       " 0,\n",
       " 0,\n",
       " 0,\n",
       " 1,\n",
       " 0,\n",
       " 3,\n",
       " 0,\n",
       " 0,\n",
       " 0,\n",
       " 3,\n",
       " 0,\n",
       " 2,\n",
       " 2,\n",
       " 1,\n",
       " 0,\n",
       " 0,\n",
       " 0,\n",
       " 0,\n",
       " 0,\n",
       " 0,\n",
       " 3,\n",
       " 0,\n",
       " 0,\n",
       " 3,\n",
       " 4,\n",
       " 4,\n",
       " 0,\n",
       " 3,\n",
       " 0,\n",
       " 0,\n",
       " 0,\n",
       " 3,\n",
       " 0,\n",
       " 0,\n",
       " 0,\n",
       " 0,\n",
       " 0,\n",
       " 3,\n",
       " 0,\n",
       " 2,\n",
       " 0,\n",
       " 0,\n",
       " 1,\n",
       " 0,\n",
       " 4,\n",
       " 0,\n",
       " 0,\n",
       " 0,\n",
       " 0,\n",
       " 0,\n",
       " 2,\n",
       " 3,\n",
       " 4,\n",
       " 2,\n",
       " 3,\n",
       " 2,\n",
       " 0,\n",
       " 0,\n",
       " 0,\n",
       " 0,\n",
       " 2,\n",
       " 0,\n",
       " 0,\n",
       " 0,\n",
       " 0,\n",
       " 0,\n",
       " 0,\n",
       " 0,\n",
       " 0,\n",
       " 1,\n",
       " 0,\n",
       " 0,\n",
       " 0,\n",
       " 0,\n",
       " 0,\n",
       " 4,\n",
       " 0,\n",
       " 0,\n",
       " 0,\n",
       " 3,\n",
       " 0,\n",
       " 0,\n",
       " 0,\n",
       " 1,\n",
       " 0,\n",
       " 0,\n",
       " 0,\n",
       " 0,\n",
       " 0,\n",
       " 1,\n",
       " 0,\n",
       " 0,\n",
       " 0,\n",
       " 0,\n",
       " 0,\n",
       " 0,\n",
       " 0,\n",
       " 0,\n",
       " 0,\n",
       " 0,\n",
       " 0,\n",
       " 0,\n",
       " 0,\n",
       " 4,\n",
       " 0,\n",
       " 0,\n",
       " 0,\n",
       " 0,\n",
       " 0,\n",
       " 1,\n",
       " 1,\n",
       " 2,\n",
       " 1,\n",
       " 4,\n",
       " 1,\n",
       " 1,\n",
       " 1,\n",
       " 3,\n",
       " 3,\n",
       " 1,\n",
       " 1,\n",
       " 1,\n",
       " 1,\n",
       " 1,\n",
       " 4,\n",
       " 1,\n",
       " 1,\n",
       " 1,\n",
       " 1,\n",
       " 3,\n",
       " 1,\n",
       " 1,\n",
       " 1,\n",
       " 1,\n",
       " 1,\n",
       " 1,\n",
       " 1,\n",
       " 1,\n",
       " 1,\n",
       " 2,\n",
       " 1,\n",
       " 0,\n",
       " 1,\n",
       " 1,\n",
       " 1,\n",
       " 3,\n",
       " 1,\n",
       " 1,\n",
       " 1,\n",
       " 1,\n",
       " 3,\n",
       " 0,\n",
       " 1,\n",
       " 1,\n",
       " 3,\n",
       " 1,\n",
       " 1,\n",
       " 1,\n",
       " 1,\n",
       " 1,\n",
       " 1,\n",
       " 1,\n",
       " 1,\n",
       " 1,\n",
       " 1,\n",
       " 1,\n",
       " 1,\n",
       " 1,\n",
       " 1,\n",
       " 1,\n",
       " 1,\n",
       " 1,\n",
       " 1,\n",
       " 1,\n",
       " 1,\n",
       " 1,\n",
       " 1,\n",
       " 1,\n",
       " 0,\n",
       " 0,\n",
       " 1,\n",
       " 1,\n",
       " 1,\n",
       " 1,\n",
       " 3,\n",
       " 1,\n",
       " 1,\n",
       " 1,\n",
       " 1,\n",
       " 1,\n",
       " 1,\n",
       " 3,\n",
       " 0,\n",
       " 1,\n",
       " 0,\n",
       " 1,\n",
       " 1,\n",
       " 1,\n",
       " 1,\n",
       " 0,\n",
       " 1,\n",
       " 1,\n",
       " 1,\n",
       " 1,\n",
       " 3,\n",
       " 3,\n",
       " 1,\n",
       " 3,\n",
       " 1,\n",
       " 3,\n",
       " 0,\n",
       " 4,\n",
       " 0,\n",
       " 1,\n",
       " 3,\n",
       " 1,\n",
       " 1,\n",
       " 1,\n",
       " 1,\n",
       " 1,\n",
       " 1,\n",
       " 1,\n",
       " 2,\n",
       " 3,\n",
       " 1,\n",
       " 3,\n",
       " 2,\n",
       " 1,\n",
       " 2,\n",
       " 4,\n",
       " 1,\n",
       " 1,\n",
       " 2,\n",
       " 1,\n",
       " 1,\n",
       " 1,\n",
       " 1,\n",
       " 1,\n",
       " 1,\n",
       " 3,\n",
       " 1,\n",
       " 1,\n",
       " 1,\n",
       " 3,\n",
       " 3,\n",
       " 1,\n",
       " 1,\n",
       " 1,\n",
       " 1,\n",
       " 1,\n",
       " 1,\n",
       " 1,\n",
       " 1,\n",
       " 1,\n",
       " 0,\n",
       " 0,\n",
       " 1,\n",
       " 1,\n",
       " 3,\n",
       " 1,\n",
       " 1,\n",
       " 3,\n",
       " 1,\n",
       " 1,\n",
       " 1,\n",
       " 1,\n",
       " 1,\n",
       " 0,\n",
       " 1,\n",
       " 1,\n",
       " 2,\n",
       " 1,\n",
       " 1,\n",
       " 1,\n",
       " 0,\n",
       " 1,\n",
       " 3,\n",
       " 1,\n",
       " 1,\n",
       " 1,\n",
       " 3,\n",
       " 3,\n",
       " 1,\n",
       " 1,\n",
       " 1,\n",
       " 1,\n",
       " 1,\n",
       " 1,\n",
       " 1,\n",
       " 1,\n",
       " 1,\n",
       " 1,\n",
       " 1,\n",
       " 1,\n",
       " 1,\n",
       " 1,\n",
       " 1,\n",
       " 1,\n",
       " 1,\n",
       " 0,\n",
       " 1,\n",
       " 1,\n",
       " 2,\n",
       " 1,\n",
       " 1,\n",
       " 1,\n",
       " 1,\n",
       " 0,\n",
       " 1,\n",
       " 2,\n",
       " 1,\n",
       " 3,\n",
       " 1,\n",
       " 1,\n",
       " 2,\n",
       " 2,\n",
       " 1,\n",
       " 1,\n",
       " 1,\n",
       " 1,\n",
       " 1,\n",
       " 3,\n",
       " 1,\n",
       " 1,\n",
       " 1,\n",
       " 1,\n",
       " 2,\n",
       " 1,\n",
       " 1,\n",
       " 1,\n",
       " 1,\n",
       " 1,\n",
       " 1,\n",
       " 1,\n",
       " 1,\n",
       " 1,\n",
       " 4,\n",
       " 2,\n",
       " 4,\n",
       " 2,\n",
       " 2,\n",
       " 4,\n",
       " 2,\n",
       " 2,\n",
       " 2,\n",
       " 2,\n",
       " 2,\n",
       " 2,\n",
       " 2,\n",
       " 1,\n",
       " 2,\n",
       " 2,\n",
       " 2,\n",
       " 2,\n",
       " 2,\n",
       " 2,\n",
       " 2,\n",
       " 2,\n",
       " 4,\n",
       " 2,\n",
       " 2,\n",
       " 2,\n",
       " 0,\n",
       " 2,\n",
       " 2,\n",
       " 2,\n",
       " 2,\n",
       " 2,\n",
       " 4,\n",
       " 2,\n",
       " 2,\n",
       " 3,\n",
       " 2,\n",
       " 3,\n",
       " 2,\n",
       " 2,\n",
       " 2,\n",
       " 3,\n",
       " 2,\n",
       " 4,\n",
       " 2,\n",
       " 2,\n",
       " 2,\n",
       " 2,\n",
       " 0,\n",
       " 2,\n",
       " 2,\n",
       " 2,\n",
       " 2,\n",
       " 2,\n",
       " 2,\n",
       " 2,\n",
       " 2,\n",
       " 2,\n",
       " 2,\n",
       " 2,\n",
       " 2,\n",
       " 3,\n",
       " 4,\n",
       " 2,\n",
       " 2,\n",
       " 2,\n",
       " 2,\n",
       " 2,\n",
       " 2,\n",
       " 2,\n",
       " 2,\n",
       " 2,\n",
       " 2,\n",
       " 2,\n",
       " 2,\n",
       " 4,\n",
       " 2,\n",
       " 2,\n",
       " 2,\n",
       " 4,\n",
       " 2,\n",
       " 2,\n",
       " 2,\n",
       " 2,\n",
       " 4,\n",
       " 2,\n",
       " 2,\n",
       " 2,\n",
       " 4,\n",
       " 2,\n",
       " 2,\n",
       " 2,\n",
       " 0,\n",
       " 2,\n",
       " 2,\n",
       " 2,\n",
       " 2,\n",
       " 2,\n",
       " 2,\n",
       " 2,\n",
       " 2,\n",
       " 2,\n",
       " 2,\n",
       " 4,\n",
       " 4,\n",
       " 4,\n",
       " 2,\n",
       " 2,\n",
       " 2,\n",
       " 2,\n",
       " 2,\n",
       " 2,\n",
       " 2,\n",
       " 0,\n",
       " 3,\n",
       " 2,\n",
       " 2,\n",
       " 2,\n",
       " 2,\n",
       " 2,\n",
       " 2,\n",
       " 2,\n",
       " 2,\n",
       " 2,\n",
       " 3,\n",
       " 2,\n",
       " 2,\n",
       " 2,\n",
       " 2,\n",
       " 2,\n",
       " 3,\n",
       " 4,\n",
       " 2,\n",
       " 2,\n",
       " 2,\n",
       " 2,\n",
       " 2,\n",
       " 2,\n",
       " 2,\n",
       " 2,\n",
       " 2,\n",
       " 2,\n",
       " 2,\n",
       " 2,\n",
       " 2,\n",
       " 2,\n",
       " 2,\n",
       " 2,\n",
       " 3,\n",
       " 2,\n",
       " 2,\n",
       " 2,\n",
       " 2,\n",
       " 3,\n",
       " 3,\n",
       " 3,\n",
       " 4,\n",
       " 4,\n",
       " 3,\n",
       " 2,\n",
       " 3,\n",
       " 3,\n",
       " 3,\n",
       " 3,\n",
       " 3,\n",
       " 3,\n",
       " 3,\n",
       " 3,\n",
       " 3,\n",
       " 3,\n",
       " 4,\n",
       " 3,\n",
       " 3,\n",
       " 3,\n",
       " 3,\n",
       " 3,\n",
       " 3,\n",
       " 3,\n",
       " 3,\n",
       " 3,\n",
       " 4,\n",
       " 3,\n",
       " 3,\n",
       " 3,\n",
       " 3,\n",
       " 3,\n",
       " 3,\n",
       " 3,\n",
       " 3,\n",
       " 3,\n",
       " 3,\n",
       " 3,\n",
       " 3,\n",
       " 3,\n",
       " 3,\n",
       " 3,\n",
       " 3,\n",
       " 3,\n",
       " 3,\n",
       " 3,\n",
       " 3,\n",
       " 3,\n",
       " 3,\n",
       " 3,\n",
       " 2,\n",
       " 3,\n",
       " 3,\n",
       " 3,\n",
       " 3,\n",
       " 3,\n",
       " 3,\n",
       " 3,\n",
       " 3,\n",
       " 3,\n",
       " 3,\n",
       " 3,\n",
       " 3,\n",
       " 3,\n",
       " 3,\n",
       " 3,\n",
       " 3,\n",
       " 3,\n",
       " 3,\n",
       " 2,\n",
       " 2,\n",
       " 3,\n",
       " 3,\n",
       " 2,\n",
       " 3,\n",
       " 3,\n",
       " 3,\n",
       " 3,\n",
       " 3,\n",
       " 3,\n",
       " 3,\n",
       " 3,\n",
       " 3,\n",
       " 2,\n",
       " 0,\n",
       " 0,\n",
       " 3,\n",
       " 3,\n",
       " 3,\n",
       " 3,\n",
       " 3,\n",
       " 3,\n",
       " 3,\n",
       " 3,\n",
       " 3,\n",
       " 3,\n",
       " 3,\n",
       " 3,\n",
       " 3,\n",
       " 3,\n",
       " 4,\n",
       " 3,\n",
       " 3,\n",
       " 3,\n",
       " 3,\n",
       " 3,\n",
       " 3,\n",
       " 3,\n",
       " 3,\n",
       " 3,\n",
       " 3,\n",
       " 3,\n",
       " 4,\n",
       " 3,\n",
       " 3,\n",
       " 3,\n",
       " 3,\n",
       " 3,\n",
       " 3,\n",
       " 3,\n",
       " 3,\n",
       " 3,\n",
       " 3,\n",
       " 3,\n",
       " 3,\n",
       " 3,\n",
       " 3,\n",
       " 3,\n",
       " 3,\n",
       " 3,\n",
       " 3,\n",
       " 3,\n",
       " 3,\n",
       " 3,\n",
       " 3,\n",
       " 3,\n",
       " 3,\n",
       " 4,\n",
       " 2,\n",
       " 2,\n",
       " 4,\n",
       " 4,\n",
       " 4,\n",
       " 4,\n",
       " 4,\n",
       " 4,\n",
       " 4,\n",
       " 4,\n",
       " 4,\n",
       " 2,\n",
       " 4,\n",
       " 2,\n",
       " 4,\n",
       " 4,\n",
       " 2,\n",
       " 4,\n",
       " 4,\n",
       " 3,\n",
       " 4,\n",
       " 4,\n",
       " 3,\n",
       " 4,\n",
       " 4,\n",
       " 4,\n",
       " 4,\n",
       " 4,\n",
       " 4,\n",
       " 4,\n",
       " 4,\n",
       " 4,\n",
       " 4,\n",
       " 4,\n",
       " 4,\n",
       " 4,\n",
       " 4,\n",
       " 2,\n",
       " 4,\n",
       " 4,\n",
       " 4,\n",
       " 4,\n",
       " 4,\n",
       " 2,\n",
       " 3,\n",
       " 0,\n",
       " 2,\n",
       " 4,\n",
       " 4,\n",
       " 4,\n",
       " 4,\n",
       " 2,\n",
       " 2,\n",
       " 4,\n",
       " 4,\n",
       " 2,\n",
       " 4,\n",
       " 4,\n",
       " 4,\n",
       " 4,\n",
       " 4,\n",
       " 2,\n",
       " 4,\n",
       " 4,\n",
       " 4,\n",
       " 2,\n",
       " 4,\n",
       " 2,\n",
       " 4,\n",
       " 4,\n",
       " 4,\n",
       " 4,\n",
       " 4,\n",
       " 4,\n",
       " 4,\n",
       " 4,\n",
       " 2,\n",
       " 4,\n",
       " 4,\n",
       " 4,\n",
       " 3,\n",
       " 4,\n",
       " 4,\n",
       " 4,\n",
       " 4,\n",
       " 4,\n",
       " 4,\n",
       " 2,\n",
       " 4,\n",
       " 4,\n",
       " 4,\n",
       " 4,\n",
       " 4,\n",
       " 4,\n",
       " 4,\n",
       " 4,\n",
       " 4,\n",
       " 2,\n",
       " 4,\n",
       " 3,\n",
       " 4,\n",
       " 4,\n",
       " 4,\n",
       " 4,\n",
       " 4,\n",
       " 4,\n",
       " 4,\n",
       " 4,\n",
       " 4,\n",
       " 4,\n",
       " 4,\n",
       " 2,\n",
       " 4,\n",
       " 4,\n",
       " 4,\n",
       " 4,\n",
       " 4,\n",
       " 2,\n",
       " 4,\n",
       " 4,\n",
       " 4,\n",
       " 4,\n",
       " 2,\n",
       " 4,\n",
       " 4,\n",
       " 4,\n",
       " 2,\n",
       " 3,\n",
       " 4,\n",
       " 4,\n",
       " 3,\n",
       " 4,\n",
       " 4,\n",
       " 4,\n",
       " 4,\n",
       " 2,\n",
       " 2,\n",
       " 4,\n",
       " 4,\n",
       " 2,\n",
       " 4,\n",
       " 4,\n",
       " 4,\n",
       " 4,\n",
       " 0,\n",
       " 2,\n",
       " 4,\n",
       " 4,\n",
       " 4,\n",
       " 4,\n",
       " 4,\n",
       " 4,\n",
       " 2,\n",
       " 1,\n",
       " 4,\n",
       " 2,\n",
       " 4,\n",
       " 4,\n",
       " 4,\n",
       " 4,\n",
       " 4,\n",
       " 4,\n",
       " 4,\n",
       " 4,\n",
       " 2,\n",
       " 3,\n",
       " 4,\n",
       " 2,\n",
       " 4,\n",
       " 4,\n",
       " 3,\n",
       " 4,\n",
       " 4,\n",
       " 4,\n",
       " 4,\n",
       " 4,\n",
       " 4,\n",
       " 4,\n",
       " 4,\n",
       " 4,\n",
       " 3,\n",
       " 4,\n",
       " 4,\n",
       " 3]"
      ]
     },
     "execution_count": 151,
     "metadata": {},
     "output_type": "execute_result"
    }
   ],
   "source": [
    "test_hat = list(model.predict_classes(test_features))\n",
    "\n",
    "test_labels_1 = list(np.argmax(test_labels, axis=1))"
   ]
  },
  {
   "cell_type": "markdown",
   "metadata": {
    "id": "O2l86nDGjjkC"
   },
   "source": [
    "Report the accuracy as well as the classification report. Use sklearn functions"
   ]
  },
  {
   "cell_type": "code",
   "execution_count": 152,
   "metadata": {
    "id": "ULV2fVkKjjkC"
   },
   "outputs": [
    {
     "name": "stdout",
     "output_type": "stream",
     "text": [
      "Simple CNN\n",
      "sklearn accuracy: 0.791907514450867\n",
      "Classification report:\n",
      "               precision    recall  f1-score   support\n",
      "\n",
      "           0       0.84      0.77      0.80       162\n",
      "           1       0.96      0.75      0.84       228\n",
      "           2       0.68      0.82      0.75       152\n",
      "           3       0.68      0.90      0.77       137\n",
      "           4       0.81      0.76      0.79       186\n",
      "\n",
      "    accuracy                           0.79       865\n",
      "   macro avg       0.79      0.80      0.79       865\n",
      "weighted avg       0.81      0.79      0.79       865\n",
      "\n"
     ]
    }
   ],
   "source": [
    "print('Simple CNN')\n",
    "print(\"sklearn accuracy:\", accuracy_score(test_labels_1, test_hat))\n",
    "print(\"Classification report:\\n\",classification_report(test_labels_1, test_hat))"
   ]
  },
  {
   "cell_type": "markdown",
   "metadata": {
    "id": "3nvVAFRCjjkE"
   },
   "source": [
    "Print the confusion matrix"
   ]
  },
  {
   "cell_type": "code",
   "execution_count": 153,
   "metadata": {
    "id": "HeKiRE5yjjkF"
   },
   "outputs": [
    {
     "name": "stdout",
     "output_type": "stream",
     "text": [
      "Confusion matrix:\n",
      " [[124   6  11  13   8]\n",
      " [ 15 171  12  25   5]\n",
      " [  4   1 125   8  14]\n",
      " [  2   0   6 123   6]\n",
      " [  2   1  29  12 142]]\n"
     ]
    }
   ],
   "source": [
    "print(\"Confusion matrix:\\n\", confusion_matrix(test_labels_1, test_hat))"
   ]
  },
  {
   "cell_type": "markdown",
   "metadata": {
    "id": "URmLGvILjjkH"
   },
   "source": [
    "Finally, run a model evaluation and store the loss and accuracy in the `test_loss_3` and `test_acc_3` variables. As with fitting, you may need to adjust the number of steps so that your network tests all the samples."
   ]
  },
  {
   "cell_type": "code",
   "execution_count": 154,
   "metadata": {
    "id": "kPc3gyOhjjkI"
   },
   "outputs": [
    {
     "name": "stdout",
     "output_type": "stream",
     "text": [
      "865/865 [==============================] - 0s 90us/step\n"
     ]
    },
    {
     "data": {
      "text/plain": [
       "(0.5957221254447981, 0.9179190993309021)"
      ]
     },
     "execution_count": 154,
     "metadata": {},
     "output_type": "execute_result"
    }
   ],
   "source": [
    "test_loss_3, test_acc_3 = model.evaluate(test_features,test_labels)\n",
    "test_loss_3, test_acc_3"
   ]
  },
  {
   "cell_type": "markdown",
   "metadata": {
    "id": "WdM2xaEZjjkL"
   },
   "source": [
    "## Using a Pretrained Convolutional Base with Image Augmentation"
   ]
  },
  {
   "cell_type": "markdown",
   "metadata": {
    "id": "uW77m9ikjjkL"
   },
   "source": [
    "### Architecture"
   ]
  },
  {
   "cell_type": "markdown",
   "metadata": {
    "id": "xMDkJpwxjjkM"
   },
   "source": [
    "1. Modify your program to include an image transformer. Train a new model. As a hint, you can make the whole convolutional base trainable and use the stochastic gradient descent as optimizer.\n",
    "2. Apply your network to the test set and report the accuracy as well as the confusion matrix you obtained."
   ]
  },
  {
   "cell_type": "code",
   "execution_count": 162,
   "metadata": {
    "id": "-m8enJQVjjkN"
   },
   "outputs": [
    {
     "name": "stdout",
     "output_type": "stream",
     "text": [
      "Model: \"inception_v3\"\n",
      "__________________________________________________________________________________________________\n",
      "Layer (type)                    Output Shape         Param #     Connected to                     \n",
      "==================================================================================================\n",
      "input_10 (InputLayer)           (None, 150, 150, 3)  0                                            \n",
      "__________________________________________________________________________________________________\n",
      "conv2d_711 (Conv2D)             (None, 74, 74, 32)   864         input_10[0][0]                   \n",
      "__________________________________________________________________________________________________\n",
      "batch_normalization_721 (BatchN (None, 74, 74, 32)   96          conv2d_711[0][0]                 \n",
      "__________________________________________________________________________________________________\n",
      "activation_659 (Activation)     (None, 74, 74, 32)   0           batch_normalization_721[0][0]    \n",
      "__________________________________________________________________________________________________\n",
      "conv2d_712 (Conv2D)             (None, 72, 72, 32)   9216        activation_659[0][0]             \n",
      "__________________________________________________________________________________________________\n",
      "batch_normalization_722 (BatchN (None, 72, 72, 32)   96          conv2d_712[0][0]                 \n",
      "__________________________________________________________________________________________________\n",
      "activation_660 (Activation)     (None, 72, 72, 32)   0           batch_normalization_722[0][0]    \n",
      "__________________________________________________________________________________________________\n",
      "conv2d_713 (Conv2D)             (None, 72, 72, 64)   18432       activation_660[0][0]             \n",
      "__________________________________________________________________________________________________\n",
      "batch_normalization_723 (BatchN (None, 72, 72, 64)   192         conv2d_713[0][0]                 \n",
      "__________________________________________________________________________________________________\n",
      "activation_661 (Activation)     (None, 72, 72, 64)   0           batch_normalization_723[0][0]    \n",
      "__________________________________________________________________________________________________\n",
      "max_pooling2d_81 (MaxPooling2D) (None, 35, 35, 64)   0           activation_661[0][0]             \n",
      "__________________________________________________________________________________________________\n",
      "conv2d_714 (Conv2D)             (None, 35, 35, 80)   5120        max_pooling2d_81[0][0]           \n",
      "__________________________________________________________________________________________________\n",
      "batch_normalization_724 (BatchN (None, 35, 35, 80)   240         conv2d_714[0][0]                 \n",
      "__________________________________________________________________________________________________\n",
      "activation_662 (Activation)     (None, 35, 35, 80)   0           batch_normalization_724[0][0]    \n",
      "__________________________________________________________________________________________________\n",
      "conv2d_715 (Conv2D)             (None, 33, 33, 192)  138240      activation_662[0][0]             \n",
      "__________________________________________________________________________________________________\n",
      "batch_normalization_725 (BatchN (None, 33, 33, 192)  576         conv2d_715[0][0]                 \n",
      "__________________________________________________________________________________________________\n",
      "activation_663 (Activation)     (None, 33, 33, 192)  0           batch_normalization_725[0][0]    \n",
      "__________________________________________________________________________________________________\n",
      "max_pooling2d_82 (MaxPooling2D) (None, 16, 16, 192)  0           activation_663[0][0]             \n",
      "__________________________________________________________________________________________________\n",
      "conv2d_719 (Conv2D)             (None, 16, 16, 64)   12288       max_pooling2d_82[0][0]           \n",
      "__________________________________________________________________________________________________\n",
      "batch_normalization_729 (BatchN (None, 16, 16, 64)   192         conv2d_719[0][0]                 \n",
      "__________________________________________________________________________________________________\n",
      "activation_667 (Activation)     (None, 16, 16, 64)   0           batch_normalization_729[0][0]    \n",
      "__________________________________________________________________________________________________\n",
      "conv2d_717 (Conv2D)             (None, 16, 16, 48)   9216        max_pooling2d_82[0][0]           \n",
      "__________________________________________________________________________________________________\n",
      "conv2d_720 (Conv2D)             (None, 16, 16, 96)   55296       activation_667[0][0]             \n",
      "__________________________________________________________________________________________________\n",
      "batch_normalization_727 (BatchN (None, 16, 16, 48)   144         conv2d_717[0][0]                 \n",
      "__________________________________________________________________________________________________\n",
      "batch_normalization_730 (BatchN (None, 16, 16, 96)   288         conv2d_720[0][0]                 \n",
      "__________________________________________________________________________________________________\n",
      "activation_665 (Activation)     (None, 16, 16, 48)   0           batch_normalization_727[0][0]    \n",
      "__________________________________________________________________________________________________\n",
      "activation_668 (Activation)     (None, 16, 16, 96)   0           batch_normalization_730[0][0]    \n",
      "__________________________________________________________________________________________________\n",
      "average_pooling2d_64 (AveragePo (None, 16, 16, 192)  0           max_pooling2d_82[0][0]           \n",
      "__________________________________________________________________________________________________\n",
      "conv2d_716 (Conv2D)             (None, 16, 16, 64)   12288       max_pooling2d_82[0][0]           \n",
      "__________________________________________________________________________________________________\n",
      "conv2d_718 (Conv2D)             (None, 16, 16, 64)   76800       activation_665[0][0]             \n",
      "__________________________________________________________________________________________________\n",
      "conv2d_721 (Conv2D)             (None, 16, 16, 96)   82944       activation_668[0][0]             \n",
      "__________________________________________________________________________________________________\n",
      "conv2d_722 (Conv2D)             (None, 16, 16, 32)   6144        average_pooling2d_64[0][0]       \n",
      "__________________________________________________________________________________________________\n",
      "batch_normalization_726 (BatchN (None, 16, 16, 64)   192         conv2d_716[0][0]                 \n",
      "__________________________________________________________________________________________________\n",
      "batch_normalization_728 (BatchN (None, 16, 16, 64)   192         conv2d_718[0][0]                 \n",
      "__________________________________________________________________________________________________\n",
      "batch_normalization_731 (BatchN (None, 16, 16, 96)   288         conv2d_721[0][0]                 \n",
      "__________________________________________________________________________________________________\n",
      "batch_normalization_732 (BatchN (None, 16, 16, 32)   96          conv2d_722[0][0]                 \n",
      "__________________________________________________________________________________________________\n",
      "activation_664 (Activation)     (None, 16, 16, 64)   0           batch_normalization_726[0][0]    \n",
      "__________________________________________________________________________________________________\n",
      "activation_666 (Activation)     (None, 16, 16, 64)   0           batch_normalization_728[0][0]    \n",
      "__________________________________________________________________________________________________\n",
      "activation_669 (Activation)     (None, 16, 16, 96)   0           batch_normalization_731[0][0]    \n",
      "__________________________________________________________________________________________________\n",
      "activation_670 (Activation)     (None, 16, 16, 32)   0           batch_normalization_732[0][0]    \n",
      "__________________________________________________________________________________________________\n",
      "mixed0 (Concatenate)            (None, 16, 16, 256)  0           activation_664[0][0]             \n",
      "                                                                 activation_666[0][0]             \n",
      "                                                                 activation_669[0][0]             \n",
      "                                                                 activation_670[0][0]             \n",
      "__________________________________________________________________________________________________\n",
      "conv2d_726 (Conv2D)             (None, 16, 16, 64)   16384       mixed0[0][0]                     \n",
      "__________________________________________________________________________________________________\n",
      "batch_normalization_736 (BatchN (None, 16, 16, 64)   192         conv2d_726[0][0]                 \n",
      "__________________________________________________________________________________________________\n",
      "activation_674 (Activation)     (None, 16, 16, 64)   0           batch_normalization_736[0][0]    \n",
      "__________________________________________________________________________________________________\n",
      "conv2d_724 (Conv2D)             (None, 16, 16, 48)   12288       mixed0[0][0]                     \n",
      "__________________________________________________________________________________________________\n",
      "conv2d_727 (Conv2D)             (None, 16, 16, 96)   55296       activation_674[0][0]             \n",
      "__________________________________________________________________________________________________\n",
      "batch_normalization_734 (BatchN (None, 16, 16, 48)   144         conv2d_724[0][0]                 \n",
      "__________________________________________________________________________________________________\n",
      "batch_normalization_737 (BatchN (None, 16, 16, 96)   288         conv2d_727[0][0]                 \n",
      "__________________________________________________________________________________________________\n",
      "activation_672 (Activation)     (None, 16, 16, 48)   0           batch_normalization_734[0][0]    \n",
      "__________________________________________________________________________________________________\n",
      "activation_675 (Activation)     (None, 16, 16, 96)   0           batch_normalization_737[0][0]    \n",
      "__________________________________________________________________________________________________\n",
      "average_pooling2d_65 (AveragePo (None, 16, 16, 256)  0           mixed0[0][0]                     \n",
      "__________________________________________________________________________________________________\n",
      "conv2d_723 (Conv2D)             (None, 16, 16, 64)   16384       mixed0[0][0]                     \n",
      "__________________________________________________________________________________________________\n",
      "conv2d_725 (Conv2D)             (None, 16, 16, 64)   76800       activation_672[0][0]             \n",
      "__________________________________________________________________________________________________\n",
      "conv2d_728 (Conv2D)             (None, 16, 16, 96)   82944       activation_675[0][0]             \n",
      "__________________________________________________________________________________________________\n",
      "conv2d_729 (Conv2D)             (None, 16, 16, 64)   16384       average_pooling2d_65[0][0]       \n",
      "__________________________________________________________________________________________________\n",
      "batch_normalization_733 (BatchN (None, 16, 16, 64)   192         conv2d_723[0][0]                 \n",
      "__________________________________________________________________________________________________\n",
      "batch_normalization_735 (BatchN (None, 16, 16, 64)   192         conv2d_725[0][0]                 \n",
      "__________________________________________________________________________________________________\n",
      "batch_normalization_738 (BatchN (None, 16, 16, 96)   288         conv2d_728[0][0]                 \n",
      "__________________________________________________________________________________________________\n",
      "batch_normalization_739 (BatchN (None, 16, 16, 64)   192         conv2d_729[0][0]                 \n",
      "__________________________________________________________________________________________________\n",
      "activation_671 (Activation)     (None, 16, 16, 64)   0           batch_normalization_733[0][0]    \n",
      "__________________________________________________________________________________________________\n",
      "activation_673 (Activation)     (None, 16, 16, 64)   0           batch_normalization_735[0][0]    \n",
      "__________________________________________________________________________________________________\n",
      "activation_676 (Activation)     (None, 16, 16, 96)   0           batch_normalization_738[0][0]    \n",
      "__________________________________________________________________________________________________\n",
      "activation_677 (Activation)     (None, 16, 16, 64)   0           batch_normalization_739[0][0]    \n",
      "__________________________________________________________________________________________________\n",
      "mixed1 (Concatenate)            (None, 16, 16, 288)  0           activation_671[0][0]             \n",
      "                                                                 activation_673[0][0]             \n",
      "                                                                 activation_676[0][0]             \n",
      "                                                                 activation_677[0][0]             \n",
      "__________________________________________________________________________________________________\n",
      "conv2d_733 (Conv2D)             (None, 16, 16, 64)   18432       mixed1[0][0]                     \n",
      "__________________________________________________________________________________________________\n",
      "batch_normalization_743 (BatchN (None, 16, 16, 64)   192         conv2d_733[0][0]                 \n",
      "__________________________________________________________________________________________________\n",
      "activation_681 (Activation)     (None, 16, 16, 64)   0           batch_normalization_743[0][0]    \n",
      "__________________________________________________________________________________________________\n",
      "conv2d_731 (Conv2D)             (None, 16, 16, 48)   13824       mixed1[0][0]                     \n",
      "__________________________________________________________________________________________________\n",
      "conv2d_734 (Conv2D)             (None, 16, 16, 96)   55296       activation_681[0][0]             \n",
      "__________________________________________________________________________________________________\n",
      "batch_normalization_741 (BatchN (None, 16, 16, 48)   144         conv2d_731[0][0]                 \n",
      "__________________________________________________________________________________________________\n",
      "batch_normalization_744 (BatchN (None, 16, 16, 96)   288         conv2d_734[0][0]                 \n",
      "__________________________________________________________________________________________________\n",
      "activation_679 (Activation)     (None, 16, 16, 48)   0           batch_normalization_741[0][0]    \n",
      "__________________________________________________________________________________________________\n",
      "activation_682 (Activation)     (None, 16, 16, 96)   0           batch_normalization_744[0][0]    \n",
      "__________________________________________________________________________________________________\n",
      "average_pooling2d_66 (AveragePo (None, 16, 16, 288)  0           mixed1[0][0]                     \n",
      "__________________________________________________________________________________________________\n",
      "conv2d_730 (Conv2D)             (None, 16, 16, 64)   18432       mixed1[0][0]                     \n",
      "__________________________________________________________________________________________________\n",
      "conv2d_732 (Conv2D)             (None, 16, 16, 64)   76800       activation_679[0][0]             \n",
      "__________________________________________________________________________________________________\n",
      "conv2d_735 (Conv2D)             (None, 16, 16, 96)   82944       activation_682[0][0]             \n",
      "__________________________________________________________________________________________________\n",
      "conv2d_736 (Conv2D)             (None, 16, 16, 64)   18432       average_pooling2d_66[0][0]       \n",
      "__________________________________________________________________________________________________\n",
      "batch_normalization_740 (BatchN (None, 16, 16, 64)   192         conv2d_730[0][0]                 \n",
      "__________________________________________________________________________________________________\n",
      "batch_normalization_742 (BatchN (None, 16, 16, 64)   192         conv2d_732[0][0]                 \n",
      "__________________________________________________________________________________________________\n",
      "batch_normalization_745 (BatchN (None, 16, 16, 96)   288         conv2d_735[0][0]                 \n",
      "__________________________________________________________________________________________________\n",
      "batch_normalization_746 (BatchN (None, 16, 16, 64)   192         conv2d_736[0][0]                 \n",
      "__________________________________________________________________________________________________\n",
      "activation_678 (Activation)     (None, 16, 16, 64)   0           batch_normalization_740[0][0]    \n",
      "__________________________________________________________________________________________________\n",
      "activation_680 (Activation)     (None, 16, 16, 64)   0           batch_normalization_742[0][0]    \n",
      "__________________________________________________________________________________________________\n",
      "activation_683 (Activation)     (None, 16, 16, 96)   0           batch_normalization_745[0][0]    \n",
      "__________________________________________________________________________________________________\n",
      "activation_684 (Activation)     (None, 16, 16, 64)   0           batch_normalization_746[0][0]    \n",
      "__________________________________________________________________________________________________\n",
      "mixed2 (Concatenate)            (None, 16, 16, 288)  0           activation_678[0][0]             \n",
      "                                                                 activation_680[0][0]             \n",
      "                                                                 activation_683[0][0]             \n",
      "                                                                 activation_684[0][0]             \n",
      "__________________________________________________________________________________________________\n",
      "conv2d_738 (Conv2D)             (None, 16, 16, 64)   18432       mixed2[0][0]                     \n",
      "__________________________________________________________________________________________________\n",
      "batch_normalization_748 (BatchN (None, 16, 16, 64)   192         conv2d_738[0][0]                 \n",
      "__________________________________________________________________________________________________\n",
      "activation_686 (Activation)     (None, 16, 16, 64)   0           batch_normalization_748[0][0]    \n",
      "__________________________________________________________________________________________________\n",
      "conv2d_739 (Conv2D)             (None, 16, 16, 96)   55296       activation_686[0][0]             \n",
      "__________________________________________________________________________________________________\n",
      "batch_normalization_749 (BatchN (None, 16, 16, 96)   288         conv2d_739[0][0]                 \n",
      "__________________________________________________________________________________________________\n",
      "activation_687 (Activation)     (None, 16, 16, 96)   0           batch_normalization_749[0][0]    \n",
      "__________________________________________________________________________________________________\n",
      "conv2d_737 (Conv2D)             (None, 7, 7, 384)    995328      mixed2[0][0]                     \n",
      "__________________________________________________________________________________________________\n",
      "conv2d_740 (Conv2D)             (None, 7, 7, 96)     82944       activation_687[0][0]             \n",
      "__________________________________________________________________________________________________\n",
      "batch_normalization_747 (BatchN (None, 7, 7, 384)    1152        conv2d_737[0][0]                 \n",
      "__________________________________________________________________________________________________\n",
      "batch_normalization_750 (BatchN (None, 7, 7, 96)     288         conv2d_740[0][0]                 \n",
      "__________________________________________________________________________________________________\n",
      "activation_685 (Activation)     (None, 7, 7, 384)    0           batch_normalization_747[0][0]    \n",
      "__________________________________________________________________________________________________\n",
      "activation_688 (Activation)     (None, 7, 7, 96)     0           batch_normalization_750[0][0]    \n",
      "__________________________________________________________________________________________________\n",
      "max_pooling2d_83 (MaxPooling2D) (None, 7, 7, 288)    0           mixed2[0][0]                     \n",
      "__________________________________________________________________________________________________\n",
      "mixed3 (Concatenate)            (None, 7, 7, 768)    0           activation_685[0][0]             \n",
      "                                                                 activation_688[0][0]             \n",
      "                                                                 max_pooling2d_83[0][0]           \n",
      "__________________________________________________________________________________________________\n",
      "conv2d_745 (Conv2D)             (None, 7, 7, 128)    98304       mixed3[0][0]                     \n",
      "__________________________________________________________________________________________________\n",
      "batch_normalization_755 (BatchN (None, 7, 7, 128)    384         conv2d_745[0][0]                 \n",
      "__________________________________________________________________________________________________\n",
      "activation_693 (Activation)     (None, 7, 7, 128)    0           batch_normalization_755[0][0]    \n",
      "__________________________________________________________________________________________________\n",
      "conv2d_746 (Conv2D)             (None, 7, 7, 128)    114688      activation_693[0][0]             \n",
      "__________________________________________________________________________________________________\n",
      "batch_normalization_756 (BatchN (None, 7, 7, 128)    384         conv2d_746[0][0]                 \n",
      "__________________________________________________________________________________________________\n",
      "activation_694 (Activation)     (None, 7, 7, 128)    0           batch_normalization_756[0][0]    \n",
      "__________________________________________________________________________________________________\n",
      "conv2d_742 (Conv2D)             (None, 7, 7, 128)    98304       mixed3[0][0]                     \n",
      "__________________________________________________________________________________________________\n",
      "conv2d_747 (Conv2D)             (None, 7, 7, 128)    114688      activation_694[0][0]             \n",
      "__________________________________________________________________________________________________\n",
      "batch_normalization_752 (BatchN (None, 7, 7, 128)    384         conv2d_742[0][0]                 \n",
      "__________________________________________________________________________________________________\n",
      "batch_normalization_757 (BatchN (None, 7, 7, 128)    384         conv2d_747[0][0]                 \n",
      "__________________________________________________________________________________________________\n",
      "activation_690 (Activation)     (None, 7, 7, 128)    0           batch_normalization_752[0][0]    \n",
      "__________________________________________________________________________________________________\n",
      "activation_695 (Activation)     (None, 7, 7, 128)    0           batch_normalization_757[0][0]    \n",
      "__________________________________________________________________________________________________\n",
      "conv2d_743 (Conv2D)             (None, 7, 7, 128)    114688      activation_690[0][0]             \n",
      "__________________________________________________________________________________________________\n",
      "conv2d_748 (Conv2D)             (None, 7, 7, 128)    114688      activation_695[0][0]             \n",
      "__________________________________________________________________________________________________\n",
      "batch_normalization_753 (BatchN (None, 7, 7, 128)    384         conv2d_743[0][0]                 \n",
      "__________________________________________________________________________________________________\n",
      "batch_normalization_758 (BatchN (None, 7, 7, 128)    384         conv2d_748[0][0]                 \n",
      "__________________________________________________________________________________________________\n",
      "activation_691 (Activation)     (None, 7, 7, 128)    0           batch_normalization_753[0][0]    \n",
      "__________________________________________________________________________________________________\n",
      "activation_696 (Activation)     (None, 7, 7, 128)    0           batch_normalization_758[0][0]    \n",
      "__________________________________________________________________________________________________\n",
      "average_pooling2d_67 (AveragePo (None, 7, 7, 768)    0           mixed3[0][0]                     \n",
      "__________________________________________________________________________________________________\n",
      "conv2d_741 (Conv2D)             (None, 7, 7, 192)    147456      mixed3[0][0]                     \n",
      "__________________________________________________________________________________________________\n",
      "conv2d_744 (Conv2D)             (None, 7, 7, 192)    172032      activation_691[0][0]             \n",
      "__________________________________________________________________________________________________\n",
      "conv2d_749 (Conv2D)             (None, 7, 7, 192)    172032      activation_696[0][0]             \n",
      "__________________________________________________________________________________________________\n",
      "conv2d_750 (Conv2D)             (None, 7, 7, 192)    147456      average_pooling2d_67[0][0]       \n",
      "__________________________________________________________________________________________________\n",
      "batch_normalization_751 (BatchN (None, 7, 7, 192)    576         conv2d_741[0][0]                 \n",
      "__________________________________________________________________________________________________\n",
      "batch_normalization_754 (BatchN (None, 7, 7, 192)    576         conv2d_744[0][0]                 \n",
      "__________________________________________________________________________________________________\n",
      "batch_normalization_759 (BatchN (None, 7, 7, 192)    576         conv2d_749[0][0]                 \n",
      "__________________________________________________________________________________________________\n",
      "batch_normalization_760 (BatchN (None, 7, 7, 192)    576         conv2d_750[0][0]                 \n",
      "__________________________________________________________________________________________________\n",
      "activation_689 (Activation)     (None, 7, 7, 192)    0           batch_normalization_751[0][0]    \n",
      "__________________________________________________________________________________________________\n",
      "activation_692 (Activation)     (None, 7, 7, 192)    0           batch_normalization_754[0][0]    \n",
      "__________________________________________________________________________________________________\n",
      "activation_697 (Activation)     (None, 7, 7, 192)    0           batch_normalization_759[0][0]    \n",
      "__________________________________________________________________________________________________\n",
      "activation_698 (Activation)     (None, 7, 7, 192)    0           batch_normalization_760[0][0]    \n",
      "__________________________________________________________________________________________________\n",
      "mixed4 (Concatenate)            (None, 7, 7, 768)    0           activation_689[0][0]             \n",
      "                                                                 activation_692[0][0]             \n",
      "                                                                 activation_697[0][0]             \n",
      "                                                                 activation_698[0][0]             \n",
      "__________________________________________________________________________________________________\n",
      "conv2d_755 (Conv2D)             (None, 7, 7, 160)    122880      mixed4[0][0]                     \n",
      "__________________________________________________________________________________________________\n",
      "batch_normalization_765 (BatchN (None, 7, 7, 160)    480         conv2d_755[0][0]                 \n",
      "__________________________________________________________________________________________________\n",
      "activation_703 (Activation)     (None, 7, 7, 160)    0           batch_normalization_765[0][0]    \n",
      "__________________________________________________________________________________________________\n",
      "conv2d_756 (Conv2D)             (None, 7, 7, 160)    179200      activation_703[0][0]             \n",
      "__________________________________________________________________________________________________\n",
      "batch_normalization_766 (BatchN (None, 7, 7, 160)    480         conv2d_756[0][0]                 \n",
      "__________________________________________________________________________________________________\n",
      "activation_704 (Activation)     (None, 7, 7, 160)    0           batch_normalization_766[0][0]    \n",
      "__________________________________________________________________________________________________\n",
      "conv2d_752 (Conv2D)             (None, 7, 7, 160)    122880      mixed4[0][0]                     \n",
      "__________________________________________________________________________________________________\n",
      "conv2d_757 (Conv2D)             (None, 7, 7, 160)    179200      activation_704[0][0]             \n",
      "__________________________________________________________________________________________________\n",
      "batch_normalization_762 (BatchN (None, 7, 7, 160)    480         conv2d_752[0][0]                 \n",
      "__________________________________________________________________________________________________\n",
      "batch_normalization_767 (BatchN (None, 7, 7, 160)    480         conv2d_757[0][0]                 \n",
      "__________________________________________________________________________________________________\n",
      "activation_700 (Activation)     (None, 7, 7, 160)    0           batch_normalization_762[0][0]    \n",
      "__________________________________________________________________________________________________\n",
      "activation_705 (Activation)     (None, 7, 7, 160)    0           batch_normalization_767[0][0]    \n",
      "__________________________________________________________________________________________________\n",
      "conv2d_753 (Conv2D)             (None, 7, 7, 160)    179200      activation_700[0][0]             \n",
      "__________________________________________________________________________________________________\n",
      "conv2d_758 (Conv2D)             (None, 7, 7, 160)    179200      activation_705[0][0]             \n",
      "__________________________________________________________________________________________________\n",
      "batch_normalization_763 (BatchN (None, 7, 7, 160)    480         conv2d_753[0][0]                 \n",
      "__________________________________________________________________________________________________\n",
      "batch_normalization_768 (BatchN (None, 7, 7, 160)    480         conv2d_758[0][0]                 \n",
      "__________________________________________________________________________________________________\n",
      "activation_701 (Activation)     (None, 7, 7, 160)    0           batch_normalization_763[0][0]    \n",
      "__________________________________________________________________________________________________\n",
      "activation_706 (Activation)     (None, 7, 7, 160)    0           batch_normalization_768[0][0]    \n",
      "__________________________________________________________________________________________________\n",
      "average_pooling2d_68 (AveragePo (None, 7, 7, 768)    0           mixed4[0][0]                     \n",
      "__________________________________________________________________________________________________\n",
      "conv2d_751 (Conv2D)             (None, 7, 7, 192)    147456      mixed4[0][0]                     \n",
      "__________________________________________________________________________________________________\n",
      "conv2d_754 (Conv2D)             (None, 7, 7, 192)    215040      activation_701[0][0]             \n",
      "__________________________________________________________________________________________________\n",
      "conv2d_759 (Conv2D)             (None, 7, 7, 192)    215040      activation_706[0][0]             \n",
      "__________________________________________________________________________________________________\n",
      "conv2d_760 (Conv2D)             (None, 7, 7, 192)    147456      average_pooling2d_68[0][0]       \n",
      "__________________________________________________________________________________________________\n",
      "batch_normalization_761 (BatchN (None, 7, 7, 192)    576         conv2d_751[0][0]                 \n",
      "__________________________________________________________________________________________________\n",
      "batch_normalization_764 (BatchN (None, 7, 7, 192)    576         conv2d_754[0][0]                 \n",
      "__________________________________________________________________________________________________\n",
      "batch_normalization_769 (BatchN (None, 7, 7, 192)    576         conv2d_759[0][0]                 \n",
      "__________________________________________________________________________________________________\n",
      "batch_normalization_770 (BatchN (None, 7, 7, 192)    576         conv2d_760[0][0]                 \n",
      "__________________________________________________________________________________________________\n",
      "activation_699 (Activation)     (None, 7, 7, 192)    0           batch_normalization_761[0][0]    \n",
      "__________________________________________________________________________________________________\n",
      "activation_702 (Activation)     (None, 7, 7, 192)    0           batch_normalization_764[0][0]    \n",
      "__________________________________________________________________________________________________\n",
      "activation_707 (Activation)     (None, 7, 7, 192)    0           batch_normalization_769[0][0]    \n",
      "__________________________________________________________________________________________________\n",
      "activation_708 (Activation)     (None, 7, 7, 192)    0           batch_normalization_770[0][0]    \n",
      "__________________________________________________________________________________________________\n",
      "mixed5 (Concatenate)            (None, 7, 7, 768)    0           activation_699[0][0]             \n",
      "                                                                 activation_702[0][0]             \n",
      "                                                                 activation_707[0][0]             \n",
      "                                                                 activation_708[0][0]             \n",
      "__________________________________________________________________________________________________\n",
      "conv2d_765 (Conv2D)             (None, 7, 7, 160)    122880      mixed5[0][0]                     \n",
      "__________________________________________________________________________________________________\n",
      "batch_normalization_775 (BatchN (None, 7, 7, 160)    480         conv2d_765[0][0]                 \n",
      "__________________________________________________________________________________________________\n",
      "activation_713 (Activation)     (None, 7, 7, 160)    0           batch_normalization_775[0][0]    \n",
      "__________________________________________________________________________________________________\n",
      "conv2d_766 (Conv2D)             (None, 7, 7, 160)    179200      activation_713[0][0]             \n",
      "__________________________________________________________________________________________________\n",
      "batch_normalization_776 (BatchN (None, 7, 7, 160)    480         conv2d_766[0][0]                 \n",
      "__________________________________________________________________________________________________\n",
      "activation_714 (Activation)     (None, 7, 7, 160)    0           batch_normalization_776[0][0]    \n",
      "__________________________________________________________________________________________________\n",
      "conv2d_762 (Conv2D)             (None, 7, 7, 160)    122880      mixed5[0][0]                     \n",
      "__________________________________________________________________________________________________\n",
      "conv2d_767 (Conv2D)             (None, 7, 7, 160)    179200      activation_714[0][0]             \n",
      "__________________________________________________________________________________________________\n",
      "batch_normalization_772 (BatchN (None, 7, 7, 160)    480         conv2d_762[0][0]                 \n",
      "__________________________________________________________________________________________________\n",
      "batch_normalization_777 (BatchN (None, 7, 7, 160)    480         conv2d_767[0][0]                 \n",
      "__________________________________________________________________________________________________\n",
      "activation_710 (Activation)     (None, 7, 7, 160)    0           batch_normalization_772[0][0]    \n",
      "__________________________________________________________________________________________________\n",
      "activation_715 (Activation)     (None, 7, 7, 160)    0           batch_normalization_777[0][0]    \n",
      "__________________________________________________________________________________________________\n",
      "conv2d_763 (Conv2D)             (None, 7, 7, 160)    179200      activation_710[0][0]             \n",
      "__________________________________________________________________________________________________\n",
      "conv2d_768 (Conv2D)             (None, 7, 7, 160)    179200      activation_715[0][0]             \n",
      "__________________________________________________________________________________________________\n",
      "batch_normalization_773 (BatchN (None, 7, 7, 160)    480         conv2d_763[0][0]                 \n",
      "__________________________________________________________________________________________________\n",
      "batch_normalization_778 (BatchN (None, 7, 7, 160)    480         conv2d_768[0][0]                 \n",
      "__________________________________________________________________________________________________\n",
      "activation_711 (Activation)     (None, 7, 7, 160)    0           batch_normalization_773[0][0]    \n",
      "__________________________________________________________________________________________________\n",
      "activation_716 (Activation)     (None, 7, 7, 160)    0           batch_normalization_778[0][0]    \n",
      "__________________________________________________________________________________________________\n",
      "average_pooling2d_69 (AveragePo (None, 7, 7, 768)    0           mixed5[0][0]                     \n",
      "__________________________________________________________________________________________________\n",
      "conv2d_761 (Conv2D)             (None, 7, 7, 192)    147456      mixed5[0][0]                     \n",
      "__________________________________________________________________________________________________\n",
      "conv2d_764 (Conv2D)             (None, 7, 7, 192)    215040      activation_711[0][0]             \n",
      "__________________________________________________________________________________________________\n",
      "conv2d_769 (Conv2D)             (None, 7, 7, 192)    215040      activation_716[0][0]             \n",
      "__________________________________________________________________________________________________\n",
      "conv2d_770 (Conv2D)             (None, 7, 7, 192)    147456      average_pooling2d_69[0][0]       \n",
      "__________________________________________________________________________________________________\n",
      "batch_normalization_771 (BatchN (None, 7, 7, 192)    576         conv2d_761[0][0]                 \n",
      "__________________________________________________________________________________________________\n",
      "batch_normalization_774 (BatchN (None, 7, 7, 192)    576         conv2d_764[0][0]                 \n",
      "__________________________________________________________________________________________________\n",
      "batch_normalization_779 (BatchN (None, 7, 7, 192)    576         conv2d_769[0][0]                 \n",
      "__________________________________________________________________________________________________\n",
      "batch_normalization_780 (BatchN (None, 7, 7, 192)    576         conv2d_770[0][0]                 \n",
      "__________________________________________________________________________________________________\n",
      "activation_709 (Activation)     (None, 7, 7, 192)    0           batch_normalization_771[0][0]    \n",
      "__________________________________________________________________________________________________\n",
      "activation_712 (Activation)     (None, 7, 7, 192)    0           batch_normalization_774[0][0]    \n",
      "__________________________________________________________________________________________________\n",
      "activation_717 (Activation)     (None, 7, 7, 192)    0           batch_normalization_779[0][0]    \n",
      "__________________________________________________________________________________________________\n",
      "activation_718 (Activation)     (None, 7, 7, 192)    0           batch_normalization_780[0][0]    \n",
      "__________________________________________________________________________________________________\n",
      "mixed6 (Concatenate)            (None, 7, 7, 768)    0           activation_709[0][0]             \n",
      "                                                                 activation_712[0][0]             \n",
      "                                                                 activation_717[0][0]             \n",
      "                                                                 activation_718[0][0]             \n",
      "__________________________________________________________________________________________________\n",
      "conv2d_775 (Conv2D)             (None, 7, 7, 192)    147456      mixed6[0][0]                     \n",
      "__________________________________________________________________________________________________\n",
      "batch_normalization_785 (BatchN (None, 7, 7, 192)    576         conv2d_775[0][0]                 \n",
      "__________________________________________________________________________________________________\n",
      "activation_723 (Activation)     (None, 7, 7, 192)    0           batch_normalization_785[0][0]    \n",
      "__________________________________________________________________________________________________\n",
      "conv2d_776 (Conv2D)             (None, 7, 7, 192)    258048      activation_723[0][0]             \n",
      "__________________________________________________________________________________________________\n",
      "batch_normalization_786 (BatchN (None, 7, 7, 192)    576         conv2d_776[0][0]                 \n",
      "__________________________________________________________________________________________________\n",
      "activation_724 (Activation)     (None, 7, 7, 192)    0           batch_normalization_786[0][0]    \n",
      "__________________________________________________________________________________________________\n",
      "conv2d_772 (Conv2D)             (None, 7, 7, 192)    147456      mixed6[0][0]                     \n",
      "__________________________________________________________________________________________________\n",
      "conv2d_777 (Conv2D)             (None, 7, 7, 192)    258048      activation_724[0][0]             \n",
      "__________________________________________________________________________________________________\n",
      "batch_normalization_782 (BatchN (None, 7, 7, 192)    576         conv2d_772[0][0]                 \n",
      "__________________________________________________________________________________________________\n",
      "batch_normalization_787 (BatchN (None, 7, 7, 192)    576         conv2d_777[0][0]                 \n",
      "__________________________________________________________________________________________________\n",
      "activation_720 (Activation)     (None, 7, 7, 192)    0           batch_normalization_782[0][0]    \n",
      "__________________________________________________________________________________________________\n",
      "activation_725 (Activation)     (None, 7, 7, 192)    0           batch_normalization_787[0][0]    \n",
      "__________________________________________________________________________________________________\n",
      "conv2d_773 (Conv2D)             (None, 7, 7, 192)    258048      activation_720[0][0]             \n",
      "__________________________________________________________________________________________________\n",
      "conv2d_778 (Conv2D)             (None, 7, 7, 192)    258048      activation_725[0][0]             \n",
      "__________________________________________________________________________________________________\n",
      "batch_normalization_783 (BatchN (None, 7, 7, 192)    576         conv2d_773[0][0]                 \n",
      "__________________________________________________________________________________________________\n",
      "batch_normalization_788 (BatchN (None, 7, 7, 192)    576         conv2d_778[0][0]                 \n",
      "__________________________________________________________________________________________________\n",
      "activation_721 (Activation)     (None, 7, 7, 192)    0           batch_normalization_783[0][0]    \n",
      "__________________________________________________________________________________________________\n",
      "activation_726 (Activation)     (None, 7, 7, 192)    0           batch_normalization_788[0][0]    \n",
      "__________________________________________________________________________________________________\n",
      "average_pooling2d_70 (AveragePo (None, 7, 7, 768)    0           mixed6[0][0]                     \n",
      "__________________________________________________________________________________________________\n",
      "conv2d_771 (Conv2D)             (None, 7, 7, 192)    147456      mixed6[0][0]                     \n",
      "__________________________________________________________________________________________________\n",
      "conv2d_774 (Conv2D)             (None, 7, 7, 192)    258048      activation_721[0][0]             \n",
      "__________________________________________________________________________________________________\n",
      "conv2d_779 (Conv2D)             (None, 7, 7, 192)    258048      activation_726[0][0]             \n",
      "__________________________________________________________________________________________________\n",
      "conv2d_780 (Conv2D)             (None, 7, 7, 192)    147456      average_pooling2d_70[0][0]       \n",
      "__________________________________________________________________________________________________\n",
      "batch_normalization_781 (BatchN (None, 7, 7, 192)    576         conv2d_771[0][0]                 \n",
      "__________________________________________________________________________________________________\n",
      "batch_normalization_784 (BatchN (None, 7, 7, 192)    576         conv2d_774[0][0]                 \n",
      "__________________________________________________________________________________________________\n",
      "batch_normalization_789 (BatchN (None, 7, 7, 192)    576         conv2d_779[0][0]                 \n",
      "__________________________________________________________________________________________________\n",
      "batch_normalization_790 (BatchN (None, 7, 7, 192)    576         conv2d_780[0][0]                 \n",
      "__________________________________________________________________________________________________\n",
      "activation_719 (Activation)     (None, 7, 7, 192)    0           batch_normalization_781[0][0]    \n",
      "__________________________________________________________________________________________________\n",
      "activation_722 (Activation)     (None, 7, 7, 192)    0           batch_normalization_784[0][0]    \n",
      "__________________________________________________________________________________________________\n",
      "activation_727 (Activation)     (None, 7, 7, 192)    0           batch_normalization_789[0][0]    \n",
      "__________________________________________________________________________________________________\n",
      "activation_728 (Activation)     (None, 7, 7, 192)    0           batch_normalization_790[0][0]    \n",
      "__________________________________________________________________________________________________\n",
      "mixed7 (Concatenate)            (None, 7, 7, 768)    0           activation_719[0][0]             \n",
      "                                                                 activation_722[0][0]             \n",
      "                                                                 activation_727[0][0]             \n",
      "                                                                 activation_728[0][0]             \n",
      "__________________________________________________________________________________________________\n",
      "conv2d_783 (Conv2D)             (None, 7, 7, 192)    147456      mixed7[0][0]                     \n",
      "__________________________________________________________________________________________________\n",
      "batch_normalization_793 (BatchN (None, 7, 7, 192)    576         conv2d_783[0][0]                 \n",
      "__________________________________________________________________________________________________\n",
      "activation_731 (Activation)     (None, 7, 7, 192)    0           batch_normalization_793[0][0]    \n",
      "__________________________________________________________________________________________________\n",
      "conv2d_784 (Conv2D)             (None, 7, 7, 192)    258048      activation_731[0][0]             \n",
      "__________________________________________________________________________________________________\n",
      "batch_normalization_794 (BatchN (None, 7, 7, 192)    576         conv2d_784[0][0]                 \n",
      "__________________________________________________________________________________________________\n",
      "activation_732 (Activation)     (None, 7, 7, 192)    0           batch_normalization_794[0][0]    \n",
      "__________________________________________________________________________________________________\n",
      "conv2d_781 (Conv2D)             (None, 7, 7, 192)    147456      mixed7[0][0]                     \n",
      "__________________________________________________________________________________________________\n",
      "conv2d_785 (Conv2D)             (None, 7, 7, 192)    258048      activation_732[0][0]             \n",
      "__________________________________________________________________________________________________\n",
      "batch_normalization_791 (BatchN (None, 7, 7, 192)    576         conv2d_781[0][0]                 \n",
      "__________________________________________________________________________________________________\n",
      "batch_normalization_795 (BatchN (None, 7, 7, 192)    576         conv2d_785[0][0]                 \n",
      "__________________________________________________________________________________________________\n",
      "activation_729 (Activation)     (None, 7, 7, 192)    0           batch_normalization_791[0][0]    \n",
      "__________________________________________________________________________________________________\n",
      "activation_733 (Activation)     (None, 7, 7, 192)    0           batch_normalization_795[0][0]    \n",
      "__________________________________________________________________________________________________\n",
      "conv2d_782 (Conv2D)             (None, 3, 3, 320)    552960      activation_729[0][0]             \n",
      "__________________________________________________________________________________________________\n",
      "conv2d_786 (Conv2D)             (None, 3, 3, 192)    331776      activation_733[0][0]             \n",
      "__________________________________________________________________________________________________\n",
      "batch_normalization_792 (BatchN (None, 3, 3, 320)    960         conv2d_782[0][0]                 \n",
      "__________________________________________________________________________________________________\n",
      "batch_normalization_796 (BatchN (None, 3, 3, 192)    576         conv2d_786[0][0]                 \n",
      "__________________________________________________________________________________________________\n",
      "activation_730 (Activation)     (None, 3, 3, 320)    0           batch_normalization_792[0][0]    \n",
      "__________________________________________________________________________________________________\n",
      "activation_734 (Activation)     (None, 3, 3, 192)    0           batch_normalization_796[0][0]    \n",
      "__________________________________________________________________________________________________\n",
      "max_pooling2d_84 (MaxPooling2D) (None, 3, 3, 768)    0           mixed7[0][0]                     \n",
      "__________________________________________________________________________________________________\n",
      "mixed8 (Concatenate)            (None, 3, 3, 1280)   0           activation_730[0][0]             \n",
      "                                                                 activation_734[0][0]             \n",
      "                                                                 max_pooling2d_84[0][0]           \n",
      "__________________________________________________________________________________________________\n",
      "conv2d_791 (Conv2D)             (None, 3, 3, 448)    573440      mixed8[0][0]                     \n",
      "__________________________________________________________________________________________________\n",
      "batch_normalization_801 (BatchN (None, 3, 3, 448)    1344        conv2d_791[0][0]                 \n",
      "__________________________________________________________________________________________________\n",
      "activation_739 (Activation)     (None, 3, 3, 448)    0           batch_normalization_801[0][0]    \n",
      "__________________________________________________________________________________________________\n",
      "conv2d_788 (Conv2D)             (None, 3, 3, 384)    491520      mixed8[0][0]                     \n",
      "__________________________________________________________________________________________________\n",
      "conv2d_792 (Conv2D)             (None, 3, 3, 384)    1548288     activation_739[0][0]             \n",
      "__________________________________________________________________________________________________\n",
      "batch_normalization_798 (BatchN (None, 3, 3, 384)    1152        conv2d_788[0][0]                 \n",
      "__________________________________________________________________________________________________\n",
      "batch_normalization_802 (BatchN (None, 3, 3, 384)    1152        conv2d_792[0][0]                 \n",
      "__________________________________________________________________________________________________\n",
      "activation_736 (Activation)     (None, 3, 3, 384)    0           batch_normalization_798[0][0]    \n",
      "__________________________________________________________________________________________________\n",
      "activation_740 (Activation)     (None, 3, 3, 384)    0           batch_normalization_802[0][0]    \n",
      "__________________________________________________________________________________________________\n",
      "conv2d_789 (Conv2D)             (None, 3, 3, 384)    442368      activation_736[0][0]             \n",
      "__________________________________________________________________________________________________\n",
      "conv2d_790 (Conv2D)             (None, 3, 3, 384)    442368      activation_736[0][0]             \n",
      "__________________________________________________________________________________________________\n",
      "conv2d_793 (Conv2D)             (None, 3, 3, 384)    442368      activation_740[0][0]             \n",
      "__________________________________________________________________________________________________\n",
      "conv2d_794 (Conv2D)             (None, 3, 3, 384)    442368      activation_740[0][0]             \n",
      "__________________________________________________________________________________________________\n",
      "average_pooling2d_71 (AveragePo (None, 3, 3, 1280)   0           mixed8[0][0]                     \n",
      "__________________________________________________________________________________________________\n",
      "conv2d_787 (Conv2D)             (None, 3, 3, 320)    409600      mixed8[0][0]                     \n",
      "__________________________________________________________________________________________________\n",
      "batch_normalization_799 (BatchN (None, 3, 3, 384)    1152        conv2d_789[0][0]                 \n",
      "__________________________________________________________________________________________________\n",
      "batch_normalization_800 (BatchN (None, 3, 3, 384)    1152        conv2d_790[0][0]                 \n",
      "__________________________________________________________________________________________________\n",
      "batch_normalization_803 (BatchN (None, 3, 3, 384)    1152        conv2d_793[0][0]                 \n",
      "__________________________________________________________________________________________________\n",
      "batch_normalization_804 (BatchN (None, 3, 3, 384)    1152        conv2d_794[0][0]                 \n",
      "__________________________________________________________________________________________________\n",
      "conv2d_795 (Conv2D)             (None, 3, 3, 192)    245760      average_pooling2d_71[0][0]       \n",
      "__________________________________________________________________________________________________\n",
      "batch_normalization_797 (BatchN (None, 3, 3, 320)    960         conv2d_787[0][0]                 \n",
      "__________________________________________________________________________________________________\n",
      "activation_737 (Activation)     (None, 3, 3, 384)    0           batch_normalization_799[0][0]    \n",
      "__________________________________________________________________________________________________\n",
      "activation_738 (Activation)     (None, 3, 3, 384)    0           batch_normalization_800[0][0]    \n",
      "__________________________________________________________________________________________________\n",
      "activation_741 (Activation)     (None, 3, 3, 384)    0           batch_normalization_803[0][0]    \n",
      "__________________________________________________________________________________________________\n",
      "activation_742 (Activation)     (None, 3, 3, 384)    0           batch_normalization_804[0][0]    \n",
      "__________________________________________________________________________________________________\n",
      "batch_normalization_805 (BatchN (None, 3, 3, 192)    576         conv2d_795[0][0]                 \n",
      "__________________________________________________________________________________________________\n",
      "activation_735 (Activation)     (None, 3, 3, 320)    0           batch_normalization_797[0][0]    \n",
      "__________________________________________________________________________________________________\n",
      "mixed9_0 (Concatenate)          (None, 3, 3, 768)    0           activation_737[0][0]             \n",
      "                                                                 activation_738[0][0]             \n",
      "__________________________________________________________________________________________________\n",
      "concatenate_15 (Concatenate)    (None, 3, 3, 768)    0           activation_741[0][0]             \n",
      "                                                                 activation_742[0][0]             \n",
      "__________________________________________________________________________________________________\n",
      "activation_743 (Activation)     (None, 3, 3, 192)    0           batch_normalization_805[0][0]    \n",
      "__________________________________________________________________________________________________\n",
      "mixed9 (Concatenate)            (None, 3, 3, 2048)   0           activation_735[0][0]             \n",
      "                                                                 mixed9_0[0][0]                   \n",
      "                                                                 concatenate_15[0][0]             \n",
      "                                                                 activation_743[0][0]             \n",
      "__________________________________________________________________________________________________\n",
      "conv2d_800 (Conv2D)             (None, 3, 3, 448)    917504      mixed9[0][0]                     \n",
      "__________________________________________________________________________________________________\n",
      "batch_normalization_810 (BatchN (None, 3, 3, 448)    1344        conv2d_800[0][0]                 \n",
      "__________________________________________________________________________________________________\n",
      "activation_748 (Activation)     (None, 3, 3, 448)    0           batch_normalization_810[0][0]    \n",
      "__________________________________________________________________________________________________\n",
      "conv2d_797 (Conv2D)             (None, 3, 3, 384)    786432      mixed9[0][0]                     \n",
      "__________________________________________________________________________________________________\n",
      "conv2d_801 (Conv2D)             (None, 3, 3, 384)    1548288     activation_748[0][0]             \n",
      "__________________________________________________________________________________________________\n",
      "batch_normalization_807 (BatchN (None, 3, 3, 384)    1152        conv2d_797[0][0]                 \n",
      "__________________________________________________________________________________________________\n",
      "batch_normalization_811 (BatchN (None, 3, 3, 384)    1152        conv2d_801[0][0]                 \n",
      "__________________________________________________________________________________________________\n",
      "activation_745 (Activation)     (None, 3, 3, 384)    0           batch_normalization_807[0][0]    \n",
      "__________________________________________________________________________________________________\n",
      "activation_749 (Activation)     (None, 3, 3, 384)    0           batch_normalization_811[0][0]    \n",
      "__________________________________________________________________________________________________\n",
      "conv2d_798 (Conv2D)             (None, 3, 3, 384)    442368      activation_745[0][0]             \n",
      "__________________________________________________________________________________________________\n",
      "conv2d_799 (Conv2D)             (None, 3, 3, 384)    442368      activation_745[0][0]             \n",
      "__________________________________________________________________________________________________\n",
      "conv2d_802 (Conv2D)             (None, 3, 3, 384)    442368      activation_749[0][0]             \n",
      "__________________________________________________________________________________________________\n",
      "conv2d_803 (Conv2D)             (None, 3, 3, 384)    442368      activation_749[0][0]             \n",
      "__________________________________________________________________________________________________\n",
      "average_pooling2d_72 (AveragePo (None, 3, 3, 2048)   0           mixed9[0][0]                     \n",
      "__________________________________________________________________________________________________\n",
      "conv2d_796 (Conv2D)             (None, 3, 3, 320)    655360      mixed9[0][0]                     \n",
      "__________________________________________________________________________________________________\n",
      "batch_normalization_808 (BatchN (None, 3, 3, 384)    1152        conv2d_798[0][0]                 \n",
      "__________________________________________________________________________________________________\n",
      "batch_normalization_809 (BatchN (None, 3, 3, 384)    1152        conv2d_799[0][0]                 \n",
      "__________________________________________________________________________________________________\n",
      "batch_normalization_812 (BatchN (None, 3, 3, 384)    1152        conv2d_802[0][0]                 \n",
      "__________________________________________________________________________________________________\n",
      "batch_normalization_813 (BatchN (None, 3, 3, 384)    1152        conv2d_803[0][0]                 \n",
      "__________________________________________________________________________________________________\n",
      "conv2d_804 (Conv2D)             (None, 3, 3, 192)    393216      average_pooling2d_72[0][0]       \n",
      "__________________________________________________________________________________________________\n",
      "batch_normalization_806 (BatchN (None, 3, 3, 320)    960         conv2d_796[0][0]                 \n",
      "__________________________________________________________________________________________________\n",
      "activation_746 (Activation)     (None, 3, 3, 384)    0           batch_normalization_808[0][0]    \n",
      "__________________________________________________________________________________________________\n",
      "activation_747 (Activation)     (None, 3, 3, 384)    0           batch_normalization_809[0][0]    \n",
      "__________________________________________________________________________________________________\n",
      "activation_750 (Activation)     (None, 3, 3, 384)    0           batch_normalization_812[0][0]    \n",
      "__________________________________________________________________________________________________\n",
      "activation_751 (Activation)     (None, 3, 3, 384)    0           batch_normalization_813[0][0]    \n",
      "__________________________________________________________________________________________________\n",
      "batch_normalization_814 (BatchN (None, 3, 3, 192)    576         conv2d_804[0][0]                 \n",
      "__________________________________________________________________________________________________\n",
      "activation_744 (Activation)     (None, 3, 3, 320)    0           batch_normalization_806[0][0]    \n",
      "__________________________________________________________________________________________________\n",
      "mixed9_1 (Concatenate)          (None, 3, 3, 768)    0           activation_746[0][0]             \n",
      "                                                                 activation_747[0][0]             \n",
      "__________________________________________________________________________________________________\n",
      "concatenate_16 (Concatenate)    (None, 3, 3, 768)    0           activation_750[0][0]             \n",
      "                                                                 activation_751[0][0]             \n",
      "__________________________________________________________________________________________________\n",
      "activation_752 (Activation)     (None, 3, 3, 192)    0           batch_normalization_814[0][0]    \n",
      "__________________________________________________________________________________________________\n",
      "mixed10 (Concatenate)           (None, 3, 3, 2048)   0           activation_744[0][0]             \n",
      "                                                                 mixed9_1[0][0]                   \n",
      "                                                                 concatenate_16[0][0]             \n",
      "                                                                 activation_752[0][0]             \n",
      "==================================================================================================\n",
      "Total params: 21,802,784\n",
      "Trainable params: 21,768,352\n",
      "Non-trainable params: 34,432\n",
      "__________________________________________________________________________________________________\n"
     ]
    }
   ],
   "source": [
    "if PRETRAINED == 'VGG':\n",
    "    conv_base = VGG16(weights='imagenet',\n",
    "                  include_top=False,\n",
    "                  input_shape=(150, 150, 3))\n",
    "else:\n",
    "    conv_base = InceptionV3(weights='imagenet',\n",
    "                        include_top=False,\n",
    "                        input_shape=(150, 150, 3))\n",
    "conv_base.summary()"
   ]
  },
  {
   "cell_type": "code",
   "execution_count": 163,
   "metadata": {
    "id": "IjrQ8ijhjjkQ"
   },
   "outputs": [
    {
     "name": "stdout",
     "output_type": "stream",
     "text": [
      "Model: \"sequential_21\"\n",
      "_________________________________________________________________\n",
      "Layer (type)                 Output Shape              Param #   \n",
      "=================================================================\n",
      "inception_v3 (Model)         (None, 3, 3, 2048)        21802784  \n",
      "_________________________________________________________________\n",
      "flatten_15 (Flatten)         (None, 18432)             0         \n",
      "_________________________________________________________________\n",
      "dense_42 (Dense)             (None, 256)               4718848   \n",
      "_________________________________________________________________\n",
      "batch_normalization_815 (Bat (None, 256)               1024      \n",
      "_________________________________________________________________\n",
      "dense_43 (Dense)             (None, 5)                 1285      \n",
      "=================================================================\n",
      "Total params: 26,523,941\n",
      "Trainable params: 26,488,997\n",
      "Non-trainable params: 34,944\n",
      "_________________________________________________________________\n"
     ]
    }
   ],
   "source": [
    "model = models.Sequential()\n",
    "model.add(conv_base)\n",
    "model.add(layers.Flatten())\n",
    "model.add(layers.Dense(256, activation='relu', input_dim= 3*3*2048 ))\n",
    "model.add(layers.BatchNormalization())\n",
    "\n",
    "model.add(layers.Dense(5, activation='softmax'))\n",
    "model.summary()"
   ]
  },
  {
   "cell_type": "markdown",
   "metadata": {
    "id": "THbvTaAtjjkU"
   },
   "source": [
    "Create the generators"
   ]
  },
  {
   "cell_type": "code",
   "execution_count": 164,
   "metadata": {
    "id": "ztxnNqCwjjkU"
   },
   "outputs": [
    {
     "name": "stdout",
     "output_type": "stream",
     "text": [
      "Found 2595 images belonging to 5 classes.\n",
      "Found 863 images belonging to 5 classes.\n",
      "Found 865 images belonging to 5 classes.\n"
     ]
    }
   ],
   "source": [
    "batch = 32\n",
    "train_datagen = ImageDataGenerator(\n",
    "      rescale=1./255,\n",
    "      rotation_range=10,\n",
    "      width_shift_range=0.2,\n",
    "      height_shift_range=0.2,\n",
    "      shear_range=0.2,\n",
    "      zoom_range=0.1,\n",
    "      horizontal_flip=True,\n",
    "      vertical_flip=False)\n",
    "\n",
    "train_generator = train_datagen.flow_from_directory(\n",
    "        train_path, target_size = dimension,\n",
    "        batch_size = batch,\n",
    "        class_mode=\"categorical\")\n",
    "\n",
    "val_generator = val_datagen.flow_from_directory(\n",
    "        val_path, target_size = dimension,\n",
    "        batch_size =batch,\n",
    "        class_mode=\"categorical\")\n",
    "\n",
    "test_generator = test_datagen.flow_from_directory(\n",
    "        test_path, target_size = dimension,\n",
    "        batch_size = batch,\n",
    "        shuffle=False,\n",
    "        class_mode=\"categorical\")"
   ]
  },
  {
   "cell_type": "code",
   "execution_count": 165,
   "metadata": {},
   "outputs": [],
   "source": [
    "# print('This is the number of trainable weights '\n",
    "#       'before freezing the conv base:', len(model.trainable_weights))\n",
    "# conv_base.trainable = False\n",
    "# print('This is the number of trainable weights '\n",
    "#       'after freezing the conv base:', len(model.trainable_weights))\n",
    "model.compile(optimizer='SGD',\n",
    "              loss='binary_crossentropy',\n",
    "              metrics=['accuracy'])"
   ]
  },
  {
   "cell_type": "markdown",
   "metadata": {
    "id": "fbbJkHcYjjkW"
   },
   "source": [
    "Fit the model"
   ]
  },
  {
   "cell_type": "code",
   "execution_count": 166,
   "metadata": {
    "id": "1Pmn4yNdjjkY",
    "scrolled": true
   },
   "outputs": [
    {
     "name": "stdout",
     "output_type": "stream",
     "text": [
      "Epoch 1/30\n",
      "81/81 [==============================] - 38s 470ms/step - loss: 0.3760 - accuracy: 0.8449 - val_loss: 0.3110 - val_accuracy: 0.8808\n",
      "Epoch 2/30\n",
      "81/81 [==============================] - 21s 263ms/step - loss: 0.2440 - accuracy: 0.9001 - val_loss: 0.3029 - val_accuracy: 0.9042\n",
      "Epoch 3/30\n",
      " 8/81 [=>............................] - ETA: 17s - loss: 0.2172 - accuracy: 0.9250"
     ]
    },
    {
     "ename": "KeyboardInterrupt",
     "evalue": "",
     "output_type": "error",
     "traceback": [
      "\u001b[0;31m---------------------------------------------------------------------------\u001b[0m",
      "\u001b[0;31mKeyboardInterrupt\u001b[0m                         Traceback (most recent call last)",
      "\u001b[0;32m<ipython-input-166-2e2e1ec5f65a>\u001b[0m in \u001b[0;36m<module>\u001b[0;34m\u001b[0m\n\u001b[1;32m      4\u001b[0m                                    \u001b[0mepochs\u001b[0m \u001b[0;34m=\u001b[0m \u001b[0mEPOCHS\u001b[0m\u001b[0;34m,\u001b[0m\u001b[0;34m\u001b[0m\u001b[0;34m\u001b[0m\u001b[0m\n\u001b[1;32m      5\u001b[0m                                    \u001b[0mvalidation_data\u001b[0m \u001b[0;34m=\u001b[0m \u001b[0mval_generator\u001b[0m\u001b[0;34m,\u001b[0m\u001b[0;34m\u001b[0m\u001b[0;34m\u001b[0m\u001b[0m\n\u001b[0;32m----> 6\u001b[0;31m                                    validation_steps = VALIDATION_STEPS)\n\u001b[0m",
      "\u001b[0;32m~/anaconda3/lib/python3.7/site-packages/keras/legacy/interfaces.py\u001b[0m in \u001b[0;36mwrapper\u001b[0;34m(*args, **kwargs)\u001b[0m\n\u001b[1;32m     89\u001b[0m                 warnings.warn('Update your `' + object_name + '` call to the ' +\n\u001b[1;32m     90\u001b[0m                               'Keras 2 API: ' + signature, stacklevel=2)\n\u001b[0;32m---> 91\u001b[0;31m             \u001b[0;32mreturn\u001b[0m \u001b[0mfunc\u001b[0m\u001b[0;34m(\u001b[0m\u001b[0;34m*\u001b[0m\u001b[0margs\u001b[0m\u001b[0;34m,\u001b[0m \u001b[0;34m**\u001b[0m\u001b[0mkwargs\u001b[0m\u001b[0;34m)\u001b[0m\u001b[0;34m\u001b[0m\u001b[0;34m\u001b[0m\u001b[0m\n\u001b[0m\u001b[1;32m     92\u001b[0m         \u001b[0mwrapper\u001b[0m\u001b[0;34m.\u001b[0m\u001b[0m_original_function\u001b[0m \u001b[0;34m=\u001b[0m \u001b[0mfunc\u001b[0m\u001b[0;34m\u001b[0m\u001b[0;34m\u001b[0m\u001b[0m\n\u001b[1;32m     93\u001b[0m         \u001b[0;32mreturn\u001b[0m \u001b[0mwrapper\u001b[0m\u001b[0;34m\u001b[0m\u001b[0;34m\u001b[0m\u001b[0m\n",
      "\u001b[0;32m~/anaconda3/lib/python3.7/site-packages/keras/engine/training.py\u001b[0m in \u001b[0;36mfit_generator\u001b[0;34m(self, generator, steps_per_epoch, epochs, verbose, callbacks, validation_data, validation_steps, validation_freq, class_weight, max_queue_size, workers, use_multiprocessing, shuffle, initial_epoch)\u001b[0m\n\u001b[1;32m   1730\u001b[0m             \u001b[0muse_multiprocessing\u001b[0m\u001b[0;34m=\u001b[0m\u001b[0muse_multiprocessing\u001b[0m\u001b[0;34m,\u001b[0m\u001b[0;34m\u001b[0m\u001b[0;34m\u001b[0m\u001b[0m\n\u001b[1;32m   1731\u001b[0m             \u001b[0mshuffle\u001b[0m\u001b[0;34m=\u001b[0m\u001b[0mshuffle\u001b[0m\u001b[0;34m,\u001b[0m\u001b[0;34m\u001b[0m\u001b[0;34m\u001b[0m\u001b[0m\n\u001b[0;32m-> 1732\u001b[0;31m             initial_epoch=initial_epoch)\n\u001b[0m\u001b[1;32m   1733\u001b[0m \u001b[0;34m\u001b[0m\u001b[0m\n\u001b[1;32m   1734\u001b[0m     \u001b[0;34m@\u001b[0m\u001b[0minterfaces\u001b[0m\u001b[0;34m.\u001b[0m\u001b[0mlegacy_generator_methods_support\u001b[0m\u001b[0;34m\u001b[0m\u001b[0;34m\u001b[0m\u001b[0m\n",
      "\u001b[0;32m~/anaconda3/lib/python3.7/site-packages/keras/engine/training_generator.py\u001b[0m in \u001b[0;36mfit_generator\u001b[0;34m(model, generator, steps_per_epoch, epochs, verbose, callbacks, validation_data, validation_steps, validation_freq, class_weight, max_queue_size, workers, use_multiprocessing, shuffle, initial_epoch)\u001b[0m\n\u001b[1;32m    218\u001b[0m                                             \u001b[0msample_weight\u001b[0m\u001b[0;34m=\u001b[0m\u001b[0msample_weight\u001b[0m\u001b[0;34m,\u001b[0m\u001b[0;34m\u001b[0m\u001b[0;34m\u001b[0m\u001b[0m\n\u001b[1;32m    219\u001b[0m                                             \u001b[0mclass_weight\u001b[0m\u001b[0;34m=\u001b[0m\u001b[0mclass_weight\u001b[0m\u001b[0;34m,\u001b[0m\u001b[0;34m\u001b[0m\u001b[0;34m\u001b[0m\u001b[0m\n\u001b[0;32m--> 220\u001b[0;31m                                             reset_metrics=False)\n\u001b[0m\u001b[1;32m    221\u001b[0m \u001b[0;34m\u001b[0m\u001b[0m\n\u001b[1;32m    222\u001b[0m                 \u001b[0mouts\u001b[0m \u001b[0;34m=\u001b[0m \u001b[0mto_list\u001b[0m\u001b[0;34m(\u001b[0m\u001b[0mouts\u001b[0m\u001b[0;34m)\u001b[0m\u001b[0;34m\u001b[0m\u001b[0;34m\u001b[0m\u001b[0m\n",
      "\u001b[0;32m~/anaconda3/lib/python3.7/site-packages/keras/engine/training.py\u001b[0m in \u001b[0;36mtrain_on_batch\u001b[0;34m(self, x, y, sample_weight, class_weight, reset_metrics)\u001b[0m\n\u001b[1;32m   1512\u001b[0m             \u001b[0mins\u001b[0m \u001b[0;34m=\u001b[0m \u001b[0mx\u001b[0m \u001b[0;34m+\u001b[0m \u001b[0my\u001b[0m \u001b[0;34m+\u001b[0m \u001b[0msample_weights\u001b[0m\u001b[0;34m\u001b[0m\u001b[0;34m\u001b[0m\u001b[0m\n\u001b[1;32m   1513\u001b[0m         \u001b[0mself\u001b[0m\u001b[0;34m.\u001b[0m\u001b[0m_make_train_function\u001b[0m\u001b[0;34m(\u001b[0m\u001b[0;34m)\u001b[0m\u001b[0;34m\u001b[0m\u001b[0;34m\u001b[0m\u001b[0m\n\u001b[0;32m-> 1514\u001b[0;31m         \u001b[0moutputs\u001b[0m \u001b[0;34m=\u001b[0m \u001b[0mself\u001b[0m\u001b[0;34m.\u001b[0m\u001b[0mtrain_function\u001b[0m\u001b[0;34m(\u001b[0m\u001b[0mins\u001b[0m\u001b[0;34m)\u001b[0m\u001b[0;34m\u001b[0m\u001b[0;34m\u001b[0m\u001b[0m\n\u001b[0m\u001b[1;32m   1515\u001b[0m \u001b[0;34m\u001b[0m\u001b[0m\n\u001b[1;32m   1516\u001b[0m         \u001b[0;32mif\u001b[0m \u001b[0mreset_metrics\u001b[0m\u001b[0;34m:\u001b[0m\u001b[0;34m\u001b[0m\u001b[0;34m\u001b[0m\u001b[0m\n",
      "\u001b[0;32m~/anaconda3/lib/python3.7/site-packages/tensorflow_core/python/keras/backend.py\u001b[0m in \u001b[0;36m__call__\u001b[0;34m(self, inputs)\u001b[0m\n\u001b[1;32m   3725\u001b[0m         \u001b[0mvalue\u001b[0m \u001b[0;34m=\u001b[0m \u001b[0mmath_ops\u001b[0m\u001b[0;34m.\u001b[0m\u001b[0mcast\u001b[0m\u001b[0;34m(\u001b[0m\u001b[0mvalue\u001b[0m\u001b[0;34m,\u001b[0m \u001b[0mtensor\u001b[0m\u001b[0;34m.\u001b[0m\u001b[0mdtype\u001b[0m\u001b[0;34m)\u001b[0m\u001b[0;34m\u001b[0m\u001b[0;34m\u001b[0m\u001b[0m\n\u001b[1;32m   3726\u001b[0m       \u001b[0mconverted_inputs\u001b[0m\u001b[0;34m.\u001b[0m\u001b[0mappend\u001b[0m\u001b[0;34m(\u001b[0m\u001b[0mvalue\u001b[0m\u001b[0;34m)\u001b[0m\u001b[0;34m\u001b[0m\u001b[0;34m\u001b[0m\u001b[0m\n\u001b[0;32m-> 3727\u001b[0;31m     \u001b[0moutputs\u001b[0m \u001b[0;34m=\u001b[0m \u001b[0mself\u001b[0m\u001b[0;34m.\u001b[0m\u001b[0m_graph_fn\u001b[0m\u001b[0;34m(\u001b[0m\u001b[0;34m*\u001b[0m\u001b[0mconverted_inputs\u001b[0m\u001b[0;34m)\u001b[0m\u001b[0;34m\u001b[0m\u001b[0;34m\u001b[0m\u001b[0m\n\u001b[0m\u001b[1;32m   3728\u001b[0m \u001b[0;34m\u001b[0m\u001b[0m\n\u001b[1;32m   3729\u001b[0m     \u001b[0;31m# EagerTensor.numpy() will often make a copy to ensure memory safety.\u001b[0m\u001b[0;34m\u001b[0m\u001b[0;34m\u001b[0m\u001b[0;34m\u001b[0m\u001b[0m\n",
      "\u001b[0;32m~/anaconda3/lib/python3.7/site-packages/tensorflow_core/python/eager/function.py\u001b[0m in \u001b[0;36m__call__\u001b[0;34m(self, *args, **kwargs)\u001b[0m\n\u001b[1;32m   1549\u001b[0m       \u001b[0mTypeError\u001b[0m\u001b[0;34m:\u001b[0m \u001b[0mFor\u001b[0m \u001b[0minvalid\u001b[0m \u001b[0mpositional\u001b[0m\u001b[0;34m/\u001b[0m\u001b[0mkeyword\u001b[0m \u001b[0margument\u001b[0m \u001b[0mcombinations\u001b[0m\u001b[0;34m.\u001b[0m\u001b[0;34m\u001b[0m\u001b[0;34m\u001b[0m\u001b[0m\n\u001b[1;32m   1550\u001b[0m     \"\"\"\n\u001b[0;32m-> 1551\u001b[0;31m     \u001b[0;32mreturn\u001b[0m \u001b[0mself\u001b[0m\u001b[0;34m.\u001b[0m\u001b[0m_call_impl\u001b[0m\u001b[0;34m(\u001b[0m\u001b[0margs\u001b[0m\u001b[0;34m,\u001b[0m \u001b[0mkwargs\u001b[0m\u001b[0;34m)\u001b[0m\u001b[0;34m\u001b[0m\u001b[0;34m\u001b[0m\u001b[0m\n\u001b[0m\u001b[1;32m   1552\u001b[0m \u001b[0;34m\u001b[0m\u001b[0m\n\u001b[1;32m   1553\u001b[0m   \u001b[0;32mdef\u001b[0m \u001b[0m_call_impl\u001b[0m\u001b[0;34m(\u001b[0m\u001b[0mself\u001b[0m\u001b[0;34m,\u001b[0m \u001b[0margs\u001b[0m\u001b[0;34m,\u001b[0m \u001b[0mkwargs\u001b[0m\u001b[0;34m,\u001b[0m \u001b[0mcancellation_manager\u001b[0m\u001b[0;34m=\u001b[0m\u001b[0;32mNone\u001b[0m\u001b[0;34m)\u001b[0m\u001b[0;34m:\u001b[0m\u001b[0;34m\u001b[0m\u001b[0;34m\u001b[0m\u001b[0m\n",
      "\u001b[0;32m~/anaconda3/lib/python3.7/site-packages/tensorflow_core/python/eager/function.py\u001b[0m in \u001b[0;36m_call_impl\u001b[0;34m(self, args, kwargs, cancellation_manager)\u001b[0m\n\u001b[1;32m   1589\u001b[0m       raise TypeError(\"Keyword arguments {} unknown. Expected {}.\".format(\n\u001b[1;32m   1590\u001b[0m           list(kwargs.keys()), list(self._arg_keywords)))\n\u001b[0;32m-> 1591\u001b[0;31m     \u001b[0;32mreturn\u001b[0m \u001b[0mself\u001b[0m\u001b[0;34m.\u001b[0m\u001b[0m_call_flat\u001b[0m\u001b[0;34m(\u001b[0m\u001b[0margs\u001b[0m\u001b[0;34m,\u001b[0m \u001b[0mself\u001b[0m\u001b[0;34m.\u001b[0m\u001b[0mcaptured_inputs\u001b[0m\u001b[0;34m,\u001b[0m \u001b[0mcancellation_manager\u001b[0m\u001b[0;34m)\u001b[0m\u001b[0;34m\u001b[0m\u001b[0;34m\u001b[0m\u001b[0m\n\u001b[0m\u001b[1;32m   1592\u001b[0m \u001b[0;34m\u001b[0m\u001b[0m\n\u001b[1;32m   1593\u001b[0m   \u001b[0;32mdef\u001b[0m \u001b[0m_filtered_call\u001b[0m\u001b[0;34m(\u001b[0m\u001b[0mself\u001b[0m\u001b[0;34m,\u001b[0m \u001b[0margs\u001b[0m\u001b[0;34m,\u001b[0m \u001b[0mkwargs\u001b[0m\u001b[0;34m)\u001b[0m\u001b[0;34m:\u001b[0m\u001b[0;34m\u001b[0m\u001b[0;34m\u001b[0m\u001b[0m\n",
      "\u001b[0;32m~/anaconda3/lib/python3.7/site-packages/tensorflow_core/python/eager/function.py\u001b[0m in \u001b[0;36m_call_flat\u001b[0;34m(self, args, captured_inputs, cancellation_manager)\u001b[0m\n\u001b[1;32m   1690\u001b[0m       \u001b[0;31m# No tape is watching; skip to running the function.\u001b[0m\u001b[0;34m\u001b[0m\u001b[0;34m\u001b[0m\u001b[0;34m\u001b[0m\u001b[0m\n\u001b[1;32m   1691\u001b[0m       return self._build_call_outputs(self._inference_function.call(\n\u001b[0;32m-> 1692\u001b[0;31m           ctx, args, cancellation_manager=cancellation_manager))\n\u001b[0m\u001b[1;32m   1693\u001b[0m     forward_backward = self._select_forward_and_backward_functions(\n\u001b[1;32m   1694\u001b[0m         \u001b[0margs\u001b[0m\u001b[0;34m,\u001b[0m\u001b[0;34m\u001b[0m\u001b[0;34m\u001b[0m\u001b[0m\n",
      "\u001b[0;32m~/anaconda3/lib/python3.7/site-packages/tensorflow_core/python/eager/function.py\u001b[0m in \u001b[0;36mcall\u001b[0;34m(self, ctx, args, cancellation_manager)\u001b[0m\n\u001b[1;32m    543\u001b[0m               \u001b[0minputs\u001b[0m\u001b[0;34m=\u001b[0m\u001b[0margs\u001b[0m\u001b[0;34m,\u001b[0m\u001b[0;34m\u001b[0m\u001b[0;34m\u001b[0m\u001b[0m\n\u001b[1;32m    544\u001b[0m               \u001b[0mattrs\u001b[0m\u001b[0;34m=\u001b[0m\u001b[0;34m(\u001b[0m\u001b[0;34m\"executor_type\"\u001b[0m\u001b[0;34m,\u001b[0m \u001b[0mexecutor_type\u001b[0m\u001b[0;34m,\u001b[0m \u001b[0;34m\"config_proto\"\u001b[0m\u001b[0;34m,\u001b[0m \u001b[0mconfig\u001b[0m\u001b[0;34m)\u001b[0m\u001b[0;34m,\u001b[0m\u001b[0;34m\u001b[0m\u001b[0;34m\u001b[0m\u001b[0m\n\u001b[0;32m--> 545\u001b[0;31m               ctx=ctx)\n\u001b[0m\u001b[1;32m    546\u001b[0m         \u001b[0;32melse\u001b[0m\u001b[0;34m:\u001b[0m\u001b[0;34m\u001b[0m\u001b[0;34m\u001b[0m\u001b[0m\n\u001b[1;32m    547\u001b[0m           outputs = execute.execute_with_cancellation(\n",
      "\u001b[0;32m~/anaconda3/lib/python3.7/site-packages/tensorflow_core/python/eager/execute.py\u001b[0m in \u001b[0;36mquick_execute\u001b[0;34m(op_name, num_outputs, inputs, attrs, ctx, name)\u001b[0m\n\u001b[1;32m     59\u001b[0m     tensors = pywrap_tensorflow.TFE_Py_Execute(ctx._handle, device_name,\n\u001b[1;32m     60\u001b[0m                                                \u001b[0mop_name\u001b[0m\u001b[0;34m,\u001b[0m \u001b[0minputs\u001b[0m\u001b[0;34m,\u001b[0m \u001b[0mattrs\u001b[0m\u001b[0;34m,\u001b[0m\u001b[0;34m\u001b[0m\u001b[0;34m\u001b[0m\u001b[0m\n\u001b[0;32m---> 61\u001b[0;31m                                                num_outputs)\n\u001b[0m\u001b[1;32m     62\u001b[0m   \u001b[0;32mexcept\u001b[0m \u001b[0mcore\u001b[0m\u001b[0;34m.\u001b[0m\u001b[0m_NotOkStatusException\u001b[0m \u001b[0;32mas\u001b[0m \u001b[0me\u001b[0m\u001b[0;34m:\u001b[0m\u001b[0;34m\u001b[0m\u001b[0;34m\u001b[0m\u001b[0m\n\u001b[1;32m     63\u001b[0m     \u001b[0;32mif\u001b[0m \u001b[0mname\u001b[0m \u001b[0;32mis\u001b[0m \u001b[0;32mnot\u001b[0m \u001b[0;32mNone\u001b[0m\u001b[0;34m:\u001b[0m\u001b[0;34m\u001b[0m\u001b[0;34m\u001b[0m\u001b[0m\n",
      "\u001b[0;31mKeyboardInterrupt\u001b[0m: "
     ]
    }
   ],
   "source": [
    "STEPS_PER_EPOCH = train_generator.n // train_generator.batch_size\n",
    "VALIDATION_STEPS = val_generator.n // val_generator.batch_size\n",
    "history = model.fit_generator(train_generator, steps_per_epoch=STEPS_PER_EPOCH,\n",
    "                                   epochs = EPOCHS,\n",
    "                                   validation_data = val_generator,\n",
    "                                   validation_steps = VALIDATION_STEPS)\n"
   ]
  },
  {
   "cell_type": "markdown",
   "metadata": {
    "id": "N70tsjarjjkZ"
   },
   "source": [
    "### Analyzing the fitting performance over epochs"
   ]
  },
  {
   "cell_type": "markdown",
   "metadata": {
    "id": "tP-GExmTjjka"
   },
   "source": [
    "Show the training accuracy along with the epochs"
   ]
  },
  {
   "cell_type": "code",
   "execution_count": 105,
   "metadata": {
    "id": "lqhnXyv5jjkb"
   },
   "outputs": [],
   "source": [
    "# save the model\n",
    "model.save('classifier_pre_aug.h5')"
   ]
  },
  {
   "cell_type": "code",
   "execution_count": 167,
   "metadata": {},
   "outputs": [],
   "source": [
    "model = load_model('classifier_pre_aug.h5')"
   ]
  },
  {
   "cell_type": "code",
   "execution_count": 168,
   "metadata": {},
   "outputs": [
    {
     "data": {
      "image/png": "[encoded data removed]",
      "text/plain": [
       "<Figure size 432x288 with 1 Axes>"
      ]
     },
     "metadata": {
      "needs_background": "light"
     },
     "output_type": "display_data"
    },
    {
     "data": {
      "image/png": "[encoded data removed]",
      "text/plain": [
       "<Figure size 432x288 with 1 Axes>"
      ]
     },
     "metadata": {
      "needs_background": "light"
     },
     "output_type": "display_data"
    }
   ],
   "source": [
    "plot_perf()"
   ]
  },
  {
   "cell_type": "markdown",
   "metadata": {
    "id": "GFbYgUk0jjkc"
   },
   "source": [
    "### Predicting the test set"
   ]
  },
  {
   "cell_type": "markdown",
   "metadata": {
    "id": "_TE57BjLjjkd"
   },
   "source": [
    "Apply now your network to the test set"
   ]
  },
  {
   "cell_type": "code",
   "execution_count": 185,
   "metadata": {
    "id": "ffHDlG8cjjke"
   },
   "outputs": [],
   "source": [
    "# predict\n",
    "y_hat = model.predict_generator(test_generator, steps=test_generator.n//test_generator.batch_size +1, verbose=2)\n",
    "y_hat = y_hat.argmax(1)\n",
    "# true labels\n",
    "y_true = test_generator.classes\n"
   ]
  },
  {
   "cell_type": "markdown",
   "metadata": {
    "id": "m_8gOzSajjkg"
   },
   "source": [
    "Report the accuracy as well as the classification report. Use sklearn functions"
   ]
  },
  {
   "cell_type": "code",
   "execution_count": 186,
   "metadata": {
    "id": "9ycwJjp5jjkh"
   },
   "outputs": [
    {
     "name": "stdout",
     "output_type": "stream",
     "text": [
      "Class indices  {'daisy': 0, 'dandelion': 1, 'rose': 2, 'sunflower': 3, 'tulip': 4}\n",
      "sklearn accuracy: 0.8809248554913295\n",
      "Classification report:\n",
      "               precision    recall  f1-score   support\n",
      "\n",
      "       daisy       0.86      0.85      0.86       162\n",
      "   dandelion       0.89      0.93      0.91       228\n",
      "        rose       0.85      0.84      0.85       152\n",
      "   sunflower       0.91      0.93      0.92       137\n",
      "       tulip       0.88      0.84      0.86       186\n",
      "\n",
      "    accuracy                           0.88       865\n",
      "   macro avg       0.88      0.88      0.88       865\n",
      "weighted avg       0.88      0.88      0.88       865\n",
      "\n"
     ]
    }
   ],
   "source": [
    "print(\"Class indices \", train_generator.class_indices)\n",
    "print(\"sklearn accuracy:\", accuracy_score(y_true, y_hat))\n",
    "print(\"Classification report:\\n\",classification_report(y_true, y_hat, target_names=train_generator.class_indices.keys()))"
   ]
  },
  {
   "cell_type": "markdown",
   "metadata": {
    "id": "wAB1b9LMjjkj"
   },
   "source": [
    "Print the confusion matrix"
   ]
  },
  {
   "cell_type": "code",
   "execution_count": 187,
   "metadata": {
    "id": "S4qnuudwjjkl"
   },
   "outputs": [
    {
     "name": "stdout",
     "output_type": "stream",
     "text": [
      "Classification report:\n",
      " [[138   8   5   1  10]\n",
      " [ 10 211   4   2   1]\n",
      " [  4   4 128   5  11]\n",
      " [  3   5   1 128   0]\n",
      " [  5   8  12   4 157]]\n"
     ]
    }
   ],
   "source": [
    "print(\"Classification report:\\n\", confusion_matrix(y_true, y_hat))"
   ]
  },
  {
   "cell_type": "markdown",
   "metadata": {
    "id": "4FJoURNfjjko"
   },
   "source": [
    "Finally, run a model evaluation and store the loss and accuracy in the `test_loss_4` and `test_acc_4` variables. As with fitting, you may need to adjust the number of steps so that your network tests all the samples."
   ]
  },
  {
   "cell_type": "code",
   "execution_count": 188,
   "metadata": {
    "id": "8ZMsfx-Njjko"
   },
   "outputs": [
    {
     "data": {
      "text/plain": [
       "(0.35698193311691284, 0.9537572264671326)"
      ]
     },
     "execution_count": 188,
     "metadata": {},
     "output_type": "execute_result"
    }
   ],
   "source": [
    "test_loss_4, test_acc_4 = model.evaluate_generator(test_generator, steps=test_generator.n//test_generator.batch_size +1)\n",
    "test_loss_4, test_acc_4"
   ]
  },
  {
   "cell_type": "markdown",
   "metadata": {
    "id": "XIYpdt2ojjkr"
   },
   "source": [
    "## Passing the Assignment"
   ]
  },
  {
   "cell_type": "markdown",
   "metadata": {
    "id": "g9IXUGYjjjks"
   },
   "source": [
    "To pass the assignment, you need to reach an accuracy of 75 (even 80 ideally) with your best network."
   ]
  },
  {
   "cell_type": "code",
   "execution_count": 162,
   "metadata": {
    "id": "m0Bjry7ajjks"
   },
   "outputs": [
    {
     "data": {
      "text/plain": [
       "((0.42597150802612305, 0.6890173554420471),\n",
       " (0.40577325224876404, 0.7861271500587463),\n",
       " (0.4943826881687849, 0.957456648349762),\n",
       " (0.35698193311691284, 0.9537572264671326))"
      ]
     },
     "execution_count": 162,
     "metadata": {},
     "output_type": "execute_result"
    }
   ],
   "source": [
    "(test_loss_1, test_acc_1), (test_loss_2, test_acc_2), (test_loss_3, test_acc_3), (test_loss_4, test_acc_4)"
   ]
  },
  {
   "cell_type": "markdown",
   "metadata": {
    "id": "dLZCqw7wjjku"
   },
   "source": [
    "## Report"
   ]
  },
  {
   "cell_type": "markdown",
   "metadata": {
    "id": "84_j_4M4jjkv"
   },
   "source": [
    "You will write a short report of about two pages on your experiments:\n",
    "1. You will describe the architectures you designed and the results you obtained;\n",
    "2. You will run Chollet's notebook 5.4 and read the article _Grad-CAM: Visual Explanations from Deep Networks via Gradient-based Localization_ by Selvaraju et al. From this, you will reformulate and comment the paragraph on _Visualizing heatmaps of class activation_ in the notebook. \n",
    "3. You will run it on one of your images.\n",
    "\n",
    "You will submit this report through Canvas."
   ]
  },
  {
   "cell_type": "code",
   "execution_count": null,
   "metadata": {
    "id": "uKIL2r6Ojjkv"
   },
   "outputs": [],
   "source": []
  }
 ],
 "metadata": {
  "accelerator": "GPU",
  "colab": {
   "collapsed_sections": [
    "fc2LwqFYjjiu",
    "_DWJMbqhjji7",
    "B7LjAj8DjjjQ",
    "qByVL0-hjjjY",
    "ySF0Lxd3jjje",
    "Wf1fMeCKjjjk",
    "a4QoySMKjjj6",
    "iO2E-jVGjjj-",
    "uW77m9ikjjkL",
    "N70tsjarjjkZ",
    "GFbYgUk0jjkc"
   ],
   "name": "cnn.ipynb",
   "provenance": [],
   "toc_visible": true
  },
  "kernelspec": {
   "display_name": "Python 3",
   "language": "python",
   "name": "python3"
  },
  "language_info": {
   "codemirror_mode": {
    "name": "ipython",
    "version": 3
   },
   "file_extension": ".py",
   "mimetype": "text/x-python",
   "name": "python",
   "nbconvert_exporter": "python",
   "pygments_lexer": "ipython3",
   "version": "3.7.3"
  }
 },
 "nbformat": 4,
 "nbformat_minor": 1
}

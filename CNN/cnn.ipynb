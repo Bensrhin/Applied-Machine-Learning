{
 "cells": [
  {
   "cell_type": "markdown",
   "metadata": {
    "id": "uF_925d7jjhI"
   },
   "source": [
    "# Programming Assignment #3: Convolutional Networks"
   ]
  },
  {
   "cell_type": "markdown",
   "metadata": {
    "id": "YQ93I01Ojjhc"
   },
   "source": [
    "## Collecting a Dataset"
   ]
  },
  {
   "cell_type": "markdown",
   "metadata": {
    "id": "uffBSr0Qjjhe"
   },
   "source": [
    "You will collect a dataset from Kaggle (https://www.kaggle.com/alxmamaev/flowers-recognition )."
   ]
  },
  {
   "cell_type": "code",
   "execution_count": 1,
   "metadata": {
    "id": "77hdBvQmjjhg"
   },
   "outputs": [],
   "source": [
    "import os\n",
    "import random\n",
    "import shutil\n",
    "from tqdm import tqdm\n",
    "# To create the same dataset\n",
    "random.seed(0)"
   ]
  },
  {
   "cell_type": "code",
   "execution_count": 25,
   "metadata": {},
   "outputs": [
    {
     "name": "stdout",
     "output_type": "stream",
     "text": [
      "Num GPUs Available:  1\n"
     ]
    }
   ],
   "source": [
    "# making sure that we use GPU\n",
    "from __future__ import absolute_import, division, print_function, unicode_literals\n",
    "import tensorflow as tf\n",
    "print(\"Num GPUs Available: \", len(tf.config.experimental.list_physical_devices('GPU')))"
   ]
  },
  {
   "cell_type": "code",
   "execution_count": 2,
   "metadata": {
    "id": "0vSvnFCYjjhy"
   },
   "outputs": [],
   "source": [
    "# replace it with your directory path\n",
    "base = '/home/nabil/Bureau/3A/courses/machine_learning/lab/lab_2020/Applied-Machine-Learning/CNN'"
   ]
  },
  {
   "cell_type": "code",
   "execution_count": 3,
   "metadata": {
    "colab": {
     "base_uri": "https://localhost:8080/"
    },
    "id": "bdR3LVK2jjh5",
    "outputId": "0468ab22-ddf4-4a48-e670-6e46c67d0184"
   },
   "outputs": [
    {
     "name": "stdout",
     "output_type": "stream",
     "text": [
      "Image types: ['dandelion', 'daisy', 'tulip', 'sunflower', 'rose']\n"
     ]
    }
   ],
   "source": [
    "original_dataset_dir = os.path.join(base, 'flowers')\n",
    "dataset = os.path.join(base, 'flowers_split')\n",
    "\n",
    "train_dir = os.path.join(dataset, 'train')\n",
    "validation_dir = os.path.join(dataset, 'validation')\n",
    "test_dir = os.path.join(dataset, 'test')\n",
    "\n",
    "categories = os.listdir(original_dataset_dir)\n",
    "categories = [category for category in categories if not category.startswith('.')]\n",
    "print('Image types:', categories)\n",
    "data_folders = [os.path.join(original_dataset_dir, category) for category in categories]"
   ]
  },
  {
   "cell_type": "markdown",
   "metadata": {
    "id": "4JieqDfMjjh_"
   },
   "source": [
    "We build the (image, label) pairs"
   ]
  },
  {
   "cell_type": "code",
   "execution_count": 4,
   "metadata": {
    "colab": {
     "base_uri": "https://localhost:8080/"
    },
    "id": "VLH0FDzAjjiB",
    "outputId": "b08a8bcd-df41-4070-d00c-c9561ce488a5"
   },
   "outputs": [],
   "source": [
    "pairs = []\n",
    "for folder, category in zip(data_folders, categories):\n",
    "    images = os.listdir(folder)\n",
    "    images = [image for image in images if not image.startswith('.')]\n",
    "    pairs.extend([(image, category) for image in images])"
   ]
  },
  {
   "cell_type": "markdown",
   "metadata": {
    "id": "HPUM6sJbjjiH"
   },
   "source": [
    "We define a split. We will run this part only once to create the partition into training, validation, and test sets."
   ]
  },
  {
   "cell_type": "code",
   "execution_count": 5,
   "metadata": {
    "id": "UEF4UFuEjjiI"
   },
   "outputs": [],
   "source": [
    "if not os.path.isdir(dataset):\n",
    "    random.shuffle(pairs)\n",
    "    img_nbr = len(pairs)\n",
    "    train_images = pairs[0:int(0.6 * img_nbr)]\n",
    "    val_images = pairs[int(0.6 * img_nbr):int(0.8 * img_nbr)]\n",
    "    test_images = pairs[int(0.8 * img_nbr):]"
   ]
  },
  {
   "cell_type": "markdown",
   "metadata": {
    "id": "BkNEykb4jjiM"
   },
   "source": [
    "We create the three subsets. We will run this part only once to create the partition into training, validation, and test sets."
   ]
  },
  {
   "cell_type": "code",
   "execution_count": 6,
   "metadata": {
    "id": "MLKCa4PXjjiO"
   },
   "outputs": [],
   "source": [
    "if not os.path.isdir(dataset):\n",
    "    for image, label in tqdm(train_images):\n",
    "        src = os.path.join(original_dataset_dir, label, image)\n",
    "        dst = os.path.join(train_dir, label, image)\n",
    "        os.makedirs(os.path.dirname(dst), exist_ok=True)\n",
    "        shutil.copyfile(src, dst)\n",
    "\n",
    "    for image, label in tqdm(val_images):\n",
    "        src = os.path.join(original_dataset_dir, label, image)\n",
    "        dst = os.path.join(validation_dir, label, image)\n",
    "        os.makedirs(os.path.dirname(dst), exist_ok=True)\n",
    "        shutil.copyfile(src, dst)\n",
    "\n",
    "    for image, label in tqdm(test_images):\n",
    "        src = os.path.join(original_dataset_dir, label, image)\n",
    "        dst = os.path.join(test_dir, label, image)\n",
    "        os.makedirs(os.path.dirname(dst), exist_ok=True)\n",
    "        shutil.copyfile(src, dst)"
   ]
  },
  {
   "cell_type": "code",
   "execution_count": 7,
   "metadata": {
    "colab": {
     "base_uri": "https://localhost:8080/",
     "height": 238
    },
    "id": "HS_9IKXZ8crS",
    "outputId": "ca8f88ea-dcaf-4a29-f87e-3ec19dbfbbbe"
   },
   "outputs": [],
   "source": [
    "# The target shape\n",
    "dimension = (150, 150)\n",
    "dimensions = (150, 150, 3)"
   ]
  },
  {
   "cell_type": "markdown",
   "metadata": {
    "id": "OJqAEOp9jjiR"
   },
   "source": [
    "## Building a Simple Convolutional Neural Network"
   ]
  },
  {
   "cell_type": "markdown",
   "metadata": {
    "id": "ebYSKiX2jjiT"
   },
   "source": [
    "### Architecture"
   ]
  },
  {
   "cell_type": "markdown",
   "metadata": {
    "id": "ydASfD39jjiU"
   },
   "source": [
    "Create a simple convolutional network and train a model with the train set. You can start from the architecture proposed by Chollet, Listing 5.5 (in Chollet's notebook 5.2), and a small number of epochs. Use the `ImageDataGenerator` class to scale your images as in the book:\n",
    "```\n",
    "train_datagen = ImageDataGenerator(rescale=1. / 255)\n",
    "val_datagen = ImageDataGenerator(rescale=1. / 255)\n",
    "test_datagen = ImageDataGenerator(rescale=1. / 255)\n",
    "```\n",
    "* You will need to modify some parameters so that your network handles multiple classes.\n",
    "* You will also adjust the number of steps so that your generator in the fitting procedure sees all the samples.\n",
    "* You will report the training and validation losses and accuracies and comment on the possible overfit."
   ]
  },
  {
   "cell_type": "code",
   "execution_count": 8,
   "metadata": {
    "id": "wdmKZvssjjiV"
   },
   "outputs": [],
   "source": [
    "import numpy as np\n",
    "from sklearn.metrics import classification_report, confusion_matrix, accuracy_score\n",
    "import matplotlib.pyplot as plt\n",
    "from keras import layers\n",
    "from keras import models\n",
    "from keras import optimizers\n",
    "from keras.preprocessing.image import ImageDataGenerator\n",
    "from keras.models import load_model\n",
    "EPOCHS = 30\n",
    "OPTIMIZER = 'rmsprop'\n",
    "# The pretrained network\n",
    "PRETRAINED = 'INCEPTION'"
   ]
  },
  {
   "cell_type": "code",
   "execution_count": 9,
   "metadata": {},
   "outputs": [],
   "source": [
    "# Data preprocessing\n",
    "train_path = os.path.join(dataset, 'train')\n",
    "test_path = os.path.join(dataset, 'test')\n",
    "val_path = os.path.join(dataset, 'validation')"
   ]
  },
  {
   "cell_type": "markdown",
   "metadata": {
    "id": "sa7qrJcajjiZ"
   },
   "source": [
    "Create the network and compile it"
   ]
  },
  {
   "cell_type": "code",
   "execution_count": 10,
   "metadata": {
    "id": "-3q6k3MawQRc"
   },
   "outputs": [],
   "source": [
    "classifier = models.Sequential()\n",
    "classifier.add(layers.Conv2D(filters = 32, kernel_size = 3, input_shape = dimensions))\n",
    "classifier.add(layers.MaxPooling2D(pool_size = (2, 2)))\n",
    "classifier.add(layers.Conv2D(filters = 64, kernel_size = 3 , activation='relu'))\n",
    "classifier.add(layers.MaxPooling2D(pool_size = (2, 2)))\n",
    "classifier.add(layers.Conv2D(filters = 128, kernel_size = 3, activation='relu'))\n",
    "classifier.add(layers.MaxPooling2D(pool_size = (2, 2)))\n",
    "classifier.add(layers.Conv2D(filters = 128, kernel_size = 3, activation='relu'))\n",
    "classifier.add(layers.MaxPooling2D(pool_size = (2, 2)))\n",
    "classifier.add(layers.Flatten())\n",
    "classifier.add(layers.Dense(units = 512, activation='relu'))\n",
    "classifier.add(layers.Dense(units = 5, activation='softmax'))\n",
    "classifier.compile(optimizer = OPTIMIZER,\n",
    "                    loss = 'categorical_crossentropy',\n",
    "                    metrics = ['accuracy'])"
   ]
  },
  {
   "cell_type": "markdown",
   "metadata": {
    "id": "GgLY1Rgujjie"
   },
   "source": [
    "Create now the data generators for the training, validation, and test set"
   ]
  },
  {
   "cell_type": "code",
   "execution_count": 11,
   "metadata": {
    "colab": {
     "base_uri": "https://localhost:8080/"
    },
    "id": "Su6DQ__jRvH0",
    "outputId": "9c512047-b8fc-4c04-8ba1-f965b9d5c611"
   },
   "outputs": [
    {
     "name": "stdout",
     "output_type": "stream",
     "text": [
      "Found 2595 images belonging to 5 classes.\n",
      "Found 863 images belonging to 5 classes.\n",
      "Found 865 images belonging to 5 classes.\n"
     ]
    }
   ],
   "source": [
    "# normalizing and scaling data\n",
    "train_datagen = ImageDataGenerator(rescale=1. / 255)\n",
    "val_datagen = ImageDataGenerator(rescale=1. / 255)\n",
    "test_datagen = ImageDataGenerator(rescale=1. / 255)\n",
    "\n",
    "train_generator = train_datagen.flow_from_directory(\n",
    "        train_path, target_size = dimension,\n",
    "        batch_size = 20,\n",
    "        class_mode=\"categorical\")\n",
    "\n",
    "val_generator = val_datagen.flow_from_directory(\n",
    "        val_path, target_size = dimension,\n",
    "        batch_size = 20,\n",
    "        class_mode=\"categorical\")\n",
    "\n",
    "test_generator = test_datagen.flow_from_directory(\n",
    "        test_path, target_size = dimension,\n",
    "        batch_size = 20,\n",
    "        shuffle=False,\n",
    "        class_mode=\"categorical\")\n"
   ]
  },
  {
   "cell_type": "markdown",
   "metadata": {
    "id": "fE-bW-c1jjij"
   },
   "source": [
    "Compute `STEPS_PER_EPOCH` and `VALIDATION_STEPS`"
   ]
  },
  {
   "cell_type": "code",
   "execution_count": 12,
   "metadata": {
    "colab": {
     "base_uri": "https://localhost:8080/"
    },
    "id": "ZTG_8zf1jjil",
    "outputId": "e1769788-de44-4bb8-b7a9-aa322545fb93"
   },
   "outputs": [],
   "source": [
    "STEPS_PER_EPOCH = train_generator.n // train_generator.batch_size\n",
    "VALIDATION_STEPS = val_generator.n // val_generator.batch_size"
   ]
  },
  {
   "cell_type": "markdown",
   "metadata": {
    "id": "LjajUd17jjip"
   },
   "source": [
    "And fit your model"
   ]
  },
  {
   "cell_type": "code",
   "execution_count": 13,
   "metadata": {
    "colab": {
     "base_uri": "https://localhost:8080/"
    },
    "id": "bTM1sk-Kjjiq",
    "outputId": "918b7188-402c-468d-9bd0-d641bdff9abf",
    "scrolled": true
   },
   "outputs": [
    {
     "name": "stdout",
     "output_type": "stream",
     "text": [
      "WARNING:tensorflow:From <ipython-input-13-7c13bd176803>:4: Model.fit_generator (from tensorflow.python.keras.engine.training) is deprecated and will be removed in a future version.\n",
      "Instructions for updating:\n",
      "Please use Model.fit, which supports generators.\n",
      "Epoch 1/30\n",
      "129/129 [==============================] - 10s 81ms/step - loss: 1.4440 - accuracy: 0.4043 - val_loss: 1.1818 - val_accuracy: 0.4686\n",
      "Epoch 2/30\n",
      "129/129 [==============================] - 7s 52ms/step - loss: 1.0892 - accuracy: 0.5588 - val_loss: 0.9525 - val_accuracy: 0.6349\n",
      "Epoch 3/30\n",
      "129/129 [==============================] - 7s 52ms/step - loss: 0.9248 - accuracy: 0.6365 - val_loss: 0.9141 - val_accuracy: 0.6314\n",
      "Epoch 4/30\n",
      "129/129 [==============================] - 7s 52ms/step - loss: 0.7884 - accuracy: 0.7111 - val_loss: 0.9135 - val_accuracy: 0.6523\n",
      "Epoch 5/30\n",
      "129/129 [==============================] - 7s 52ms/step - loss: 0.6965 - accuracy: 0.7511 - val_loss: 0.8429 - val_accuracy: 0.6779\n",
      "Epoch 6/30\n",
      "129/129 [==============================] - 7s 52ms/step - loss: 0.5359 - accuracy: 0.7988 - val_loss: 1.0240 - val_accuracy: 0.6721\n",
      "Epoch 7/30\n",
      "129/129 [==============================] - 7s 52ms/step - loss: 0.4197 - accuracy: 0.8505 - val_loss: 1.0919 - val_accuracy: 0.6512\n",
      "Epoch 8/30\n",
      "129/129 [==============================] - 7s 52ms/step - loss: 0.2987 - accuracy: 0.8979 - val_loss: 1.2955 - val_accuracy: 0.6860\n",
      "Epoch 9/30\n",
      "129/129 [==============================] - 7s 52ms/step - loss: 0.2397 - accuracy: 0.9254 - val_loss: 1.5030 - val_accuracy: 0.6628\n",
      "Epoch 10/30\n",
      "129/129 [==============================] - 7s 52ms/step - loss: 0.1988 - accuracy: 0.9452 - val_loss: 1.9657 - val_accuracy: 0.6302\n",
      "Epoch 11/30\n",
      "129/129 [==============================] - 7s 52ms/step - loss: 0.1477 - accuracy: 0.9534 - val_loss: 1.9731 - val_accuracy: 0.6674\n",
      "Epoch 12/30\n",
      "129/129 [==============================] - 7s 52ms/step - loss: 0.1506 - accuracy: 0.9619 - val_loss: 2.7440 - val_accuracy: 0.5965\n",
      "Epoch 13/30\n",
      "129/129 [==============================] - 7s 52ms/step - loss: 0.0978 - accuracy: 0.9678 - val_loss: 2.4276 - val_accuracy: 0.6616\n",
      "Epoch 14/30\n",
      "129/129 [==============================] - 7s 53ms/step - loss: 0.1095 - accuracy: 0.9736 - val_loss: 2.8039 - val_accuracy: 0.6547\n",
      "Epoch 15/30\n",
      "129/129 [==============================] - 7s 53ms/step - loss: 0.1226 - accuracy: 0.9748 - val_loss: 3.1691 - val_accuracy: 0.6128\n",
      "Epoch 16/30\n",
      "129/129 [==============================] - 7s 53ms/step - loss: 0.1071 - accuracy: 0.9790 - val_loss: 2.7242 - val_accuracy: 0.6442\n",
      "Epoch 17/30\n",
      "129/129 [==============================] - 7s 54ms/step - loss: 0.1132 - accuracy: 0.9790 - val_loss: 2.8543 - val_accuracy: 0.6407\n",
      "Epoch 18/30\n",
      "129/129 [==============================] - 7s 53ms/step - loss: 0.1020 - accuracy: 0.9806 - val_loss: 2.6162 - val_accuracy: 0.6593\n",
      "Epoch 19/30\n",
      "129/129 [==============================] - 7s 54ms/step - loss: 0.1016 - accuracy: 0.9751 - val_loss: 5.1148 - val_accuracy: 0.6000\n",
      "Epoch 20/30\n",
      "129/129 [==============================] - 7s 54ms/step - loss: 0.1023 - accuracy: 0.9806 - val_loss: 3.4829 - val_accuracy: 0.6407\n",
      "Epoch 21/30\n",
      "129/129 [==============================] - 7s 55ms/step - loss: 0.0836 - accuracy: 0.9829 - val_loss: 3.7436 - val_accuracy: 0.6640\n",
      "Epoch 22/30\n",
      "129/129 [==============================] - 7s 54ms/step - loss: 0.0864 - accuracy: 0.9806 - val_loss: 4.4807 - val_accuracy: 0.6570\n",
      "Epoch 23/30\n",
      "129/129 [==============================] - 7s 57ms/step - loss: 0.1910 - accuracy: 0.9744 - val_loss: 3.9059 - val_accuracy: 0.6337\n",
      "Epoch 24/30\n",
      "129/129 [==============================] - 7s 54ms/step - loss: 0.1209 - accuracy: 0.9810 - val_loss: 3.7540 - val_accuracy: 0.5826\n",
      "Epoch 25/30\n",
      "129/129 [==============================] - 7s 54ms/step - loss: 0.0948 - accuracy: 0.9814 - val_loss: 4.1512 - val_accuracy: 0.6081\n",
      "Epoch 26/30\n",
      "129/129 [==============================] - 7s 54ms/step - loss: 0.1079 - accuracy: 0.9825 - val_loss: 4.2346 - val_accuracy: 0.6488\n",
      "Epoch 27/30\n",
      "129/129 [==============================] - 7s 54ms/step - loss: 0.0972 - accuracy: 0.9825 - val_loss: 6.3681 - val_accuracy: 0.6337\n",
      "Epoch 28/30\n",
      "129/129 [==============================] - 7s 55ms/step - loss: 0.1072 - accuracy: 0.9779 - val_loss: 5.7882 - val_accuracy: 0.6535\n",
      "Epoch 29/30\n",
      "129/129 [==============================] - 7s 55ms/step - loss: 0.1150 - accuracy: 0.9802 - val_loss: 4.5509 - val_accuracy: 0.6488\n",
      "Epoch 30/30\n",
      "129/129 [==============================] - 7s 56ms/step - loss: 0.1176 - accuracy: 0.9814 - val_loss: 5.6062 - val_accuracy: 0.6174\n"
     ]
    }
   ],
   "source": [
    "history = classifier.fit_generator(train_generator, steps_per_epoch=STEPS_PER_EPOCH,\n",
    "                                   epochs = EPOCHS,\n",
    "                                   validation_data = val_generator,\n",
    "                                   validation_steps = VALIDATION_STEPS)"
   ]
  },
  {
   "cell_type": "code",
   "execution_count": 14,
   "metadata": {},
   "outputs": [],
   "source": [
    "# save the model\n",
    "classifier.save('classifier_1.h5')"
   ]
  },
  {
   "cell_type": "code",
   "execution_count": 15,
   "metadata": {},
   "outputs": [],
   "source": [
    "classifier = load_model('classifier_2.h5')"
   ]
  },
  {
   "cell_type": "code",
   "execution_count": 16,
   "metadata": {},
   "outputs": [
    {
     "data": {
      "text/plain": [
       "dict_keys(['loss', 'accuracy', 'val_loss', 'val_accuracy'])"
      ]
     },
     "execution_count": 16,
     "metadata": {},
     "output_type": "execute_result"
    }
   ],
   "source": [
    "history.history.keys()"
   ]
  },
  {
   "cell_type": "markdown",
   "metadata": {
    "id": "fc2LwqFYjjiu"
   },
   "source": [
    "### Analyzing the fitting performance over epochs"
   ]
  },
  {
   "cell_type": "markdown",
   "metadata": {
    "id": "z2evFskBjjiv"
   },
   "source": [
    "As in Chollet's examples, print the training and validation loss"
   ]
  },
  {
   "cell_type": "code",
   "execution_count": 17,
   "metadata": {},
   "outputs": [
    {
     "data": {
      "image/png": "[encoded data removed]",
      "text/plain": [
       "<Figure size 432x288 with 1 Axes>"
      ]
     },
     "metadata": {
      "needs_background": "light"
     },
     "output_type": "display_data"
    },
    {
     "data": {
      "image/png": "[encoded data removed]",
      "text/plain": [
       "<Figure size 432x288 with 1 Axes>"
      ]
     },
     "metadata": {
      "needs_background": "light"
     },
     "output_type": "display_data"
    }
   ],
   "source": [
    "def plot_perf():\n",
    "    acc = history.history['accuracy']\n",
    "    val_acc = history.history['val_accuracy']\n",
    "    loss = history.history['loss']\n",
    "    val_loss = history.history['val_loss']\n",
    "\n",
    "    epochs = range(len(acc))\n",
    "\n",
    "    plt.plot(epochs, acc, 'bo', label='Training acc')\n",
    "    plt.plot(epochs, val_acc, 'b', label='Validation acc')\n",
    "    plt.title('Training and validation accuracy')\n",
    "    plt.legend()\n",
    "\n",
    "    plt.figure()\n",
    "\n",
    "    plt.plot(epochs, loss, 'bo', label='Training loss')\n",
    "    plt.plot(epochs, val_loss, 'b', label='Validation loss')\n",
    "    plt.title('Training and validation loss')\n",
    "    plt.legend()\n",
    "\n",
    "    plt.show()\n",
    "plot_perf()"
   ]
  },
  {
   "cell_type": "markdown",
   "metadata": {
    "id": "_DWJMbqhjji7"
   },
   "source": [
    "### Predicting the test set"
   ]
  },
  {
   "cell_type": "markdown",
   "metadata": {
    "id": "GbsxtwlZjji9"
   },
   "source": [
    "Apply now your network to the test set"
   ]
  },
  {
   "cell_type": "code",
   "execution_count": 19,
   "metadata": {
    "id": "bCj9Tsecjji-"
   },
   "outputs": [],
   "source": [
    "# predict\n",
    "y_hat = classifier.predict_generator(test_generator, test_generator.n//test_generator.batch_size +1)\n",
    "y_hat = np.argmax(y_hat, axis=1)\n",
    "\n",
    "# true labels\n",
    "y_true = test_generator.classes"
   ]
  },
  {
   "cell_type": "markdown",
   "metadata": {
    "id": "bqgR36BLjjjB"
   },
   "source": [
    "Report the accuracy as well as the classification report. Use sklearn functions"
   ]
  },
  {
   "cell_type": "code",
   "execution_count": 20,
   "metadata": {
    "id": "pjQnsam5jjjC"
   },
   "outputs": [
    {
     "name": "stdout",
     "output_type": "stream",
     "text": [
      "Simple CNN\n",
      "Class indices  {'daisy': 0, 'dandelion': 1, 'rose': 2, 'sunflower': 3, 'tulip': 4}\n",
      "sklearn accuracy: 0.6358381502890174\n",
      "Classification report:\n",
      "               precision    recall  f1-score   support\n",
      "\n",
      "           0       0.65      0.56      0.60       162\n",
      "           1       0.71      0.75      0.72       228\n",
      "           2       0.55      0.44      0.49       152\n",
      "           3       0.61      0.74      0.67       137\n",
      "           4       0.61      0.66      0.63       186\n",
      "\n",
      "    accuracy                           0.64       865\n",
      "   macro avg       0.63      0.63      0.62       865\n",
      "weighted avg       0.63      0.64      0.63       865\n",
      "\n"
     ]
    }
   ],
   "source": [
    "print('Simple CNN')\n",
    "print(\"Class indices \", train_generator.class_indices)\n",
    "print(\"sklearn accuracy:\", accuracy_score(y_true, y_hat))\n",
    "print(\"Classification report:\\n\",classification_report(y_true, y_hat))"
   ]
  },
  {
   "cell_type": "markdown",
   "metadata": {
    "id": "ICk-qsztjjjG"
   },
   "source": [
    "Print the confusion matrix"
   ]
  },
  {
   "cell_type": "code",
   "execution_count": 21,
   "metadata": {
    "id": "5b0JU2vGjjjG"
   },
   "outputs": [
    {
     "name": "stdout",
     "output_type": "stream",
     "text": [
      "[[ 90  26  12  22  12]\n",
      " [ 20 170   7  24   7]\n",
      " [ 13  12  67   9  51]\n",
      " [  6  19   4 101   7]\n",
      " [  9  14  32   9 122]]\n"
     ]
    }
   ],
   "source": [
    "# the confusion matrix\n",
    "print(confusion_matrix(y_true, y_hat))"
   ]
  },
  {
   "cell_type": "markdown",
   "metadata": {
    "id": "fQgvab-SjjjJ"
   },
   "source": [
    "Finally, run a model evaluation and store the loss and accuracy in the `test_loss_1` and `test_acc_1` variables. As with fitting, you may need to adjust the number of steps so that your network tests all the samples."
   ]
  },
  {
   "cell_type": "code",
   "execution_count": 22,
   "metadata": {
    "id": "o8AM_V_tjjjK"
   },
   "outputs": [
    {
     "data": {
      "text/plain": [
       "(13.753254890441895, 0.6358381509780884)"
      ]
     },
     "execution_count": 22,
     "metadata": {},
     "output_type": "execute_result"
    }
   ],
   "source": [
    "test_loss_1, test_acc_1 = classifier.evaluate_generator(test_generator, test_generator.n//test_generator.batch_size +1)\n",
    "test_loss_1, test_acc_1"
   ]
  },
  {
   "cell_type": "markdown",
   "metadata": {},
   "source": [
    "### Optimizing our model:"
   ]
  },
  {
   "cell_type": "code",
   "execution_count": 19,
   "metadata": {},
   "outputs": [],
   "source": [
    "# Classifier\n",
    "def classifier():\n",
    "    classifier = models.Sequential()\n",
    "\n",
    "    classifier.add(layers.Conv2D(filters = 32, kernel_size = 5, input_shape = dimensions))\n",
    "    classifier.add(layers.MaxPooling2D(pool_size = (2, 2)))\n",
    "    classifier.add(layers.BatchNormalization())\n",
    "    classifier.add(layers.Dropout(0.2))\n",
    "\n",
    "    classifier.add(layers.Conv2D(filters = 64, kernel_size = 3 , activation='relu'))\n",
    "    classifier.add(layers.MaxPooling2D(pool_size = (2, 2)))\n",
    "    classifier.add(layers.BatchNormalization())\n",
    "    classifier.add(layers.Dropout(0.2))\n",
    "\n",
    "    classifier.add(layers.Conv2D(filters = 96, kernel_size = 3 , activation='relu'))\n",
    "    classifier.add(layers.MaxPooling2D(pool_size = (2, 2)))\n",
    "    classifier.add(layers.BatchNormalization())\n",
    "    classifier.add(layers.Dropout(0.2))\n",
    "\n",
    "    classifier.add(layers.Conv2D(filters = 128, kernel_size = 3 , activation='relu'))\n",
    "    classifier.add(layers.MaxPooling2D(pool_size = (2, 2)))\n",
    "    classifier.add(layers.BatchNormalization())\n",
    "    classifier.add(layers.Dropout(0.3))\n",
    "    \n",
    "    classifier.add(layers.Conv2D(filters = 256, kernel_size = 3 , activation='relu'))\n",
    "    classifier.add(layers.MaxPooling2D(pool_size = (2, 2)))\n",
    "    classifier.add(layers.BatchNormalization())\n",
    "    classifier.add(layers.Dropout(0.3))\n",
    "\n",
    "    classifier.add(layers.Flatten())\n",
    "\n",
    "    classifier.add(layers.Dense(units = 256, activation='relu', input_dim= 5*7*128 ))\n",
    "    classifier.add(layers.Dropout(0.3))\n",
    "    classifier.add(layers.BatchNormalization())\n",
    "    # classifier.add(layers.BatchNormalization())\n",
    "\n",
    "    classifier.add(layers.Dense(units = 5, activation='softmax'))\n",
    "\n",
    "    classifier.compile(optimizer = OPTIMIZER, loss = 'categorical_crossentropy', metrics = ['accuracy'])\n",
    "    return classifier"
   ]
  },
  {
   "cell_type": "code",
   "execution_count": 20,
   "metadata": {
    "scrolled": true
   },
   "outputs": [
    {
     "name": "stdout",
     "output_type": "stream",
     "text": [
      "Model: \"sequential_1\"\n",
      "_________________________________________________________________\n",
      "Layer (type)                 Output Shape              Param #   \n",
      "=================================================================\n",
      "conv2d_4 (Conv2D)            (None, 146, 146, 32)      2432      \n",
      "_________________________________________________________________\n",
      "max_pooling2d_4 (MaxPooling2 (None, 73, 73, 32)        0         \n",
      "_________________________________________________________________\n",
      "batch_normalization (BatchNo (None, 73, 73, 32)        128       \n",
      "_________________________________________________________________\n",
      "dropout (Dropout)            (None, 73, 73, 32)        0         \n",
      "_________________________________________________________________\n",
      "conv2d_5 (Conv2D)            (None, 71, 71, 64)        18496     \n",
      "_________________________________________________________________\n",
      "max_pooling2d_5 (MaxPooling2 (None, 35, 35, 64)        0         \n",
      "_________________________________________________________________\n",
      "batch_normalization_1 (Batch (None, 35, 35, 64)        256       \n",
      "_________________________________________________________________\n",
      "dropout_1 (Dropout)          (None, 35, 35, 64)        0         \n",
      "_________________________________________________________________\n",
      "conv2d_6 (Conv2D)            (None, 33, 33, 96)        55392     \n",
      "_________________________________________________________________\n",
      "max_pooling2d_6 (MaxPooling2 (None, 16, 16, 96)        0         \n",
      "_________________________________________________________________\n",
      "batch_normalization_2 (Batch (None, 16, 16, 96)        384       \n",
      "_________________________________________________________________\n",
      "dropout_2 (Dropout)          (None, 16, 16, 96)        0         \n",
      "_________________________________________________________________\n",
      "conv2d_7 (Conv2D)            (None, 14, 14, 128)       110720    \n",
      "_________________________________________________________________\n",
      "max_pooling2d_7 (MaxPooling2 (None, 7, 7, 128)         0         \n",
      "_________________________________________________________________\n",
      "batch_normalization_3 (Batch (None, 7, 7, 128)         512       \n",
      "_________________________________________________________________\n",
      "dropout_3 (Dropout)          (None, 7, 7, 128)         0         \n",
      "_________________________________________________________________\n",
      "conv2d_8 (Conv2D)            (None, 5, 5, 256)         295168    \n",
      "_________________________________________________________________\n",
      "max_pooling2d_8 (MaxPooling2 (None, 2, 2, 256)         0         \n",
      "_________________________________________________________________\n",
      "batch_normalization_4 (Batch (None, 2, 2, 256)         1024      \n",
      "_________________________________________________________________\n",
      "dropout_4 (Dropout)          (None, 2, 2, 256)         0         \n",
      "_________________________________________________________________\n",
      "flatten_1 (Flatten)          (None, 1024)              0         \n",
      "_________________________________________________________________\n",
      "dense_2 (Dense)              (None, 256)               262400    \n",
      "_________________________________________________________________\n",
      "dropout_5 (Dropout)          (None, 256)               0         \n",
      "_________________________________________________________________\n",
      "batch_normalization_5 (Batch (None, 256)               1024      \n",
      "_________________________________________________________________\n",
      "dense_3 (Dense)              (None, 5)                 1285      \n",
      "=================================================================\n",
      "Total params: 749,221\n",
      "Trainable params: 747,557\n",
      "Non-trainable params: 1,664\n",
      "_________________________________________________________________\n",
      "Epoch 1/30\n",
      "129/129 [==============================] - 12s 94ms/step - loss: 1.5929 - accuracy: 0.4132 - val_loss: 2.9650 - val_accuracy: 0.2349\n",
      "Epoch 2/30\n",
      "129/129 [==============================] - 7s 53ms/step - loss: 1.2651 - accuracy: 0.5118 - val_loss: 2.7740 - val_accuracy: 0.2477\n",
      "Epoch 3/30\n",
      "129/129 [==============================] - 7s 53ms/step - loss: 1.1040 - accuracy: 0.5845 - val_loss: 1.8117 - val_accuracy: 0.3593\n",
      "Epoch 4/30\n",
      "129/129 [==============================] - 7s 53ms/step - loss: 1.0179 - accuracy: 0.5992 - val_loss: 1.2989 - val_accuracy: 0.5186\n",
      "Epoch 5/30\n",
      "129/129 [==============================] - 7s 53ms/step - loss: 0.9322 - accuracy: 0.6466 - val_loss: 1.3238 - val_accuracy: 0.5186\n",
      "Epoch 6/30\n",
      "129/129 [==============================] - 7s 53ms/step - loss: 0.8364 - accuracy: 0.6862 - val_loss: 1.0811 - val_accuracy: 0.6244\n",
      "Epoch 7/30\n",
      "129/129 [==============================] - 7s 52ms/step - loss: 0.7945 - accuracy: 0.6932 - val_loss: 0.8765 - val_accuracy: 0.6663\n",
      "Epoch 8/30\n",
      "129/129 [==============================] - 7s 52ms/step - loss: 0.7538 - accuracy: 0.7212 - val_loss: 0.9339 - val_accuracy: 0.6616\n",
      "Epoch 9/30\n",
      "129/129 [==============================] - 7s 53ms/step - loss: 0.6888 - accuracy: 0.7445 - val_loss: 0.8652 - val_accuracy: 0.6849\n",
      "Epoch 10/30\n",
      "129/129 [==============================] - 7s 53ms/step - loss: 0.6388 - accuracy: 0.7557 - val_loss: 0.8821 - val_accuracy: 0.6686\n",
      "Epoch 11/30\n",
      "129/129 [==============================] - 7s 53ms/step - loss: 0.5820 - accuracy: 0.7845 - val_loss: 0.8645 - val_accuracy: 0.6733\n",
      "Epoch 12/30\n",
      "129/129 [==============================] - 7s 53ms/step - loss: 0.5450 - accuracy: 0.8000 - val_loss: 0.7770 - val_accuracy: 0.7012\n",
      "Epoch 13/30\n",
      "129/129 [==============================] - 7s 54ms/step - loss: 0.5030 - accuracy: 0.8124 - val_loss: 0.7924 - val_accuracy: 0.6988\n",
      "Epoch 14/30\n",
      "129/129 [==============================] - 7s 54ms/step - loss: 0.4866 - accuracy: 0.8175 - val_loss: 0.8216 - val_accuracy: 0.7116\n",
      "Epoch 15/30\n",
      "129/129 [==============================] - 7s 54ms/step - loss: 0.4036 - accuracy: 0.8583 - val_loss: 0.9647 - val_accuracy: 0.6674\n",
      "Epoch 16/30\n",
      "129/129 [==============================] - 7s 54ms/step - loss: 0.3755 - accuracy: 0.8641 - val_loss: 0.9192 - val_accuracy: 0.7058\n",
      "Epoch 17/30\n",
      "129/129 [==============================] - 7s 53ms/step - loss: 0.3335 - accuracy: 0.8816 - val_loss: 0.8182 - val_accuracy: 0.7198\n",
      "Epoch 18/30\n",
      "129/129 [==============================] - 7s 54ms/step - loss: 0.3297 - accuracy: 0.8730 - val_loss: 1.0027 - val_accuracy: 0.7058\n",
      "Epoch 19/30\n",
      "129/129 [==============================] - 7s 55ms/step - loss: 0.3254 - accuracy: 0.8734 - val_loss: 0.8122 - val_accuracy: 0.7128\n",
      "Epoch 20/30\n",
      "129/129 [==============================] - 7s 56ms/step - loss: 0.2714 - accuracy: 0.9017 - val_loss: 0.8356 - val_accuracy: 0.7314\n",
      "Epoch 21/30\n",
      "129/129 [==============================] - 7s 55ms/step - loss: 0.2486 - accuracy: 0.9099 - val_loss: 0.9389 - val_accuracy: 0.7081\n",
      "Epoch 22/30\n",
      "129/129 [==============================] - 7s 56ms/step - loss: 0.2377 - accuracy: 0.9150 - val_loss: 1.1752 - val_accuracy: 0.6616\n",
      "Epoch 23/30\n",
      "129/129 [==============================] - 7s 57ms/step - loss: 0.2271 - accuracy: 0.9196 - val_loss: 1.1372 - val_accuracy: 0.7047\n",
      "Epoch 24/30\n",
      "129/129 [==============================] - 7s 58ms/step - loss: 0.1922 - accuracy: 0.9340 - val_loss: 1.0222 - val_accuracy: 0.7070\n",
      "Epoch 25/30\n",
      "129/129 [==============================] - 7s 55ms/step - loss: 0.1877 - accuracy: 0.9340 - val_loss: 1.0096 - val_accuracy: 0.7151\n",
      "Epoch 26/30\n",
      "129/129 [==============================] - 7s 56ms/step - loss: 0.2042 - accuracy: 0.9282 - val_loss: 1.2476 - val_accuracy: 0.6570\n",
      "Epoch 27/30\n",
      "129/129 [==============================] - 7s 57ms/step - loss: 0.2015 - accuracy: 0.9289 - val_loss: 0.9726 - val_accuracy: 0.7267\n",
      "Epoch 28/30\n",
      "129/129 [==============================] - 7s 57ms/step - loss: 0.1634 - accuracy: 0.9468 - val_loss: 1.1560 - val_accuracy: 0.7023\n",
      "Epoch 29/30\n",
      "129/129 [==============================] - 8s 60ms/step - loss: 0.1660 - accuracy: 0.9414 - val_loss: 1.0438 - val_accuracy: 0.7047\n",
      "Epoch 30/30\n",
      "129/129 [==============================] - 7s 57ms/step - loss: 0.1711 - accuracy: 0.9429 - val_loss: 1.2165 - val_accuracy: 0.7023\n"
     ]
    }
   ],
   "source": [
    "classifier1 = classifier()\n",
    "classifier1.summary()\n",
    "history = classifier1.fit_generator(train_generator, steps_per_epoch=STEPS_PER_EPOCH,\n",
    "                                   epochs = EPOCHS,\n",
    "                                   validation_data = val_generator,\n",
    "                                   validation_steps = VALIDATION_STEPS)"
   ]
  },
  {
   "cell_type": "code",
   "execution_count": 26,
   "metadata": {},
   "outputs": [],
   "source": [
    "# save the model\n",
    "classifier1.save('classifier_2.h5')"
   ]
  },
  {
   "cell_type": "code",
   "execution_count": 27,
   "metadata": {},
   "outputs": [],
   "source": [
    "classifier1 = load_model('classifier_2.h5')"
   ]
  },
  {
   "cell_type": "code",
   "execution_count": 28,
   "metadata": {
    "id": "sjPwkL7Vjjiv"
   },
   "outputs": [
    {
     "data": {
      "image/png": "[encoded data removed]",
      "text/plain": [
       "<Figure size 432x288 with 1 Axes>"
      ]
     },
     "metadata": {
      "needs_background": "light"
     },
     "output_type": "display_data"
    },
    {
     "data": {
      "image/png": "[encoded data removed]",
      "text/plain": [
       "<Figure size 432x288 with 1 Axes>"
      ]
     },
     "metadata": {
      "needs_background": "light"
     },
     "output_type": "display_data"
    }
   ],
   "source": [
    "plot_perf()"
   ]
  },
  {
   "cell_type": "code",
   "execution_count": 29,
   "metadata": {},
   "outputs": [
    {
     "name": "stdout",
     "output_type": "stream",
     "text": [
      "WARNING:tensorflow:From <ipython-input-29-af8db92238c1>:2: Model.predict_generator (from tensorflow.python.keras.engine.training) is deprecated and will be removed in a future version.\n",
      "Instructions for updating:\n",
      "Please use Model.predict, which supports generators.\n"
     ]
    }
   ],
   "source": [
    "# predict\n",
    "y_hat = classifier1.predict_generator(test_generator, test_generator.n//test_generator.batch_size +1)\n",
    "y_hat = np.argmax(y_hat, axis=1)\n",
    "\n",
    "# true labelslab\n",
    "y_true = test_generator.classes"
   ]
  },
  {
   "cell_type": "code",
   "execution_count": 30,
   "metadata": {},
   "outputs": [
    {
     "name": "stdout",
     "output_type": "stream",
     "text": [
      "Simple CNN\n",
      "Class indices  {'daisy': 0, 'dandelion': 1, 'rose': 2, 'sunflower': 3, 'tulip': 4}\n",
      "sklearn accuracy: 0.7132947976878613\n",
      "Classification report:\n",
      "               precision    recall  f1-score   support\n",
      "\n",
      "           0       0.95      0.53      0.68       162\n",
      "           1       0.69      0.86      0.77       228\n",
      "           2       0.78      0.49      0.60       152\n",
      "           3       0.70      0.86      0.77       137\n",
      "           4       0.63      0.77      0.69       186\n",
      "\n",
      "    accuracy                           0.71       865\n",
      "   macro avg       0.75      0.70      0.70       865\n",
      "weighted avg       0.74      0.71      0.71       865\n",
      "\n",
      "[[ 86  34   6  18  18]\n",
      " [  2 195   1  23   7]\n",
      " [  1  22  74   3  52]\n",
      " [  1   9   1 118   8]\n",
      " [  1  21  13   7 144]]\n"
     ]
    }
   ],
   "source": [
    "print('Simple CNN')\n",
    "print(\"Class indices \", train_generator.class_indices)\n",
    "print(\"sklearn accuracy:\", accuracy_score(y_true, y_hat))\n",
    "print(\"Classification report:\\n\",classification_report(y_true, y_hat))\n",
    "print(confusion_matrix(y_true, y_hat))"
   ]
  },
  {
   "cell_type": "code",
   "execution_count": 31,
   "metadata": {},
   "outputs": [
    {
     "name": "stdout",
     "output_type": "stream",
     "text": [
      "WARNING:tensorflow:From <ipython-input-31-3c675a81494b>:1: Model.evaluate_generator (from tensorflow.python.keras.engine.training) is deprecated and will be removed in a future version.\n",
      "Instructions for updating:\n",
      "Please use Model.evaluate, which supports generators.\n"
     ]
    },
    {
     "data": {
      "text/plain": [
       "(1.1903374195098877, 0.7132948040962219)"
      ]
     },
     "execution_count": 31,
     "metadata": {},
     "output_type": "execute_result"
    }
   ],
   "source": [
    "test_loss_1, test_acc_1 = classifier1.evaluate_generator(test_generator, test_generator.n//test_generator.batch_size +1)\n",
    "test_loss_1, test_acc_1"
   ]
  },
  {
   "cell_type": "markdown",
   "metadata": {
    "id": "EBhBMgZwjjjO"
   },
   "source": [
    "Try to improve your model by modifying some parameters and evaluate your network again."
   ]
  },
  {
   "cell_type": "markdown",
   "metadata": {
    "id": "A0vIBDVRjjjO"
   },
   "source": [
    "## Using Image Augmentation"
   ]
  },
  {
   "cell_type": "markdown",
   "metadata": {
    "id": "B7LjAj8DjjjQ"
   },
   "source": [
    "### Architecture"
   ]
  },
  {
   "cell_type": "markdown",
   "metadata": {
    "id": "lmGERO2mjjjQ"
   },
   "source": [
    "The flower dataset is relatively small. A way to expand such datasets is to generate artificial images by applying small transformations to existing images. Keras provides a built-in class for this: `ImageDataGenerator`. You will reuse it and apply it to the flower data set.\n",
    "1. Using the network from the previous exercise, apply some transformations to your images. You can start from Chollet, Listing 5.11 (in notebook 5.2 also).\n",
    "2. Report the training and validation losses and accuracies and comment on the possible overfit.\n",
    "3. Apply your network to the test set and report the accuracy as well as the confusion matrix you obtained.\n"
   ]
  },
  {
   "cell_type": "markdown",
   "metadata": {
    "id": "I1SK8DUljjjQ"
   },
   "source": [
    "Write a new generator for the training set"
   ]
  },
  {
   "cell_type": "code",
   "execution_count": 33,
   "metadata": {
    "id": "WGG2rrPWjjjS"
   },
   "outputs": [
    {
     "name": "stdout",
     "output_type": "stream",
     "text": [
      "Found 2595 images belonging to 5 classes.\n",
      "Found 863 images belonging to 5 classes.\n",
      "Found 865 images belonging to 5 classes.\n"
     ]
    }
   ],
   "source": [
    "train_datagen = ImageDataGenerator(\n",
    "      rescale = 1./255,\n",
    "      rotation_range=40,\n",
    "      width_shift_range=0.2,\n",
    "      height_shift_range=0.2,\n",
    "      shear_range=0.2,\n",
    "      zoom_range=0.2,\n",
    "      horizontal_flip=True,\n",
    "      fill_mode='nearest')\n",
    "\n",
    "train_generator = train_datagen.flow_from_directory(\n",
    "        train_path, target_size = dimension,\n",
    "        batch_size = 20,\n",
    "        class_mode=\"categorical\")\n",
    "\n",
    "val_generator = val_datagen.flow_from_directory(\n",
    "        val_path, target_size = dimension,\n",
    "        batch_size = 20,\n",
    "        class_mode=\"categorical\")\n",
    "\n",
    "test_generator = test_datagen.flow_from_directory(\n",
    "        test_path, target_size = dimension,\n",
    "        batch_size = 20,\n",
    "        shuffle=False,\n",
    "        class_mode=\"categorical\")"
   ]
  },
  {
   "cell_type": "markdown",
   "metadata": {
    "id": "aeXgAzOVjjjV"
   },
   "source": [
    "Fit a model. You reset the model by recreating it."
   ]
  },
  {
   "cell_type": "code",
   "execution_count": 34,
   "metadata": {
    "id": "KHBuhSUAjjjW",
    "scrolled": true
   },
   "outputs": [
    {
     "name": "stdout",
     "output_type": "stream",
     "text": [
      "Epoch 1/30\n",
      "129/129 [==============================] - 15s 119ms/step - loss: 1.6904 - accuracy: 0.3650 - val_loss: 2.3535 - val_accuracy: 0.2593\n",
      "Epoch 2/30\n",
      "129/129 [==============================] - 15s 118ms/step - loss: 1.3460 - accuracy: 0.4629 - val_loss: 1.9657 - val_accuracy: 0.3663\n",
      "Epoch 3/30\n",
      "129/129 [==============================] - 15s 119ms/step - loss: 1.2634 - accuracy: 0.5021 - val_loss: 1.3821 - val_accuracy: 0.4616\n",
      "Epoch 4/30\n",
      "129/129 [==============================] - 15s 118ms/step - loss: 1.1906 - accuracy: 0.5270 - val_loss: 1.0317 - val_accuracy: 0.5733\n",
      "Epoch 5/30\n",
      "129/129 [==============================] - 15s 118ms/step - loss: 1.1058 - accuracy: 0.5717 - val_loss: 1.3590 - val_accuracy: 0.5593\n",
      "Epoch 6/30\n",
      "129/129 [==============================] - 15s 119ms/step - loss: 1.0556 - accuracy: 0.5930 - val_loss: 1.2788 - val_accuracy: 0.5651\n",
      "Epoch 7/30\n",
      "129/129 [==============================] - 15s 119ms/step - loss: 0.9970 - accuracy: 0.6214 - val_loss: 1.3672 - val_accuracy: 0.4686\n",
      "Epoch 8/30\n",
      "129/129 [==============================] - 15s 119ms/step - loss: 0.9719 - accuracy: 0.6287 - val_loss: 0.8391 - val_accuracy: 0.6512\n",
      "Epoch 9/30\n",
      "129/129 [==============================] - 15s 119ms/step - loss: 0.9246 - accuracy: 0.6497 - val_loss: 0.9608 - val_accuracy: 0.6291\n",
      "Epoch 10/30\n",
      "129/129 [==============================] - 15s 119ms/step - loss: 0.9234 - accuracy: 0.6493 - val_loss: 0.8695 - val_accuracy: 0.6721\n",
      "Epoch 11/30\n",
      "129/129 [==============================] - 15s 118ms/step - loss: 0.9025 - accuracy: 0.6575 - val_loss: 1.0566 - val_accuracy: 0.6198\n",
      "Epoch 12/30\n",
      "129/129 [==============================] - 15s 118ms/step - loss: 0.8790 - accuracy: 0.6637 - val_loss: 1.1049 - val_accuracy: 0.5884\n",
      "Epoch 13/30\n",
      "129/129 [==============================] - 15s 119ms/step - loss: 0.8478 - accuracy: 0.6796 - val_loss: 0.8527 - val_accuracy: 0.6895\n",
      "Epoch 14/30\n",
      "129/129 [==============================] - 15s 119ms/step - loss: 0.8209 - accuracy: 0.6773 - val_loss: 1.2418 - val_accuracy: 0.5756\n",
      "Epoch 15/30\n",
      "129/129 [==============================] - 15s 118ms/step - loss: 0.8336 - accuracy: 0.6812 - val_loss: 0.7107 - val_accuracy: 0.7395\n",
      "Epoch 16/30\n",
      "129/129 [==============================] - 15s 120ms/step - loss: 0.8143 - accuracy: 0.6979 - val_loss: 0.7814 - val_accuracy: 0.6860\n",
      "Epoch 17/30\n",
      "129/129 [==============================] - 15s 119ms/step - loss: 0.7929 - accuracy: 0.6955 - val_loss: 0.7451 - val_accuracy: 0.7198\n",
      "Epoch 18/30\n",
      "129/129 [==============================] - 15s 119ms/step - loss: 0.7881 - accuracy: 0.7068 - val_loss: 0.7187 - val_accuracy: 0.7372\n",
      "Epoch 19/30\n",
      "129/129 [==============================] - 15s 118ms/step - loss: 0.7674 - accuracy: 0.7173 - val_loss: 0.9050 - val_accuracy: 0.6756\n",
      "Epoch 20/30\n",
      "129/129 [==============================] - 15s 119ms/step - loss: 0.7413 - accuracy: 0.7076 - val_loss: 0.7504 - val_accuracy: 0.6977\n",
      "Epoch 21/30\n",
      "129/129 [==============================] - 15s 119ms/step - loss: 0.7495 - accuracy: 0.7173 - val_loss: 0.7864 - val_accuracy: 0.7070\n",
      "Epoch 22/30\n",
      "129/129 [==============================] - 15s 119ms/step - loss: 0.7367 - accuracy: 0.7169 - val_loss: 0.7951 - val_accuracy: 0.7186\n",
      "Epoch 23/30\n",
      "129/129 [==============================] - 15s 119ms/step - loss: 0.7325 - accuracy: 0.7297 - val_loss: 0.6905 - val_accuracy: 0.7488\n",
      "Epoch 24/30\n",
      "129/129 [==============================] - 15s 119ms/step - loss: 0.7441 - accuracy: 0.7204 - val_loss: 0.6531 - val_accuracy: 0.7477\n",
      "Epoch 25/30\n",
      "129/129 [==============================] - 15s 120ms/step - loss: 0.7298 - accuracy: 0.7165 - val_loss: 0.6858 - val_accuracy: 0.7547\n",
      "Epoch 26/30\n",
      "129/129 [==============================] - 15s 119ms/step - loss: 0.7000 - accuracy: 0.7367 - val_loss: 0.6699 - val_accuracy: 0.7674\n",
      "Epoch 27/30\n",
      "129/129 [==============================] - 15s 118ms/step - loss: 0.6933 - accuracy: 0.7402 - val_loss: 0.7027 - val_accuracy: 0.7314\n",
      "Epoch 28/30\n",
      "129/129 [==============================] - 15s 119ms/step - loss: 0.6649 - accuracy: 0.7460 - val_loss: 0.6287 - val_accuracy: 0.7733\n",
      "Epoch 29/30\n",
      "129/129 [==============================] - 16s 122ms/step - loss: 0.6841 - accuracy: 0.7305 - val_loss: 0.9185 - val_accuracy: 0.6593\n",
      "Epoch 30/30\n",
      "129/129 [==============================] - 15s 119ms/step - loss: 0.6815 - accuracy: 0.7464 - val_loss: 0.9081 - val_accuracy: 0.6767\n"
     ]
    }
   ],
   "source": [
    "STEPS_PER_EPOCH = train_generator.n // train_generator.batch_size\n",
    "VALIDATION_STEPS = val_generator.n // val_generator.batch_size\n",
    "classifier2 = classifier()\n",
    "history = classifier2.fit_generator(train_generator, steps_per_epoch=STEPS_PER_EPOCH,\n",
    "                                   epochs = EPOCHS,\n",
    "                                   validation_data = val_generator,\n",
    "                                   validation_steps = VALIDATION_STEPS)"
   ]
  },
  {
   "cell_type": "code",
   "execution_count": 35,
   "metadata": {},
   "outputs": [],
   "source": [
    "# save the model\n",
    "classifier2.save('classifier_aug.h5')"
   ]
  },
  {
   "cell_type": "code",
   "execution_count": 36,
   "metadata": {},
   "outputs": [],
   "source": [
    "classifier2 = load_model('classifier_aug.h5')"
   ]
  },
  {
   "cell_type": "markdown",
   "metadata": {
    "id": "qByVL0-hjjjY"
   },
   "source": [
    "### Analyzing the fitting performance over epochs"
   ]
  },
  {
   "cell_type": "markdown",
   "metadata": {
    "id": "vQOdPBkijjjZ"
   },
   "source": [
    "Show the training accuracy along with the epochs"
   ]
  },
  {
   "cell_type": "code",
   "execution_count": 37,
   "metadata": {
    "id": "uSkYI7PNjjja"
   },
   "outputs": [
    {
     "data": {
      "image/png": "[encoded data removed]",
      "text/plain": [
       "<Figure size 432x288 with 1 Axes>"
      ]
     },
     "metadata": {
      "needs_background": "light"
     },
     "output_type": "display_data"
    },
    {
     "data": {
      "image/png": "[encoded data removed]",
      "text/plain": [
       "<Figure size 432x288 with 1 Axes>"
      ]
     },
     "metadata": {
      "needs_background": "light"
     },
     "output_type": "display_data"
    }
   ],
   "source": [
    "plot_perf()"
   ]
  },
  {
   "cell_type": "markdown",
   "metadata": {
    "id": "ySF0Lxd3jjje"
   },
   "source": [
    "### Predicting the test set"
   ]
  },
  {
   "cell_type": "markdown",
   "metadata": {
    "id": "Q1S2BuUSjjjf"
   },
   "source": [
    "Finally, run a model evaluation and store the loss and accuracy in the `test_loss_2` and `test_acc_2` variables."
   ]
  },
  {
   "cell_type": "code",
   "execution_count": 38,
   "metadata": {
    "id": "5Jqlss6Rjjjg"
   },
   "outputs": [
    {
     "name": "stdout",
     "output_type": "stream",
     "text": [
      "sklearn accuracy: 0.6728323699421965\n",
      "Classification report:\n",
      "               precision    recall  f1-score   support\n",
      "\n",
      "           0       0.91      0.48      0.62       162\n",
      "           1       0.83      0.68      0.75       228\n",
      "           2       0.93      0.43      0.59       152\n",
      "           3       0.46      0.95      0.62       137\n",
      "           4       0.65      0.84      0.73       186\n",
      "\n",
      "    accuracy                           0.67       865\n",
      "   macro avg       0.75      0.67      0.66       865\n",
      "weighted avg       0.76      0.67      0.67       865\n",
      "\n",
      "Confusion matrix:\n",
      " [[ 77  16   0  58  11]\n",
      " [  1 154   0  58  15]\n",
      " [  1   9  65  22  55]\n",
      " [  2   0   1 130   4]\n",
      " [  4   6   4  16 156]]\n"
     ]
    }
   ],
   "source": [
    "# predict\n",
    "y_hat = classifier2.predict_generator(test_generator, test_generator.n//test_generator.batch_size +1)\n",
    "y_hat = np.argmax(y_hat, axis=1)\n",
    "# true labels\n",
    "y_true = test_generator.classes\n",
    "print(\"sklearn accuracy:\", accuracy_score(y_true, y_hat))\n",
    "print(\"Classification report:\\n\",classification_report(y_true, y_hat))\n",
    "print(\"Confusion matrix:\\n\", confusion_matrix(y_true, y_hat))"
   ]
  },
  {
   "cell_type": "code",
   "execution_count": 39,
   "metadata": {},
   "outputs": [
    {
     "data": {
      "text/plain": [
       "(0.9700126051902771, 0.6728323698043823)"
      ]
     },
     "execution_count": 39,
     "metadata": {},
     "output_type": "execute_result"
    }
   ],
   "source": [
    "test_loss_2, test_acc_2 = classifier2.evaluate_generator(test_generator, test_generator.n//test_generator.batch_size +1)\n",
    "test_loss_2, test_acc_2"
   ]
  },
  {
   "cell_type": "markdown",
   "metadata": {
    "id": "-KfYh3oajjjj"
   },
   "source": [
    "## Using a Pretrained Convolutional Base"
   ]
  },
  {
   "cell_type": "markdown",
   "metadata": {
    "id": "Wf1fMeCKjjjk"
   },
   "source": [
    "### Architecture"
   ]
  },
  {
   "cell_type": "markdown",
   "metadata": {
    "id": "0ND7MeGUjjjl"
   },
   "source": [
    "Some research teams have trained convolutional neural networks on much larger datasets. We have seen during the lecture that the networks can model conceptual patterns as they go through the layers. This was identified by Le Cun in his first experiments [http://yann.lecun.com/exdb/lenet/](http://yann.lecun.com/exdb/lenet/). In this last part, you will train classifiers on top of a pretrained convolutional base.\n",
    "1. Train your network and report the training and validation losses and accuracies.\n",
    "2. Apply your network to the test set and report the accuracy as well as the confusion matrix you obtained."
   ]
  },
  {
   "cell_type": "code",
   "execution_count": 40,
   "metadata": {
    "id": "dF2xK0yYjjjl"
   },
   "outputs": [],
   "source": [
    "from keras.applications import VGG16, InceptionV3"
   ]
  },
  {
   "cell_type": "code",
   "execution_count": 41,
   "metadata": {
    "id": "daBkhrbdjjjn"
   },
   "outputs": [
    {
     "name": "stdout",
     "output_type": "stream",
     "text": [
      "Model: \"inception_v3\"\n",
      "__________________________________________________________________________________________________\n",
      "Layer (type)                    Output Shape         Param #     Connected to                     \n",
      "==================================================================================================\n",
      "input_1 (InputLayer)            [(None, 150, 150, 3) 0                                            \n",
      "__________________________________________________________________________________________________\n",
      "conv2d_14 (Conv2D)              (None, 74, 74, 32)   864         input_1[0][0]                    \n",
      "__________________________________________________________________________________________________\n",
      "batch_normalization_12 (BatchNo (None, 74, 74, 32)   96          conv2d_14[0][0]                  \n",
      "__________________________________________________________________________________________________\n",
      "activation (Activation)         (None, 74, 74, 32)   0           batch_normalization_12[0][0]     \n",
      "__________________________________________________________________________________________________\n",
      "conv2d_15 (Conv2D)              (None, 72, 72, 32)   9216        activation[0][0]                 \n",
      "__________________________________________________________________________________________________\n",
      "batch_normalization_13 (BatchNo (None, 72, 72, 32)   96          conv2d_15[0][0]                  \n",
      "__________________________________________________________________________________________________\n",
      "activation_1 (Activation)       (None, 72, 72, 32)   0           batch_normalization_13[0][0]     \n",
      "__________________________________________________________________________________________________\n",
      "conv2d_16 (Conv2D)              (None, 72, 72, 64)   18432       activation_1[0][0]               \n",
      "__________________________________________________________________________________________________\n",
      "batch_normalization_14 (BatchNo (None, 72, 72, 64)   192         conv2d_16[0][0]                  \n",
      "__________________________________________________________________________________________________\n",
      "activation_2 (Activation)       (None, 72, 72, 64)   0           batch_normalization_14[0][0]     \n",
      "__________________________________________________________________________________________________\n",
      "max_pooling2d_14 (MaxPooling2D) (None, 35, 35, 64)   0           activation_2[0][0]               \n",
      "__________________________________________________________________________________________________\n",
      "conv2d_17 (Conv2D)              (None, 35, 35, 80)   5120        max_pooling2d_14[0][0]           \n",
      "__________________________________________________________________________________________________\n",
      "batch_normalization_15 (BatchNo (None, 35, 35, 80)   240         conv2d_17[0][0]                  \n",
      "__________________________________________________________________________________________________\n",
      "activation_3 (Activation)       (None, 35, 35, 80)   0           batch_normalization_15[0][0]     \n",
      "__________________________________________________________________________________________________\n",
      "conv2d_18 (Conv2D)              (None, 33, 33, 192)  138240      activation_3[0][0]               \n",
      "__________________________________________________________________________________________________\n",
      "batch_normalization_16 (BatchNo (None, 33, 33, 192)  576         conv2d_18[0][0]                  \n",
      "__________________________________________________________________________________________________\n",
      "activation_4 (Activation)       (None, 33, 33, 192)  0           batch_normalization_16[0][0]     \n",
      "__________________________________________________________________________________________________\n",
      "max_pooling2d_15 (MaxPooling2D) (None, 16, 16, 192)  0           activation_4[0][0]               \n",
      "__________________________________________________________________________________________________\n",
      "conv2d_22 (Conv2D)              (None, 16, 16, 64)   12288       max_pooling2d_15[0][0]           \n",
      "__________________________________________________________________________________________________\n",
      "batch_normalization_20 (BatchNo (None, 16, 16, 64)   192         conv2d_22[0][0]                  \n",
      "__________________________________________________________________________________________________\n",
      "activation_8 (Activation)       (None, 16, 16, 64)   0           batch_normalization_20[0][0]     \n",
      "__________________________________________________________________________________________________\n",
      "conv2d_20 (Conv2D)              (None, 16, 16, 48)   9216        max_pooling2d_15[0][0]           \n",
      "__________________________________________________________________________________________________\n",
      "conv2d_23 (Conv2D)              (None, 16, 16, 96)   55296       activation_8[0][0]               \n",
      "__________________________________________________________________________________________________\n",
      "batch_normalization_18 (BatchNo (None, 16, 16, 48)   144         conv2d_20[0][0]                  \n",
      "__________________________________________________________________________________________________\n",
      "batch_normalization_21 (BatchNo (None, 16, 16, 96)   288         conv2d_23[0][0]                  \n",
      "__________________________________________________________________________________________________\n",
      "activation_6 (Activation)       (None, 16, 16, 48)   0           batch_normalization_18[0][0]     \n",
      "__________________________________________________________________________________________________\n",
      "activation_9 (Activation)       (None, 16, 16, 96)   0           batch_normalization_21[0][0]     \n",
      "__________________________________________________________________________________________________\n",
      "average_pooling2d (AveragePooli (None, 16, 16, 192)  0           max_pooling2d_15[0][0]           \n",
      "__________________________________________________________________________________________________\n",
      "conv2d_19 (Conv2D)              (None, 16, 16, 64)   12288       max_pooling2d_15[0][0]           \n",
      "__________________________________________________________________________________________________\n",
      "conv2d_21 (Conv2D)              (None, 16, 16, 64)   76800       activation_6[0][0]               \n",
      "__________________________________________________________________________________________________\n",
      "conv2d_24 (Conv2D)              (None, 16, 16, 96)   82944       activation_9[0][0]               \n",
      "__________________________________________________________________________________________________\n",
      "conv2d_25 (Conv2D)              (None, 16, 16, 32)   6144        average_pooling2d[0][0]          \n",
      "__________________________________________________________________________________________________\n",
      "batch_normalization_17 (BatchNo (None, 16, 16, 64)   192         conv2d_19[0][0]                  \n",
      "__________________________________________________________________________________________________\n",
      "batch_normalization_19 (BatchNo (None, 16, 16, 64)   192         conv2d_21[0][0]                  \n",
      "__________________________________________________________________________________________________\n",
      "batch_normalization_22 (BatchNo (None, 16, 16, 96)   288         conv2d_24[0][0]                  \n",
      "__________________________________________________________________________________________________\n",
      "batch_normalization_23 (BatchNo (None, 16, 16, 32)   96          conv2d_25[0][0]                  \n",
      "__________________________________________________________________________________________________\n",
      "activation_5 (Activation)       (None, 16, 16, 64)   0           batch_normalization_17[0][0]     \n",
      "__________________________________________________________________________________________________\n",
      "activation_7 (Activation)       (None, 16, 16, 64)   0           batch_normalization_19[0][0]     \n",
      "__________________________________________________________________________________________________\n",
      "activation_10 (Activation)      (None, 16, 16, 96)   0           batch_normalization_22[0][0]     \n",
      "__________________________________________________________________________________________________\n",
      "activation_11 (Activation)      (None, 16, 16, 32)   0           batch_normalization_23[0][0]     \n",
      "__________________________________________________________________________________________________\n",
      "mixed0 (Concatenate)            (None, 16, 16, 256)  0           activation_5[0][0]               \n",
      "                                                                 activation_7[0][0]               \n",
      "                                                                 activation_10[0][0]              \n",
      "                                                                 activation_11[0][0]              \n",
      "__________________________________________________________________________________________________\n",
      "conv2d_29 (Conv2D)              (None, 16, 16, 64)   16384       mixed0[0][0]                     \n",
      "__________________________________________________________________________________________________\n",
      "batch_normalization_27 (BatchNo (None, 16, 16, 64)   192         conv2d_29[0][0]                  \n",
      "__________________________________________________________________________________________________\n",
      "activation_15 (Activation)      (None, 16, 16, 64)   0           batch_normalization_27[0][0]     \n",
      "__________________________________________________________________________________________________\n",
      "conv2d_27 (Conv2D)              (None, 16, 16, 48)   12288       mixed0[0][0]                     \n",
      "__________________________________________________________________________________________________\n",
      "conv2d_30 (Conv2D)              (None, 16, 16, 96)   55296       activation_15[0][0]              \n",
      "__________________________________________________________________________________________________\n",
      "batch_normalization_25 (BatchNo (None, 16, 16, 48)   144         conv2d_27[0][0]                  \n",
      "__________________________________________________________________________________________________\n",
      "batch_normalization_28 (BatchNo (None, 16, 16, 96)   288         conv2d_30[0][0]                  \n",
      "__________________________________________________________________________________________________\n",
      "activation_13 (Activation)      (None, 16, 16, 48)   0           batch_normalization_25[0][0]     \n",
      "__________________________________________________________________________________________________\n",
      "activation_16 (Activation)      (None, 16, 16, 96)   0           batch_normalization_28[0][0]     \n",
      "__________________________________________________________________________________________________\n",
      "average_pooling2d_1 (AveragePoo (None, 16, 16, 256)  0           mixed0[0][0]                     \n",
      "__________________________________________________________________________________________________\n",
      "conv2d_26 (Conv2D)              (None, 16, 16, 64)   16384       mixed0[0][0]                     \n",
      "__________________________________________________________________________________________________\n",
      "conv2d_28 (Conv2D)              (None, 16, 16, 64)   76800       activation_13[0][0]              \n",
      "__________________________________________________________________________________________________\n",
      "conv2d_31 (Conv2D)              (None, 16, 16, 96)   82944       activation_16[0][0]              \n",
      "__________________________________________________________________________________________________\n",
      "conv2d_32 (Conv2D)              (None, 16, 16, 64)   16384       average_pooling2d_1[0][0]        \n",
      "__________________________________________________________________________________________________\n",
      "batch_normalization_24 (BatchNo (None, 16, 16, 64)   192         conv2d_26[0][0]                  \n",
      "__________________________________________________________________________________________________\n",
      "batch_normalization_26 (BatchNo (None, 16, 16, 64)   192         conv2d_28[0][0]                  \n",
      "__________________________________________________________________________________________________\n",
      "batch_normalization_29 (BatchNo (None, 16, 16, 96)   288         conv2d_31[0][0]                  \n",
      "__________________________________________________________________________________________________\n",
      "batch_normalization_30 (BatchNo (None, 16, 16, 64)   192         conv2d_32[0][0]                  \n",
      "__________________________________________________________________________________________________\n",
      "activation_12 (Activation)      (None, 16, 16, 64)   0           batch_normalization_24[0][0]     \n",
      "__________________________________________________________________________________________________\n",
      "activation_14 (Activation)      (None, 16, 16, 64)   0           batch_normalization_26[0][0]     \n",
      "__________________________________________________________________________________________________\n",
      "activation_17 (Activation)      (None, 16, 16, 96)   0           batch_normalization_29[0][0]     \n",
      "__________________________________________________________________________________________________\n",
      "activation_18 (Activation)      (None, 16, 16, 64)   0           batch_normalization_30[0][0]     \n",
      "__________________________________________________________________________________________________\n",
      "mixed1 (Concatenate)            (None, 16, 16, 288)  0           activation_12[0][0]              \n",
      "                                                                 activation_14[0][0]              \n",
      "                                                                 activation_17[0][0]              \n",
      "                                                                 activation_18[0][0]              \n",
      "__________________________________________________________________________________________________\n",
      "conv2d_36 (Conv2D)              (None, 16, 16, 64)   18432       mixed1[0][0]                     \n",
      "__________________________________________________________________________________________________\n",
      "batch_normalization_34 (BatchNo (None, 16, 16, 64)   192         conv2d_36[0][0]                  \n",
      "__________________________________________________________________________________________________\n",
      "activation_22 (Activation)      (None, 16, 16, 64)   0           batch_normalization_34[0][0]     \n",
      "__________________________________________________________________________________________________\n",
      "conv2d_34 (Conv2D)              (None, 16, 16, 48)   13824       mixed1[0][0]                     \n",
      "__________________________________________________________________________________________________\n",
      "conv2d_37 (Conv2D)              (None, 16, 16, 96)   55296       activation_22[0][0]              \n",
      "__________________________________________________________________________________________________\n",
      "batch_normalization_32 (BatchNo (None, 16, 16, 48)   144         conv2d_34[0][0]                  \n",
      "__________________________________________________________________________________________________\n",
      "batch_normalization_35 (BatchNo (None, 16, 16, 96)   288         conv2d_37[0][0]                  \n",
      "__________________________________________________________________________________________________\n",
      "activation_20 (Activation)      (None, 16, 16, 48)   0           batch_normalization_32[0][0]     \n",
      "__________________________________________________________________________________________________\n",
      "activation_23 (Activation)      (None, 16, 16, 96)   0           batch_normalization_35[0][0]     \n",
      "__________________________________________________________________________________________________\n",
      "average_pooling2d_2 (AveragePoo (None, 16, 16, 288)  0           mixed1[0][0]                     \n",
      "__________________________________________________________________________________________________\n",
      "conv2d_33 (Conv2D)              (None, 16, 16, 64)   18432       mixed1[0][0]                     \n",
      "__________________________________________________________________________________________________\n",
      "conv2d_35 (Conv2D)              (None, 16, 16, 64)   76800       activation_20[0][0]              \n",
      "__________________________________________________________________________________________________\n",
      "conv2d_38 (Conv2D)              (None, 16, 16, 96)   82944       activation_23[0][0]              \n",
      "__________________________________________________________________________________________________\n",
      "conv2d_39 (Conv2D)              (None, 16, 16, 64)   18432       average_pooling2d_2[0][0]        \n",
      "__________________________________________________________________________________________________\n",
      "batch_normalization_31 (BatchNo (None, 16, 16, 64)   192         conv2d_33[0][0]                  \n",
      "__________________________________________________________________________________________________\n",
      "batch_normalization_33 (BatchNo (None, 16, 16, 64)   192         conv2d_35[0][0]                  \n",
      "__________________________________________________________________________________________________\n",
      "batch_normalization_36 (BatchNo (None, 16, 16, 96)   288         conv2d_38[0][0]                  \n",
      "__________________________________________________________________________________________________\n",
      "batch_normalization_37 (BatchNo (None, 16, 16, 64)   192         conv2d_39[0][0]                  \n",
      "__________________________________________________________________________________________________\n",
      "activation_19 (Activation)      (None, 16, 16, 64)   0           batch_normalization_31[0][0]     \n",
      "__________________________________________________________________________________________________\n",
      "activation_21 (Activation)      (None, 16, 16, 64)   0           batch_normalization_33[0][0]     \n",
      "__________________________________________________________________________________________________\n",
      "activation_24 (Activation)      (None, 16, 16, 96)   0           batch_normalization_36[0][0]     \n",
      "__________________________________________________________________________________________________\n",
      "activation_25 (Activation)      (None, 16, 16, 64)   0           batch_normalization_37[0][0]     \n",
      "__________________________________________________________________________________________________\n",
      "mixed2 (Concatenate)            (None, 16, 16, 288)  0           activation_19[0][0]              \n",
      "                                                                 activation_21[0][0]              \n",
      "                                                                 activation_24[0][0]              \n",
      "                                                                 activation_25[0][0]              \n",
      "__________________________________________________________________________________________________\n",
      "conv2d_41 (Conv2D)              (None, 16, 16, 64)   18432       mixed2[0][0]                     \n",
      "__________________________________________________________________________________________________\n",
      "batch_normalization_39 (BatchNo (None, 16, 16, 64)   192         conv2d_41[0][0]                  \n",
      "__________________________________________________________________________________________________\n",
      "activation_27 (Activation)      (None, 16, 16, 64)   0           batch_normalization_39[0][0]     \n",
      "__________________________________________________________________________________________________\n",
      "conv2d_42 (Conv2D)              (None, 16, 16, 96)   55296       activation_27[0][0]              \n",
      "__________________________________________________________________________________________________\n",
      "batch_normalization_40 (BatchNo (None, 16, 16, 96)   288         conv2d_42[0][0]                  \n",
      "__________________________________________________________________________________________________\n",
      "activation_28 (Activation)      (None, 16, 16, 96)   0           batch_normalization_40[0][0]     \n",
      "__________________________________________________________________________________________________\n",
      "conv2d_40 (Conv2D)              (None, 7, 7, 384)    995328      mixed2[0][0]                     \n",
      "__________________________________________________________________________________________________\n",
      "conv2d_43 (Conv2D)              (None, 7, 7, 96)     82944       activation_28[0][0]              \n",
      "__________________________________________________________________________________________________\n",
      "batch_normalization_38 (BatchNo (None, 7, 7, 384)    1152        conv2d_40[0][0]                  \n",
      "__________________________________________________________________________________________________\n",
      "batch_normalization_41 (BatchNo (None, 7, 7, 96)     288         conv2d_43[0][0]                  \n",
      "__________________________________________________________________________________________________\n",
      "activation_26 (Activation)      (None, 7, 7, 384)    0           batch_normalization_38[0][0]     \n",
      "__________________________________________________________________________________________________\n",
      "activation_29 (Activation)      (None, 7, 7, 96)     0           batch_normalization_41[0][0]     \n",
      "__________________________________________________________________________________________________\n",
      "max_pooling2d_16 (MaxPooling2D) (None, 7, 7, 288)    0           mixed2[0][0]                     \n",
      "__________________________________________________________________________________________________\n",
      "mixed3 (Concatenate)            (None, 7, 7, 768)    0           activation_26[0][0]              \n",
      "                                                                 activation_29[0][0]              \n",
      "                                                                 max_pooling2d_16[0][0]           \n",
      "__________________________________________________________________________________________________\n",
      "conv2d_48 (Conv2D)              (None, 7, 7, 128)    98304       mixed3[0][0]                     \n",
      "__________________________________________________________________________________________________\n",
      "batch_normalization_46 (BatchNo (None, 7, 7, 128)    384         conv2d_48[0][0]                  \n",
      "__________________________________________________________________________________________________\n",
      "activation_34 (Activation)      (None, 7, 7, 128)    0           batch_normalization_46[0][0]     \n",
      "__________________________________________________________________________________________________\n",
      "conv2d_49 (Conv2D)              (None, 7, 7, 128)    114688      activation_34[0][0]              \n",
      "__________________________________________________________________________________________________\n",
      "batch_normalization_47 (BatchNo (None, 7, 7, 128)    384         conv2d_49[0][0]                  \n",
      "__________________________________________________________________________________________________\n",
      "activation_35 (Activation)      (None, 7, 7, 128)    0           batch_normalization_47[0][0]     \n",
      "__________________________________________________________________________________________________\n",
      "conv2d_45 (Conv2D)              (None, 7, 7, 128)    98304       mixed3[0][0]                     \n",
      "__________________________________________________________________________________________________\n",
      "conv2d_50 (Conv2D)              (None, 7, 7, 128)    114688      activation_35[0][0]              \n",
      "__________________________________________________________________________________________________\n",
      "batch_normalization_43 (BatchNo (None, 7, 7, 128)    384         conv2d_45[0][0]                  \n",
      "__________________________________________________________________________________________________\n",
      "batch_normalization_48 (BatchNo (None, 7, 7, 128)    384         conv2d_50[0][0]                  \n",
      "__________________________________________________________________________________________________\n",
      "activation_31 (Activation)      (None, 7, 7, 128)    0           batch_normalization_43[0][0]     \n",
      "__________________________________________________________________________________________________\n",
      "activation_36 (Activation)      (None, 7, 7, 128)    0           batch_normalization_48[0][0]     \n",
      "__________________________________________________________________________________________________\n",
      "conv2d_46 (Conv2D)              (None, 7, 7, 128)    114688      activation_31[0][0]              \n",
      "__________________________________________________________________________________________________\n",
      "conv2d_51 (Conv2D)              (None, 7, 7, 128)    114688      activation_36[0][0]              \n",
      "__________________________________________________________________________________________________\n",
      "batch_normalization_44 (BatchNo (None, 7, 7, 128)    384         conv2d_46[0][0]                  \n",
      "__________________________________________________________________________________________________\n",
      "batch_normalization_49 (BatchNo (None, 7, 7, 128)    384         conv2d_51[0][0]                  \n",
      "__________________________________________________________________________________________________\n",
      "activation_32 (Activation)      (None, 7, 7, 128)    0           batch_normalization_44[0][0]     \n",
      "__________________________________________________________________________________________________\n",
      "activation_37 (Activation)      (None, 7, 7, 128)    0           batch_normalization_49[0][0]     \n",
      "__________________________________________________________________________________________________\n",
      "average_pooling2d_3 (AveragePoo (None, 7, 7, 768)    0           mixed3[0][0]                     \n",
      "__________________________________________________________________________________________________\n",
      "conv2d_44 (Conv2D)              (None, 7, 7, 192)    147456      mixed3[0][0]                     \n",
      "__________________________________________________________________________________________________\n",
      "conv2d_47 (Conv2D)              (None, 7, 7, 192)    172032      activation_32[0][0]              \n",
      "__________________________________________________________________________________________________\n",
      "conv2d_52 (Conv2D)              (None, 7, 7, 192)    172032      activation_37[0][0]              \n",
      "__________________________________________________________________________________________________\n",
      "conv2d_53 (Conv2D)              (None, 7, 7, 192)    147456      average_pooling2d_3[0][0]        \n",
      "__________________________________________________________________________________________________\n",
      "batch_normalization_42 (BatchNo (None, 7, 7, 192)    576         conv2d_44[0][0]                  \n",
      "__________________________________________________________________________________________________\n",
      "batch_normalization_45 (BatchNo (None, 7, 7, 192)    576         conv2d_47[0][0]                  \n",
      "__________________________________________________________________________________________________\n",
      "batch_normalization_50 (BatchNo (None, 7, 7, 192)    576         conv2d_52[0][0]                  \n",
      "__________________________________________________________________________________________________\n",
      "batch_normalization_51 (BatchNo (None, 7, 7, 192)    576         conv2d_53[0][0]                  \n",
      "__________________________________________________________________________________________________\n",
      "activation_30 (Activation)      (None, 7, 7, 192)    0           batch_normalization_42[0][0]     \n",
      "__________________________________________________________________________________________________\n",
      "activation_33 (Activation)      (None, 7, 7, 192)    0           batch_normalization_45[0][0]     \n",
      "__________________________________________________________________________________________________\n",
      "activation_38 (Activation)      (None, 7, 7, 192)    0           batch_normalization_50[0][0]     \n",
      "__________________________________________________________________________________________________\n",
      "activation_39 (Activation)      (None, 7, 7, 192)    0           batch_normalization_51[0][0]     \n",
      "__________________________________________________________________________________________________\n",
      "mixed4 (Concatenate)            (None, 7, 7, 768)    0           activation_30[0][0]              \n",
      "                                                                 activation_33[0][0]              \n",
      "                                                                 activation_38[0][0]              \n",
      "                                                                 activation_39[0][0]              \n",
      "__________________________________________________________________________________________________\n",
      "conv2d_58 (Conv2D)              (None, 7, 7, 160)    122880      mixed4[0][0]                     \n",
      "__________________________________________________________________________________________________\n",
      "batch_normalization_56 (BatchNo (None, 7, 7, 160)    480         conv2d_58[0][0]                  \n",
      "__________________________________________________________________________________________________\n",
      "activation_44 (Activation)      (None, 7, 7, 160)    0           batch_normalization_56[0][0]     \n",
      "__________________________________________________________________________________________________\n",
      "conv2d_59 (Conv2D)              (None, 7, 7, 160)    179200      activation_44[0][0]              \n",
      "__________________________________________________________________________________________________\n",
      "batch_normalization_57 (BatchNo (None, 7, 7, 160)    480         conv2d_59[0][0]                  \n",
      "__________________________________________________________________________________________________\n",
      "activation_45 (Activation)      (None, 7, 7, 160)    0           batch_normalization_57[0][0]     \n",
      "__________________________________________________________________________________________________\n",
      "conv2d_55 (Conv2D)              (None, 7, 7, 160)    122880      mixed4[0][0]                     \n",
      "__________________________________________________________________________________________________\n",
      "conv2d_60 (Conv2D)              (None, 7, 7, 160)    179200      activation_45[0][0]              \n",
      "__________________________________________________________________________________________________\n",
      "batch_normalization_53 (BatchNo (None, 7, 7, 160)    480         conv2d_55[0][0]                  \n",
      "__________________________________________________________________________________________________\n",
      "batch_normalization_58 (BatchNo (None, 7, 7, 160)    480         conv2d_60[0][0]                  \n",
      "__________________________________________________________________________________________________\n",
      "activation_41 (Activation)      (None, 7, 7, 160)    0           batch_normalization_53[0][0]     \n",
      "__________________________________________________________________________________________________\n",
      "activation_46 (Activation)      (None, 7, 7, 160)    0           batch_normalization_58[0][0]     \n",
      "__________________________________________________________________________________________________\n",
      "conv2d_56 (Conv2D)              (None, 7, 7, 160)    179200      activation_41[0][0]              \n",
      "__________________________________________________________________________________________________\n",
      "conv2d_61 (Conv2D)              (None, 7, 7, 160)    179200      activation_46[0][0]              \n",
      "__________________________________________________________________________________________________\n",
      "batch_normalization_54 (BatchNo (None, 7, 7, 160)    480         conv2d_56[0][0]                  \n",
      "__________________________________________________________________________________________________\n",
      "batch_normalization_59 (BatchNo (None, 7, 7, 160)    480         conv2d_61[0][0]                  \n",
      "__________________________________________________________________________________________________\n",
      "activation_42 (Activation)      (None, 7, 7, 160)    0           batch_normalization_54[0][0]     \n",
      "__________________________________________________________________________________________________\n",
      "activation_47 (Activation)      (None, 7, 7, 160)    0           batch_normalization_59[0][0]     \n",
      "__________________________________________________________________________________________________\n",
      "average_pooling2d_4 (AveragePoo (None, 7, 7, 768)    0           mixed4[0][0]                     \n",
      "__________________________________________________________________________________________________\n",
      "conv2d_54 (Conv2D)              (None, 7, 7, 192)    147456      mixed4[0][0]                     \n",
      "__________________________________________________________________________________________________\n",
      "conv2d_57 (Conv2D)              (None, 7, 7, 192)    215040      activation_42[0][0]              \n",
      "__________________________________________________________________________________________________\n",
      "conv2d_62 (Conv2D)              (None, 7, 7, 192)    215040      activation_47[0][0]              \n",
      "__________________________________________________________________________________________________\n",
      "conv2d_63 (Conv2D)              (None, 7, 7, 192)    147456      average_pooling2d_4[0][0]        \n",
      "__________________________________________________________________________________________________\n",
      "batch_normalization_52 (BatchNo (None, 7, 7, 192)    576         conv2d_54[0][0]                  \n",
      "__________________________________________________________________________________________________\n",
      "batch_normalization_55 (BatchNo (None, 7, 7, 192)    576         conv2d_57[0][0]                  \n",
      "__________________________________________________________________________________________________\n",
      "batch_normalization_60 (BatchNo (None, 7, 7, 192)    576         conv2d_62[0][0]                  \n",
      "__________________________________________________________________________________________________\n",
      "batch_normalization_61 (BatchNo (None, 7, 7, 192)    576         conv2d_63[0][0]                  \n",
      "__________________________________________________________________________________________________\n",
      "activation_40 (Activation)      (None, 7, 7, 192)    0           batch_normalization_52[0][0]     \n",
      "__________________________________________________________________________________________________\n",
      "activation_43 (Activation)      (None, 7, 7, 192)    0           batch_normalization_55[0][0]     \n",
      "__________________________________________________________________________________________________\n",
      "activation_48 (Activation)      (None, 7, 7, 192)    0           batch_normalization_60[0][0]     \n",
      "__________________________________________________________________________________________________\n",
      "activation_49 (Activation)      (None, 7, 7, 192)    0           batch_normalization_61[0][0]     \n",
      "__________________________________________________________________________________________________\n",
      "mixed5 (Concatenate)            (None, 7, 7, 768)    0           activation_40[0][0]              \n",
      "                                                                 activation_43[0][0]              \n",
      "                                                                 activation_48[0][0]              \n",
      "                                                                 activation_49[0][0]              \n",
      "__________________________________________________________________________________________________\n",
      "conv2d_68 (Conv2D)              (None, 7, 7, 160)    122880      mixed5[0][0]                     \n",
      "__________________________________________________________________________________________________\n",
      "batch_normalization_66 (BatchNo (None, 7, 7, 160)    480         conv2d_68[0][0]                  \n",
      "__________________________________________________________________________________________________\n",
      "activation_54 (Activation)      (None, 7, 7, 160)    0           batch_normalization_66[0][0]     \n",
      "__________________________________________________________________________________________________\n",
      "conv2d_69 (Conv2D)              (None, 7, 7, 160)    179200      activation_54[0][0]              \n",
      "__________________________________________________________________________________________________\n",
      "batch_normalization_67 (BatchNo (None, 7, 7, 160)    480         conv2d_69[0][0]                  \n",
      "__________________________________________________________________________________________________\n",
      "activation_55 (Activation)      (None, 7, 7, 160)    0           batch_normalization_67[0][0]     \n",
      "__________________________________________________________________________________________________\n",
      "conv2d_65 (Conv2D)              (None, 7, 7, 160)    122880      mixed5[0][0]                     \n",
      "__________________________________________________________________________________________________\n",
      "conv2d_70 (Conv2D)              (None, 7, 7, 160)    179200      activation_55[0][0]              \n",
      "__________________________________________________________________________________________________\n",
      "batch_normalization_63 (BatchNo (None, 7, 7, 160)    480         conv2d_65[0][0]                  \n",
      "__________________________________________________________________________________________________\n",
      "batch_normalization_68 (BatchNo (None, 7, 7, 160)    480         conv2d_70[0][0]                  \n",
      "__________________________________________________________________________________________________\n",
      "activation_51 (Activation)      (None, 7, 7, 160)    0           batch_normalization_63[0][0]     \n",
      "__________________________________________________________________________________________________\n",
      "activation_56 (Activation)      (None, 7, 7, 160)    0           batch_normalization_68[0][0]     \n",
      "__________________________________________________________________________________________________\n",
      "conv2d_66 (Conv2D)              (None, 7, 7, 160)    179200      activation_51[0][0]              \n",
      "__________________________________________________________________________________________________\n",
      "conv2d_71 (Conv2D)              (None, 7, 7, 160)    179200      activation_56[0][0]              \n",
      "__________________________________________________________________________________________________\n",
      "batch_normalization_64 (BatchNo (None, 7, 7, 160)    480         conv2d_66[0][0]                  \n",
      "__________________________________________________________________________________________________\n",
      "batch_normalization_69 (BatchNo (None, 7, 7, 160)    480         conv2d_71[0][0]                  \n",
      "__________________________________________________________________________________________________\n",
      "activation_52 (Activation)      (None, 7, 7, 160)    0           batch_normalization_64[0][0]     \n",
      "__________________________________________________________________________________________________\n",
      "activation_57 (Activation)      (None, 7, 7, 160)    0           batch_normalization_69[0][0]     \n",
      "__________________________________________________________________________________________________\n",
      "average_pooling2d_5 (AveragePoo (None, 7, 7, 768)    0           mixed5[0][0]                     \n",
      "__________________________________________________________________________________________________\n",
      "conv2d_64 (Conv2D)              (None, 7, 7, 192)    147456      mixed5[0][0]                     \n",
      "__________________________________________________________________________________________________\n",
      "conv2d_67 (Conv2D)              (None, 7, 7, 192)    215040      activation_52[0][0]              \n",
      "__________________________________________________________________________________________________\n",
      "conv2d_72 (Conv2D)              (None, 7, 7, 192)    215040      activation_57[0][0]              \n",
      "__________________________________________________________________________________________________\n",
      "conv2d_73 (Conv2D)              (None, 7, 7, 192)    147456      average_pooling2d_5[0][0]        \n",
      "__________________________________________________________________________________________________\n",
      "batch_normalization_62 (BatchNo (None, 7, 7, 192)    576         conv2d_64[0][0]                  \n",
      "__________________________________________________________________________________________________\n",
      "batch_normalization_65 (BatchNo (None, 7, 7, 192)    576         conv2d_67[0][0]                  \n",
      "__________________________________________________________________________________________________\n",
      "batch_normalization_70 (BatchNo (None, 7, 7, 192)    576         conv2d_72[0][0]                  \n",
      "__________________________________________________________________________________________________\n",
      "batch_normalization_71 (BatchNo (None, 7, 7, 192)    576         conv2d_73[0][0]                  \n",
      "__________________________________________________________________________________________________\n",
      "activation_50 (Activation)      (None, 7, 7, 192)    0           batch_normalization_62[0][0]     \n",
      "__________________________________________________________________________________________________\n",
      "activation_53 (Activation)      (None, 7, 7, 192)    0           batch_normalization_65[0][0]     \n",
      "__________________________________________________________________________________________________\n",
      "activation_58 (Activation)      (None, 7, 7, 192)    0           batch_normalization_70[0][0]     \n",
      "__________________________________________________________________________________________________\n",
      "activation_59 (Activation)      (None, 7, 7, 192)    0           batch_normalization_71[0][0]     \n",
      "__________________________________________________________________________________________________\n",
      "mixed6 (Concatenate)            (None, 7, 7, 768)    0           activation_50[0][0]              \n",
      "                                                                 activation_53[0][0]              \n",
      "                                                                 activation_58[0][0]              \n",
      "                                                                 activation_59[0][0]              \n",
      "__________________________________________________________________________________________________\n",
      "conv2d_78 (Conv2D)              (None, 7, 7, 192)    147456      mixed6[0][0]                     \n",
      "__________________________________________________________________________________________________\n",
      "batch_normalization_76 (BatchNo (None, 7, 7, 192)    576         conv2d_78[0][0]                  \n",
      "__________________________________________________________________________________________________\n",
      "activation_64 (Activation)      (None, 7, 7, 192)    0           batch_normalization_76[0][0]     \n",
      "__________________________________________________________________________________________________\n",
      "conv2d_79 (Conv2D)              (None, 7, 7, 192)    258048      activation_64[0][0]              \n",
      "__________________________________________________________________________________________________\n",
      "batch_normalization_77 (BatchNo (None, 7, 7, 192)    576         conv2d_79[0][0]                  \n",
      "__________________________________________________________________________________________________\n",
      "activation_65 (Activation)      (None, 7, 7, 192)    0           batch_normalization_77[0][0]     \n",
      "__________________________________________________________________________________________________\n",
      "conv2d_75 (Conv2D)              (None, 7, 7, 192)    147456      mixed6[0][0]                     \n",
      "__________________________________________________________________________________________________\n",
      "conv2d_80 (Conv2D)              (None, 7, 7, 192)    258048      activation_65[0][0]              \n",
      "__________________________________________________________________________________________________\n",
      "batch_normalization_73 (BatchNo (None, 7, 7, 192)    576         conv2d_75[0][0]                  \n",
      "__________________________________________________________________________________________________\n",
      "batch_normalization_78 (BatchNo (None, 7, 7, 192)    576         conv2d_80[0][0]                  \n",
      "__________________________________________________________________________________________________\n",
      "activation_61 (Activation)      (None, 7, 7, 192)    0           batch_normalization_73[0][0]     \n",
      "__________________________________________________________________________________________________\n",
      "activation_66 (Activation)      (None, 7, 7, 192)    0           batch_normalization_78[0][0]     \n",
      "__________________________________________________________________________________________________\n",
      "conv2d_76 (Conv2D)              (None, 7, 7, 192)    258048      activation_61[0][0]              \n",
      "__________________________________________________________________________________________________\n",
      "conv2d_81 (Conv2D)              (None, 7, 7, 192)    258048      activation_66[0][0]              \n",
      "__________________________________________________________________________________________________\n",
      "batch_normalization_74 (BatchNo (None, 7, 7, 192)    576         conv2d_76[0][0]                  \n",
      "__________________________________________________________________________________________________\n",
      "batch_normalization_79 (BatchNo (None, 7, 7, 192)    576         conv2d_81[0][0]                  \n",
      "__________________________________________________________________________________________________\n",
      "activation_62 (Activation)      (None, 7, 7, 192)    0           batch_normalization_74[0][0]     \n",
      "__________________________________________________________________________________________________\n",
      "activation_67 (Activation)      (None, 7, 7, 192)    0           batch_normalization_79[0][0]     \n",
      "__________________________________________________________________________________________________\n",
      "average_pooling2d_6 (AveragePoo (None, 7, 7, 768)    0           mixed6[0][0]                     \n",
      "__________________________________________________________________________________________________\n",
      "conv2d_74 (Conv2D)              (None, 7, 7, 192)    147456      mixed6[0][0]                     \n",
      "__________________________________________________________________________________________________\n",
      "conv2d_77 (Conv2D)              (None, 7, 7, 192)    258048      activation_62[0][0]              \n",
      "__________________________________________________________________________________________________\n",
      "conv2d_82 (Conv2D)              (None, 7, 7, 192)    258048      activation_67[0][0]              \n",
      "__________________________________________________________________________________________________\n",
      "conv2d_83 (Conv2D)              (None, 7, 7, 192)    147456      average_pooling2d_6[0][0]        \n",
      "__________________________________________________________________________________________________\n",
      "batch_normalization_72 (BatchNo (None, 7, 7, 192)    576         conv2d_74[0][0]                  \n",
      "__________________________________________________________________________________________________\n",
      "batch_normalization_75 (BatchNo (None, 7, 7, 192)    576         conv2d_77[0][0]                  \n",
      "__________________________________________________________________________________________________\n",
      "batch_normalization_80 (BatchNo (None, 7, 7, 192)    576         conv2d_82[0][0]                  \n",
      "__________________________________________________________________________________________________\n",
      "batch_normalization_81 (BatchNo (None, 7, 7, 192)    576         conv2d_83[0][0]                  \n",
      "__________________________________________________________________________________________________\n",
      "activation_60 (Activation)      (None, 7, 7, 192)    0           batch_normalization_72[0][0]     \n",
      "__________________________________________________________________________________________________\n",
      "activation_63 (Activation)      (None, 7, 7, 192)    0           batch_normalization_75[0][0]     \n",
      "__________________________________________________________________________________________________\n",
      "activation_68 (Activation)      (None, 7, 7, 192)    0           batch_normalization_80[0][0]     \n",
      "__________________________________________________________________________________________________\n",
      "activation_69 (Activation)      (None, 7, 7, 192)    0           batch_normalization_81[0][0]     \n",
      "__________________________________________________________________________________________________\n",
      "mixed7 (Concatenate)            (None, 7, 7, 768)    0           activation_60[0][0]              \n",
      "                                                                 activation_63[0][0]              \n",
      "                                                                 activation_68[0][0]              \n",
      "                                                                 activation_69[0][0]              \n",
      "__________________________________________________________________________________________________\n",
      "conv2d_86 (Conv2D)              (None, 7, 7, 192)    147456      mixed7[0][0]                     \n",
      "__________________________________________________________________________________________________\n",
      "batch_normalization_84 (BatchNo (None, 7, 7, 192)    576         conv2d_86[0][0]                  \n",
      "__________________________________________________________________________________________________\n",
      "activation_72 (Activation)      (None, 7, 7, 192)    0           batch_normalization_84[0][0]     \n",
      "__________________________________________________________________________________________________\n",
      "conv2d_87 (Conv2D)              (None, 7, 7, 192)    258048      activation_72[0][0]              \n",
      "__________________________________________________________________________________________________\n",
      "batch_normalization_85 (BatchNo (None, 7, 7, 192)    576         conv2d_87[0][0]                  \n",
      "__________________________________________________________________________________________________\n",
      "activation_73 (Activation)      (None, 7, 7, 192)    0           batch_normalization_85[0][0]     \n",
      "__________________________________________________________________________________________________\n",
      "conv2d_84 (Conv2D)              (None, 7, 7, 192)    147456      mixed7[0][0]                     \n",
      "__________________________________________________________________________________________________\n",
      "conv2d_88 (Conv2D)              (None, 7, 7, 192)    258048      activation_73[0][0]              \n",
      "__________________________________________________________________________________________________\n",
      "batch_normalization_82 (BatchNo (None, 7, 7, 192)    576         conv2d_84[0][0]                  \n",
      "__________________________________________________________________________________________________\n",
      "batch_normalization_86 (BatchNo (None, 7, 7, 192)    576         conv2d_88[0][0]                  \n",
      "__________________________________________________________________________________________________\n",
      "activation_70 (Activation)      (None, 7, 7, 192)    0           batch_normalization_82[0][0]     \n",
      "__________________________________________________________________________________________________\n",
      "activation_74 (Activation)      (None, 7, 7, 192)    0           batch_normalization_86[0][0]     \n",
      "__________________________________________________________________________________________________\n",
      "conv2d_85 (Conv2D)              (None, 3, 3, 320)    552960      activation_70[0][0]              \n",
      "__________________________________________________________________________________________________\n",
      "conv2d_89 (Conv2D)              (None, 3, 3, 192)    331776      activation_74[0][0]              \n",
      "__________________________________________________________________________________________________\n",
      "batch_normalization_83 (BatchNo (None, 3, 3, 320)    960         conv2d_85[0][0]                  \n",
      "__________________________________________________________________________________________________\n",
      "batch_normalization_87 (BatchNo (None, 3, 3, 192)    576         conv2d_89[0][0]                  \n",
      "__________________________________________________________________________________________________\n",
      "activation_71 (Activation)      (None, 3, 3, 320)    0           batch_normalization_83[0][0]     \n",
      "__________________________________________________________________________________________________\n",
      "activation_75 (Activation)      (None, 3, 3, 192)    0           batch_normalization_87[0][0]     \n",
      "__________________________________________________________________________________________________\n",
      "max_pooling2d_17 (MaxPooling2D) (None, 3, 3, 768)    0           mixed7[0][0]                     \n",
      "__________________________________________________________________________________________________\n",
      "mixed8 (Concatenate)            (None, 3, 3, 1280)   0           activation_71[0][0]              \n",
      "                                                                 activation_75[0][0]              \n",
      "                                                                 max_pooling2d_17[0][0]           \n",
      "__________________________________________________________________________________________________\n",
      "conv2d_94 (Conv2D)              (None, 3, 3, 448)    573440      mixed8[0][0]                     \n",
      "__________________________________________________________________________________________________\n",
      "batch_normalization_92 (BatchNo (None, 3, 3, 448)    1344        conv2d_94[0][0]                  \n",
      "__________________________________________________________________________________________________\n",
      "activation_80 (Activation)      (None, 3, 3, 448)    0           batch_normalization_92[0][0]     \n",
      "__________________________________________________________________________________________________\n",
      "conv2d_91 (Conv2D)              (None, 3, 3, 384)    491520      mixed8[0][0]                     \n",
      "__________________________________________________________________________________________________\n",
      "conv2d_95 (Conv2D)              (None, 3, 3, 384)    1548288     activation_80[0][0]              \n",
      "__________________________________________________________________________________________________\n",
      "batch_normalization_89 (BatchNo (None, 3, 3, 384)    1152        conv2d_91[0][0]                  \n",
      "__________________________________________________________________________________________________\n",
      "batch_normalization_93 (BatchNo (None, 3, 3, 384)    1152        conv2d_95[0][0]                  \n",
      "__________________________________________________________________________________________________\n",
      "activation_77 (Activation)      (None, 3, 3, 384)    0           batch_normalization_89[0][0]     \n",
      "__________________________________________________________________________________________________\n",
      "activation_81 (Activation)      (None, 3, 3, 384)    0           batch_normalization_93[0][0]     \n",
      "__________________________________________________________________________________________________\n",
      "conv2d_92 (Conv2D)              (None, 3, 3, 384)    442368      activation_77[0][0]              \n",
      "__________________________________________________________________________________________________\n",
      "conv2d_93 (Conv2D)              (None, 3, 3, 384)    442368      activation_77[0][0]              \n",
      "__________________________________________________________________________________________________\n",
      "conv2d_96 (Conv2D)              (None, 3, 3, 384)    442368      activation_81[0][0]              \n",
      "__________________________________________________________________________________________________\n",
      "conv2d_97 (Conv2D)              (None, 3, 3, 384)    442368      activation_81[0][0]              \n",
      "__________________________________________________________________________________________________\n",
      "average_pooling2d_7 (AveragePoo (None, 3, 3, 1280)   0           mixed8[0][0]                     \n",
      "__________________________________________________________________________________________________\n",
      "conv2d_90 (Conv2D)              (None, 3, 3, 320)    409600      mixed8[0][0]                     \n",
      "__________________________________________________________________________________________________\n",
      "batch_normalization_90 (BatchNo (None, 3, 3, 384)    1152        conv2d_92[0][0]                  \n",
      "__________________________________________________________________________________________________\n",
      "batch_normalization_91 (BatchNo (None, 3, 3, 384)    1152        conv2d_93[0][0]                  \n",
      "__________________________________________________________________________________________________\n",
      "batch_normalization_94 (BatchNo (None, 3, 3, 384)    1152        conv2d_96[0][0]                  \n",
      "__________________________________________________________________________________________________\n",
      "batch_normalization_95 (BatchNo (None, 3, 3, 384)    1152        conv2d_97[0][0]                  \n",
      "__________________________________________________________________________________________________\n",
      "conv2d_98 (Conv2D)              (None, 3, 3, 192)    245760      average_pooling2d_7[0][0]        \n",
      "__________________________________________________________________________________________________\n",
      "batch_normalization_88 (BatchNo (None, 3, 3, 320)    960         conv2d_90[0][0]                  \n",
      "__________________________________________________________________________________________________\n",
      "activation_78 (Activation)      (None, 3, 3, 384)    0           batch_normalization_90[0][0]     \n",
      "__________________________________________________________________________________________________\n",
      "activation_79 (Activation)      (None, 3, 3, 384)    0           batch_normalization_91[0][0]     \n",
      "__________________________________________________________________________________________________\n",
      "activation_82 (Activation)      (None, 3, 3, 384)    0           batch_normalization_94[0][0]     \n",
      "__________________________________________________________________________________________________\n",
      "activation_83 (Activation)      (None, 3, 3, 384)    0           batch_normalization_95[0][0]     \n",
      "__________________________________________________________________________________________________\n",
      "batch_normalization_96 (BatchNo (None, 3, 3, 192)    576         conv2d_98[0][0]                  \n",
      "__________________________________________________________________________________________________\n",
      "activation_76 (Activation)      (None, 3, 3, 320)    0           batch_normalization_88[0][0]     \n",
      "__________________________________________________________________________________________________\n",
      "mixed9_0 (Concatenate)          (None, 3, 3, 768)    0           activation_78[0][0]              \n",
      "                                                                 activation_79[0][0]              \n",
      "__________________________________________________________________________________________________\n",
      "concatenate (Concatenate)       (None, 3, 3, 768)    0           activation_82[0][0]              \n",
      "                                                                 activation_83[0][0]              \n",
      "__________________________________________________________________________________________________\n",
      "activation_84 (Activation)      (None, 3, 3, 192)    0           batch_normalization_96[0][0]     \n",
      "__________________________________________________________________________________________________\n",
      "mixed9 (Concatenate)            (None, 3, 3, 2048)   0           activation_76[0][0]              \n",
      "                                                                 mixed9_0[0][0]                   \n",
      "                                                                 concatenate[0][0]                \n",
      "                                                                 activation_84[0][0]              \n",
      "__________________________________________________________________________________________________\n",
      "conv2d_103 (Conv2D)             (None, 3, 3, 448)    917504      mixed9[0][0]                     \n",
      "__________________________________________________________________________________________________\n",
      "batch_normalization_101 (BatchN (None, 3, 3, 448)    1344        conv2d_103[0][0]                 \n",
      "__________________________________________________________________________________________________\n",
      "activation_89 (Activation)      (None, 3, 3, 448)    0           batch_normalization_101[0][0]    \n",
      "__________________________________________________________________________________________________\n",
      "conv2d_100 (Conv2D)             (None, 3, 3, 384)    786432      mixed9[0][0]                     \n",
      "__________________________________________________________________________________________________\n",
      "conv2d_104 (Conv2D)             (None, 3, 3, 384)    1548288     activation_89[0][0]              \n",
      "__________________________________________________________________________________________________\n",
      "batch_normalization_98 (BatchNo (None, 3, 3, 384)    1152        conv2d_100[0][0]                 \n",
      "__________________________________________________________________________________________________\n",
      "batch_normalization_102 (BatchN (None, 3, 3, 384)    1152        conv2d_104[0][0]                 \n",
      "__________________________________________________________________________________________________\n",
      "activation_86 (Activation)      (None, 3, 3, 384)    0           batch_normalization_98[0][0]     \n",
      "__________________________________________________________________________________________________\n",
      "activation_90 (Activation)      (None, 3, 3, 384)    0           batch_normalization_102[0][0]    \n",
      "__________________________________________________________________________________________________\n",
      "conv2d_101 (Conv2D)             (None, 3, 3, 384)    442368      activation_86[0][0]              \n",
      "__________________________________________________________________________________________________\n",
      "conv2d_102 (Conv2D)             (None, 3, 3, 384)    442368      activation_86[0][0]              \n",
      "__________________________________________________________________________________________________\n",
      "conv2d_105 (Conv2D)             (None, 3, 3, 384)    442368      activation_90[0][0]              \n",
      "__________________________________________________________________________________________________\n",
      "conv2d_106 (Conv2D)             (None, 3, 3, 384)    442368      activation_90[0][0]              \n",
      "__________________________________________________________________________________________________\n",
      "average_pooling2d_8 (AveragePoo (None, 3, 3, 2048)   0           mixed9[0][0]                     \n",
      "__________________________________________________________________________________________________\n",
      "conv2d_99 (Conv2D)              (None, 3, 3, 320)    655360      mixed9[0][0]                     \n",
      "__________________________________________________________________________________________________\n",
      "batch_normalization_99 (BatchNo (None, 3, 3, 384)    1152        conv2d_101[0][0]                 \n",
      "__________________________________________________________________________________________________\n",
      "batch_normalization_100 (BatchN (None, 3, 3, 384)    1152        conv2d_102[0][0]                 \n",
      "__________________________________________________________________________________________________\n",
      "batch_normalization_103 (BatchN (None, 3, 3, 384)    1152        conv2d_105[0][0]                 \n",
      "__________________________________________________________________________________________________\n",
      "batch_normalization_104 (BatchN (None, 3, 3, 384)    1152        conv2d_106[0][0]                 \n",
      "__________________________________________________________________________________________________\n",
      "conv2d_107 (Conv2D)             (None, 3, 3, 192)    393216      average_pooling2d_8[0][0]        \n",
      "__________________________________________________________________________________________________\n",
      "batch_normalization_97 (BatchNo (None, 3, 3, 320)    960         conv2d_99[0][0]                  \n",
      "__________________________________________________________________________________________________\n",
      "activation_87 (Activation)      (None, 3, 3, 384)    0           batch_normalization_99[0][0]     \n",
      "__________________________________________________________________________________________________\n",
      "activation_88 (Activation)      (None, 3, 3, 384)    0           batch_normalization_100[0][0]    \n",
      "__________________________________________________________________________________________________\n",
      "activation_91 (Activation)      (None, 3, 3, 384)    0           batch_normalization_103[0][0]    \n",
      "__________________________________________________________________________________________________\n",
      "activation_92 (Activation)      (None, 3, 3, 384)    0           batch_normalization_104[0][0]    \n",
      "__________________________________________________________________________________________________\n",
      "batch_normalization_105 (BatchN (None, 3, 3, 192)    576         conv2d_107[0][0]                 \n",
      "__________________________________________________________________________________________________\n",
      "activation_85 (Activation)      (None, 3, 3, 320)    0           batch_normalization_97[0][0]     \n",
      "__________________________________________________________________________________________________\n",
      "mixed9_1 (Concatenate)          (None, 3, 3, 768)    0           activation_87[0][0]              \n",
      "                                                                 activation_88[0][0]              \n",
      "__________________________________________________________________________________________________\n",
      "concatenate_1 (Concatenate)     (None, 3, 3, 768)    0           activation_91[0][0]              \n",
      "                                                                 activation_92[0][0]              \n",
      "__________________________________________________________________________________________________\n",
      "activation_93 (Activation)      (None, 3, 3, 192)    0           batch_normalization_105[0][0]    \n",
      "__________________________________________________________________________________________________\n",
      "mixed10 (Concatenate)           (None, 3, 3, 2048)   0           activation_85[0][0]              \n",
      "                                                                 mixed9_1[0][0]                   \n",
      "                                                                 concatenate_1[0][0]              \n",
      "                                                                 activation_93[0][0]              \n",
      "==================================================================================================\n",
      "Total params: 21,802,784\n",
      "Trainable params: 21,768,352\n",
      "Non-trainable params: 34,432\n",
      "__________________________________________________________________________________________________\n"
     ]
    }
   ],
   "source": [
    "if PRETRAINED == 'VGG':\n",
    "    conv_base = VGG16(weights='imagenet',\n",
    "                  include_top=False,\n",
    "                  input_shape=(150, 150, 3))\n",
    "else:\n",
    "    conv_base = InceptionV3(weights='imagenet',\n",
    "                        include_top=False,\n",
    "                        input_shape=(150, 150, 3))\n",
    "conv_base.summary()"
   ]
  },
  {
   "cell_type": "markdown",
   "metadata": {
    "id": "TggADfWzjjjr"
   },
   "source": [
    "As in Chollet, Listing 5.17 (in Chollet's notebook 5.3), you will program an `extract_features()` function."
   ]
  },
  {
   "cell_type": "code",
   "execution_count": 54,
   "metadata": {
    "id": "9akUqIfrjjjr"
   },
   "outputs": [],
   "source": [
    "datagen = ImageDataGenerator(rescale=1./255)\n",
    "batch_size = 20\n",
    "def extract_features(directory, sample_count):\n",
    "    shuffle = False if directory == test_path else True\n",
    "    features = np.zeros(shape=(sample_count, 3, 3, 2048))\n",
    "    labels = np.zeros(shape=(sample_count, 5))\n",
    "    generator = datagen.flow_from_directory(\n",
    "        directory,\n",
    "        target_size=(150,150),\n",
    "        batch_size=batch_size,\n",
    "        shuffle= shuffle,\n",
    "        class_mode='categorical')\n",
    "    i = 0\n",
    "    for inputs_batch, labels_batch in generator:\n",
    "        features_batch = conv_base.predict(inputs_batch)\n",
    "        features[i * batch_size : (i + 1) * batch_size] = features_batch\n",
    "        labels[i * batch_size : (i + 1) * batch_size] = labels_batch\n",
    "        i += 1\n",
    "        if i * batch_size >= sample_count:\n",
    "            break\n",
    "    return features, labels"
   ]
  },
  {
   "cell_type": "markdown",
   "metadata": {
    "id": "UzTFBv9Njjjt"
   },
   "source": [
    "The features and labels"
   ]
  },
  {
   "cell_type": "code",
   "execution_count": 55,
   "metadata": {
    "id": "QfWUyDK1jjju"
   },
   "outputs": [
    {
     "name": "stdout",
     "output_type": "stream",
     "text": [
      "Found 2595 images belonging to 5 classes.\n",
      "Found 863 images belonging to 5 classes.\n",
      "Found 865 images belonging to 5 classes.\n"
     ]
    }
   ],
   "source": [
    "train_features, train_labels = extract_features(train_path, 2595)\n",
    "validation_features, validation_labels = extract_features(val_path, 863)\n",
    "test_features, test_labels = extract_features(test_path, 865)"
   ]
  },
  {
   "cell_type": "code",
   "execution_count": 56,
   "metadata": {
    "id": "33D7KHQujjjx"
   },
   "outputs": [],
   "source": [
    "train_features = np.reshape(train_features, (train_features.shape[0], np.prod(train_features.shape[1:])))  # (2593, 4 * 4 * 512))\n",
    "validation_features = np.reshape(validation_features, (validation_features.shape[0], np.prod(validation_features.shape[1:]))) # (865, 4 * 4 * 512)\n",
    "test_features = np.reshape(test_features, (test_features.shape[0], np.prod(test_features.shape[1:]))) # (865, 4 * 4 * 512))"
   ]
  },
  {
   "cell_type": "markdown",
   "metadata": {
    "id": "nxVVBBLqjjjz"
   },
   "source": [
    "Build a network that consists of the Inception V3 convolutional base and two dense layers."
   ]
  },
  {
   "cell_type": "code",
   "execution_count": 57,
   "metadata": {
    "id": "4m3hetcbjjj0"
   },
   "outputs": [
    {
     "name": "stdout",
     "output_type": "stream",
     "text": [
      "Model: \"sequential_4\"\n",
      "_________________________________________________________________\n",
      "Layer (type)                 Output Shape              Param #   \n",
      "=================================================================\n",
      "dense_8 (Dense)              (None, 256)               4718848   \n",
      "_________________________________________________________________\n",
      "dropout_13 (Dropout)         (None, 256)               0         \n",
      "_________________________________________________________________\n",
      "dense_9 (Dense)              (None, 5)                 1285      \n",
      "=================================================================\n",
      "Total params: 4,720,133\n",
      "Trainable params: 4,720,133\n",
      "Non-trainable params: 0\n",
      "_________________________________________________________________\n"
     ]
    }
   ],
   "source": [
    "model = models.Sequential()\n",
    "model.add(layers.Dense(256, activation='relu', input_dim= np.prod(test_features.shape[1:])))\n",
    "model.add(layers.Dropout(0.3))\n",
    "model.add(layers.Dense(5, activation='softmax'))\n",
    "\n",
    "model.compile(optimizer=OPTIMIZER,\n",
    "              loss='binary_crossentropy',\n",
    "              metrics=['accuracy'])\n",
    "model.summary()"
   ]
  },
  {
   "cell_type": "markdown",
   "metadata": {
    "id": "62SMIQc0jjj3"
   },
   "source": [
    "Fit your network"
   ]
  },
  {
   "cell_type": "code",
   "execution_count": 58,
   "metadata": {
    "id": "t90anLC1jjj3",
    "scrolled": true
   },
   "outputs": [
    {
     "name": "stdout",
     "output_type": "stream",
     "text": [
      "Epoch 1/30\n",
      "130/130 [==============================] - 1s 6ms/step - loss: 4.3839 - accuracy: 0.2578 - val_loss: 3.4309 - val_accuracy: 0.3581\n",
      "Epoch 2/30\n",
      "130/130 [==============================] - 1s 6ms/step - loss: 3.4734 - accuracy: 0.3846 - val_loss: 2.8540 - val_accuracy: 0.4832\n",
      "Epoch 3/30\n",
      "130/130 [==============================] - 1s 6ms/step - loss: 2.8191 - accuracy: 0.4825 - val_loss: 2.6730 - val_accuracy: 0.4844\n",
      "Epoch 4/30\n",
      "130/130 [==============================] - 1s 6ms/step - loss: 2.1009 - accuracy: 0.5911 - val_loss: 1.9103 - val_accuracy: 0.6315\n",
      "Epoch 5/30\n",
      "130/130 [==============================] - 1s 6ms/step - loss: 1.7502 - accuracy: 0.6435 - val_loss: 1.8492 - val_accuracy: 0.6083\n",
      "Epoch 6/30\n",
      "130/130 [==============================] - 1s 6ms/step - loss: 1.1971 - accuracy: 0.6555 - val_loss: 0.3120 - val_accuracy: 0.7103\n",
      "Epoch 7/30\n",
      "130/130 [==============================] - 1s 6ms/step - loss: 0.3193 - accuracy: 0.7256 - val_loss: 0.2394 - val_accuracy: 0.7601\n",
      "Epoch 8/30\n",
      "130/130 [==============================] - 1s 6ms/step - loss: 0.2447 - accuracy: 0.7911 - val_loss: 0.2958 - val_accuracy: 0.7474\n",
      "Epoch 9/30\n",
      "130/130 [==============================] - 1s 6ms/step - loss: 0.2059 - accuracy: 0.8316 - val_loss: 0.3850 - val_accuracy: 0.7543\n",
      "Epoch 10/30\n",
      "130/130 [==============================] - 1s 6ms/step - loss: 0.2004 - accuracy: 0.8451 - val_loss: 0.2716 - val_accuracy: 0.7903\n",
      "Epoch 11/30\n",
      "130/130 [==============================] - 1s 6ms/step - loss: 0.1681 - accuracy: 0.8640 - val_loss: 0.3793 - val_accuracy: 0.7729\n",
      "Epoch 12/30\n",
      "130/130 [==============================] - 1s 6ms/step - loss: 0.1489 - accuracy: 0.8817 - val_loss: 0.3101 - val_accuracy: 0.7891\n",
      "Epoch 13/30\n",
      "130/130 [==============================] - 1s 6ms/step - loss: 0.1172 - accuracy: 0.9013 - val_loss: 0.3671 - val_accuracy: 0.7903\n",
      "Epoch 14/30\n",
      "130/130 [==============================] - 1s 6ms/step - loss: 0.1179 - accuracy: 0.9075 - val_loss: 0.3157 - val_accuracy: 0.8053\n",
      "Epoch 15/30\n",
      "130/130 [==============================] - 1s 6ms/step - loss: 0.1153 - accuracy: 0.9198 - val_loss: 0.4093 - val_accuracy: 0.7926\n",
      "Epoch 16/30\n",
      "130/130 [==============================] - 1s 6ms/step - loss: 0.1151 - accuracy: 0.9283 - val_loss: 0.4043 - val_accuracy: 0.8042\n",
      "Epoch 17/30\n",
      "130/130 [==============================] - 1s 6ms/step - loss: 0.0883 - accuracy: 0.9337 - val_loss: 0.3672 - val_accuracy: 0.8088\n",
      "Epoch 18/30\n",
      "130/130 [==============================] - 1s 6ms/step - loss: 0.0808 - accuracy: 0.9445 - val_loss: 0.5837 - val_accuracy: 0.7543\n",
      "Epoch 19/30\n",
      "130/130 [==============================] - 1s 6ms/step - loss: 0.0979 - accuracy: 0.9376 - val_loss: 0.5312 - val_accuracy: 0.8216\n",
      "Epoch 20/30\n",
      "130/130 [==============================] - 1s 6ms/step - loss: 0.0961 - accuracy: 0.9414 - val_loss: 0.5492 - val_accuracy: 0.7856\n",
      "Epoch 21/30\n",
      "130/130 [==============================] - 1s 6ms/step - loss: 0.0803 - accuracy: 0.9441 - val_loss: 0.4616 - val_accuracy: 0.8030\n",
      "Epoch 22/30\n",
      "130/130 [==============================] - 1s 6ms/step - loss: 0.0906 - accuracy: 0.9434 - val_loss: 0.5051 - val_accuracy: 0.8146\n",
      "Epoch 23/30\n",
      "130/130 [==============================] - 1s 6ms/step - loss: 0.0851 - accuracy: 0.9507 - val_loss: 0.5721 - val_accuracy: 0.8076\n",
      "Epoch 24/30\n",
      "130/130 [==============================] - 1s 6ms/step - loss: 0.0706 - accuracy: 0.9568 - val_loss: 0.4879 - val_accuracy: 0.7995\n",
      "Epoch 25/30\n",
      "130/130 [==============================] - 1s 6ms/step - loss: 0.0575 - accuracy: 0.9603 - val_loss: 0.4719 - val_accuracy: 0.8042\n",
      "Epoch 26/30\n",
      "130/130 [==============================] - 1s 6ms/step - loss: 0.0654 - accuracy: 0.9611 - val_loss: 0.6501 - val_accuracy: 0.8030\n",
      "Epoch 27/30\n",
      "130/130 [==============================] - 1s 6ms/step - loss: 0.0786 - accuracy: 0.9514 - val_loss: 0.5096 - val_accuracy: 0.8088\n",
      "Epoch 28/30\n",
      "130/130 [==============================] - 1s 6ms/step - loss: 0.0654 - accuracy: 0.9634 - val_loss: 0.5700 - val_accuracy: 0.8053\n",
      "Epoch 29/30\n",
      "130/130 [==============================] - 1s 6ms/step - loss: 0.0634 - accuracy: 0.9630 - val_loss: 0.6096 - val_accuracy: 0.7926\n",
      "Epoch 30/30\n",
      "130/130 [==============================] - 1s 6ms/step - loss: 0.0645 - accuracy: 0.9665 - val_loss: 0.6401 - val_accuracy: 0.8019\n"
     ]
    }
   ],
   "source": [
    "\n",
    "history = model.fit(train_features, train_labels,\n",
    "                    batch_size = batch_size,\n",
    "                    epochs=30,\n",
    "                    validation_data=(validation_features, validation_labels))"
   ]
  },
  {
   "cell_type": "markdown",
   "metadata": {
    "id": "a4QoySMKjjj6"
   },
   "source": [
    "### Analyzing the fitting performance over epochs"
   ]
  },
  {
   "cell_type": "markdown",
   "metadata": {
    "id": "ATUqk0Zkjjj7"
   },
   "source": [
    "Show the training accuracy along with the epochs"
   ]
  },
  {
   "cell_type": "code",
   "execution_count": 65,
   "metadata": {
    "id": "AJicYRNtjjj7"
   },
   "outputs": [],
   "source": [
    "# save the model\n",
    "model.save('classifier_pre.h5')"
   ]
  },
  {
   "cell_type": "code",
   "execution_count": 66,
   "metadata": {},
   "outputs": [
    {
     "data": {
      "image/png": "[encoded data removed]",
      "text/plain": [
       "<Figure size 432x288 with 1 Axes>"
      ]
     },
     "metadata": {
      "needs_background": "light"
     },
     "output_type": "display_data"
    },
    {
     "data": {
      "image/png": "[encoded data removed]",
      "text/plain": [
       "<Figure size 432x288 with 1 Axes>"
      ]
     },
     "metadata": {
      "needs_background": "light"
     },
     "output_type": "display_data"
    }
   ],
   "source": [
    "model = load_model('classifier_pre.h5')\n",
    "plot_perf()"
   ]
  },
  {
   "cell_type": "markdown",
   "metadata": {
    "id": "iO2E-jVGjjj-"
   },
   "source": [
    "### Predicting the test set"
   ]
  },
  {
   "cell_type": "markdown",
   "metadata": {
    "id": "tHDwGXHJjjj-"
   },
   "source": [
    "Apply now your network to the test set"
   ]
  },
  {
   "cell_type": "code",
   "execution_count": 67,
   "metadata": {
    "id": "U_zBK2qojjj-",
    "scrolled": true
   },
   "outputs": [],
   "source": [
    "test_hat = list(model.predict_classes(test_features))\n",
    "\n",
    "test_labels_1 = list(np.argmax(test_labels, axis=1))"
   ]
  },
  {
   "cell_type": "markdown",
   "metadata": {
    "id": "O2l86nDGjjkC"
   },
   "source": [
    "Report the accuracy as well as the classification report. Use sklearn functions"
   ]
  },
  {
   "cell_type": "code",
   "execution_count": 68,
   "metadata": {
    "id": "ULV2fVkKjjkC"
   },
   "outputs": [
    {
     "name": "stdout",
     "output_type": "stream",
     "text": [
      "Simple CNN\n",
      "sklearn accuracy: 0.815028901734104\n",
      "Classification report:\n",
      "               precision    recall  f1-score   support\n",
      "\n",
      "           0       0.82      0.80      0.81       162\n",
      "           1       0.83      0.88      0.86       228\n",
      "           2       0.80      0.72      0.76       152\n",
      "           3       0.92      0.75      0.83       137\n",
      "           4       0.75      0.87      0.80       186\n",
      "\n",
      "    accuracy                           0.82       865\n",
      "   macro avg       0.82      0.81      0.81       865\n",
      "weighted avg       0.82      0.82      0.81       865\n",
      "\n"
     ]
    }
   ],
   "source": [
    "print('Simple CNN')\n",
    "print(\"sklearn accuracy:\", accuracy_score(test_labels_1, test_hat))\n",
    "print(\"Classification report:\\n\",classification_report(test_labels_1, test_hat))"
   ]
  },
  {
   "cell_type": "markdown",
   "metadata": {
    "id": "3nvVAFRCjjkE"
   },
   "source": [
    "Print the confusion matrix"
   ]
  },
  {
   "cell_type": "code",
   "execution_count": 69,
   "metadata": {
    "id": "HeKiRE5yjjkF"
   },
   "outputs": [
    {
     "name": "stdout",
     "output_type": "stream",
     "text": [
      "Confusion matrix:\n",
      " [[130  17   5   2   8]\n",
      " [ 12 201   4   4   7]\n",
      " [  7   4 110   2  29]\n",
      " [  5  13   5 103  11]\n",
      " [  4   6  14   1 161]]\n"
     ]
    }
   ],
   "source": [
    "print(\"Confusion matrix:\\n\", confusion_matrix(test_labels_1, test_hat))"
   ]
  },
  {
   "cell_type": "markdown",
   "metadata": {
    "id": "URmLGvILjjkH"
   },
   "source": [
    "Finally, run a model evaluation and store the loss and accuracy in the `test_loss_3` and `test_acc_3` variables. As with fitting, you may need to adjust the number of steps so that your network tests all the samples."
   ]
  },
  {
   "cell_type": "code",
   "execution_count": 70,
   "metadata": {
    "id": "kPc3gyOhjjkI"
   },
   "outputs": [
    {
     "name": "stdout",
     "output_type": "stream",
     "text": [
      "28/28 [==============================] - 0s 2ms/step - loss: 0.5586 - accuracy: 0.8150\n"
     ]
    },
    {
     "data": {
      "text/plain": [
       "(0.5586255788803101, 0.8150289058685303)"
      ]
     },
     "execution_count": 70,
     "metadata": {},
     "output_type": "execute_result"
    }
   ],
   "source": [
    "test_loss_3, test_acc_3 = model.evaluate(test_features,test_labels)\n",
    "test_loss_3, test_acc_3"
   ]
  },
  {
   "cell_type": "markdown",
   "metadata": {
    "id": "WdM2xaEZjjkL"
   },
   "source": [
    "## Using a Pretrained Convolutional Base with Image Augmentation"
   ]
  },
  {
   "cell_type": "markdown",
   "metadata": {
    "id": "uW77m9ikjjkL"
   },
   "source": [
    "### Architecture"
   ]
  },
  {
   "cell_type": "markdown",
   "metadata": {
    "id": "xMDkJpwxjjkM"
   },
   "source": [
    "1. Modify your program to include an image transformer. Train a new model. As a hint, you can make the whole convolutional base trainable and use the stochastic gradient descent as optimizer.\n",
    "2. Apply your network to the test set and report the accuracy as well as the confusion matrix you obtained."
   ]
  },
  {
   "cell_type": "code",
   "execution_count": 71,
   "metadata": {
    "id": "-m8enJQVjjkN"
   },
   "outputs": [
    {
     "name": "stdout",
     "output_type": "stream",
     "text": [
      "Model: \"inception_v3\"\n",
      "__________________________________________________________________________________________________\n",
      "Layer (type)                    Output Shape         Param #     Connected to                     \n",
      "==================================================================================================\n",
      "input_2 (InputLayer)            [(None, 150, 150, 3) 0                                            \n",
      "__________________________________________________________________________________________________\n",
      "conv2d_108 (Conv2D)             (None, 74, 74, 32)   864         input_2[0][0]                    \n",
      "__________________________________________________________________________________________________\n",
      "batch_normalization_106 (BatchN (None, 74, 74, 32)   96          conv2d_108[0][0]                 \n",
      "__________________________________________________________________________________________________\n",
      "activation_94 (Activation)      (None, 74, 74, 32)   0           batch_normalization_106[0][0]    \n",
      "__________________________________________________________________________________________________\n",
      "conv2d_109 (Conv2D)             (None, 72, 72, 32)   9216        activation_94[0][0]              \n",
      "__________________________________________________________________________________________________\n",
      "batch_normalization_107 (BatchN (None, 72, 72, 32)   96          conv2d_109[0][0]                 \n",
      "__________________________________________________________________________________________________\n",
      "activation_95 (Activation)      (None, 72, 72, 32)   0           batch_normalization_107[0][0]    \n",
      "__________________________________________________________________________________________________\n",
      "conv2d_110 (Conv2D)             (None, 72, 72, 64)   18432       activation_95[0][0]              \n",
      "__________________________________________________________________________________________________\n",
      "batch_normalization_108 (BatchN (None, 72, 72, 64)   192         conv2d_110[0][0]                 \n",
      "__________________________________________________________________________________________________\n",
      "activation_96 (Activation)      (None, 72, 72, 64)   0           batch_normalization_108[0][0]    \n",
      "__________________________________________________________________________________________________\n",
      "max_pooling2d_18 (MaxPooling2D) (None, 35, 35, 64)   0           activation_96[0][0]              \n",
      "__________________________________________________________________________________________________\n",
      "conv2d_111 (Conv2D)             (None, 35, 35, 80)   5120        max_pooling2d_18[0][0]           \n",
      "__________________________________________________________________________________________________\n",
      "batch_normalization_109 (BatchN (None, 35, 35, 80)   240         conv2d_111[0][0]                 \n",
      "__________________________________________________________________________________________________\n",
      "activation_97 (Activation)      (None, 35, 35, 80)   0           batch_normalization_109[0][0]    \n",
      "__________________________________________________________________________________________________\n",
      "conv2d_112 (Conv2D)             (None, 33, 33, 192)  138240      activation_97[0][0]              \n",
      "__________________________________________________________________________________________________\n",
      "batch_normalization_110 (BatchN (None, 33, 33, 192)  576         conv2d_112[0][0]                 \n",
      "__________________________________________________________________________________________________\n",
      "activation_98 (Activation)      (None, 33, 33, 192)  0           batch_normalization_110[0][0]    \n",
      "__________________________________________________________________________________________________\n",
      "max_pooling2d_19 (MaxPooling2D) (None, 16, 16, 192)  0           activation_98[0][0]              \n",
      "__________________________________________________________________________________________________\n",
      "conv2d_116 (Conv2D)             (None, 16, 16, 64)   12288       max_pooling2d_19[0][0]           \n",
      "__________________________________________________________________________________________________\n",
      "batch_normalization_114 (BatchN (None, 16, 16, 64)   192         conv2d_116[0][0]                 \n",
      "__________________________________________________________________________________________________\n",
      "activation_102 (Activation)     (None, 16, 16, 64)   0           batch_normalization_114[0][0]    \n",
      "__________________________________________________________________________________________________\n",
      "conv2d_114 (Conv2D)             (None, 16, 16, 48)   9216        max_pooling2d_19[0][0]           \n",
      "__________________________________________________________________________________________________\n",
      "conv2d_117 (Conv2D)             (None, 16, 16, 96)   55296       activation_102[0][0]             \n",
      "__________________________________________________________________________________________________\n",
      "batch_normalization_112 (BatchN (None, 16, 16, 48)   144         conv2d_114[0][0]                 \n",
      "__________________________________________________________________________________________________\n",
      "batch_normalization_115 (BatchN (None, 16, 16, 96)   288         conv2d_117[0][0]                 \n",
      "__________________________________________________________________________________________________\n",
      "activation_100 (Activation)     (None, 16, 16, 48)   0           batch_normalization_112[0][0]    \n",
      "__________________________________________________________________________________________________\n",
      "activation_103 (Activation)     (None, 16, 16, 96)   0           batch_normalization_115[0][0]    \n",
      "__________________________________________________________________________________________________\n",
      "average_pooling2d_9 (AveragePoo (None, 16, 16, 192)  0           max_pooling2d_19[0][0]           \n",
      "__________________________________________________________________________________________________\n",
      "conv2d_113 (Conv2D)             (None, 16, 16, 64)   12288       max_pooling2d_19[0][0]           \n",
      "__________________________________________________________________________________________________\n",
      "conv2d_115 (Conv2D)             (None, 16, 16, 64)   76800       activation_100[0][0]             \n",
      "__________________________________________________________________________________________________\n",
      "conv2d_118 (Conv2D)             (None, 16, 16, 96)   82944       activation_103[0][0]             \n",
      "__________________________________________________________________________________________________\n",
      "conv2d_119 (Conv2D)             (None, 16, 16, 32)   6144        average_pooling2d_9[0][0]        \n",
      "__________________________________________________________________________________________________\n",
      "batch_normalization_111 (BatchN (None, 16, 16, 64)   192         conv2d_113[0][0]                 \n",
      "__________________________________________________________________________________________________\n",
      "batch_normalization_113 (BatchN (None, 16, 16, 64)   192         conv2d_115[0][0]                 \n",
      "__________________________________________________________________________________________________\n",
      "batch_normalization_116 (BatchN (None, 16, 16, 96)   288         conv2d_118[0][0]                 \n",
      "__________________________________________________________________________________________________\n",
      "batch_normalization_117 (BatchN (None, 16, 16, 32)   96          conv2d_119[0][0]                 \n",
      "__________________________________________________________________________________________________\n",
      "activation_99 (Activation)      (None, 16, 16, 64)   0           batch_normalization_111[0][0]    \n",
      "__________________________________________________________________________________________________\n",
      "activation_101 (Activation)     (None, 16, 16, 64)   0           batch_normalization_113[0][0]    \n",
      "__________________________________________________________________________________________________\n",
      "activation_104 (Activation)     (None, 16, 16, 96)   0           batch_normalization_116[0][0]    \n",
      "__________________________________________________________________________________________________\n",
      "activation_105 (Activation)     (None, 16, 16, 32)   0           batch_normalization_117[0][0]    \n",
      "__________________________________________________________________________________________________\n",
      "mixed0 (Concatenate)            (None, 16, 16, 256)  0           activation_99[0][0]              \n",
      "                                                                 activation_101[0][0]             \n",
      "                                                                 activation_104[0][0]             \n",
      "                                                                 activation_105[0][0]             \n",
      "__________________________________________________________________________________________________\n",
      "conv2d_123 (Conv2D)             (None, 16, 16, 64)   16384       mixed0[0][0]                     \n",
      "__________________________________________________________________________________________________\n",
      "batch_normalization_121 (BatchN (None, 16, 16, 64)   192         conv2d_123[0][0]                 \n",
      "__________________________________________________________________________________________________\n",
      "activation_109 (Activation)     (None, 16, 16, 64)   0           batch_normalization_121[0][0]    \n",
      "__________________________________________________________________________________________________\n",
      "conv2d_121 (Conv2D)             (None, 16, 16, 48)   12288       mixed0[0][0]                     \n",
      "__________________________________________________________________________________________________\n",
      "conv2d_124 (Conv2D)             (None, 16, 16, 96)   55296       activation_109[0][0]             \n",
      "__________________________________________________________________________________________________\n",
      "batch_normalization_119 (BatchN (None, 16, 16, 48)   144         conv2d_121[0][0]                 \n",
      "__________________________________________________________________________________________________\n",
      "batch_normalization_122 (BatchN (None, 16, 16, 96)   288         conv2d_124[0][0]                 \n",
      "__________________________________________________________________________________________________\n",
      "activation_107 (Activation)     (None, 16, 16, 48)   0           batch_normalization_119[0][0]    \n",
      "__________________________________________________________________________________________________\n",
      "activation_110 (Activation)     (None, 16, 16, 96)   0           batch_normalization_122[0][0]    \n",
      "__________________________________________________________________________________________________\n",
      "average_pooling2d_10 (AveragePo (None, 16, 16, 256)  0           mixed0[0][0]                     \n",
      "__________________________________________________________________________________________________\n",
      "conv2d_120 (Conv2D)             (None, 16, 16, 64)   16384       mixed0[0][0]                     \n",
      "__________________________________________________________________________________________________\n",
      "conv2d_122 (Conv2D)             (None, 16, 16, 64)   76800       activation_107[0][0]             \n",
      "__________________________________________________________________________________________________\n",
      "conv2d_125 (Conv2D)             (None, 16, 16, 96)   82944       activation_110[0][0]             \n",
      "__________________________________________________________________________________________________\n",
      "conv2d_126 (Conv2D)             (None, 16, 16, 64)   16384       average_pooling2d_10[0][0]       \n",
      "__________________________________________________________________________________________________\n",
      "batch_normalization_118 (BatchN (None, 16, 16, 64)   192         conv2d_120[0][0]                 \n",
      "__________________________________________________________________________________________________\n",
      "batch_normalization_120 (BatchN (None, 16, 16, 64)   192         conv2d_122[0][0]                 \n",
      "__________________________________________________________________________________________________\n",
      "batch_normalization_123 (BatchN (None, 16, 16, 96)   288         conv2d_125[0][0]                 \n",
      "__________________________________________________________________________________________________\n",
      "batch_normalization_124 (BatchN (None, 16, 16, 64)   192         conv2d_126[0][0]                 \n",
      "__________________________________________________________________________________________________\n",
      "activation_106 (Activation)     (None, 16, 16, 64)   0           batch_normalization_118[0][0]    \n",
      "__________________________________________________________________________________________________\n",
      "activation_108 (Activation)     (None, 16, 16, 64)   0           batch_normalization_120[0][0]    \n",
      "__________________________________________________________________________________________________\n",
      "activation_111 (Activation)     (None, 16, 16, 96)   0           batch_normalization_123[0][0]    \n",
      "__________________________________________________________________________________________________\n",
      "activation_112 (Activation)     (None, 16, 16, 64)   0           batch_normalization_124[0][0]    \n",
      "__________________________________________________________________________________________________\n",
      "mixed1 (Concatenate)            (None, 16, 16, 288)  0           activation_106[0][0]             \n",
      "                                                                 activation_108[0][0]             \n",
      "                                                                 activation_111[0][0]             \n",
      "                                                                 activation_112[0][0]             \n",
      "__________________________________________________________________________________________________\n",
      "conv2d_130 (Conv2D)             (None, 16, 16, 64)   18432       mixed1[0][0]                     \n",
      "__________________________________________________________________________________________________\n",
      "batch_normalization_128 (BatchN (None, 16, 16, 64)   192         conv2d_130[0][0]                 \n",
      "__________________________________________________________________________________________________\n",
      "activation_116 (Activation)     (None, 16, 16, 64)   0           batch_normalization_128[0][0]    \n",
      "__________________________________________________________________________________________________\n",
      "conv2d_128 (Conv2D)             (None, 16, 16, 48)   13824       mixed1[0][0]                     \n",
      "__________________________________________________________________________________________________\n",
      "conv2d_131 (Conv2D)             (None, 16, 16, 96)   55296       activation_116[0][0]             \n",
      "__________________________________________________________________________________________________\n",
      "batch_normalization_126 (BatchN (None, 16, 16, 48)   144         conv2d_128[0][0]                 \n",
      "__________________________________________________________________________________________________\n",
      "batch_normalization_129 (BatchN (None, 16, 16, 96)   288         conv2d_131[0][0]                 \n",
      "__________________________________________________________________________________________________\n",
      "activation_114 (Activation)     (None, 16, 16, 48)   0           batch_normalization_126[0][0]    \n",
      "__________________________________________________________________________________________________\n",
      "activation_117 (Activation)     (None, 16, 16, 96)   0           batch_normalization_129[0][0]    \n",
      "__________________________________________________________________________________________________\n",
      "average_pooling2d_11 (AveragePo (None, 16, 16, 288)  0           mixed1[0][0]                     \n",
      "__________________________________________________________________________________________________\n",
      "conv2d_127 (Conv2D)             (None, 16, 16, 64)   18432       mixed1[0][0]                     \n",
      "__________________________________________________________________________________________________\n",
      "conv2d_129 (Conv2D)             (None, 16, 16, 64)   76800       activation_114[0][0]             \n",
      "__________________________________________________________________________________________________\n",
      "conv2d_132 (Conv2D)             (None, 16, 16, 96)   82944       activation_117[0][0]             \n",
      "__________________________________________________________________________________________________\n",
      "conv2d_133 (Conv2D)             (None, 16, 16, 64)   18432       average_pooling2d_11[0][0]       \n",
      "__________________________________________________________________________________________________\n",
      "batch_normalization_125 (BatchN (None, 16, 16, 64)   192         conv2d_127[0][0]                 \n",
      "__________________________________________________________________________________________________\n",
      "batch_normalization_127 (BatchN (None, 16, 16, 64)   192         conv2d_129[0][0]                 \n",
      "__________________________________________________________________________________________________\n",
      "batch_normalization_130 (BatchN (None, 16, 16, 96)   288         conv2d_132[0][0]                 \n",
      "__________________________________________________________________________________________________\n",
      "batch_normalization_131 (BatchN (None, 16, 16, 64)   192         conv2d_133[0][0]                 \n",
      "__________________________________________________________________________________________________\n",
      "activation_113 (Activation)     (None, 16, 16, 64)   0           batch_normalization_125[0][0]    \n",
      "__________________________________________________________________________________________________\n",
      "activation_115 (Activation)     (None, 16, 16, 64)   0           batch_normalization_127[0][0]    \n",
      "__________________________________________________________________________________________________\n",
      "activation_118 (Activation)     (None, 16, 16, 96)   0           batch_normalization_130[0][0]    \n",
      "__________________________________________________________________________________________________\n",
      "activation_119 (Activation)     (None, 16, 16, 64)   0           batch_normalization_131[0][0]    \n",
      "__________________________________________________________________________________________________\n",
      "mixed2 (Concatenate)            (None, 16, 16, 288)  0           activation_113[0][0]             \n",
      "                                                                 activation_115[0][0]             \n",
      "                                                                 activation_118[0][0]             \n",
      "                                                                 activation_119[0][0]             \n",
      "__________________________________________________________________________________________________\n",
      "conv2d_135 (Conv2D)             (None, 16, 16, 64)   18432       mixed2[0][0]                     \n",
      "__________________________________________________________________________________________________\n",
      "batch_normalization_133 (BatchN (None, 16, 16, 64)   192         conv2d_135[0][0]                 \n",
      "__________________________________________________________________________________________________\n",
      "activation_121 (Activation)     (None, 16, 16, 64)   0           batch_normalization_133[0][0]    \n",
      "__________________________________________________________________________________________________\n",
      "conv2d_136 (Conv2D)             (None, 16, 16, 96)   55296       activation_121[0][0]             \n",
      "__________________________________________________________________________________________________\n",
      "batch_normalization_134 (BatchN (None, 16, 16, 96)   288         conv2d_136[0][0]                 \n",
      "__________________________________________________________________________________________________\n",
      "activation_122 (Activation)     (None, 16, 16, 96)   0           batch_normalization_134[0][0]    \n",
      "__________________________________________________________________________________________________\n",
      "conv2d_134 (Conv2D)             (None, 7, 7, 384)    995328      mixed2[0][0]                     \n",
      "__________________________________________________________________________________________________\n",
      "conv2d_137 (Conv2D)             (None, 7, 7, 96)     82944       activation_122[0][0]             \n",
      "__________________________________________________________________________________________________\n",
      "batch_normalization_132 (BatchN (None, 7, 7, 384)    1152        conv2d_134[0][0]                 \n",
      "__________________________________________________________________________________________________\n",
      "batch_normalization_135 (BatchN (None, 7, 7, 96)     288         conv2d_137[0][0]                 \n",
      "__________________________________________________________________________________________________\n",
      "activation_120 (Activation)     (None, 7, 7, 384)    0           batch_normalization_132[0][0]    \n",
      "__________________________________________________________________________________________________\n",
      "activation_123 (Activation)     (None, 7, 7, 96)     0           batch_normalization_135[0][0]    \n",
      "__________________________________________________________________________________________________\n",
      "max_pooling2d_20 (MaxPooling2D) (None, 7, 7, 288)    0           mixed2[0][0]                     \n",
      "__________________________________________________________________________________________________\n",
      "mixed3 (Concatenate)            (None, 7, 7, 768)    0           activation_120[0][0]             \n",
      "                                                                 activation_123[0][0]             \n",
      "                                                                 max_pooling2d_20[0][0]           \n",
      "__________________________________________________________________________________________________\n",
      "conv2d_142 (Conv2D)             (None, 7, 7, 128)    98304       mixed3[0][0]                     \n",
      "__________________________________________________________________________________________________\n",
      "batch_normalization_140 (BatchN (None, 7, 7, 128)    384         conv2d_142[0][0]                 \n",
      "__________________________________________________________________________________________________\n",
      "activation_128 (Activation)     (None, 7, 7, 128)    0           batch_normalization_140[0][0]    \n",
      "__________________________________________________________________________________________________\n",
      "conv2d_143 (Conv2D)             (None, 7, 7, 128)    114688      activation_128[0][0]             \n",
      "__________________________________________________________________________________________________\n",
      "batch_normalization_141 (BatchN (None, 7, 7, 128)    384         conv2d_143[0][0]                 \n",
      "__________________________________________________________________________________________________\n",
      "activation_129 (Activation)     (None, 7, 7, 128)    0           batch_normalization_141[0][0]    \n",
      "__________________________________________________________________________________________________\n",
      "conv2d_139 (Conv2D)             (None, 7, 7, 128)    98304       mixed3[0][0]                     \n",
      "__________________________________________________________________________________________________\n",
      "conv2d_144 (Conv2D)             (None, 7, 7, 128)    114688      activation_129[0][0]             \n",
      "__________________________________________________________________________________________________\n",
      "batch_normalization_137 (BatchN (None, 7, 7, 128)    384         conv2d_139[0][0]                 \n",
      "__________________________________________________________________________________________________\n",
      "batch_normalization_142 (BatchN (None, 7, 7, 128)    384         conv2d_144[0][0]                 \n",
      "__________________________________________________________________________________________________\n",
      "activation_125 (Activation)     (None, 7, 7, 128)    0           batch_normalization_137[0][0]    \n",
      "__________________________________________________________________________________________________\n",
      "activation_130 (Activation)     (None, 7, 7, 128)    0           batch_normalization_142[0][0]    \n",
      "__________________________________________________________________________________________________\n",
      "conv2d_140 (Conv2D)             (None, 7, 7, 128)    114688      activation_125[0][0]             \n",
      "__________________________________________________________________________________________________\n",
      "conv2d_145 (Conv2D)             (None, 7, 7, 128)    114688      activation_130[0][0]             \n",
      "__________________________________________________________________________________________________\n",
      "batch_normalization_138 (BatchN (None, 7, 7, 128)    384         conv2d_140[0][0]                 \n",
      "__________________________________________________________________________________________________\n",
      "batch_normalization_143 (BatchN (None, 7, 7, 128)    384         conv2d_145[0][0]                 \n",
      "__________________________________________________________________________________________________\n",
      "activation_126 (Activation)     (None, 7, 7, 128)    0           batch_normalization_138[0][0]    \n",
      "__________________________________________________________________________________________________\n",
      "activation_131 (Activation)     (None, 7, 7, 128)    0           batch_normalization_143[0][0]    \n",
      "__________________________________________________________________________________________________\n",
      "average_pooling2d_12 (AveragePo (None, 7, 7, 768)    0           mixed3[0][0]                     \n",
      "__________________________________________________________________________________________________\n",
      "conv2d_138 (Conv2D)             (None, 7, 7, 192)    147456      mixed3[0][0]                     \n",
      "__________________________________________________________________________________________________\n",
      "conv2d_141 (Conv2D)             (None, 7, 7, 192)    172032      activation_126[0][0]             \n",
      "__________________________________________________________________________________________________\n",
      "conv2d_146 (Conv2D)             (None, 7, 7, 192)    172032      activation_131[0][0]             \n",
      "__________________________________________________________________________________________________\n",
      "conv2d_147 (Conv2D)             (None, 7, 7, 192)    147456      average_pooling2d_12[0][0]       \n",
      "__________________________________________________________________________________________________\n",
      "batch_normalization_136 (BatchN (None, 7, 7, 192)    576         conv2d_138[0][0]                 \n",
      "__________________________________________________________________________________________________\n",
      "batch_normalization_139 (BatchN (None, 7, 7, 192)    576         conv2d_141[0][0]                 \n",
      "__________________________________________________________________________________________________\n",
      "batch_normalization_144 (BatchN (None, 7, 7, 192)    576         conv2d_146[0][0]                 \n",
      "__________________________________________________________________________________________________\n",
      "batch_normalization_145 (BatchN (None, 7, 7, 192)    576         conv2d_147[0][0]                 \n",
      "__________________________________________________________________________________________________\n",
      "activation_124 (Activation)     (None, 7, 7, 192)    0           batch_normalization_136[0][0]    \n",
      "__________________________________________________________________________________________________\n",
      "activation_127 (Activation)     (None, 7, 7, 192)    0           batch_normalization_139[0][0]    \n",
      "__________________________________________________________________________________________________\n",
      "activation_132 (Activation)     (None, 7, 7, 192)    0           batch_normalization_144[0][0]    \n",
      "__________________________________________________________________________________________________\n",
      "activation_133 (Activation)     (None, 7, 7, 192)    0           batch_normalization_145[0][0]    \n",
      "__________________________________________________________________________________________________\n",
      "mixed4 (Concatenate)            (None, 7, 7, 768)    0           activation_124[0][0]             \n",
      "                                                                 activation_127[0][0]             \n",
      "                                                                 activation_132[0][0]             \n",
      "                                                                 activation_133[0][0]             \n",
      "__________________________________________________________________________________________________\n",
      "conv2d_152 (Conv2D)             (None, 7, 7, 160)    122880      mixed4[0][0]                     \n",
      "__________________________________________________________________________________________________\n",
      "batch_normalization_150 (BatchN (None, 7, 7, 160)    480         conv2d_152[0][0]                 \n",
      "__________________________________________________________________________________________________\n",
      "activation_138 (Activation)     (None, 7, 7, 160)    0           batch_normalization_150[0][0]    \n",
      "__________________________________________________________________________________________________\n",
      "conv2d_153 (Conv2D)             (None, 7, 7, 160)    179200      activation_138[0][0]             \n",
      "__________________________________________________________________________________________________\n",
      "batch_normalization_151 (BatchN (None, 7, 7, 160)    480         conv2d_153[0][0]                 \n",
      "__________________________________________________________________________________________________\n",
      "activation_139 (Activation)     (None, 7, 7, 160)    0           batch_normalization_151[0][0]    \n",
      "__________________________________________________________________________________________________\n",
      "conv2d_149 (Conv2D)             (None, 7, 7, 160)    122880      mixed4[0][0]                     \n",
      "__________________________________________________________________________________________________\n",
      "conv2d_154 (Conv2D)             (None, 7, 7, 160)    179200      activation_139[0][0]             \n",
      "__________________________________________________________________________________________________\n",
      "batch_normalization_147 (BatchN (None, 7, 7, 160)    480         conv2d_149[0][0]                 \n",
      "__________________________________________________________________________________________________\n",
      "batch_normalization_152 (BatchN (None, 7, 7, 160)    480         conv2d_154[0][0]                 \n",
      "__________________________________________________________________________________________________\n",
      "activation_135 (Activation)     (None, 7, 7, 160)    0           batch_normalization_147[0][0]    \n",
      "__________________________________________________________________________________________________\n",
      "activation_140 (Activation)     (None, 7, 7, 160)    0           batch_normalization_152[0][0]    \n",
      "__________________________________________________________________________________________________\n",
      "conv2d_150 (Conv2D)             (None, 7, 7, 160)    179200      activation_135[0][0]             \n",
      "__________________________________________________________________________________________________\n",
      "conv2d_155 (Conv2D)             (None, 7, 7, 160)    179200      activation_140[0][0]             \n",
      "__________________________________________________________________________________________________\n",
      "batch_normalization_148 (BatchN (None, 7, 7, 160)    480         conv2d_150[0][0]                 \n",
      "__________________________________________________________________________________________________\n",
      "batch_normalization_153 (BatchN (None, 7, 7, 160)    480         conv2d_155[0][0]                 \n",
      "__________________________________________________________________________________________________\n",
      "activation_136 (Activation)     (None, 7, 7, 160)    0           batch_normalization_148[0][0]    \n",
      "__________________________________________________________________________________________________\n",
      "activation_141 (Activation)     (None, 7, 7, 160)    0           batch_normalization_153[0][0]    \n",
      "__________________________________________________________________________________________________\n",
      "average_pooling2d_13 (AveragePo (None, 7, 7, 768)    0           mixed4[0][0]                     \n",
      "__________________________________________________________________________________________________\n",
      "conv2d_148 (Conv2D)             (None, 7, 7, 192)    147456      mixed4[0][0]                     \n",
      "__________________________________________________________________________________________________\n",
      "conv2d_151 (Conv2D)             (None, 7, 7, 192)    215040      activation_136[0][0]             \n",
      "__________________________________________________________________________________________________\n",
      "conv2d_156 (Conv2D)             (None, 7, 7, 192)    215040      activation_141[0][0]             \n",
      "__________________________________________________________________________________________________\n",
      "conv2d_157 (Conv2D)             (None, 7, 7, 192)    147456      average_pooling2d_13[0][0]       \n",
      "__________________________________________________________________________________________________\n",
      "batch_normalization_146 (BatchN (None, 7, 7, 192)    576         conv2d_148[0][0]                 \n",
      "__________________________________________________________________________________________________\n",
      "batch_normalization_149 (BatchN (None, 7, 7, 192)    576         conv2d_151[0][0]                 \n",
      "__________________________________________________________________________________________________\n",
      "batch_normalization_154 (BatchN (None, 7, 7, 192)    576         conv2d_156[0][0]                 \n",
      "__________________________________________________________________________________________________\n",
      "batch_normalization_155 (BatchN (None, 7, 7, 192)    576         conv2d_157[0][0]                 \n",
      "__________________________________________________________________________________________________\n",
      "activation_134 (Activation)     (None, 7, 7, 192)    0           batch_normalization_146[0][0]    \n",
      "__________________________________________________________________________________________________\n",
      "activation_137 (Activation)     (None, 7, 7, 192)    0           batch_normalization_149[0][0]    \n",
      "__________________________________________________________________________________________________\n",
      "activation_142 (Activation)     (None, 7, 7, 192)    0           batch_normalization_154[0][0]    \n",
      "__________________________________________________________________________________________________\n",
      "activation_143 (Activation)     (None, 7, 7, 192)    0           batch_normalization_155[0][0]    \n",
      "__________________________________________________________________________________________________\n",
      "mixed5 (Concatenate)            (None, 7, 7, 768)    0           activation_134[0][0]             \n",
      "                                                                 activation_137[0][0]             \n",
      "                                                                 activation_142[0][0]             \n",
      "                                                                 activation_143[0][0]             \n",
      "__________________________________________________________________________________________________\n",
      "conv2d_162 (Conv2D)             (None, 7, 7, 160)    122880      mixed5[0][0]                     \n",
      "__________________________________________________________________________________________________\n",
      "batch_normalization_160 (BatchN (None, 7, 7, 160)    480         conv2d_162[0][0]                 \n",
      "__________________________________________________________________________________________________\n",
      "activation_148 (Activation)     (None, 7, 7, 160)    0           batch_normalization_160[0][0]    \n",
      "__________________________________________________________________________________________________\n",
      "conv2d_163 (Conv2D)             (None, 7, 7, 160)    179200      activation_148[0][0]             \n",
      "__________________________________________________________________________________________________\n",
      "batch_normalization_161 (BatchN (None, 7, 7, 160)    480         conv2d_163[0][0]                 \n",
      "__________________________________________________________________________________________________\n",
      "activation_149 (Activation)     (None, 7, 7, 160)    0           batch_normalization_161[0][0]    \n",
      "__________________________________________________________________________________________________\n",
      "conv2d_159 (Conv2D)             (None, 7, 7, 160)    122880      mixed5[0][0]                     \n",
      "__________________________________________________________________________________________________\n",
      "conv2d_164 (Conv2D)             (None, 7, 7, 160)    179200      activation_149[0][0]             \n",
      "__________________________________________________________________________________________________\n",
      "batch_normalization_157 (BatchN (None, 7, 7, 160)    480         conv2d_159[0][0]                 \n",
      "__________________________________________________________________________________________________\n",
      "batch_normalization_162 (BatchN (None, 7, 7, 160)    480         conv2d_164[0][0]                 \n",
      "__________________________________________________________________________________________________\n",
      "activation_145 (Activation)     (None, 7, 7, 160)    0           batch_normalization_157[0][0]    \n",
      "__________________________________________________________________________________________________\n",
      "activation_150 (Activation)     (None, 7, 7, 160)    0           batch_normalization_162[0][0]    \n",
      "__________________________________________________________________________________________________\n",
      "conv2d_160 (Conv2D)             (None, 7, 7, 160)    179200      activation_145[0][0]             \n",
      "__________________________________________________________________________________________________\n",
      "conv2d_165 (Conv2D)             (None, 7, 7, 160)    179200      activation_150[0][0]             \n",
      "__________________________________________________________________________________________________\n",
      "batch_normalization_158 (BatchN (None, 7, 7, 160)    480         conv2d_160[0][0]                 \n",
      "__________________________________________________________________________________________________\n",
      "batch_normalization_163 (BatchN (None, 7, 7, 160)    480         conv2d_165[0][0]                 \n",
      "__________________________________________________________________________________________________\n",
      "activation_146 (Activation)     (None, 7, 7, 160)    0           batch_normalization_158[0][0]    \n",
      "__________________________________________________________________________________________________\n",
      "activation_151 (Activation)     (None, 7, 7, 160)    0           batch_normalization_163[0][0]    \n",
      "__________________________________________________________________________________________________\n",
      "average_pooling2d_14 (AveragePo (None, 7, 7, 768)    0           mixed5[0][0]                     \n",
      "__________________________________________________________________________________________________\n",
      "conv2d_158 (Conv2D)             (None, 7, 7, 192)    147456      mixed5[0][0]                     \n",
      "__________________________________________________________________________________________________\n",
      "conv2d_161 (Conv2D)             (None, 7, 7, 192)    215040      activation_146[0][0]             \n",
      "__________________________________________________________________________________________________\n",
      "conv2d_166 (Conv2D)             (None, 7, 7, 192)    215040      activation_151[0][0]             \n",
      "__________________________________________________________________________________________________\n",
      "conv2d_167 (Conv2D)             (None, 7, 7, 192)    147456      average_pooling2d_14[0][0]       \n",
      "__________________________________________________________________________________________________\n",
      "batch_normalization_156 (BatchN (None, 7, 7, 192)    576         conv2d_158[0][0]                 \n",
      "__________________________________________________________________________________________________\n",
      "batch_normalization_159 (BatchN (None, 7, 7, 192)    576         conv2d_161[0][0]                 \n",
      "__________________________________________________________________________________________________\n",
      "batch_normalization_164 (BatchN (None, 7, 7, 192)    576         conv2d_166[0][0]                 \n",
      "__________________________________________________________________________________________________\n",
      "batch_normalization_165 (BatchN (None, 7, 7, 192)    576         conv2d_167[0][0]                 \n",
      "__________________________________________________________________________________________________\n",
      "activation_144 (Activation)     (None, 7, 7, 192)    0           batch_normalization_156[0][0]    \n",
      "__________________________________________________________________________________________________\n",
      "activation_147 (Activation)     (None, 7, 7, 192)    0           batch_normalization_159[0][0]    \n",
      "__________________________________________________________________________________________________\n",
      "activation_152 (Activation)     (None, 7, 7, 192)    0           batch_normalization_164[0][0]    \n",
      "__________________________________________________________________________________________________\n",
      "activation_153 (Activation)     (None, 7, 7, 192)    0           batch_normalization_165[0][0]    \n",
      "__________________________________________________________________________________________________\n",
      "mixed6 (Concatenate)            (None, 7, 7, 768)    0           activation_144[0][0]             \n",
      "                                                                 activation_147[0][0]             \n",
      "                                                                 activation_152[0][0]             \n",
      "                                                                 activation_153[0][0]             \n",
      "__________________________________________________________________________________________________\n",
      "conv2d_172 (Conv2D)             (None, 7, 7, 192)    147456      mixed6[0][0]                     \n",
      "__________________________________________________________________________________________________\n",
      "batch_normalization_170 (BatchN (None, 7, 7, 192)    576         conv2d_172[0][0]                 \n",
      "__________________________________________________________________________________________________\n",
      "activation_158 (Activation)     (None, 7, 7, 192)    0           batch_normalization_170[0][0]    \n",
      "__________________________________________________________________________________________________\n",
      "conv2d_173 (Conv2D)             (None, 7, 7, 192)    258048      activation_158[0][0]             \n",
      "__________________________________________________________________________________________________\n",
      "batch_normalization_171 (BatchN (None, 7, 7, 192)    576         conv2d_173[0][0]                 \n",
      "__________________________________________________________________________________________________\n",
      "activation_159 (Activation)     (None, 7, 7, 192)    0           batch_normalization_171[0][0]    \n",
      "__________________________________________________________________________________________________\n",
      "conv2d_169 (Conv2D)             (None, 7, 7, 192)    147456      mixed6[0][0]                     \n",
      "__________________________________________________________________________________________________\n",
      "conv2d_174 (Conv2D)             (None, 7, 7, 192)    258048      activation_159[0][0]             \n",
      "__________________________________________________________________________________________________\n",
      "batch_normalization_167 (BatchN (None, 7, 7, 192)    576         conv2d_169[0][0]                 \n",
      "__________________________________________________________________________________________________\n",
      "batch_normalization_172 (BatchN (None, 7, 7, 192)    576         conv2d_174[0][0]                 \n",
      "__________________________________________________________________________________________________\n",
      "activation_155 (Activation)     (None, 7, 7, 192)    0           batch_normalization_167[0][0]    \n",
      "__________________________________________________________________________________________________\n",
      "activation_160 (Activation)     (None, 7, 7, 192)    0           batch_normalization_172[0][0]    \n",
      "__________________________________________________________________________________________________\n",
      "conv2d_170 (Conv2D)             (None, 7, 7, 192)    258048      activation_155[0][0]             \n",
      "__________________________________________________________________________________________________\n",
      "conv2d_175 (Conv2D)             (None, 7, 7, 192)    258048      activation_160[0][0]             \n",
      "__________________________________________________________________________________________________\n",
      "batch_normalization_168 (BatchN (None, 7, 7, 192)    576         conv2d_170[0][0]                 \n",
      "__________________________________________________________________________________________________\n",
      "batch_normalization_173 (BatchN (None, 7, 7, 192)    576         conv2d_175[0][0]                 \n",
      "__________________________________________________________________________________________________\n",
      "activation_156 (Activation)     (None, 7, 7, 192)    0           batch_normalization_168[0][0]    \n",
      "__________________________________________________________________________________________________\n",
      "activation_161 (Activation)     (None, 7, 7, 192)    0           batch_normalization_173[0][0]    \n",
      "__________________________________________________________________________________________________\n",
      "average_pooling2d_15 (AveragePo (None, 7, 7, 768)    0           mixed6[0][0]                     \n",
      "__________________________________________________________________________________________________\n",
      "conv2d_168 (Conv2D)             (None, 7, 7, 192)    147456      mixed6[0][0]                     \n",
      "__________________________________________________________________________________________________\n",
      "conv2d_171 (Conv2D)             (None, 7, 7, 192)    258048      activation_156[0][0]             \n",
      "__________________________________________________________________________________________________\n",
      "conv2d_176 (Conv2D)             (None, 7, 7, 192)    258048      activation_161[0][0]             \n",
      "__________________________________________________________________________________________________\n",
      "conv2d_177 (Conv2D)             (None, 7, 7, 192)    147456      average_pooling2d_15[0][0]       \n",
      "__________________________________________________________________________________________________\n",
      "batch_normalization_166 (BatchN (None, 7, 7, 192)    576         conv2d_168[0][0]                 \n",
      "__________________________________________________________________________________________________\n",
      "batch_normalization_169 (BatchN (None, 7, 7, 192)    576         conv2d_171[0][0]                 \n",
      "__________________________________________________________________________________________________\n",
      "batch_normalization_174 (BatchN (None, 7, 7, 192)    576         conv2d_176[0][0]                 \n",
      "__________________________________________________________________________________________________\n",
      "batch_normalization_175 (BatchN (None, 7, 7, 192)    576         conv2d_177[0][0]                 \n",
      "__________________________________________________________________________________________________\n",
      "activation_154 (Activation)     (None, 7, 7, 192)    0           batch_normalization_166[0][0]    \n",
      "__________________________________________________________________________________________________\n",
      "activation_157 (Activation)     (None, 7, 7, 192)    0           batch_normalization_169[0][0]    \n",
      "__________________________________________________________________________________________________\n",
      "activation_162 (Activation)     (None, 7, 7, 192)    0           batch_normalization_174[0][0]    \n",
      "__________________________________________________________________________________________________\n",
      "activation_163 (Activation)     (None, 7, 7, 192)    0           batch_normalization_175[0][0]    \n",
      "__________________________________________________________________________________________________\n",
      "mixed7 (Concatenate)            (None, 7, 7, 768)    0           activation_154[0][0]             \n",
      "                                                                 activation_157[0][0]             \n",
      "                                                                 activation_162[0][0]             \n",
      "                                                                 activation_163[0][0]             \n",
      "__________________________________________________________________________________________________\n",
      "conv2d_180 (Conv2D)             (None, 7, 7, 192)    147456      mixed7[0][0]                     \n",
      "__________________________________________________________________________________________________\n",
      "batch_normalization_178 (BatchN (None, 7, 7, 192)    576         conv2d_180[0][0]                 \n",
      "__________________________________________________________________________________________________\n",
      "activation_166 (Activation)     (None, 7, 7, 192)    0           batch_normalization_178[0][0]    \n",
      "__________________________________________________________________________________________________\n",
      "conv2d_181 (Conv2D)             (None, 7, 7, 192)    258048      activation_166[0][0]             \n",
      "__________________________________________________________________________________________________\n",
      "batch_normalization_179 (BatchN (None, 7, 7, 192)    576         conv2d_181[0][0]                 \n",
      "__________________________________________________________________________________________________\n",
      "activation_167 (Activation)     (None, 7, 7, 192)    0           batch_normalization_179[0][0]    \n",
      "__________________________________________________________________________________________________\n",
      "conv2d_178 (Conv2D)             (None, 7, 7, 192)    147456      mixed7[0][0]                     \n",
      "__________________________________________________________________________________________________\n",
      "conv2d_182 (Conv2D)             (None, 7, 7, 192)    258048      activation_167[0][0]             \n",
      "__________________________________________________________________________________________________\n",
      "batch_normalization_176 (BatchN (None, 7, 7, 192)    576         conv2d_178[0][0]                 \n",
      "__________________________________________________________________________________________________\n",
      "batch_normalization_180 (BatchN (None, 7, 7, 192)    576         conv2d_182[0][0]                 \n",
      "__________________________________________________________________________________________________\n",
      "activation_164 (Activation)     (None, 7, 7, 192)    0           batch_normalization_176[0][0]    \n",
      "__________________________________________________________________________________________________\n",
      "activation_168 (Activation)     (None, 7, 7, 192)    0           batch_normalization_180[0][0]    \n",
      "__________________________________________________________________________________________________\n",
      "conv2d_179 (Conv2D)             (None, 3, 3, 320)    552960      activation_164[0][0]             \n",
      "__________________________________________________________________________________________________\n",
      "conv2d_183 (Conv2D)             (None, 3, 3, 192)    331776      activation_168[0][0]             \n",
      "__________________________________________________________________________________________________\n",
      "batch_normalization_177 (BatchN (None, 3, 3, 320)    960         conv2d_179[0][0]                 \n",
      "__________________________________________________________________________________________________\n",
      "batch_normalization_181 (BatchN (None, 3, 3, 192)    576         conv2d_183[0][0]                 \n",
      "__________________________________________________________________________________________________\n",
      "activation_165 (Activation)     (None, 3, 3, 320)    0           batch_normalization_177[0][0]    \n",
      "__________________________________________________________________________________________________\n",
      "activation_169 (Activation)     (None, 3, 3, 192)    0           batch_normalization_181[0][0]    \n",
      "__________________________________________________________________________________________________\n",
      "max_pooling2d_21 (MaxPooling2D) (None, 3, 3, 768)    0           mixed7[0][0]                     \n",
      "__________________________________________________________________________________________________\n",
      "mixed8 (Concatenate)            (None, 3, 3, 1280)   0           activation_165[0][0]             \n",
      "                                                                 activation_169[0][0]             \n",
      "                                                                 max_pooling2d_21[0][0]           \n",
      "__________________________________________________________________________________________________\n",
      "conv2d_188 (Conv2D)             (None, 3, 3, 448)    573440      mixed8[0][0]                     \n",
      "__________________________________________________________________________________________________\n",
      "batch_normalization_186 (BatchN (None, 3, 3, 448)    1344        conv2d_188[0][0]                 \n",
      "__________________________________________________________________________________________________\n",
      "activation_174 (Activation)     (None, 3, 3, 448)    0           batch_normalization_186[0][0]    \n",
      "__________________________________________________________________________________________________\n",
      "conv2d_185 (Conv2D)             (None, 3, 3, 384)    491520      mixed8[0][0]                     \n",
      "__________________________________________________________________________________________________\n",
      "conv2d_189 (Conv2D)             (None, 3, 3, 384)    1548288     activation_174[0][0]             \n",
      "__________________________________________________________________________________________________\n",
      "batch_normalization_183 (BatchN (None, 3, 3, 384)    1152        conv2d_185[0][0]                 \n",
      "__________________________________________________________________________________________________\n",
      "batch_normalization_187 (BatchN (None, 3, 3, 384)    1152        conv2d_189[0][0]                 \n",
      "__________________________________________________________________________________________________\n",
      "activation_171 (Activation)     (None, 3, 3, 384)    0           batch_normalization_183[0][0]    \n",
      "__________________________________________________________________________________________________\n",
      "activation_175 (Activation)     (None, 3, 3, 384)    0           batch_normalization_187[0][0]    \n",
      "__________________________________________________________________________________________________\n",
      "conv2d_186 (Conv2D)             (None, 3, 3, 384)    442368      activation_171[0][0]             \n",
      "__________________________________________________________________________________________________\n",
      "conv2d_187 (Conv2D)             (None, 3, 3, 384)    442368      activation_171[0][0]             \n",
      "__________________________________________________________________________________________________\n",
      "conv2d_190 (Conv2D)             (None, 3, 3, 384)    442368      activation_175[0][0]             \n",
      "__________________________________________________________________________________________________\n",
      "conv2d_191 (Conv2D)             (None, 3, 3, 384)    442368      activation_175[0][0]             \n",
      "__________________________________________________________________________________________________\n",
      "average_pooling2d_16 (AveragePo (None, 3, 3, 1280)   0           mixed8[0][0]                     \n",
      "__________________________________________________________________________________________________\n",
      "conv2d_184 (Conv2D)             (None, 3, 3, 320)    409600      mixed8[0][0]                     \n",
      "__________________________________________________________________________________________________\n",
      "batch_normalization_184 (BatchN (None, 3, 3, 384)    1152        conv2d_186[0][0]                 \n",
      "__________________________________________________________________________________________________\n",
      "batch_normalization_185 (BatchN (None, 3, 3, 384)    1152        conv2d_187[0][0]                 \n",
      "__________________________________________________________________________________________________\n",
      "batch_normalization_188 (BatchN (None, 3, 3, 384)    1152        conv2d_190[0][0]                 \n",
      "__________________________________________________________________________________________________\n",
      "batch_normalization_189 (BatchN (None, 3, 3, 384)    1152        conv2d_191[0][0]                 \n",
      "__________________________________________________________________________________________________\n",
      "conv2d_192 (Conv2D)             (None, 3, 3, 192)    245760      average_pooling2d_16[0][0]       \n",
      "__________________________________________________________________________________________________\n",
      "batch_normalization_182 (BatchN (None, 3, 3, 320)    960         conv2d_184[0][0]                 \n",
      "__________________________________________________________________________________________________\n",
      "activation_172 (Activation)     (None, 3, 3, 384)    0           batch_normalization_184[0][0]    \n",
      "__________________________________________________________________________________________________\n",
      "activation_173 (Activation)     (None, 3, 3, 384)    0           batch_normalization_185[0][0]    \n",
      "__________________________________________________________________________________________________\n",
      "activation_176 (Activation)     (None, 3, 3, 384)    0           batch_normalization_188[0][0]    \n",
      "__________________________________________________________________________________________________\n",
      "activation_177 (Activation)     (None, 3, 3, 384)    0           batch_normalization_189[0][0]    \n",
      "__________________________________________________________________________________________________\n",
      "batch_normalization_190 (BatchN (None, 3, 3, 192)    576         conv2d_192[0][0]                 \n",
      "__________________________________________________________________________________________________\n",
      "activation_170 (Activation)     (None, 3, 3, 320)    0           batch_normalization_182[0][0]    \n",
      "__________________________________________________________________________________________________\n",
      "mixed9_0 (Concatenate)          (None, 3, 3, 768)    0           activation_172[0][0]             \n",
      "                                                                 activation_173[0][0]             \n",
      "__________________________________________________________________________________________________\n",
      "concatenate_2 (Concatenate)     (None, 3, 3, 768)    0           activation_176[0][0]             \n",
      "                                                                 activation_177[0][0]             \n",
      "__________________________________________________________________________________________________\n",
      "activation_178 (Activation)     (None, 3, 3, 192)    0           batch_normalization_190[0][0]    \n",
      "__________________________________________________________________________________________________\n",
      "mixed9 (Concatenate)            (None, 3, 3, 2048)   0           activation_170[0][0]             \n",
      "                                                                 mixed9_0[0][0]                   \n",
      "                                                                 concatenate_2[0][0]              \n",
      "                                                                 activation_178[0][0]             \n",
      "__________________________________________________________________________________________________\n",
      "conv2d_197 (Conv2D)             (None, 3, 3, 448)    917504      mixed9[0][0]                     \n",
      "__________________________________________________________________________________________________\n",
      "batch_normalization_195 (BatchN (None, 3, 3, 448)    1344        conv2d_197[0][0]                 \n",
      "__________________________________________________________________________________________________\n",
      "activation_183 (Activation)     (None, 3, 3, 448)    0           batch_normalization_195[0][0]    \n",
      "__________________________________________________________________________________________________\n",
      "conv2d_194 (Conv2D)             (None, 3, 3, 384)    786432      mixed9[0][0]                     \n",
      "__________________________________________________________________________________________________\n",
      "conv2d_198 (Conv2D)             (None, 3, 3, 384)    1548288     activation_183[0][0]             \n",
      "__________________________________________________________________________________________________\n",
      "batch_normalization_192 (BatchN (None, 3, 3, 384)    1152        conv2d_194[0][0]                 \n",
      "__________________________________________________________________________________________________\n",
      "batch_normalization_196 (BatchN (None, 3, 3, 384)    1152        conv2d_198[0][0]                 \n",
      "__________________________________________________________________________________________________\n",
      "activation_180 (Activation)     (None, 3, 3, 384)    0           batch_normalization_192[0][0]    \n",
      "__________________________________________________________________________________________________\n",
      "activation_184 (Activation)     (None, 3, 3, 384)    0           batch_normalization_196[0][0]    \n",
      "__________________________________________________________________________________________________\n",
      "conv2d_195 (Conv2D)             (None, 3, 3, 384)    442368      activation_180[0][0]             \n",
      "__________________________________________________________________________________________________\n",
      "conv2d_196 (Conv2D)             (None, 3, 3, 384)    442368      activation_180[0][0]             \n",
      "__________________________________________________________________________________________________\n",
      "conv2d_199 (Conv2D)             (None, 3, 3, 384)    442368      activation_184[0][0]             \n",
      "__________________________________________________________________________________________________\n",
      "conv2d_200 (Conv2D)             (None, 3, 3, 384)    442368      activation_184[0][0]             \n",
      "__________________________________________________________________________________________________\n",
      "average_pooling2d_17 (AveragePo (None, 3, 3, 2048)   0           mixed9[0][0]                     \n",
      "__________________________________________________________________________________________________\n",
      "conv2d_193 (Conv2D)             (None, 3, 3, 320)    655360      mixed9[0][0]                     \n",
      "__________________________________________________________________________________________________\n",
      "batch_normalization_193 (BatchN (None, 3, 3, 384)    1152        conv2d_195[0][0]                 \n",
      "__________________________________________________________________________________________________\n",
      "batch_normalization_194 (BatchN (None, 3, 3, 384)    1152        conv2d_196[0][0]                 \n",
      "__________________________________________________________________________________________________\n",
      "batch_normalization_197 (BatchN (None, 3, 3, 384)    1152        conv2d_199[0][0]                 \n",
      "__________________________________________________________________________________________________\n",
      "batch_normalization_198 (BatchN (None, 3, 3, 384)    1152        conv2d_200[0][0]                 \n",
      "__________________________________________________________________________________________________\n",
      "conv2d_201 (Conv2D)             (None, 3, 3, 192)    393216      average_pooling2d_17[0][0]       \n",
      "__________________________________________________________________________________________________\n",
      "batch_normalization_191 (BatchN (None, 3, 3, 320)    960         conv2d_193[0][0]                 \n",
      "__________________________________________________________________________________________________\n",
      "activation_181 (Activation)     (None, 3, 3, 384)    0           batch_normalization_193[0][0]    \n",
      "__________________________________________________________________________________________________\n",
      "activation_182 (Activation)     (None, 3, 3, 384)    0           batch_normalization_194[0][0]    \n",
      "__________________________________________________________________________________________________\n",
      "activation_185 (Activation)     (None, 3, 3, 384)    0           batch_normalization_197[0][0]    \n",
      "__________________________________________________________________________________________________\n",
      "activation_186 (Activation)     (None, 3, 3, 384)    0           batch_normalization_198[0][0]    \n",
      "__________________________________________________________________________________________________\n",
      "batch_normalization_199 (BatchN (None, 3, 3, 192)    576         conv2d_201[0][0]                 \n",
      "__________________________________________________________________________________________________\n",
      "activation_179 (Activation)     (None, 3, 3, 320)    0           batch_normalization_191[0][0]    \n",
      "__________________________________________________________________________________________________\n",
      "mixed9_1 (Concatenate)          (None, 3, 3, 768)    0           activation_181[0][0]             \n",
      "                                                                 activation_182[0][0]             \n",
      "__________________________________________________________________________________________________\n",
      "concatenate_3 (Concatenate)     (None, 3, 3, 768)    0           activation_185[0][0]             \n",
      "                                                                 activation_186[0][0]             \n",
      "__________________________________________________________________________________________________\n",
      "activation_187 (Activation)     (None, 3, 3, 192)    0           batch_normalization_199[0][0]    \n",
      "__________________________________________________________________________________________________\n",
      "mixed10 (Concatenate)           (None, 3, 3, 2048)   0           activation_179[0][0]             \n",
      "                                                                 mixed9_1[0][0]                   \n",
      "                                                                 concatenate_3[0][0]              \n",
      "                                                                 activation_187[0][0]             \n",
      "==================================================================================================\n",
      "Total params: 21,802,784\n",
      "Trainable params: 21,768,352\n",
      "Non-trainable params: 34,432\n",
      "__________________________________________________________________________________________________\n"
     ]
    }
   ],
   "source": [
    "if PRETRAINED == 'VGG':\n",
    "    conv_base = VGG16(weights='imagenet',\n",
    "                  include_top=False,\n",
    "                  input_shape=(150, 150, 3))\n",
    "else:\n",
    "    conv_base = InceptionV3(weights='imagenet',\n",
    "                        include_top=False,\n",
    "                        input_shape=(150, 150, 3))\n",
    "conv_base.summary()"
   ]
  },
  {
   "cell_type": "code",
   "execution_count": 72,
   "metadata": {
    "id": "IjrQ8ijhjjkQ"
   },
   "outputs": [
    {
     "name": "stdout",
     "output_type": "stream",
     "text": [
      "Model: \"sequential_5\"\n",
      "_________________________________________________________________\n",
      "Layer (type)                 Output Shape              Param #   \n",
      "=================================================================\n",
      "inception_v3 (Model)         (None, 3, 3, 2048)        21802784  \n",
      "_________________________________________________________________\n",
      "flatten_3 (Flatten)          (None, 18432)             0         \n",
      "_________________________________________________________________\n",
      "dense_10 (Dense)             (None, 256)               4718848   \n",
      "_________________________________________________________________\n",
      "batch_normalization_200 (Bat (None, 256)               1024      \n",
      "_________________________________________________________________\n",
      "dense_11 (Dense)             (None, 5)                 1285      \n",
      "=================================================================\n",
      "Total params: 26,523,941\n",
      "Trainable params: 26,488,997\n",
      "Non-trainable params: 34,944\n",
      "_________________________________________________________________\n"
     ]
    }
   ],
   "source": [
    "model = models.Sequential()\n",
    "model.add(conv_base)\n",
    "model.add(layers.Flatten())\n",
    "model.add(layers.Dense(256, activation='relu', input_dim= 3*3*2048 ))\n",
    "model.add(layers.BatchNormalization())\n",
    "\n",
    "model.add(layers.Dense(5, activation='softmax'))\n",
    "model.summary()"
   ]
  },
  {
   "cell_type": "markdown",
   "metadata": {
    "id": "THbvTaAtjjkU"
   },
   "source": [
    "Create the generators"
   ]
  },
  {
   "cell_type": "code",
   "execution_count": 76,
   "metadata": {
    "id": "ztxnNqCwjjkU"
   },
   "outputs": [
    {
     "name": "stdout",
     "output_type": "stream",
     "text": [
      "Found 2595 images belonging to 5 classes.\n",
      "Found 863 images belonging to 5 classes.\n",
      "Found 865 images belonging to 5 classes.\n"
     ]
    }
   ],
   "source": [
    "batch = 20\n",
    "train_datagen = ImageDataGenerator(\n",
    "      rescale=1./255,\n",
    "      rotation_range=10,\n",
    "      width_shift_range=0.2,\n",
    "      height_shift_range=0.2,\n",
    "      shear_range=0.2,\n",
    "      zoom_range=0.1,\n",
    "      horizontal_flip=True,\n",
    "      vertical_flip=False)\n",
    "\n",
    "train_generator = train_datagen.flow_from_directory(\n",
    "        train_path, target_size = dimension,\n",
    "        batch_size = batch,\n",
    "        class_mode=\"categorical\")\n",
    "\n",
    "val_generator = val_datagen.flow_from_directory(\n",
    "        val_path, target_size = dimension,\n",
    "        batch_size =batch,\n",
    "        class_mode=\"categorical\")\n",
    "\n",
    "test_generator = test_datagen.flow_from_directory(\n",
    "        test_path, target_size = dimension,\n",
    "        batch_size = batch,\n",
    "        shuffle=False,\n",
    "        class_mode=\"categorical\")"
   ]
  },
  {
   "cell_type": "code",
   "execution_count": 77,
   "metadata": {},
   "outputs": [],
   "source": [
    "model.compile(optimizer='SGD',\n",
    "              loss='binary_crossentropy',\n",
    "              metrics=['accuracy'])"
   ]
  },
  {
   "cell_type": "markdown",
   "metadata": {
    "id": "fbbJkHcYjjkW"
   },
   "source": [
    "Fit the model"
   ]
  },
  {
   "cell_type": "code",
   "execution_count": 78,
   "metadata": {
    "id": "1Pmn4yNdjjkY",
    "scrolled": true
   },
   "outputs": [
    {
     "name": "stdout",
     "output_type": "stream",
     "text": [
      "Epoch 1/30\n",
      "129/129 [==============================] - 49s 376ms/step - loss: 0.1729 - accuracy: 0.8206 - val_loss: 0.1945 - val_accuracy: 0.8116\n",
      "Epoch 2/30\n",
      "129/129 [==============================] - 18s 137ms/step - loss: 0.1562 - accuracy: 0.8416 - val_loss: 0.1657 - val_accuracy: 0.8326\n",
      "Epoch 3/30\n",
      "129/129 [==============================] - 18s 139ms/step - loss: 0.1280 - accuracy: 0.8722 - val_loss: 0.1540 - val_accuracy: 0.8465\n",
      "Epoch 4/30\n",
      "129/129 [==============================] - 20s 156ms/step - loss: 0.1230 - accuracy: 0.8683 - val_loss: 0.1555 - val_accuracy: 0.8558\n",
      "Epoch 5/30\n",
      "129/129 [==============================] - 19s 151ms/step - loss: 0.1103 - accuracy: 0.8816 - val_loss: 0.1419 - val_accuracy: 0.8628\n",
      "Epoch 6/30\n",
      "129/129 [==============================] - 20s 158ms/step - loss: 0.1088 - accuracy: 0.8893 - val_loss: 0.1490 - val_accuracy: 0.8628\n",
      "Epoch 7/30\n",
      "129/129 [==============================] - 22s 173ms/step - loss: 0.1007 - accuracy: 0.8975 - val_loss: 0.1383 - val_accuracy: 0.8709\n",
      "Epoch 8/30\n",
      "129/129 [==============================] - 19s 147ms/step - loss: 0.0950 - accuracy: 0.9080 - val_loss: 0.1287 - val_accuracy: 0.8802\n",
      "Epoch 9/30\n",
      "129/129 [==============================] - 22s 167ms/step - loss: 0.0860 - accuracy: 0.9134 - val_loss: 0.1473 - val_accuracy: 0.8733\n",
      "Epoch 10/30\n",
      "129/129 [==============================] - 21s 159ms/step - loss: 0.0806 - accuracy: 0.9223 - val_loss: 0.1503 - val_accuracy: 0.8744\n",
      "Epoch 11/30\n",
      "129/129 [==============================] - 20s 157ms/step - loss: 0.0701 - accuracy: 0.9266 - val_loss: 0.1399 - val_accuracy: 0.8837\n",
      "Epoch 12/30\n",
      "129/129 [==============================] - 22s 172ms/step - loss: 0.0733 - accuracy: 0.9258 - val_loss: 0.1557 - val_accuracy: 0.8721\n",
      "Epoch 13/30\n",
      "129/129 [==============================] - 22s 172ms/step - loss: 0.0640 - accuracy: 0.9429 - val_loss: 0.1409 - val_accuracy: 0.8942\n",
      "Epoch 14/30\n",
      "129/129 [==============================] - 22s 172ms/step - loss: 0.0618 - accuracy: 0.9425 - val_loss: 0.1422 - val_accuracy: 0.8791\n",
      "Epoch 15/30\n",
      "129/129 [==============================] - 22s 171ms/step - loss: 0.0551 - accuracy: 0.9433 - val_loss: 0.1472 - val_accuracy: 0.8791\n",
      "Epoch 16/30\n",
      "129/129 [==============================] - 22s 172ms/step - loss: 0.0536 - accuracy: 0.9456 - val_loss: 0.1459 - val_accuracy: 0.8814\n",
      "Epoch 17/30\n",
      "129/129 [==============================] - 22s 174ms/step - loss: 0.0512 - accuracy: 0.9495 - val_loss: 0.1389 - val_accuracy: 0.8872\n",
      "Epoch 18/30\n",
      "129/129 [==============================] - 22s 173ms/step - loss: 0.0506 - accuracy: 0.9522 - val_loss: 0.1353 - val_accuracy: 0.8907\n",
      "Epoch 19/30\n",
      "129/129 [==============================] - 22s 173ms/step - loss: 0.0460 - accuracy: 0.9600 - val_loss: 0.1405 - val_accuracy: 0.8907\n",
      "Epoch 20/30\n",
      "129/129 [==============================] - 23s 178ms/step - loss: 0.0446 - accuracy: 0.9584 - val_loss: 0.1365 - val_accuracy: 0.8860\n",
      "Epoch 21/30\n",
      "129/129 [==============================] - 23s 176ms/step - loss: 0.0422 - accuracy: 0.9639 - val_loss: 0.1361 - val_accuracy: 0.9012\n",
      "Epoch 22/30\n",
      "129/129 [==============================] - 22s 174ms/step - loss: 0.0385 - accuracy: 0.9639 - val_loss: 0.1445 - val_accuracy: 0.8953\n",
      "Epoch 23/30\n",
      "129/129 [==============================] - 22s 173ms/step - loss: 0.0359 - accuracy: 0.9701 - val_loss: 0.1436 - val_accuracy: 0.8930\n",
      "Epoch 24/30\n",
      "129/129 [==============================] - 22s 172ms/step - loss: 0.0322 - accuracy: 0.9685 - val_loss: 0.1513 - val_accuracy: 0.8907\n",
      "Epoch 25/30\n",
      "129/129 [==============================] - 22s 174ms/step - loss: 0.0294 - accuracy: 0.9763 - val_loss: 0.1454 - val_accuracy: 0.9035\n",
      "Epoch 26/30\n",
      "129/129 [==============================] - 22s 173ms/step - loss: 0.0374 - accuracy: 0.9654 - val_loss: 0.1413 - val_accuracy: 0.9023\n",
      "Epoch 27/30\n",
      "129/129 [==============================] - 23s 178ms/step - loss: 0.0341 - accuracy: 0.9678 - val_loss: 0.1444 - val_accuracy: 0.9035\n",
      "Epoch 28/30\n",
      "129/129 [==============================] - 23s 177ms/step - loss: 0.0401 - accuracy: 0.9600 - val_loss: 0.1395 - val_accuracy: 0.9023\n",
      "Epoch 29/30\n",
      "129/129 [==============================] - 23s 176ms/step - loss: 0.0351 - accuracy: 0.9666 - val_loss: 0.1419 - val_accuracy: 0.9023\n",
      "Epoch 30/30\n",
      "129/129 [==============================] - 23s 176ms/step - loss: 0.0294 - accuracy: 0.9697 - val_loss: 0.1402 - val_accuracy: 0.9047\n"
     ]
    }
   ],
   "source": [
    "STEPS_PER_EPOCH = train_generator.n // train_generator.batch_size\n",
    "VALIDATION_STEPS = val_generator.n // val_generator.batch_size\n",
    "history = model.fit_generator(train_generator, steps_per_epoch=STEPS_PER_EPOCH,\n",
    "                                   epochs = EPOCHS,\n",
    "                                   validation_data = val_generator,\n",
    "                                   validation_steps = VALIDATION_STEPS)\n"
   ]
  },
  {
   "cell_type": "markdown",
   "metadata": {
    "id": "N70tsjarjjkZ"
   },
   "source": [
    "### Analyzing the fitting performance over epochs"
   ]
  },
  {
   "cell_type": "markdown",
   "metadata": {
    "id": "tP-GExmTjjka"
   },
   "source": [
    "Show the training accuracy along with the epochs"
   ]
  },
  {
   "cell_type": "code",
   "execution_count": 79,
   "metadata": {
    "id": "lqhnXyv5jjkb"
   },
   "outputs": [],
   "source": [
    "# save the model\n",
    "model.save('classifier_pre_aug.h5')"
   ]
  },
  {
   "cell_type": "code",
   "execution_count": 80,
   "metadata": {},
   "outputs": [],
   "source": [
    "model = load_model('classifier_pre_aug.h5')"
   ]
  },
  {
   "cell_type": "code",
   "execution_count": 81,
   "metadata": {},
   "outputs": [
    {
     "data": {
      "image/png": "[encoded data removed]",
      "text/plain": [
       "<Figure size 432x288 with 1 Axes>"
      ]
     },
     "metadata": {
      "needs_background": "light"
     },
     "output_type": "display_data"
    },
    {
     "data": {
      "image/png": "[encoded data removed]",
      "text/plain": [
       "<Figure size 432x288 with 1 Axes>"
      ]
     },
     "metadata": {
      "needs_background": "light"
     },
     "output_type": "display_data"
    }
   ],
   "source": [
    "plot_perf()"
   ]
  },
  {
   "cell_type": "markdown",
   "metadata": {
    "id": "GFbYgUk0jjkc"
   },
   "source": [
    "### Predicting the test set"
   ]
  },
  {
   "cell_type": "markdown",
   "metadata": {
    "id": "_TE57BjLjjkd"
   },
   "source": [
    "Apply now your network to the test set"
   ]
  },
  {
   "cell_type": "code",
   "execution_count": 87,
   "metadata": {
    "id": "ffHDlG8cjjke"
   },
   "outputs": [],
   "source": [
    "# predict\n",
    "y_hat = model.predict_generator(test_generator, steps=test_generator.n//test_generator.batch_size +1)\n",
    "y_hat = y_hat.argmax(1)\n",
    "# true labels\n",
    "y_true = test_generator.classes\n"
   ]
  },
  {
   "cell_type": "markdown",
   "metadata": {
    "id": "m_8gOzSajjkg"
   },
   "source": [
    "Report the accuracy as well as the classification report. Use sklearn functions"
   ]
  },
  {
   "cell_type": "code",
   "execution_count": 88,
   "metadata": {
    "id": "9ycwJjp5jjkh"
   },
   "outputs": [
    {
     "name": "stdout",
     "output_type": "stream",
     "text": [
      "Class indices  {'daisy': 0, 'dandelion': 1, 'rose': 2, 'sunflower': 3, 'tulip': 4}\n",
      "sklearn accuracy: 0.8797687861271676\n",
      "Classification report:\n",
      "               precision    recall  f1-score   support\n",
      "\n",
      "       daisy       0.93      0.86      0.89       162\n",
      "   dandelion       0.91      0.94      0.93       228\n",
      "        rose       0.87      0.78      0.82       152\n",
      "   sunflower       0.89      0.91      0.90       137\n",
      "       tulip       0.81      0.88      0.84       186\n",
      "\n",
      "    accuracy                           0.88       865\n",
      "   macro avg       0.88      0.87      0.88       865\n",
      "weighted avg       0.88      0.88      0.88       865\n",
      "\n"
     ]
    }
   ],
   "source": [
    "print(\"Class indices \", train_generator.class_indices)\n",
    "print(\"sklearn accuracy:\", accuracy_score(y_true, y_hat))\n",
    "print(\"Classification report:\\n\",classification_report(y_true, y_hat, target_names=train_generator.class_indices.keys()))"
   ]
  },
  {
   "cell_type": "markdown",
   "metadata": {
    "id": "wAB1b9LMjjkj"
   },
   "source": [
    "Print the confusion matrix"
   ]
  },
  {
   "cell_type": "code",
   "execution_count": 84,
   "metadata": {
    "id": "S4qnuudwjjkl"
   },
   "outputs": [
    {
     "name": "stdout",
     "output_type": "stream",
     "text": [
      "Classification report:\n",
      " [[140  10   4   4   4]\n",
      " [  5 215   1   2   5]\n",
      " [  0   3 118   3  28]\n",
      " [  2   5   4 124   2]\n",
      " [  4   3   9   6 164]]\n"
     ]
    }
   ],
   "source": [
    "print(\"Classification report:\\n\", confusion_matrix(y_true, y_hat))"
   ]
  },
  {
   "cell_type": "markdown",
   "metadata": {
    "id": "4FJoURNfjjko"
   },
   "source": [
    "Finally, run a model evaluation and store the loss and accuracy in the `test_loss_4` and `test_acc_4` variables. As with fitting, you may need to adjust the number of steps so that your network tests all the samples."
   ]
  },
  {
   "cell_type": "code",
   "execution_count": 89,
   "metadata": {
    "id": "8ZMsfx-Njjko"
   },
   "outputs": [
    {
     "data": {
      "text/plain": [
       "(0.16645976901054382, 0.8797687888145447)"
      ]
     },
     "execution_count": 89,
     "metadata": {},
     "output_type": "execute_result"
    }
   ],
   "source": [
    "test_loss_4, test_acc_4 = model.evaluate_generator(test_generator, steps=test_generator.n//test_generator.batch_size +1)\n",
    "test_loss_4, test_acc_4"
   ]
  },
  {
   "cell_type": "markdown",
   "metadata": {
    "id": "XIYpdt2ojjkr"
   },
   "source": [
    "## Passing the Assignment"
   ]
  },
  {
   "cell_type": "markdown",
   "metadata": {
    "id": "g9IXUGYjjjks"
   },
   "source": [
    "To pass the assignment, you need to reach an accuracy of 75 (even 80 ideally) with your best network."
   ]
  },
  {
   "cell_type": "code",
   "execution_count": 90,
   "metadata": {
    "id": "m0Bjry7ajjks"
   },
   "outputs": [
    {
     "data": {
      "text/plain": [
       "((1.1903374195098877, 0.7132948040962219),\n",
       " (0.9700126051902771, 0.6728323698043823),\n",
       " (0.5586255788803101, 0.8150289058685303),\n",
       " (0.16645976901054382, 0.8797687888145447))"
      ]
     },
     "execution_count": 90,
     "metadata": {},
     "output_type": "execute_result"
    }
   ],
   "source": [
    "(test_loss_1, test_acc_1), (test_loss_2, test_acc_2), (test_loss_3, test_acc_3), (test_loss_4, test_acc_4)"
   ]
  },
  {
   "cell_type": "code",
   "execution_count": 91,
   "metadata": {},
   "outputs": [
    {
     "data": {
      "text/plain": [
       "'2.4.3'"
      ]
     },
     "execution_count": 91,
     "metadata": {},
     "output_type": "execute_result"
    }
   ],
   "source": [
    "import keras\n",
    "import tensorflow as tf\n",
    "keras.__version__"
   ]
  },
  {
   "cell_type": "code",
   "execution_count": 92,
   "metadata": {},
   "outputs": [],
   "source": [
    "from tensorflow.keras.applications import VGG16\n",
    "from tensorflow.keras import backend as K"
   ]
  },
  {
   "cell_type": "markdown",
   "metadata": {},
   "source": [
    "## Visualizing heatmaps of class activation\n"
   ]
  },
  {
   "cell_type": "code",
   "execution_count": 93,
   "metadata": {},
   "outputs": [
    {
     "name": "stdout",
     "output_type": "stream",
     "text": [
      "Model: \"vgg16\"\n",
      "_________________________________________________________________\n",
      "Layer (type)                 Output Shape              Param #   \n",
      "=================================================================\n",
      "input_1 (InputLayer)         [(None, 224, 224, 3)]     0         \n",
      "_________________________________________________________________\n",
      "block1_conv1 (Conv2D)        (None, 224, 224, 64)      1792      \n",
      "_________________________________________________________________\n",
      "block1_conv2 (Conv2D)        (None, 224, 224, 64)      36928     \n",
      "_________________________________________________________________\n",
      "block1_pool (MaxPooling2D)   (None, 112, 112, 64)      0         \n",
      "_________________________________________________________________\n",
      "block2_conv1 (Conv2D)        (None, 112, 112, 128)     73856     \n",
      "_________________________________________________________________\n",
      "block2_conv2 (Conv2D)        (None, 112, 112, 128)     147584    \n",
      "_________________________________________________________________\n",
      "block2_pool (MaxPooling2D)   (None, 56, 56, 128)       0         \n",
      "_________________________________________________________________\n",
      "block3_conv1 (Conv2D)        (None, 56, 56, 256)       295168    \n",
      "_________________________________________________________________\n",
      "block3_conv2 (Conv2D)        (None, 56, 56, 256)       590080    \n",
      "_________________________________________________________________\n",
      "block3_conv3 (Conv2D)        (None, 56, 56, 256)       590080    \n",
      "_________________________________________________________________\n",
      "block3_pool (MaxPooling2D)   (None, 28, 28, 256)       0         \n",
      "_________________________________________________________________\n",
      "block4_conv1 (Conv2D)        (None, 28, 28, 512)       1180160   \n",
      "_________________________________________________________________\n",
      "block4_conv2 (Conv2D)        (None, 28, 28, 512)       2359808   \n",
      "_________________________________________________________________\n",
      "block4_conv3 (Conv2D)        (None, 28, 28, 512)       2359808   \n",
      "_________________________________________________________________\n",
      "block4_pool (MaxPooling2D)   (None, 14, 14, 512)       0         \n",
      "_________________________________________________________________\n",
      "block5_conv1 (Conv2D)        (None, 14, 14, 512)       2359808   \n",
      "_________________________________________________________________\n",
      "block5_conv2 (Conv2D)        (None, 14, 14, 512)       2359808   \n",
      "_________________________________________________________________\n",
      "block5_conv3 (Conv2D)        (None, 14, 14, 512)       2359808   \n",
      "_________________________________________________________________\n",
      "block5_pool (MaxPooling2D)   (None, 7, 7, 512)         0         \n",
      "_________________________________________________________________\n",
      "flatten (Flatten)            (None, 25088)             0         \n",
      "_________________________________________________________________\n",
      "fc1 (Dense)                  (None, 4096)              102764544 \n",
      "_________________________________________________________________\n",
      "fc2 (Dense)                  (None, 4096)              16781312  \n",
      "_________________________________________________________________\n",
      "predictions (Dense)          (None, 1000)              4097000   \n",
      "=================================================================\n",
      "Total params: 138,357,544\n",
      "Trainable params: 138,357,544\n",
      "Non-trainable params: 0\n",
      "_________________________________________________________________\n"
     ]
    }
   ],
   "source": [
    "from keras.applications.vgg16 import VGG16\n",
    "\n",
    "K.clear_session()\n",
    "model = VGG16(weights='imagenet')\n",
    "model.summary()"
   ]
  },
  {
   "cell_type": "code",
   "execution_count": 94,
   "metadata": {},
   "outputs": [],
   "source": [
    "from keras.preprocessing import image\n",
    "from keras.applications.vgg16 import preprocess_input, decode_predictions\n",
    "import numpy as np\n",
    "\n",
    "# The local path to our target image\n",
    "img_path = '/home/nabil/Bureau/3A/courses/machine_learning/lab/lab_2020/Applied-Machine-Learning/CNN/daisy.jpg'\n",
    "img_path = '/home/nabil/Bureau/3A/courses/machine_learning/lab/lab_2020/Applied-Machine-Learning/CNN/lion.jpg'\n",
    "\n",
    "# `img` is a PIL image of size 224x224\n",
    "img = image.load_img(img_path, target_size=(224, 224))\n",
    "\n",
    "# `x` is a float32 Numpy array of shape (224, 224, 3)\n",
    "x = image.img_to_array(img)\n",
    "\n",
    "# We add a dimension to transform our array into a \"batch\"\n",
    "# of size (1, 224, 224, 3)\n",
    "x = np.expand_dims(x, axis=0)\n",
    "\n",
    "# Finally we preprocess the batch\n",
    "# (this does channel-wise color normalization)\n",
    "x = preprocess_input(x)"
   ]
  },
  {
   "cell_type": "code",
   "execution_count": 95,
   "metadata": {},
   "outputs": [
    {
     "name": "stdout",
     "output_type": "stream",
     "text": [
      "Predicted: [('n02129165', 'lion', 0.6496539), ('n02115913', 'dhole', 0.22982237), ('n02112137', 'chow', 0.028150598)]\n"
     ]
    }
   ],
   "source": [
    "preds = model.predict(x)\n",
    "print('Predicted:', decode_predictions(preds, top=3)[0])"
   ]
  },
  {
   "cell_type": "markdown",
   "metadata": {},
   "source": [
    "To visualize which parts of our image were the most \"African elephant\"-like, let's set up the Grad-CAM process:"
   ]
  },
  {
   "cell_type": "code",
   "execution_count": 96,
   "metadata": {},
   "outputs": [],
   "source": [
    "# This is the \"african elephant\" entry in the prediction vector\n",
    "african_elephant_output = model.output[:, np.argmax(preds[0])]\n",
    "\n",
    "# The is the output feature map of the `block5_conv3` layer,\n",
    "# the last convolutional layer in VGG16\n",
    "last_conv_layer = model.get_layer('block5_conv3')\n",
    "\n",
    "# This function allows us to access the values of the quantities we just defined:\n",
    "# `pooled_grads` and the output feature map of `block5_conv3`,\n",
    "# given a sample image\n",
    "feature_extractor = tf.keras.models.Model(model.inputs, [last_conv_layer.output, model.output])\n",
    "\n",
    "# This is the gradient of the \"african elephant\" class with regard to\n",
    "# the output feature map of `block5_conv3`\n",
    "with tf.GradientTape() as tape:\n",
    "    conv_layer_output_value, predictions = feature_extractor(x)\n",
    "    loss = predictions[:, np.argmax(preds[0])]\n",
    "grads = tape.gradient(loss, conv_layer_output_value)\n",
    "\n",
    "pooled_grads = K.mean(grads, axis=(0, 1, 2))\n",
    "\n",
    "# We multiply each channel in the feature map array\n",
    "# by \"how important this channel is\" with regard to the elephant class\n",
    "#for i in range(512):\n",
    "#    conv_layer_output_value[:, :, i] *= pooled_grads_value[i]\n",
    "conv_layer_output_value = tf.multiply(pooled_grads, conv_layer_output_value[0])\n",
    "\n",
    "# The channel-wise mean of the resulting feature map\n",
    "# is our heatmap of class activation\n",
    "heatmap = np.mean(conv_layer_output_value, axis=-1)"
   ]
  },
  {
   "cell_type": "markdown",
   "metadata": {},
   "source": [
    "For visualization purpose, we will also normalize the heatmap between 0 and 1:"
   ]
  },
  {
   "cell_type": "code",
   "execution_count": 97,
   "metadata": {},
   "outputs": [
    {
     "data": {
      "image/png": "[encoded data removed]",
      "text/plain": [
       "<Figure size 288x288 with 1 Axes>"
      ]
     },
     "metadata": {
      "needs_background": "light"
     },
     "output_type": "display_data"
    }
   ],
   "source": [
    "import matplotlib.pyplot as plt\n",
    "heatmap = np.maximum(heatmap, 0)\n",
    "heatmap /= np.max(heatmap)\n",
    "plt.matshow(heatmap)\n",
    "plt.savefig('heatmap_lion.png')\n",
    "plt.show()"
   ]
  },
  {
   "cell_type": "markdown",
   "metadata": {},
   "source": [
    "Finally, we will use OpenCV to generate an image that superimposes the original image with the heatmap we just obtained:"
   ]
  },
  {
   "cell_type": "code",
   "execution_count": 98,
   "metadata": {},
   "outputs": [
    {
     "name": "stderr",
     "output_type": "stream",
     "text": [
      "Clipping input data to the valid range for imshow with RGB data ([0..1] for floats or [0..255] for integers).\n"
     ]
    },
    {
     "data": {
      "text/plain": [
       "True"
      ]
     },
     "execution_count": 98,
     "metadata": {},
     "output_type": "execute_result"
    },
    {
     "data": {
      "image/png": "[encoded data removed]",
      "text/plain": [
       "<Figure size 432x288 with 1 Axes>"
      ]
     },
     "metadata": {
      "needs_background": "light"
     },
     "output_type": "display_data"
    }
   ],
   "source": [
    "import cv2\n",
    "\n",
    "# We use cv2 to load the original image\n",
    "img = cv2.imread(img_path)/255.\n",
    "plt.imshow(img)\n",
    "# We resize the heatmap to have the same size as the original image\n",
    "heatmap = cv2.resize(heatmap, (img.shape[1], img.shape[0]))\n",
    "\n",
    "# We convert the heatmap to RGB\n",
    "heatmap = np.uint8(255 * heatmap)\n",
    "plt.imshow(heatmap)\n",
    "\n",
    "# We apply the heatmap to the original image\n",
    "heatmap = cv2.applyColorMap(heatmap, cv2.COLORMAP_JET)\n",
    "\n",
    "# 0.4 here is a heatmap intensity factor\n",
    "superimposed_img = heatmap * 0.4/255. + img \n",
    "plt.imshow(superimposed_img)\n",
    "# Save the image to disk\n",
    "cv2.imwrite('heat_lion.jpg', superimposed_img)"
   ]
  },
  {
   "cell_type": "code",
   "execution_count": null,
   "metadata": {},
   "outputs": [],
   "source": []
  }
 ],
 "metadata": {
  "accelerator": "GPU",
  "colab": {
   "collapsed_sections": [
    "fc2LwqFYjjiu",
    "_DWJMbqhjji7",
    "B7LjAj8DjjjQ",
    "qByVL0-hjjjY",
    "ySF0Lxd3jjje",
    "Wf1fMeCKjjjk",
    "a4QoySMKjjj6",
    "iO2E-jVGjjj-",
    "uW77m9ikjjkL",
    "N70tsjarjjkZ",
    "GFbYgUk0jjkc"
   ],
   "name": "cnn.ipynb",
   "provenance": [],
   "toc_visible": true
  },
  "kernelspec": {
   "display_name": "Python 3",
   "language": "python",
   "name": "python3"
  },
  "language_info": {
   "codemirror_mode": {
    "name": "ipython",
    "version": 3
   },
   "file_extension": ".py",
   "mimetype": "text/x-python",
   "name": "python",
   "nbconvert_exporter": "python",
   "pygments_lexer": "ipython3",
   "version": "3.7.3"
  }
 },
 "nbformat": 4,
 "nbformat_minor": 1
}

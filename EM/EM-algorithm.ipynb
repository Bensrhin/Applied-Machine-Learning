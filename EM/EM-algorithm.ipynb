{
 "cells": [
  {
   "cell_type": "markdown",
   "metadata": {},
   "source": [
    "#  EM-algorithm"
   ]
  },
  {
   "cell_type": "code",
   "execution_count": 1,
   "metadata": {},
   "outputs": [],
   "source": [
    "import numpy as np\n",
    "import math\n",
    "import matplotlib.pyplot as plt\n",
    "from sklearn.metrics import classification_report, confusion_matrix"
   ]
  },
  {
   "cell_type": "markdown",
   "metadata": {},
   "source": [
    "## Data Preprocessing"
   ]
  },
  {
   "cell_type": "markdown",
   "metadata": {},
   "source": [
    "### SciKitLearn digits"
   ]
  },
  {
   "cell_type": "code",
   "execution_count": 2,
   "metadata": {},
   "outputs": [],
   "source": [
    "from sklearn import datasets\n",
    "digits = datasets.load_digits()\n",
    "x_digits = digits.data\n",
    "y_digits = digits.target"
   ]
  },
  {
   "cell_type": "markdown",
   "metadata": {},
   "source": [
    "Spliting the data set into 70% training data and 30% test data."
   ]
  },
  {
   "cell_type": "code",
   "execution_count": 3,
   "metadata": {},
   "outputs": [],
   "source": [
    "from sklearn.model_selection import train_test_split\n",
    "x_digits_train, x_digits_test, y_digits_train, y_digits_test = train_test_split(x_digits, y_digits, test_size=0.3, random_state=42)\n",
    "x_digits_train, x_digits_test = x_digits_train/16.0, x_digits_test/16.0"
   ]
  },
  {
   "cell_type": "markdown",
   "metadata": {},
   "source": [
    "### EM-clustering against ground truth"
   ]
  },
  {
   "cell_type": "code",
   "execution_count": 4,
   "metadata": {},
   "outputs": [],
   "source": [
    "import heapq\n",
    "class EM_Gauss():\n",
    "    def __init__(self, epsilon = 1e-2, threshold = 1e-3):\n",
    "        self.epsilon = epsilon\n",
    "        self.threshold = threshold\n",
    "\n",
    "    # density function of the normal distribution\n",
    "    def pdf_vector(self, x, mean, var):\n",
    "        return 1 / np.sqrt(2 * np.pi * var) * np.exp(-1 / (2 * var) * (x - mean) ** 2)\n",
    "    \n",
    "    # fitting the model using EM algorithm\n",
    "    def fit(self, data, target, labels):\n",
    "        data = np.array(data)\n",
    "        self.labels = labels\n",
    "        nb_samples, nb_features = np.shape(data)\n",
    "        self.priors = np.ones(labels)/labels\n",
    "            \n",
    "        # Initiliazing means and standard deviations\n",
    "        self.means = np.empty([labels, nb_features])\n",
    "        self.std = np.empty([labels, nb_features])\n",
    "        \n",
    "        for k in range(labels):\n",
    "            self.means[k] = np.mean(data[target == k], axis = 0)\n",
    "            self.std[k] = np.var(data[target == k], axis = 0)\n",
    "        self.std += self.epsilon\n",
    "        \n",
    "        # Weights\n",
    "        proba = np.empty([labels, nb_samples])\n",
    "        weights = np.empty([labels, nb_samples])\n",
    "        prev_priors = np.zeros(labels)\n",
    "        \n",
    "        while True:\n",
    "            \n",
    "            # E step\n",
    "            for k in range(labels):\n",
    "                proba[k,:] = np.prod(self.pdf_vector(data, self.means[k], self.std[k]), axis=1)\n",
    "                weights[k, :] = self.priors[k] * proba[k,:]\n",
    "            weights = weights / (np.sum(weights, axis = 0))\n",
    "\n",
    "            # M step\n",
    "            rk = np.sum(weights, axis = 1)\n",
    "            prev_priors = self.priors\n",
    "            self.priors = rk / nb_samples\n",
    "                   \n",
    "            # Updation means and std\n",
    "            for k in range(labels):\n",
    "                self.means[k] = np.sum(weights[k, :].reshape(-1,1) * data, axis = 0) / rk[k]\n",
    "                self.std[k] = np.diag( ( weights[k, :].reshape(-1, 1) * (data - self.means[k]) ).T @ (data - self.means[k]) / rk[k] )\n",
    "            self.std += self.epsilon\n",
    "            \n",
    "            # Condition of stop (comparing prior probabilities with previous priors)\n",
    "            if (np.linalg.norm(prev_priors - self.priors) < self.threshold):\n",
    "                break\n",
    "        \n",
    "\n",
    "    # Predicting the labels for given features\n",
    "    def predict(self, test):\n",
    "        x = np.array(test)\n",
    "        length = x.shape[0]\n",
    "        y_hat = np.zeros((length, ))  \n",
    "        for i in range(length):\n",
    "            proba = dict()\n",
    "            probas = []\n",
    "            for label in range(self.labels):          \n",
    "                product = np.longdouble(-self.priors[label])\n",
    "                for j in range(x.shape[1]):\n",
    "                      product *= self.pdf_vector(x[i][j], self.means[label][j], math.sqrt(self.std[label][j]))\n",
    "                heapq.heappush(probas, product)\n",
    "                proba[product] = label\n",
    "            \n",
    "            y_hat[i] = proba[probas[0]]\n",
    "        return y_hat\n",
    "    \n",
    "    def __repr__(self):\n",
    "        return \"EM_Gauss(epsilon={})\".format(self.epsilon)\n",
    "    def __str__(self):\n",
    "        return \"EM_Gauss(epsilon={})\".format(self.epsilon)"
   ]
  },
  {
   "cell_type": "code",
   "execution_count": 5,
   "metadata": {},
   "outputs": [],
   "source": [
    "classifier = EM_Gauss()\n",
    "classifier.fit(x_digits_train, y_digits_train, 10)"
   ]
  },
  {
   "cell_type": "code",
   "execution_count": 6,
   "metadata": {},
   "outputs": [],
   "source": [
    "y_hat = classifier.predict(x_digits_train)"
   ]
  },
  {
   "cell_type": "code",
   "execution_count": 7,
   "metadata": {},
   "outputs": [
    {
     "name": "stdout",
     "output_type": "stream",
     "text": [
      "Completeness:  0.7750072213204816\n",
      "homogeneity:  0.7662787437951897\n",
      "mutual_info:  0.7672811522523626\n"
     ]
    }
   ],
   "source": [
    "from sklearn.metrics import completeness_score, homogeneity_score, adjusted_mutual_info_score\n",
    "\n",
    "print(\"Completeness: \", completeness_score(y_digits_train, y_hat))\n",
    "print(\"homogeneity: \", homogeneity_score(y_digits_train, y_hat))\n",
    "print(\"mutual_info: \", adjusted_mutual_info_score(y_digits_train, y_hat))"
   ]
  },
  {
   "cell_type": "code",
   "execution_count": 8,
   "metadata": {},
   "outputs": [
    {
     "name": "stdout",
     "output_type": "stream",
     "text": [
      "Confusion matrix:\n",
      " [[124   0   0   0   1   0   0   0   0   0]\n",
      " [  0  99  10   0   0   1   8   0   0  14]\n",
      " [  1   7 114   3   0   0   0   1   4   0]\n",
      " [  0   1   0 117   0   1   0   6   3   1]\n",
      " [  0   3   0   0 111   0   0   4   3   0]\n",
      " [  2   0   0  10   0 102   0   0   1   1]\n",
      " [  0   1   0   0   0   0 127   0   0   0]\n",
      " [  0   1   0   0   0   0   0 121   2   0]\n",
      " [  0  32   2   4   0   1   5   1  85   1]\n",
      " [  3   1   0  50   0   1   0   8   3  55]] \n",
      "\n",
      "classification report:\n",
      "               precision    recall  f1-score   support\n",
      "\n",
      "           0       0.95      0.99      0.97       125\n",
      "           1       0.68      0.75      0.71       132\n",
      "           2       0.90      0.88      0.89       130\n",
      "           3       0.64      0.91      0.75       129\n",
      "           4       0.99      0.92      0.95       121\n",
      "           5       0.96      0.88      0.92       116\n",
      "           6       0.91      0.99      0.95       128\n",
      "           7       0.86      0.98      0.91       124\n",
      "           8       0.84      0.65      0.73       131\n",
      "           9       0.76      0.45      0.57       121\n",
      "\n",
      "    accuracy                           0.84      1257\n",
      "   macro avg       0.85      0.84      0.84      1257\n",
      "weighted avg       0.85      0.84      0.83      1257\n",
      " \n",
      "\n"
     ]
    }
   ],
   "source": [
    "# Evaluation:\n",
    "print(\"Confusion matrix:\\n\", confusion_matrix(y_digits_train, y_hat), \"\\n\")\n",
    "print(\"classification report:\\n\", classification_report(y_digits_train, y_hat), \"\\n\")"
   ]
  },
  {
   "cell_type": "markdown",
   "metadata": {},
   "source": [
    "### K-means against ground truth"
   ]
  },
  {
   "cell_type": "code",
   "execution_count": 440,
   "metadata": {},
   "outputs": [],
   "source": [
    "from sklearn.cluster import KMeans\n",
    "model = KMeans(n_clusters=10, random_state=0)\n",
    "# fitting the model\n",
    "cluster = model.fit(x_digits_train)"
   ]
  },
  {
   "cell_type": "code",
   "execution_count": 442,
   "metadata": {},
   "outputs": [],
   "source": [
    "y_hat = model.predict(x_digits_train)"
   ]
  },
  {
   "cell_type": "code",
   "execution_count": 443,
   "metadata": {},
   "outputs": [
    {
     "name": "stdout",
     "output_type": "stream",
     "text": [
      "Completeness:  0.7360914843284315\n",
      "homogeneity:  0.7285326270567938\n",
      "mutual_info:  0.7246048855466674\n"
     ]
    },
    {
     "name": "stderr",
     "output_type": "stream",
     "text": [
      "/home/nabil/anaconda3/lib/python3.7/site-packages/sklearn/metrics/cluster/supervised.py:746: FutureWarning: The behavior of AMI will change in version 0.22. To match the behavior of 'v_measure_score', AMI will use average_method='arithmetic' by default.\n",
      "  FutureWarning)\n"
     ]
    }
   ],
   "source": [
    "print(\"Completeness: \", completeness_score(y_digits_train, y_hat))\n",
    "print(\"homogeneity: \", homogeneity_score(y_digits_train, y_hat))\n",
    "print(\"mutual_info: \", adjusted_mutual_info_score(y_digits_train, y_hat))"
   ]
  },
  {
   "cell_type": "markdown",
   "metadata": {},
   "source": [
    "### EM against k-Means"
   ]
  },
  {
   "cell_type": "code",
   "execution_count": 462,
   "metadata": {},
   "outputs": [],
   "source": [
    "class EM_Kmeans():\n",
    "    def __init__(self, epsilon = 1e-2):\n",
    "        self.epsilon = epsilon\n",
    "    \n",
    "    def fit(self, data, target, labels):\n",
    "        data = np.array(data)\n",
    "        self.labels = labels\n",
    "        nb_samples, nb_features = np.shape(data)            \n",
    "        self.means = np.empty([labels, nb_features])\n",
    "        self.z = np.empty(nb_samples)\n",
    "\n",
    "        for k in range(labels):\n",
    "            self.means[k] = np.mean(data[target == k], axis = 0)\n",
    "        \n",
    "        prev_means = np.zeros((labels, nb_features))\n",
    "        while np.linalg.norm(prev_means - self.means) > 1e-6:\n",
    "            \n",
    "            prev_means = np.array(self.means)\n",
    "            # E step\n",
    "            for i in range(nb_samples):\n",
    "                distance = []\n",
    "                index = dict()\n",
    "                for k in range(labels):\n",
    "                    norm = np.linalg.norm(data[i] - self.means[k])\n",
    "                    heapq.heappush(distance, norm**2)\n",
    "                    index[norm**2] = k\n",
    "                self.z[i] = index[distance[0]]\n",
    "            # M step \n",
    "            for k in range(labels):\n",
    "                self.means[k] = np.mean(data[self.z == k], axis = 0)\n",
    "\n",
    "    def predict(self, test):\n",
    "        x = np.array(test)\n",
    "        length = x.shape[0]\n",
    "        y_hat = np.zeros((length, ))  \n",
    "        for i in range(length):\n",
    "            proba = dict()\n",
    "            probas = []\n",
    "            for label in range(self.labels):          \n",
    "                product = np.longdouble(-self.priors[label])\n",
    "                for j in range(x.shape[1]):\n",
    "                      product *= self.pdf_vector(x[i][j], self.means[label][j], math.sqrt(self.std[label][j]))\n",
    "                heapq.heappush(probas, product)\n",
    "                proba[product] = label\n",
    "            \n",
    "            y_hat[i] = proba[probas[0]]\n",
    "        return y_hat\n",
    "    \n",
    "    def __repr__(self):\n",
    "        return \"EM_Kmeans(epsilon={})\".format(self.epsilon)\n",
    "    def __str__(self):\n",
    "        return \"EM_Kmeans(epsilon={})\".format(self.epsilon)"
   ]
  },
  {
   "cell_type": "code",
   "execution_count": 472,
   "metadata": {},
   "outputs": [],
   "source": [
    "classifier = EM_Kmeans()\n",
    "classifier.fit(x_digits_train, y_digits_train, 10)"
   ]
  },
  {
   "cell_type": "code",
   "execution_count": 464,
   "metadata": {},
   "outputs": [],
   "source": [
    "y_hat = model.predict(x_digits_train)"
   ]
  },
  {
   "cell_type": "code",
   "execution_count": 465,
   "metadata": {},
   "outputs": [
    {
     "name": "stdout",
     "output_type": "stream",
     "text": [
      "Completeness:  0.7360914843284315\n",
      "homogeneity:  0.7285326270567938\n",
      "mutual_info:  0.7246048855466674\n"
     ]
    },
    {
     "name": "stderr",
     "output_type": "stream",
     "text": [
      "/home/nabil/anaconda3/lib/python3.7/site-packages/sklearn/metrics/cluster/supervised.py:746: FutureWarning: The behavior of AMI will change in version 0.22. To match the behavior of 'v_measure_score', AMI will use average_method='arithmetic' by default.\n",
      "  FutureWarning)\n"
     ]
    }
   ],
   "source": [
    "print(\"Completeness: \", completeness_score(y_digits_train, y_hat))\n",
    "print(\"homogeneity: \", homogeneity_score(y_digits_train, y_hat))\n",
    "print(\"mutual_info: \", adjusted_mutual_info_score(y_digits_train, y_hat))"
   ]
  },
  {
   "cell_type": "code",
   "execution_count": 473,
   "metadata": {},
   "outputs": [
    {
     "name": "stdout",
     "output_type": "stream",
     "text": [
      "Completeness:  0.769142602293317\n",
      "homogeneity:  0.7570724943188667\n",
      "mutual_info:  0.7483708732266358\n"
     ]
    },
    {
     "name": "stderr",
     "output_type": "stream",
     "text": [
      "/home/nabil/anaconda3/lib/python3.7/site-packages/sklearn/metrics/cluster/supervised.py:746: FutureWarning: The behavior of AMI will change in version 0.22. To match the behavior of 'v_measure_score', AMI will use average_method='arithmetic' by default.\n",
      "  FutureWarning)\n"
     ]
    }
   ],
   "source": [
    "# classifier = EM_Kmeans()\n",
    "# classifier.fit(x_digits_test, y_digits_test, 10)\n",
    "y_hat = model.predict(x_digits_test)\n",
    "print(\"Completeness: \", completeness_score(y_digits_test, y_hat))\n",
    "print(\"homogeneity: \", homogeneity_score(y_digits_test, y_hat))\n",
    "print(\"mutual_info: \", adjusted_mutual_info_score(y_digits_test, y_hat))"
   ]
  },
  {
   "cell_type": "code",
   "execution_count": null,
   "metadata": {},
   "outputs": [],
   "source": []
  }
 ],
 "metadata": {
  "kernelspec": {
   "display_name": "Python 3",
   "language": "python",
   "name": "python3"
  },
  "language_info": {
   "codemirror_mode": {
    "name": "ipython",
    "version": 3
   },
   "file_extension": ".py",
   "mimetype": "text/x-python",
   "name": "python",
   "nbconvert_exporter": "python",
   "pygments_lexer": "ipython3",
   "version": "3.7.3"
  }
 },
 "nbformat": 4,
 "nbformat_minor": 2
}

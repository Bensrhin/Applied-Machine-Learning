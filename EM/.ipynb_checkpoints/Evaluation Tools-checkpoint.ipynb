{
 "cells": [
  {
   "cell_type": "markdown",
   "metadata": {},
   "source": [
    "### Loading the digits dataset from the datasets provided in SciKitLearn"
   ]
  },
  {
   "cell_type": "code",
   "execution_count": 338,
   "metadata": {},
   "outputs": [],
   "source": [
    "from sklearn import datasets\n",
    "digits = datasets.load_digits()"
   ]
  },
  {
   "cell_type": "code",
   "execution_count": 339,
   "metadata": {},
   "outputs": [
    {
     "data": {
      "text/plain": [
       "dict_keys(['data', 'target', 'frame', 'feature_names', 'target_names', 'images', 'DESCR'])"
      ]
     },
     "execution_count": 339,
     "metadata": {},
     "output_type": "execute_result"
    }
   ],
   "source": [
    "# Inspecting all keys of the dictionary\n",
    "digits.keys()"
   ]
  },
  {
   "cell_type": "code",
   "execution_count": 340,
   "metadata": {},
   "outputs": [],
   "source": [
    "# Features\n",
    "x = digits.data\n",
    "# Labels\n",
    "y = digits.target\n",
    "# images\n",
    "images = digits.images"
   ]
  },
  {
   "cell_type": "markdown",
   "metadata": {},
   "source": [
    "### Spliting the data set into 70% training data and 30% test data."
   ]
  },
  {
   "cell_type": "code",
   "execution_count": 341,
   "metadata": {},
   "outputs": [],
   "source": [
    "# we can split it manually:\n",
    "n = int(0.7 * len(x))\n",
    "x_train, y_train, img_tr = x[:n], y[:n], images[:n]\n",
    "x_test, y_test, img_ts = x[n:], y[n:], images[n:]"
   ]
  },
  {
   "cell_type": "markdown",
   "metadata": {},
   "source": [
    "This method will always give as the same training and test sets.\\\n",
    "So, we can do better, by shuffling the data and getting random data sets."
   ]
  },
  {
   "cell_type": "code",
   "execution_count": 342,
   "metadata": {},
   "outputs": [],
   "source": [
    "# or using the function train_test_split provided in SciKitLearn\n",
    "from sklearn.model_selection import train_test_split"
   ]
  },
  {
   "cell_type": "code",
   "execution_count": 343,
   "metadata": {},
   "outputs": [],
   "source": [
    "x_train, x_test, y_train, y_test, img_tr, img_ts = train_test_split(x, y, images, test_size=0.3)"
   ]
  },
  {
   "cell_type": "markdown",
   "metadata": {},
   "source": [
    "### k-NN classifier"
   ]
  },
  {
   "cell_type": "code",
   "execution_count": 344,
   "metadata": {},
   "outputs": [],
   "source": [
    "# Setting up the classifier\n",
    "from sklearn.neighbors import KNeighborsClassifier\n",
    "model = KNeighborsClassifier(n_neighbors=5, algorithm = 'brute')"
   ]
  },
  {
   "cell_type": "markdown",
   "metadata": {},
   "source": [
    "Fit the model using **x_train** as training data and **y_train** as target values"
   ]
  },
  {
   "cell_type": "code",
   "execution_count": 345,
   "metadata": {},
   "outputs": [
    {
     "data": {
      "text/plain": [
       "KNeighborsClassifier(algorithm='brute')"
      ]
     },
     "execution_count": 345,
     "metadata": {},
     "output_type": "execute_result"
    }
   ],
   "source": [
    "model.fit(x_train, y_train)"
   ]
  },
  {
   "cell_type": "markdown",
   "metadata": {},
   "source": [
    "#### Applying the classifier to the test data"
   ]
  },
  {
   "cell_type": "code",
   "execution_count": 346,
   "metadata": {},
   "outputs": [],
   "source": [
    "y_hat = model.predict(x_test)"
   ]
  },
  {
   "cell_type": "markdown",
   "metadata": {},
   "source": [
    "#### The 5 nearest neighbors and the corresponding distances in the training set for each test sample"
   ]
  },
  {
   "cell_type": "code",
   "execution_count": 347,
   "metadata": {},
   "outputs": [],
   "source": [
    "distances, neighbors = model.kneighbors(x_test) "
   ]
  },
  {
   "cell_type": "markdown",
   "metadata": {},
   "source": [
    "Visualise the neighbors of a random test sample:"
   ]
  },
  {
   "cell_type": "code",
   "execution_count": 348,
   "metadata": {},
   "outputs": [],
   "source": [
    "import matplotlib.pyplot as plt\n",
    "import numpy as np"
   ]
  },
  {
   "cell_type": "code",
   "execution_count": 349,
   "metadata": {},
   "outputs": [],
   "source": [
    "def visualise(index):\n",
    "    # indices of its 5 nearest neighbors\n",
    "    index_neigh = neighbors[index]\n",
    "    images_and_labels = list(zip(img_tr[index_neigh], y_train[index_neigh]))\n",
    "    for i, (image,label) in enumerate(images_and_labels):\n",
    "        plt.subplot(1, 5, i + 1)\n",
    "        plt.axis('off')\n",
    "        plt.imshow(image, cmap=plt.cm.gray_r, interpolation='nearest')\n",
    "        plt.title('Training: %i' % label)\n",
    "    plt.show()"
   ]
  },
  {
   "cell_type": "code",
   "execution_count": 350,
   "metadata": {
    "scrolled": true
   },
   "outputs": [
    {
     "data": {
      "image/png": "[encoded data removed]",
      "text/plain": [
       "<Figure size 432x288 with 5 Axes>"
      ]
     },
     "metadata": {
      "needs_background": "light"
     },
     "output_type": "display_data"
    }
   ],
   "source": [
    "# Choosibg randomly an index in the test set\n",
    "index = np.random.randint(len(y_test))\n",
    "visualise(index)"
   ]
  },
  {
   "cell_type": "code",
   "execution_count": 369,
   "metadata": {},
   "outputs": [
    {
     "data": {
      "image/png": "[encoded data removed]",
      "text/plain": [
       "<Figure size 432x288 with 5 Axes>"
      ]
     },
     "metadata": {
      "needs_background": "light"
     },
     "output_type": "display_data"
    },
    {
     "data": {
      "image/png": "[encoded data removed]",
      "text/plain": [
       "<Figure size 432x288 with 5 Axes>"
      ]
     },
     "metadata": {
      "needs_background": "light"
     },
     "output_type": "display_data"
    },
    {
     "data": {
      "image/png": "[encoded data removed]",
      "text/plain": [
       "<Figure size 432x288 with 5 Axes>"
      ]
     },
     "metadata": {
      "needs_background": "light"
     },
     "output_type": "display_data"
    }
   ],
   "source": [
    "# The first three classified samples \n",
    "for j in range(0, 3):\n",
    "    index = np.random.randint(len(y_test))\n",
    "    visualise(index)"
   ]
  },
  {
   "cell_type": "markdown",
   "metadata": {},
   "source": [
    "#### Evaluation of our classifier:"
   ]
  },
  {
   "cell_type": "code",
   "execution_count": 352,
   "metadata": {},
   "outputs": [],
   "source": [
    "from sklearn.metrics import classification_report, confusion_matrix"
   ]
  },
  {
   "cell_type": "code",
   "execution_count": 353,
   "metadata": {},
   "outputs": [
    {
     "name": "stdout",
     "output_type": "stream",
     "text": [
      "              precision    recall  f1-score   support\n",
      "\n",
      "           0       1.00      1.00      1.00        49\n",
      "           1       0.91      1.00      0.95        50\n",
      "           2       1.00      0.98      0.99        57\n",
      "           3       0.97      1.00      0.98        59\n",
      "           4       1.00      1.00      1.00        52\n",
      "           5       0.98      0.98      0.98        65\n",
      "           6       0.98      1.00      0.99        54\n",
      "           7       1.00      0.98      0.99        50\n",
      "           8       1.00      0.92      0.96        49\n",
      "           9       0.98      0.95      0.96        55\n",
      "\n",
      "    accuracy                           0.98       540\n",
      "   macro avg       0.98      0.98      0.98       540\n",
      "weighted avg       0.98      0.98      0.98       540\n",
      "\n"
     ]
    }
   ],
   "source": [
    "print(classification_report(y_test, y_hat))"
   ]
  },
  {
   "cell_type": "code",
   "execution_count": 354,
   "metadata": {},
   "outputs": [
    {
     "data": {
      "text/plain": [
       "<matplotlib.axes._subplots.AxesSubplot at 0x7fd5b5ed1eb0>"
      ]
     },
     "execution_count": 354,
     "metadata": {},
     "output_type": "execute_result"
    },
    {
     "data": {
      "image/png": "[encoded data removed]",
      "text/plain": [
       "<Figure size 360x360 with 2 Axes>"
      ]
     },
     "metadata": {
      "needs_background": "light"
     },
     "output_type": "display_data"
    }
   ],
   "source": [
    "import pandas as pd\n",
    "import seaborn as sn\n",
    "cm = confusion_matrix(y_test, y_hat)\n",
    "cm = pd.DataFrame(cm, index= [i for i in \"0123456789\"],\n",
    "                  columns = [i for i in \"0123456789\"])\n",
    "plt.figure(figsize = (5,5))\n",
    "sn.heatmap(cm, annot=True)"
   ]
  },
  {
   "cell_type": "markdown",
   "metadata": {},
   "source": [
    "### Result:\n",
    "We can say that our classifier performs well, since we got an accuracy of 99% on unseen data."
   ]
  },
  {
   "cell_type": "markdown",
   "metadata": {},
   "source": [
    "### k-Means "
   ]
  },
  {
   "cell_type": "code",
   "execution_count": 355,
   "metadata": {},
   "outputs": [],
   "source": [
    "# Set up\n",
    "from sklearn import preprocessing\n",
    "from sklearn.cluster import KMeans\n",
    "model = KMeans(n_clusters=10, random_state=0)\n",
    "# fitting the model\n",
    "cluster = model.fit(x_train)"
   ]
  },
  {
   "cell_type": "code",
   "execution_count": null,
   "metadata": {},
   "outputs": [],
   "source": []
  },
  {
   "cell_type": "markdown",
   "metadata": {},
   "source": [
    "### Visualise the found cluster centers"
   ]
  },
  {
   "cell_type": "markdown",
   "metadata": {},
   "source": [
    "Here, we got 10 centers as an array of 64 elements. So in order to visualse the centers, we have to reshape it into a matrix of 8x8, then:"
   ]
  },
  {
   "cell_type": "code",
   "execution_count": 356,
   "metadata": {},
   "outputs": [
    {
     "data": {
      "text/plain": [
       "array([0, 1, 2, 3, 4, 5, 6, 7, 8, 9], dtype=int32)"
      ]
     },
     "execution_count": 356,
     "metadata": {},
     "output_type": "execute_result"
    },
    {
     "data": {
      "image/png": "[encoded data removed]",
      "text/plain": [
       "<Figure size 432x288 with 10 Axes>"
      ]
     },
     "metadata": {
      "needs_background": "light"
     },
     "output_type": "display_data"
    }
   ],
   "source": [
    "# Getting the cluster centers:\n",
    "centers = model.cluster_centers_\n",
    "for i, image in enumerate(centers):\n",
    "    plt.subplot(2, 5, i + 1)\n",
    "    plt.axis('off')\n",
    "    plt.imshow(centers[i].reshape(8,8), cmap=plt.cm.gray_r, interpolation='nearest')\n",
    "model.predict(centers)"
   ]
  },
  {
   "cell_type": "code",
   "execution_count": 364,
   "metadata": {},
   "outputs": [],
   "source": [
    "L = [4, 9, 7, 8, 2, 6, 0, 3, 5, 1]\n",
    "y_new = y_hat.copy()\n",
    "for i in range(0, 10):\n",
    "    y_new[y_hat == i] = L[i]"
   ]
  },
  {
   "cell_type": "markdown",
   "metadata": {},
   "source": [
    "#### Classifying our test data"
   ]
  },
  {
   "cell_type": "code",
   "execution_count": 365,
   "metadata": {},
   "outputs": [],
   "source": [
    "y_hat = model.predict(x_test)"
   ]
  },
  {
   "cell_type": "code",
   "execution_count": 359,
   "metadata": {},
   "outputs": [
    {
     "name": "stdout",
     "output_type": "stream",
     "text": [
      "              precision    recall  f1-score   support\n",
      "\n",
      "           0       0.00      0.00      0.00        49\n",
      "           1       0.00      0.00      0.00        50\n",
      "           2       0.04      0.04      0.04        57\n",
      "           3       0.05      0.05      0.05        59\n",
      "           4       0.00      0.00      0.00        52\n",
      "           5       0.02      0.02      0.02        65\n",
      "           6       0.02      0.02      0.02        54\n",
      "           7       0.00      0.00      0.00        50\n",
      "           8       0.06      0.06      0.06        49\n",
      "           9       0.28      0.16      0.21        55\n",
      "\n",
      "    accuracy                           0.04       540\n",
      "   macro avg       0.05      0.03      0.04       540\n",
      "weighted avg       0.05      0.04      0.04       540\n",
      "\n"
     ]
    }
   ],
   "source": [
    "# Classification report\n",
    "print(classification_report(y_test, y_hat))"
   ]
  },
  {
   "cell_type": "code",
   "execution_count": 360,
   "metadata": {},
   "outputs": [
    {
     "name": "stdout",
     "output_type": "stream",
     "text": [
      "[[ 0  0  0  0  0  0 49  0  0  0]\n",
      " [ 0  0  0 24  6  0  0  0  1 19]\n",
      " [ 0  0  2  4 48  0  0  2  0  1]\n",
      " [ 0  1  1  3  0  0  0 53  1  0]\n",
      " [49  0  1  1  0  0  0  0  0  1]\n",
      " [ 1 15  0  0  0  1  0  0 48  0]\n",
      " [ 0  0  0  1  0 52  1  0  0  0]\n",
      " [ 0  0 50  0  0  0  0  0  0  0]\n",
      " [ 0 10  2 30  1  0  0  1  3  2]\n",
      " [ 0 41  1  0  0  0  0  3  1  9]]\n"
     ]
    }
   ],
   "source": [
    "# the confusion matrix\n",
    "print(confusion_matrix(y_test, y_hat))"
   ]
  },
  {
   "cell_type": "markdown",
   "metadata": {},
   "source": [
    "The accuracy is very low 0.18 compared to the first classifier, the confusion matrix also looks bad."
   ]
  },
  {
   "cell_type": "code",
   "execution_count": 361,
   "metadata": {},
   "outputs": [
    {
     "data": {
      "text/plain": [
       "array([0, 1, 2, 3, 4, 5, 6, 7, 8, 9], dtype=int32)"
      ]
     },
     "execution_count": 361,
     "metadata": {},
     "output_type": "execute_result"
    }
   ],
   "source": [
    "# Predicting labels of centers of the cluster\n",
    "model.predict(centers)"
   ]
  },
  {
   "cell_type": "markdown",
   "metadata": {},
   "source": [
    "##### Result: \n",
    "The images of the centers vaguely resemble the labels"
   ]
  },
  {
   "cell_type": "markdown",
   "metadata": {},
   "source": [
    "#### Investigating evaluation tools"
   ]
  },
  {
   "cell_type": "code",
   "execution_count": 362,
   "metadata": {},
   "outputs": [
    {
     "name": "stdout",
     "output_type": "stream",
     "text": [
      "Completeness:  0.7567040290894911\n",
      "homogeneity:  0.74417876862798\n",
      "mutual_info:  0.7467441169451489\n"
     ]
    }
   ],
   "source": [
    "from sklearn.metrics import completeness_score, homogeneity_score, adjusted_mutual_info_score\n",
    "cluster_labels = model.predict(x_train)\n",
    "\n",
    "print(\"Completeness: \", completeness_score(y_train, cluster_labels))\n",
    "print(\"homogeneity: \", homogeneity_score(y_train, cluster_labels))\n",
    "print(\"mutual_info: \", adjusted_mutual_info_score(y_train, cluster_labels))"
   ]
  },
  {
   "cell_type": "markdown",
   "metadata": {},
   "source": [
    "The homogenity tells us that 72% in average of each cluster has data-points belonging to the same class label.\\\n",
    "And Completeness shows that 73% of each class are clustered into the same cluster. \\\n",
    "\n",
    "The V-measure is the harmonic mean between homogeneity and completeness,\\\n",
    "This metric is independent any permutation of the class or cluster label,\\\n",
    "     * i.e. values won’t change the score value in any way."
   ]
  },
  {
   "cell_type": "code",
   "execution_count": 366,
   "metadata": {},
   "outputs": [
    {
     "name": "stdout",
     "output_type": "stream",
     "text": [
      "              precision    recall  f1-score   support\n",
      "\n",
      "           0       0.98      1.00      0.99        49\n",
      "           1       0.59      0.38      0.46        50\n",
      "           2       0.87      0.84      0.86        57\n",
      "           3       0.90      0.90      0.90        59\n",
      "           4       0.98      0.94      0.96        52\n",
      "           5       0.89      0.74      0.81        65\n",
      "           6       0.98      0.96      0.97        54\n",
      "           7       0.88      1.00      0.93        50\n",
      "           8       0.48      0.61      0.54        49\n",
      "           9       0.61      0.75      0.67        55\n",
      "\n",
      "    accuracy                           0.81       540\n",
      "   macro avg       0.82      0.81      0.81       540\n",
      "weighted avg       0.82      0.81      0.81       540\n",
      "\n",
      "[[49  0  0  0  0  0  0  0  0  0]\n",
      " [ 0 19  6  0  0  1  0  0 24  0]\n",
      " [ 0  1 48  2  0  0  0  2  4  0]\n",
      " [ 0  0  0 53  0  1  0  1  3  1]\n",
      " [ 0  1  0  0 49  0  0  1  1  0]\n",
      " [ 0  0  0  0  1 48  1  0  0 15]\n",
      " [ 1  0  0  0  0  0 52  0  1  0]\n",
      " [ 0  0  0  0  0  0  0 50  0  0]\n",
      " [ 0  2  1  1  0  3  0  2 30 10]\n",
      " [ 0  9  0  3  0  1  0  1  0 41]]\n"
     ]
    }
   ],
   "source": [
    "# Classification report\n",
    "print(classification_report(y_test, y_new))\n",
    "# the confusion matrix\n",
    "print(confusion_matrix(y_test, y_new))"
   ]
  },
  {
   "cell_type": "code",
   "execution_count": null,
   "metadata": {},
   "outputs": [],
   "source": []
  }
 ],
 "metadata": {
  "kernelspec": {
   "display_name": "Python 3",
   "language": "python",
   "name": "python3"
  },
  "language_info": {
   "codemirror_mode": {
    "name": "ipython",
    "version": 3
   },
   "file_extension": ".py",
   "mimetype": "text/x-python",
   "name": "python",
   "nbconvert_exporter": "python",
   "pygments_lexer": "ipython3",
   "version": "3.7.3"
  }
 },
 "nbformat": 4,
 "nbformat_minor": 4
}

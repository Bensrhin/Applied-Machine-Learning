{
 "cells": [
  {
   "cell_type": "markdown",
   "metadata": {},
   "source": [
    "# Recurrent Neural Networks: Sequence tagging"
   ]
  },
  {
   "cell_type": "markdown",
   "metadata": {},
   "source": [
    "## Imports"
   ]
  },
  {
   "cell_type": "code",
   "execution_count": 44,
   "metadata": {},
   "outputs": [],
   "source": [
    "import sys\n",
    "import regex as re\n",
    "import numpy as np\n",
    "from numpy.linalg import norm\n",
    "from scipy.spatial.distance import cosine\n",
    "import matplotlib.pyplot as plt\n",
    "from sklearn.preprocessing import normalize\n",
    "from keras.models import Sequential\n",
    "from keras.layers import Embedding, Flatten, Dense, Dropout, Lambda, TimeDistributed\n",
    "from keras.layers import LSTM, Bidirectional, SimpleRNN, BatchNormalization\n",
    "from keras.models import Model\n",
    "from keras.preprocessing.sequence import pad_sequences\n",
    "from keras.utils.np_utils import to_categorical\n",
    "from keras.activations import softmax\n",
    "from keras.models import load_model\n",
    "\n",
    "\n",
    "EPOCHS = 15\n",
    "LSTM_UNITS = 100"
   ]
  },
  {
   "cell_type": "markdown",
   "metadata": {},
   "source": [
    "## Collecting a Dataset"
   ]
  },
  {
   "cell_type": "markdown",
   "metadata": {},
   "source": [
    "1. You will use a dataset from the CoNLL conferences that benchmark natural language processing systems and tasks. There were two conferences on named entity recognition: <a href=\"https://www.clips.uantwerpen.be/conll2002/ner/\">CoNLL 2002</a> (Spanish and Dutch) and <a href=\"https://www.clips.uantwerpen.be/conll2003/ner/\">CoNLL 2003</a> (English and German). In this assignment, you will work on the English dataset. Read the description of the task.\n",
    "2. The datasets are protected by a license and you need to obtain it to reconstruct the data. Alternatively, you can try to find one on github (type conll2003 in the search box) or use the Google dataset search: <a href=\"https://toolbox.google.com/datasetsearch\">https://toolbox.google.com/datasetsearch</a>.\n",
    "3. The dataset comes in the form of three files: a training set, a development set, and a test set. <!--, named:\n",
    "    <tt>eng.train</tt>, <tt>eng.testa</tt> (validation), and <tt>eng.testb</tt> (test).-->"
   ]
  },
  {
   "cell_type": "markdown",
   "metadata": {},
   "source": [
    "## Reading the Corpus"
   ]
  },
  {
   "cell_type": "markdown",
   "metadata": {},
   "source": [
    "You will read the corpus with the cells below. The functions will enable you to load the files in the form of a list of dictionaries."
   ]
  },
  {
   "cell_type": "code",
   "execution_count": 2,
   "metadata": {},
   "outputs": [],
   "source": [
    "BASE_DIR = './conll2003/'"
   ]
  },
  {
   "cell_type": "code",
   "execution_count": 3,
   "metadata": {},
   "outputs": [],
   "source": [
    "def load_conll2003_en():\n",
    "    train_file = BASE_DIR + 'train.txt'\n",
    "    dev_file = BASE_DIR + 'valid.txt'\n",
    "    test_file = BASE_DIR + 'test.txt'\n",
    "    column_names = ['form', 'ppos', 'pchunk', 'ner']\n",
    "    train_sentences = open(train_file, encoding='utf8').read().strip()\n",
    "    dev_sentences = open(dev_file, encoding='utf8').read().strip()\n",
    "    test_sentences = open(test_file, encoding='utf8').read().strip()\n",
    "    return train_sentences, dev_sentences, test_sentences, column_names"
   ]
  },
  {
   "cell_type": "code",
   "execution_count": 4,
   "metadata": {},
   "outputs": [
    {
     "data": {
      "text/plain": [
       "'-DOCSTART- -X- -X- O\\n\\nEU NNP B-NP B-ORG\\nrejects VBZ B-VP O\\nGerman JJ B-NP B-MISC\\ncall NN I-NP O\\nto T'"
      ]
     },
     "execution_count": 4,
     "metadata": {},
     "output_type": "execute_result"
    }
   ],
   "source": [
    "train_sentences, dev_sentences, test_sentences, column_names = load_conll2003_en()\n",
    "train_sentences[:100]"
   ]
  },
  {
   "cell_type": "code",
   "execution_count": 5,
   "metadata": {},
   "outputs": [],
   "source": [
    "class Token(dict):\n",
    "    pass\n",
    "\n",
    "\n",
    "class CoNLLDictorizer:\n",
    "\n",
    "    def __init__(self, column_names, sent_sep='\\n\\n', col_sep=' +'):\n",
    "        self.column_names = column_names\n",
    "        self.sent_sep = sent_sep\n",
    "        self.col_sep = col_sep\n",
    "\n",
    "    def fit(self):\n",
    "        pass\n",
    "\n",
    "    def transform(self, corpus):\n",
    "        corpus = corpus.strip()\n",
    "        sentences = re.split(self.sent_sep, corpus)\n",
    "        return list(map(self._split_in_words, sentences))\n",
    "\n",
    "    def fit_transform(self, corpus):\n",
    "        return self.transform(corpus)\n",
    "\n",
    "    def _split_in_words(self, sentence):\n",
    "        rows = re.split('\\n', sentence)\n",
    "        return [Token(dict(zip(self.column_names,\n",
    "                               re.split(self.col_sep, row))))\n",
    "                for row in rows]"
   ]
  },
  {
   "cell_type": "code",
   "execution_count": 6,
   "metadata": {},
   "outputs": [],
   "source": [
    "conll_dict = CoNLLDictorizer(column_names, col_sep=' +')\n",
    "train_dict = conll_dict.transform(train_sentences)\n",
    "dev_dict = conll_dict.transform(dev_sentences)\n",
    "test_dict = conll_dict.transform(test_sentences)"
   ]
  },
  {
   "cell_type": "code",
   "execution_count": 7,
   "metadata": {},
   "outputs": [
    {
     "name": "stdout",
     "output_type": "stream",
     "text": [
      "[{'form': '-DOCSTART-', 'ppos': '-X-', 'pchunk': '-X-', 'ner': 'O'}]\n",
      "{'form': 'EU', 'ppos': 'NNP', 'pchunk': 'B-NP', 'ner': 'B-ORG'}\n",
      "{'form': 'rejects', 'ppos': 'VBZ', 'pchunk': 'B-VP', 'ner': 'O'}\n",
      "{'form': 'German', 'ppos': 'JJ', 'pchunk': 'B-NP', 'ner': 'B-MISC'}\n",
      "{'form': 'call', 'ppos': 'NN', 'pchunk': 'I-NP', 'ner': 'O'}\n",
      "{'form': 'to', 'ppos': 'TO', 'pchunk': 'B-VP', 'ner': 'O'}\n",
      "{'form': 'boycott', 'ppos': 'VB', 'pchunk': 'I-VP', 'ner': 'O'}\n",
      "{'form': 'British', 'ppos': 'JJ', 'pchunk': 'B-NP', 'ner': 'B-MISC'}\n",
      "{'form': 'lamb', 'ppos': 'NN', 'pchunk': 'I-NP', 'ner': 'O'}\n",
      "{'form': '.', 'ppos': '.', 'pchunk': 'O', 'ner': 'O'}\n"
     ]
    }
   ],
   "source": [
    "print(train_dict[0])\n",
    "print('\\n'.join(map(str, train_dict[1])))"
   ]
  },
  {
   "cell_type": "markdown",
   "metadata": {},
   "source": [
    "## Evaluating your Models"
   ]
  },
  {
   "cell_type": "markdown",
   "metadata": {},
   "source": [
    "You will train the models with the traing set and the test set to evaluate them. For this, you will apply the `conlleval` script that will compute the harmonic mean of the precision and recall: F1. \n",
    "\n",
    "`conlleval` was written in Perl, and some people rewrote it in Python and you will use such such a translation in this lab. The line below installs it."
   ]
  },
  {
   "cell_type": "code",
   "execution_count": 8,
   "metadata": {},
   "outputs": [
    {
     "name": "stdout",
     "output_type": "stream",
     "text": [
      "Requirement already satisfied: conlleval in /home/nabil/anaconda3/lib/python3.7/site-packages (0.2)\r\n"
     ]
    }
   ],
   "source": [
    "!pip install conlleval\n",
    "import conlleval"
   ]
  },
  {
   "cell_type": "markdown",
   "metadata": {},
   "source": [
    "## Collecting the Embeddings"
   ]
  },
  {
   "cell_type": "markdown",
   "metadata": {},
   "source": [
    "You will represent the words with the GloVe embeddings:\n",
    "1. Download the GloVe embeddings 6B from <a href=\"https://nlp.stanford.edu/projects/glove/\">https://nlp.stanford.edu/projects/glove/</a> and keep the 100d vectors.\n",
    "2. Apply a function that reads GloVe embeddings and store them in a dictionary, where the keys will be the words and the values, the embeddings."
   ]
  },
  {
   "cell_type": "code",
   "execution_count": 9,
   "metadata": {},
   "outputs": [],
   "source": [
    "embedding_file = './glove.6B/glove.6B.100d.txt'"
   ]
  },
  {
   "cell_type": "code",
   "execution_count": 10,
   "metadata": {},
   "outputs": [],
   "source": [
    "def read_embeddings(file):\n",
    "    \"\"\"\n",
    "    Return the embeddings in the from of a dictionary\n",
    "    :param file:\n",
    "    :return:\n",
    "    \"\"\"\n",
    "    embeddings = {}\n",
    "    glove = open(file, encoding='utf8')\n",
    "    for line in glove:\n",
    "        values = line.strip().split()\n",
    "        word = values[0]\n",
    "        vector = np.array(values[1:], dtype='float32')\n",
    "        embeddings[word] = vector\n",
    "    glove.close()\n",
    "    return embeddings"
   ]
  },
  {
   "cell_type": "code",
   "execution_count": 11,
   "metadata": {},
   "outputs": [
    {
     "name": "stdout",
     "output_type": "stream",
     "text": [
      "# words in embedding dictionary: 400000\n"
     ]
    }
   ],
   "source": [
    "# We read the embeddings\n",
    "embeddings_dict = read_embeddings(embedding_file)\n",
    "embedded_words = sorted(list(embeddings_dict.keys()))\n",
    "print('# words in embedding dictionary:', len(embedded_words))"
   ]
  },
  {
   "cell_type": "markdown",
   "metadata": {},
   "source": [
    "Using a cosine similarity, write a `closest(target_word, embeddings, count=10)` that computes the 5 closest words to the words _table_, _france_, and _sweden_"
   ]
  },
  {
   "cell_type": "code",
   "execution_count": 12,
   "metadata": {},
   "outputs": [],
   "source": [
    "def cosine_similarity(vec1, vec2):\n",
    "    dot = np.dot(vec1, vec2)\n",
    "    norm1 = np.sqrt(np.sum(np.dot(vec1, vec1)))\n",
    "    norm2 = np.sqrt(np.sum(np.dot(vec2, vec2)))\n",
    "    cos = dot / (norm1 * norm2)\n",
    "    return cos"
   ]
  },
  {
   "cell_type": "code",
   "execution_count": 13,
   "metadata": {},
   "outputs": [],
   "source": [
    "import heapq\n",
    "def closest(target_word, embeddings, count=10):\n",
    "    target = target_word.lower()\n",
    "    target_vec = embeddings[target]\n",
    "    closest_words = {}\n",
    "    distances = []\n",
    "    for w in embeddings.keys():\n",
    "        vec = embeddings[w]\n",
    "        cos_sim = cosine_similarity(vec, target_vec)\n",
    "        heapq.heappush(distances, cos_sim)\n",
    "        closest_words[cos_sim] = w\n",
    "        if len(distances) == count + 1:\n",
    "            key = heapq.heappop(distances)\n",
    "            del closest_words[key]\n",
    "    return [closest_words[i] for i in reversed(sorted(closest_words.keys()))]"
   ]
  },
  {
   "cell_type": "code",
   "execution_count": 14,
   "metadata": {},
   "outputs": [
    {
     "data": {
      "text/plain": [
       "['table',\n",
       " 'tables',\n",
       " 'place',\n",
       " 'bottom',\n",
       " 'room',\n",
       " 'side',\n",
       " 'sit',\n",
       " 'top',\n",
       " 'here',\n",
       " 'pool']"
      ]
     },
     "execution_count": 14,
     "metadata": {},
     "output_type": "execute_result"
    }
   ],
   "source": [
    "closest('table', embeddings_dict, count=10)"
   ]
  },
  {
   "cell_type": "code",
   "execution_count": 15,
   "metadata": {},
   "outputs": [
    {
     "data": {
      "text/plain": [
       "['france',\n",
       " 'belgium',\n",
       " 'french',\n",
       " 'britain',\n",
       " 'spain',\n",
       " 'paris',\n",
       " 'germany',\n",
       " 'italy',\n",
       " 'europe',\n",
       " 'netherlands']"
      ]
     },
     "execution_count": 15,
     "metadata": {},
     "output_type": "execute_result"
    }
   ],
   "source": [
    "closest('france', embeddings_dict, count=10)"
   ]
  },
  {
   "cell_type": "code",
   "execution_count": 16,
   "metadata": {},
   "outputs": [
    {
     "data": {
      "text/plain": [
       "['sweden', 'denmark', 'norway', 'finland', 'netherlands']"
      ]
     },
     "execution_count": 16,
     "metadata": {},
     "output_type": "execute_result"
    }
   ],
   "source": [
    "closest('sweden', embeddings_dict, count=5)"
   ]
  },
  {
   "cell_type": "markdown",
   "metadata": {},
   "source": [
    "## Extracting the $\\mathbf{X}$ and $\\mathbf{Y}$ Lists of Symbols"
   ]
  },
  {
   "cell_type": "markdown",
   "metadata": {},
   "source": [
    "Write a `build_sequences(corpus_dict, key_x='form', key_y='ner', tolower=True)` function that for each sentence returns the $\\mathbf{x}$ and $\\mathbf{y}$ lists of symbols consisting of words and NER tags."
   ]
  },
  {
   "cell_type": "code",
   "execution_count": 17,
   "metadata": {},
   "outputs": [],
   "source": [
    "def build_sequences(corpus_dict, key_x='form', key_y='ner', tolower=True):\n",
    "    X, Y = [], []\n",
    "    for sentence in corpus_dict:\n",
    "        x, y = [], []\n",
    "        for row in sentence:\n",
    "            x.append(row[key_x].lower()) if tolower else x.append(row[key_x])\n",
    "            y.append(row[key_y])\n",
    "        X.append(x)\n",
    "        Y.append(y)\n",
    "    return X, Y"
   ]
  },
  {
   "cell_type": "markdown",
   "metadata": {},
   "source": [
    "Apply this function to your datasets so that you create $\\mathbf{X}$ and $\\mathbf{Y}$ lists of lists consisting of words and NER tags\n",
    "        \n",
    "For the second sentence of the training set, you should have:<br/>\n",
    "<tt>x = ['eu', 'rejects', 'german', 'call', 'to', 'boycott', 'british', 'lamb', '.']</tt><br/>\n",
    "<tt>y = ['I-ORG', 'O', 'I-MISC', 'O', 'O', 'O', 'I-MISC', 'O', 'O']</tt><br/>\n",
    "Some datasets you may find on the web use a different NER tagset, where <tt>I-</tt> is\n",
    "replaced with <tt>B-</tt>, like <tt>B-ORG</tt> instead of <tt>I-ORG</tt>. This will not change the results."
   ]
  },
  {
   "cell_type": "code",
   "execution_count": 18,
   "metadata": {},
   "outputs": [
    {
     "name": "stdout",
     "output_type": "stream",
     "text": [
      "First sentence, words ['eu', 'rejects', 'german', 'call', 'to', 'boycott', 'british', 'lamb', '.']\n",
      "First sentence, NER ['B-ORG', 'O', 'B-MISC', 'O', 'O', 'O', 'B-MISC', 'O', 'O']\n"
     ]
    }
   ],
   "source": [
    "X, Y = build_sequences(train_dict, key_x='form', key_y='ner')\n",
    "print('First sentence, words', X[1])\n",
    "print('First sentence, NER', Y[1])"
   ]
  },
  {
   "cell_type": "markdown",
   "metadata": {},
   "source": [
    "## Vocabulary"
   ]
  },
  {
   "cell_type": "markdown",
   "metadata": {},
   "source": [
    "Create a vocabulary of all the words observed in the training set and the words in GloVe. You should find 402,595 different words. You will proceed in two steps.\n",
    "\n",
    "First extract the list of unique words from the CoNLL training set and the list of tags. You will sort them"
   ]
  },
  {
   "cell_type": "code",
   "execution_count": 19,
   "metadata": {},
   "outputs": [],
   "source": [
    "words, ner = set(), set()\n",
    "for i in range(len(X)):\n",
    "    for j in range (len(X[i])):\n",
    "        if X[i][j] not in words:\n",
    "            words.add(X[i][j])\n",
    "        if Y[i][j] not in ner:\n",
    "            ner.add(Y[i][j])\n",
    "words_list, ner_list = sorted(words, key=str), sorted(ner, key=str)"
   ]
  },
  {
   "cell_type": "code",
   "execution_count": 20,
   "metadata": {},
   "outputs": [
    {
     "name": "stdout",
     "output_type": "stream",
     "text": [
      "# words seen in training corpus: 21010\n",
      "# NER tags seen: 9\n"
     ]
    }
   ],
   "source": [
    "print('# words seen in training corpus:', len(words))\n",
    "print('# NER tags seen:', len(ner))"
   ]
  },
  {
   "cell_type": "markdown",
   "metadata": {},
   "source": [
    "Then merge the list of unique CoNLL words with the words in the embedding file. You will sort this list"
   ]
  },
  {
   "cell_type": "code",
   "execution_count": 21,
   "metadata": {},
   "outputs": [],
   "source": [
    "out_of_embeddings = words - set(embedded_words)\n",
    "vocabulary_words = sorted(set(embedded_words).union(out_of_embeddings)) "
   ]
  },
  {
   "cell_type": "code",
   "execution_count": 22,
   "metadata": {},
   "outputs": [
    {
     "name": "stdout",
     "output_type": "stream",
     "text": [
      "# words in the vocabulary: embeddings and corpus: 402595\n"
     ]
    }
   ],
   "source": [
    "print('# words in the vocabulary: embeddings and corpus:', len(vocabulary_words))"
   ]
  },
  {
   "cell_type": "markdown",
   "metadata": {},
   "source": [
    "## Index"
   ]
  },
  {
   "cell_type": "markdown",
   "metadata": {},
   "source": [
    "Create indices `word2idx`, `ner2idx` and inverted indices `idx2word`, `idx2ner` for the words and the NER: i.e. you will associate each word with a number. You will use index 0 for the padding symbol and 1 for unknown words."
   ]
  },
  {
   "cell_type": "code",
   "execution_count": 23,
   "metadata": {},
   "outputs": [],
   "source": [
    "def list_idx(list):\n",
    "    list2idx, idx2list = {}, {}\n",
    "    for i in range(len(list)):\n",
    "        list2idx[list[i]] = i+2\n",
    "        idx2list[i+2] = list[i]\n",
    "    return list2idx, idx2list\n",
    "\n",
    "word2idx, idx2word = list_idx(vocabulary_words)\n",
    "ner2idx, idx2ner = list_idx(ner_list)"
   ]
  },
  {
   "cell_type": "code",
   "execution_count": 24,
   "metadata": {},
   "outputs": [
    {
     "name": "stdout",
     "output_type": "stream",
     "text": [
      "word index: [('!', 2), ('!!', 3), ('!!!', 4), ('!!!!', 5), ('!!!!!', 6), ('!?', 7), ('!?!', 8), ('\"', 9), ('#', 10), ('##', 11), ('###', 12), ('#a', 13), ('#aabccc', 14), ('#b', 15), ('#c', 16), ('#cc', 17), ('#ccc', 18), ('#cccccc', 19), ('#ccccff', 20), ('#d', 21), ('#daa', 22), ('#dcdcdc', 23), ('#e', 24), ('#f', 25), ('#faf', 26)]\n",
      "NER index: [('B-LOC', 2), ('B-MISC', 3), ('B-ORG', 4), ('B-PER', 5), ('I-LOC', 6), ('I-MISC', 7), ('I-ORG', 8), ('I-PER', 9), ('O', 10)]\n"
     ]
    }
   ],
   "source": [
    "print('word index:', list(word2idx.items())[:25])\n",
    "print('NER index:', list(ner2idx.items())[:25])"
   ]
  },
  {
   "cell_type": "markdown",
   "metadata": {},
   "source": [
    "## Embedding Matrix"
   ]
  },
  {
   "cell_type": "markdown",
   "metadata": {},
   "source": [
    "Create a matrix of dimensions $(M, N)$, where $M$ will be the size of the vocabulary: The unique words in the training set and the words in GloVe, and $N$, the dimension of the embeddings.\n",
    "The padding symbol and the unknown word symbol will be part of the vocabulary. The shape of your matrix should be: (402597, 100). Initialize it with random values."
   ]
  },
  {
   "cell_type": "code",
   "execution_count": 25,
   "metadata": {},
   "outputs": [],
   "source": [
    "M, N = len(word2idx.keys())+2, 100\n",
    "embedding_matrix = (0.09 - 0.001) * np.random.rand(M, N) + 0.001"
   ]
  },
  {
   "cell_type": "code",
   "execution_count": 26,
   "metadata": {},
   "outputs": [
    {
     "name": "stdout",
     "output_type": "stream",
     "text": [
      "Shape of embedding matrix: (402597, 100)\n"
     ]
    }
   ],
   "source": [
    "print('Shape of embedding matrix:', embedding_matrix.shape)"
   ]
  },
  {
   "cell_type": "markdown",
   "metadata": {},
   "source": [
    "Fill the matrix with the GloVe embeddings when available. You will use the indices from the previous section. You will call `out_of_embeddings` the list of words in CoNLL, but not in the embedding list."
   ]
  },
  {
   "cell_type": "code",
   "execution_count": 27,
   "metadata": {},
   "outputs": [],
   "source": [
    "for idx in range(M):\n",
    "    if idx in {0, 1} or idx2word[idx] in out_of_embeddings:\n",
    "        continue\n",
    "    embedding_matrix[idx] = embeddings_dict[idx2word[idx]]"
   ]
  },
  {
   "cell_type": "code",
   "execution_count": 28,
   "metadata": {},
   "outputs": [],
   "source": [
    "out_of_embeddings = sorted(out_of_embeddings)"
   ]
  },
  {
   "cell_type": "code",
   "execution_count": 29,
   "metadata": {},
   "outputs": [
    {
     "name": "stdout",
     "output_type": "stream",
     "text": [
      "Out of embeddings: 2595\n"
     ]
    },
    {
     "data": {
      "text/plain": [
       "['zelezarny',\n",
       " 'zhilan',\n",
       " 'zieger',\n",
       " 'zighayer',\n",
       " 'zilinskiene',\n",
       " 'zirka-nibas',\n",
       " 'zuleeg',\n",
       " 'zundra',\n",
       " 'zwingmann',\n",
       " 'zyrecha']"
      ]
     },
     "execution_count": 29,
     "metadata": {},
     "output_type": "execute_result"
    }
   ],
   "source": [
    "print('Out of embeddings:', len(out_of_embeddings))\n",
    "out_of_embeddings[-10:]"
   ]
  },
  {
   "cell_type": "code",
   "execution_count": 30,
   "metadata": {},
   "outputs": [
    {
     "name": "stdout",
     "output_type": "stream",
     "text": [
      "Embedding of the padding symbol, idx 0, random numbers [0.04077398 0.06817316 0.08542485 0.01528193 0.00743566 0.03833686\n",
      " 0.00242211 0.08956604 0.02450808 0.02766354]\n",
      "Embedding of table [-0.61453998  0.89692998  0.56770998  0.39102    -0.22437     0.49035001\n",
      "  0.10868     0.27410999 -0.23833001 -0.52152997]\n",
      "Embedding of zwingmann, random numbers [0.06437193 0.0864023  0.01265457 0.04576114 0.066994   0.0122026\n",
      " 0.01600304 0.03816717 0.04874285 0.05907256]\n"
     ]
    }
   ],
   "source": [
    "print('Embedding of the padding symbol, idx 0, random numbers', embedding_matrix[0][:10])\n",
    "print('Embedding of table', embedding_matrix[word2idx['table']][:10])\n",
    "print('Embedding of zwingmann, random numbers', embedding_matrix[word2idx['zwingmann']][:10])"
   ]
  },
  {
   "cell_type": "markdown",
   "metadata": {},
   "source": [
    "## Creating the $\\mathbf{X}$ and $\\mathbf{Y}$ Sequences"
   ]
  },
  {
   "cell_type": "markdown",
   "metadata": {},
   "source": [
    "You will now create the input and output sequences with numerical indices. First, convert the $\\mathbf{X}$ and $\\mathbf{Y}$ lists of symbols in lists of numbers using the indices you created"
   ]
  },
  {
   "cell_type": "code",
   "execution_count": 31,
   "metadata": {},
   "outputs": [],
   "source": [
    "# We create the parallel sequences of indexes\n",
    "def parallel_sequence_indexes(X, Y):\n",
    "    X_idx, Y_idx = [], []\n",
    "    for i in range(len(X)):\n",
    "        x,y = [], []\n",
    "        for j in range(len(X[i])):\n",
    "            x_idx = word2idx.get(X[i][j], 1)\n",
    "            y_idx = ner2idx.get(Y[i][j], 1)\n",
    "            x.append(x_idx)\n",
    "            y.append(y_idx)\n",
    "        X_idx.append(x) \n",
    "        Y_idx.append(y)\n",
    "    return X_idx, Y_idx"
   ]
  },
  {
   "cell_type": "code",
   "execution_count": 32,
   "metadata": {},
   "outputs": [
    {
     "name": "stdout",
     "output_type": "stream",
     "text": [
      "First sentences, word indices [[935], [142143, 307143, 161836, 91321, 363368, 83766, 85852, 218260, 936], [284434, 79019]]\n",
      "First sentences, POS indices [[10], [4, 10, 3, 10, 10, 10, 3, 10, 10], [5, 9]]\n"
     ]
    }
   ],
   "source": [
    "X_idx, Y_idx = parallel_sequence_indexes(X, Y)\n",
    "print('First sentences, word indices', X_idx[:3])\n",
    "print('First sentences, POS indices', Y_idx[:3])"
   ]
  },
  {
   "cell_type": "markdown",
   "metadata": {},
   "source": [
    "Pad the sentences using the <tt>pad_sequences</tt> function. As maximum length and `maxlen` argument, you will use 150 or greater. What matters is that you have a length that is larger than the maximum length observed in your training and development corpora. After padding, the second sentence you look like (the indices are not necessarily the same).\n",
    "```\n",
    "x = [     0      0      0      0      0      0      0      0      0      0\n",
    "0      0      0      0      0      0      0      0      0      0\n",
    "0      0      0      0      0      0      0      0      0      0\n",
    "0      0      0      0      0      0      0      0      0      0\n",
    "0      0      0      0      0      0      0      0      0      0\n",
    "0      0      0      0      0      0      0      0      0      0\n",
    "0      0      0      0      0      0      0      0      0      0\n",
    "0      0      0      0      0      0      0      0      0      0\n",
    "0      0      0      0      0      0      0      0      0      0\n",
    "0      0      0      0      0      0      0      0      0      0\n",
    "0      0      0      0      0      0      0      0      0      0\n",
    "0      0      0      0      0      0      0      0      0      0\n",
    "0      0      0      0      0      0      0      0      0      0\n",
    "0      0      0      0      0      0      0      0      0      0\n",
    "0 142143 307143 161836  91321 363368  83766  85852 218260    936]\n",
    "y = [0 0 0 0 0 0 0 0 0 0 0 0 0 0 0 0 0 0 0 0 0 0 0 0 0 0 0 0 0 0 0 0 0 0 0 0 0\n",
    "0 0 0 0 0 0 0 0 0 0 0 0 0 0 0 0 0 0 0 0 0 0 0 0 0 0 0 0 0 0 0 0 0 0 0 0 0\n",
    "0 0 0 0 0 0 0 0 0 0 0 0 0 0 0 0 0 0 0 0 0 0 0 0 0 0 0 0 0 0 0 0 0 0 0 0 0\n",
    "0 0 0 0 0 0 0 0 0 0 0 0 0 0 0 0 0 0 0 0 0 0 0 0 0 0 0 0 0 0 7 9 6 9 9 9 6\n",
    "9 9]\n",
    "```"
   ]
  },
  {
   "cell_type": "code",
   "execution_count": 33,
   "metadata": {},
   "outputs": [],
   "source": [
    "# the maximum length observed is 113\n",
    "X_idx = pad_sequences(X_idx, maxlen=150)\n",
    "Y_idx = pad_sequences(Y_idx, maxlen=150)"
   ]
  },
  {
   "cell_type": "code",
   "execution_count": 34,
   "metadata": {},
   "outputs": [
    {
     "name": "stdout",
     "output_type": "stream",
     "text": [
      "[     0      0      0      0      0      0      0      0      0      0\n",
      "      0      0      0      0      0      0      0      0      0      0\n",
      "      0      0      0      0      0      0      0      0      0      0\n",
      "      0      0      0      0      0      0      0      0      0      0\n",
      "      0      0      0      0      0      0      0      0      0      0\n",
      "      0      0      0      0      0      0      0      0      0      0\n",
      "      0      0      0      0      0      0      0      0      0      0\n",
      "      0      0      0      0      0      0      0      0      0      0\n",
      "      0      0      0      0      0      0      0      0      0      0\n",
      "      0      0      0      0      0      0      0      0      0      0\n",
      "      0      0      0      0      0      0      0      0      0      0\n",
      "      0      0      0      0      0      0      0      0      0      0\n",
      "      0      0      0      0      0      0      0      0      0      0\n",
      "      0      0      0      0      0      0      0      0      0      0\n",
      "      0 142143 307143 161836  91321 363368  83766  85852 218260    936]\n",
      "[ 0  0  0  0  0  0  0  0  0  0  0  0  0  0  0  0  0  0  0  0  0  0  0  0\n",
      "  0  0  0  0  0  0  0  0  0  0  0  0  0  0  0  0  0  0  0  0  0  0  0  0\n",
      "  0  0  0  0  0  0  0  0  0  0  0  0  0  0  0  0  0  0  0  0  0  0  0  0\n",
      "  0  0  0  0  0  0  0  0  0  0  0  0  0  0  0  0  0  0  0  0  0  0  0  0\n",
      "  0  0  0  0  0  0  0  0  0  0  0  0  0  0  0  0  0  0  0  0  0  0  0  0\n",
      "  0  0  0  0  0  0  0  0  0  0  0  0  0  0  0  0  0  0  0  0  0  4 10  3\n",
      " 10 10 10  3 10 10]\n"
     ]
    }
   ],
   "source": [
    "print(X_idx[1])\n",
    "print(Y_idx[1])"
   ]
  },
  {
   "cell_type": "code",
   "execution_count": 35,
   "metadata": {},
   "outputs": [],
   "source": [
    "nmClasses = len(ner) + 2\n",
    "def encode_y(Y_idx):\n",
    "    n = Y_idx.shape[0]\n",
    "    m = Y_idx.shape[1]\n",
    "    y_train = np.zeros((n, m, nmClasses))\n",
    "    for i in range(len(Y_idx)):\n",
    "        y_train[i] = to_categorical(Y_idx[i], num_classes=nmClasses)\n",
    "    return y_train"
   ]
  },
  {
   "cell_type": "code",
   "execution_count": 36,
   "metadata": {},
   "outputs": [
    {
     "data": {
      "text/plain": [
       "array([[1., 0., 0., 0., 0., 0., 0., 0., 0., 0., 0.],\n",
       "       [0., 0., 0., 0., 1., 0., 0., 0., 0., 0., 0.],\n",
       "       [0., 0., 0., 0., 0., 0., 0., 0., 0., 0., 1.],\n",
       "       [0., 0., 0., 1., 0., 0., 0., 0., 0., 0., 0.],\n",
       "       [0., 0., 0., 0., 0., 0., 0., 0., 0., 0., 1.],\n",
       "       [0., 0., 0., 0., 0., 0., 0., 0., 0., 0., 1.],\n",
       "       [0., 0., 0., 0., 0., 0., 0., 0., 0., 0., 1.],\n",
       "       [0., 0., 0., 1., 0., 0., 0., 0., 0., 0., 0.],\n",
       "       [0., 0., 0., 0., 0., 0., 0., 0., 0., 0., 1.],\n",
       "       [0., 0., 0., 0., 0., 0., 0., 0., 0., 0., 1.]])"
      ]
     },
     "execution_count": 36,
     "metadata": {},
     "output_type": "execute_result"
    }
   ],
   "source": [
    "y_train = encode_y(Y_idx)\n",
    "y_train[1][-10:]"
   ]
  },
  {
   "cell_type": "markdown",
   "metadata": {},
   "source": [
    "Do the same for the development set: Build the sequences, map them to indices, pad them, and create $\\mathbf{Y}$ vectors"
   ]
  },
  {
   "cell_type": "code",
   "execution_count": 37,
   "metadata": {},
   "outputs": [],
   "source": [
    "X_dev, Y_dev = build_sequences(dev_dict, key_x='form', key_y='ner')\n",
    "X_dev_idx, Y_dev_idx = parallel_sequence_indexes(X_dev, Y_dev)\n",
    "# the maximum length observed is 113\n",
    "X_dev_idx = pad_sequences(X_dev_idx, maxlen=150)\n",
    "Y_dev_idx = pad_sequences(Y_dev_idx, maxlen=150)\n",
    "y_dev = encode_y(Y_dev_idx)"
   ]
  },
  {
   "cell_type": "markdown",
   "metadata": {},
   "source": [
    "## Building a Simple Recurrent Neural Network"
   ]
  },
  {
   "cell_type": "markdown",
   "metadata": {},
   "source": [
    "Create a simple recurrent network and train a model with the training set. As layers, you will use `Embedding`, `SimpleRNN`, and `Dense`."
   ]
  },
  {
   "cell_type": "code",
   "execution_count": 39,
   "metadata": {},
   "outputs": [],
   "source": [
    "model = Sequential()\n",
    "model.add(Embedding(M, N, input_length=None))\n",
    "model.layers[0].set_weights([embedding_matrix])\n",
    "model.layers[0].trainable = False\n",
    "model.add(SimpleRNN(N, return_sequences=True))\n",
    "model.add(Dense(nmClasses, activation='softmax'))"
   ]
  },
  {
   "cell_type": "markdown",
   "metadata": {},
   "source": [
    "Compile your network. "
   ]
  },
  {
   "cell_type": "code",
   "execution_count": 40,
   "metadata": {},
   "outputs": [
    {
     "name": "stdout",
     "output_type": "stream",
     "text": [
      "Model: \"sequential_1\"\n",
      "_________________________________________________________________\n",
      "Layer (type)                 Output Shape              Param #   \n",
      "=================================================================\n",
      "embedding_1 (Embedding)      (None, None, 100)         40259700  \n",
      "_________________________________________________________________\n",
      "simple_rnn_1 (SimpleRNN)     (None, None, 100)         20100     \n",
      "_________________________________________________________________\n",
      "dense_1 (Dense)              (None, None, 11)          1111      \n",
      "=================================================================\n",
      "Total params: 40,280,911\n",
      "Trainable params: 21,211\n",
      "Non-trainable params: 40,259,700\n",
      "_________________________________________________________________\n"
     ]
    }
   ],
   "source": [
    "model.compile(optimizer='rmsprop', loss='categorical_crossentropy', metrics=['accuracy'])\n",
    "model.summary()"
   ]
  },
  {
   "cell_type": "markdown",
   "metadata": {},
   "source": [
    "Fit it"
   ]
  },
  {
   "cell_type": "code",
   "execution_count": 41,
   "metadata": {},
   "outputs": [
    {
     "name": "stdout",
     "output_type": "stream",
     "text": [
      "Epoch 1/15\n",
      "469/469 [==============================] - 19s 41ms/step - loss: 0.0634 - accuracy: 0.9863 - val_loss: 0.0292 - val_accuracy: 0.9929\n",
      "Epoch 2/15\n",
      "469/469 [==============================] - 19s 40ms/step - loss: 0.0235 - accuracy: 0.9938 - val_loss: 0.0230 - val_accuracy: 0.9939\n",
      "Epoch 3/15\n",
      "469/469 [==============================] - 19s 40ms/step - loss: 0.0194 - accuracy: 0.9944 - val_loss: 0.0203 - val_accuracy: 0.9946\n",
      "Epoch 4/15\n",
      "469/469 [==============================] - 19s 40ms/step - loss: 0.0170 - accuracy: 0.9952 - val_loss: 0.0184 - val_accuracy: 0.9951\n",
      "Epoch 5/15\n",
      "469/469 [==============================] - 19s 40ms/step - loss: 0.0319 - accuracy: 0.9938 - val_loss: 0.0178 - val_accuracy: 0.9952\n",
      "Epoch 6/15\n",
      "469/469 [==============================] - 19s 40ms/step - loss: 0.0139 - accuracy: 0.9960 - val_loss: 0.0170 - val_accuracy: 0.9953\n",
      "Epoch 7/15\n",
      "469/469 [==============================] - 19s 40ms/step - loss: 0.0135 - accuracy: 0.9962 - val_loss: 0.0157 - val_accuracy: 0.9957\n",
      "Epoch 8/15\n",
      "469/469 [==============================] - 19s 40ms/step - loss: 0.0126 - accuracy: 0.9965 - val_loss: 0.0152 - val_accuracy: 0.9959\n",
      "Epoch 9/15\n",
      "469/469 [==============================] - 19s 40ms/step - loss: 0.0325 - accuracy: 0.9951 - val_loss: 0.0154 - val_accuracy: 0.9959\n",
      "Epoch 10/15\n",
      "469/469 [==============================] - 19s 40ms/step - loss: 0.0110 - accuracy: 0.9968 - val_loss: 0.0151 - val_accuracy: 0.9960\n",
      "Epoch 11/15\n",
      "469/469 [==============================] - 19s 40ms/step - loss: 0.0106 - accuracy: 0.9969 - val_loss: 0.0144 - val_accuracy: 0.9960\n",
      "Epoch 12/15\n",
      "469/469 [==============================] - 19s 40ms/step - loss: 0.0101 - accuracy: 0.9971 - val_loss: 0.0146 - val_accuracy: 0.9961\n",
      "Epoch 13/15\n",
      "469/469 [==============================] - 19s 40ms/step - loss: 0.0098 - accuracy: 0.9970 - val_loss: 0.0200 - val_accuracy: 0.9960\n",
      "Epoch 14/15\n",
      "469/469 [==============================] - 19s 40ms/step - loss: 0.0099 - accuracy: 0.9970 - val_loss: 0.0140 - val_accuracy: 0.9962\n",
      "Epoch 15/15\n",
      "469/469 [==============================] - 19s 40ms/step - loss: 0.0089 - accuracy: 0.9974 - val_loss: 0.0146 - val_accuracy: 0.9961\n"
     ]
    }
   ],
   "source": [
    "history = model.fit(X_idx, y_train, epochs = EPOCHS, validation_data=(X_dev_idx, y_dev))"
   ]
  },
  {
   "cell_type": "code",
   "execution_count": 42,
   "metadata": {},
   "outputs": [],
   "source": [
    "model.save('model1.h5')"
   ]
  },
  {
   "cell_type": "code",
   "execution_count": 45,
   "metadata": {},
   "outputs": [],
   "source": [
    "model = load_model('model1.h5')"
   ]
  },
  {
   "cell_type": "markdown",
   "metadata": {},
   "source": [
    "Create a figure to show the training and validation losses and accuracies and comment on a possible overfit."
   ]
  },
  {
   "cell_type": "code",
   "execution_count": 46,
   "metadata": {},
   "outputs": [],
   "source": [
    "def plot_perf():\n",
    "    acc = history.history['accuracy']\n",
    "    val_acc = history.history['val_accuracy']\n",
    "    loss = history.history['loss']\n",
    "    val_loss = history.history['val_loss']\n",
    "    epochs = range(len(acc))\n",
    "    plt.plot(epochs, acc, 'bo', label='Training acc')\n",
    "    plt.plot(epochs, val_acc, 'b', label='Validation acc')\n",
    "    plt.title('Training and validation accuracy')\n",
    "    plt.legend()\n",
    "    plt.figure()\n",
    "    plt.plot(epochs, loss, 'bo', label='Training loss')\n",
    "    plt.plot(epochs, val_loss, 'b', label='Validation loss')\n",
    "    plt.title('Training and validation loss')\n",
    "    plt.legend()\n",
    "    plt.show()"
   ]
  },
  {
   "cell_type": "code",
   "execution_count": 47,
   "metadata": {},
   "outputs": [
    {
     "data": {
      "image/png": "[encoded data removed]",
      "text/plain": [
       "<Figure size 432x288 with 1 Axes>"
      ]
     },
     "metadata": {
      "needs_background": "light"
     },
     "output_type": "display_data"
    },
    {
     "data": {
      "image/png": "[encoded data removed]",
      "text/plain": [
       "<Figure size 432x288 with 1 Axes>"
      ]
     },
     "metadata": {
      "needs_background": "light"
     },
     "output_type": "display_data"
    }
   ],
   "source": [
    "plot_perf()"
   ]
  },
  {
   "cell_type": "markdown",
   "metadata": {},
   "source": [
    "Apply your network to one sentence."
   ]
  },
  {
   "cell_type": "code",
   "execution_count": 48,
   "metadata": {},
   "outputs": [],
   "source": [
    "sentence = 'The United States might collapsez'.lower().split()"
   ]
  },
  {
   "cell_type": "markdown",
   "metadata": {},
   "source": [
    "First convert the sentence into indices"
   ]
  },
  {
   "cell_type": "code",
   "execution_count": 49,
   "metadata": {},
   "outputs": [
    {
     "name": "stdout",
     "output_type": "stream",
     "text": [
      "Sentence  ['the', 'united', 'states', 'might', 'collapsez']\n",
      "Sentence word indexes  [359698, 374678, 344404, 246008, 1]\n"
     ]
    }
   ],
   "source": [
    "sentence_idx = [word2idx.get(w, 1) for w in sentence]\n",
    "print(\"Sentence \", sentence)\n",
    "print(\"Sentence word indexes \", sentence_idx)"
   ]
  },
  {
   "cell_type": "markdown",
   "metadata": {},
   "source": [
    "Apply the prediction"
   ]
  },
  {
   "cell_type": "code",
   "execution_count": 50,
   "metadata": {},
   "outputs": [
    {
     "name": "stdout",
     "output_type": "stream",
     "text": [
      "(5, 1, 11)\n",
      "the :  O\n",
      "united :  I-LOC\n",
      "states :  unknown\n",
      "might :  O\n",
      "collapsez :  unknown\n"
     ]
    }
   ],
   "source": [
    "ner_hat = model.predict(sentence_idx)\n",
    "print(ner_hat.shape)\n",
    "for i in range(ner_hat.shape[0]):\n",
    "    indices = np.argmax(ner_hat[i], axis=1)\n",
    "    print(sentence[i], \": \", idx2ner.get(indices[0], \"unknown\"))"
   ]
  },
  {
   "cell_type": "markdown",
   "metadata": {},
   "source": [
    "## Evaluating your System"
   ]
  },
  {
   "cell_type": "markdown",
   "metadata": {},
   "source": [
    "You will now evaluate the performance of your system on the whole test set. You will use the official script.\n",
    "<ol>\n",
    "    <li>Use the <tt>predict</tt> method to predict the tags of the whole test set\n",
    "    </li>\n",
    "    <li>Write your results in a file, where the two last columns will be the hand-annotated tag\n",
    "        and the predicted tag. The fields must be separated by a space and each line must end with a new line:\n",
    "        <tt>\\n</tt>.\n",
    "    </li>\n",
    "    <li>\n",
    "        If you save your results on a Windows machine, Python will use the default end-of-line sequence: <tt>\\r\\n</tt>.\n",
    "        You will then need either to convert your file or to modify the way you save your file.\n",
    "    </li>\n",
    "    <li>Apply <tt>conlleval</tt> to your output. Report the F1 result.<br/>\n",
    "        Be aware that <tt>conlleval</tt> was designed for Unix and will break\n",
    "    with Windows end-of-line conventions.</li>\n",
    "    <li>Try to improve your model by modifying some parameters, adding layers, adding\n",
    "        <tt>Bidirectional</tt>\n",
    "        and <tt>Dropout</tt>.\n",
    "    </li>\n",
    "    <li>\n",
    "        Evaluate your network again\n",
    "    </li>\n",
    "</ol>"
   ]
  },
  {
   "cell_type": "markdown",
   "metadata": {},
   "source": [
    "First translate the input part of the test set, the words, into lists of words, `X_test`, lists of indices, `X_test_idx`, and a matrix of indices, where you will pad the sequences: `X_test_padded`"
   ]
  },
  {
   "cell_type": "code",
   "execution_count": 51,
   "metadata": {},
   "outputs": [
    {
     "name": "stdout",
     "output_type": "stream",
     "text": [
      "X_test: ['soccer', '-', 'japan', 'get', 'lucky', 'win', ',', 'china', 'in', 'surprise', 'defeat', '.']\n",
      "Y_test ['O', 'O', 'B-LOC', 'O', 'O', 'O', 'O', 'B-PER', 'O', 'O', 'O', 'O']\n"
     ]
    }
   ],
   "source": [
    "# Test\n",
    "X_test, Y_test = build_sequences(test_dict, key_x='form', key_y='ner')\n",
    "print('X_test:', X_test[1])\n",
    "print('Y_test', Y_test[1])"
   ]
  },
  {
   "cell_type": "code",
   "execution_count": 52,
   "metadata": {},
   "outputs": [],
   "source": [
    "X_test_idx, Y_test_idx = parallel_sequence_indexes(X_test, Y_test)\n",
    "X_test_padded = pad_sequences(X_test_idx, maxlen=150)\n",
    "Y_test_padded = pad_sequences(Y_test_idx, maxlen=150)\n",
    "y_test = encode_y(Y_test_padded)"
   ]
  },
  {
   "cell_type": "code",
   "execution_count": 53,
   "metadata": {},
   "outputs": [
    {
     "name": "stdout",
     "output_type": "stream",
     "text": [
      "X_test_idx: [338644, 679, 197600, 162137, 229067, 390518, 517, 100680, 190291, 350949, 120818, 936]\n",
      "X_test_padded: [     0      0      0      0      0      0      0      0      0      0\n",
      "      0      0      0      0      0      0      0      0      0      0\n",
      "      0      0      0      0      0      0      0      0      0      0\n",
      "      0      0      0      0      0      0      0      0      0      0\n",
      "      0      0      0      0      0      0      0      0      0      0\n",
      "      0      0      0      0      0      0      0      0      0      0\n",
      "      0      0      0      0      0      0      0      0      0      0\n",
      "      0      0      0      0      0      0      0      0      0      0\n",
      "      0      0      0      0      0      0      0      0      0      0\n",
      "      0      0      0      0      0      0      0      0      0      0\n",
      "      0      0      0      0      0      0      0      0      0      0\n",
      "      0      0      0      0      0      0      0      0      0      0\n",
      "      0      0      0      0      0      0      0      0      0      0\n",
      "      0      0      0      0      0      0      0      0 338644    679\n",
      " 197600 162137 229067 390518    517 100680 190291 350949 120818    936]\n"
     ]
    }
   ],
   "source": [
    "print('X_test_idx:', X_test_idx[1])\n",
    "print('X_test_padded:', X_test_padded[1])"
   ]
  },
  {
   "cell_type": "markdown",
   "metadata": {},
   "source": [
    "Now predict the whole test set with `predict` and set the results in `Y_test_hat`"
   ]
  },
  {
   "cell_type": "code",
   "execution_count": 54,
   "metadata": {},
   "outputs": [],
   "source": [
    "Y_test_hat = model.predict(X_test_padded)"
   ]
  },
  {
   "cell_type": "code",
   "execution_count": 55,
   "metadata": {},
   "outputs": [
    {
     "name": "stdout",
     "output_type": "stream",
     "text": [
      "X_test ['soccer', '-', 'japan', 'get', 'lucky', 'win', ',', 'china', 'in', 'surprise', 'defeat', '.']\n",
      "X_test_padded [     0      0      0      0      0      0      0      0      0      0\n",
      "      0      0      0      0      0      0      0      0      0      0\n",
      "      0      0      0      0      0      0      0      0      0      0\n",
      "      0      0      0      0      0      0      0      0      0      0\n",
      "      0      0      0      0      0      0      0      0      0      0\n",
      "      0      0      0      0      0      0      0      0      0      0\n",
      "      0      0      0      0      0      0      0      0      0      0\n",
      "      0      0      0      0      0      0      0      0      0      0\n",
      "      0      0      0      0      0      0      0      0      0      0\n",
      "      0      0      0      0      0      0      0      0      0      0\n",
      "      0      0      0      0      0      0      0      0      0      0\n",
      "      0      0      0      0      0      0      0      0      0      0\n",
      "      0      0      0      0      0      0      0      0      0      0\n",
      "      0      0      0      0      0      0      0      0 338644    679\n",
      " 197600 162137 229067 390518    517 100680 190291 350949 120818    936]\n",
      "Predictions [[1.0000000e+00 1.1656828e-11 6.7680557e-12 ... 1.3929647e-11\n",
      "  2.6755317e-11 1.3564348e-10]\n",
      " [1.0000000e+00 2.2997719e-14 3.4824285e-12 ... 2.2217899e-15\n",
      "  4.2750710e-15 1.7507176e-12]\n",
      " [1.0000000e+00 3.8739342e-12 5.3155569e-10 ... 9.0503001e-13\n",
      "  1.3426386e-13 2.0910250e-10]\n",
      " ...\n",
      " [9.9998927e-01 1.6852669e-11 1.2248822e-07 ... 7.7432789e-09\n",
      "  7.4996205e-09 9.3546969e-06]\n",
      " [9.9998927e-01 1.6850419e-11 1.2246988e-07 ... 7.7413009e-09\n",
      "  7.4977757e-09 9.3532335e-06]\n",
      " [1.7535673e-03 6.4171047e-08 2.6755237e-03 ... 1.8746898e-04\n",
      "  1.8634157e-04 9.7609431e-01]]\n"
     ]
    }
   ],
   "source": [
    "print('X_test', X_test[1])\n",
    "print('X_test_padded', X_test_padded[1])\n",
    "print('Predictions', Y_test_hat[0])"
   ]
  },
  {
   "cell_type": "markdown",
   "metadata": {},
   "source": [
    "Extract the indices of the highest probabilities from the lists and convert them into NER values. Add them with the `pner` key to the dictionaries in the `test_dict` list."
   ]
  },
  {
   "cell_type": "code",
   "execution_count": 56,
   "metadata": {
    "scrolled": false
   },
   "outputs": [],
   "source": [
    "def pner2dict(Y_test_padded, Y_test_hat):\n",
    "    for i in range(Y_test_hat.shape[0]):\n",
    "        sentence = np.argmax(Y_test_hat[i], axis=1)\n",
    "        idx = 0\n",
    "        for j in range(150):\n",
    "            if Y_test_padded[i][j] in {0}:\n",
    "                continue\n",
    "            ner = idx2ner.get(sentence[j], 'unknown')\n",
    "            test_dict[i][idx]['pner'] = ner\n",
    "            idx += 1\n",
    "    return test_dict"
   ]
  },
  {
   "cell_type": "code",
   "execution_count": 57,
   "metadata": {},
   "outputs": [],
   "source": [
    "test_dict = pner2dict(Y_test_padded, Y_test_hat)"
   ]
  },
  {
   "cell_type": "code",
   "execution_count": 107,
   "metadata": {},
   "outputs": [],
   "source": [
    "def save(file, corpus_dict, column_names):\n",
    "    \"\"\"\n",
    "    Saves the corpus in a file\n",
    "    :param file:\n",
    "    :param corpus_dict:\n",
    "    :param column_names:\n",
    "    :return:\n",
    "    \"\"\"\n",
    "    i = 0\n",
    "    with open(file, 'w', encoding='utf8') as f_out:\n",
    "        i += 1\n",
    "        for sentence in corpus_dict:\n",
    "            sentence_lst = []\n",
    "            for row in sentence:\n",
    "                items = map(lambda x: row.get(x, '_'), column_names)\n",
    "                sentence_lst += ' '.join(items) + '\\n'\n",
    "            sentence_lst += '\\n'\n",
    "            f_out.write(''.join(sentence_lst))"
   ]
  },
  {
   "cell_type": "code",
   "execution_count": 108,
   "metadata": {},
   "outputs": [],
   "source": [
    "def evaluate(ARCH):\n",
    "    outfile = 'test' + ARCH + '.out'\n",
    "    column_names = ['form', 'ppos', 'pchunk', 'ner', 'pner']\n",
    "    save(outfile, test_dict, column_names)\n",
    "    lines = open(outfile, encoding='utf8').read().splitlines()\n",
    "    res = conlleval.evaluate(lines)\n",
    "    baseline_score = res['overall']['chunks']['evals']['f1']\n",
    "    return baseline_score"
   ]
  },
  {
   "cell_type": "code",
   "execution_count": 60,
   "metadata": {},
   "outputs": [
    {
     "data": {
      "text/plain": [
       "0.7428318584070797"
      ]
     },
     "execution_count": 60,
     "metadata": {},
     "output_type": "execute_result"
    }
   ],
   "source": [
    "baseline_score1 = evaluate('1')\n",
    "baseline_score1 "
   ]
  },
  {
   "cell_type": "markdown",
   "metadata": {},
   "source": [
    "## Optimized RNN"
   ]
  },
  {
   "cell_type": "code",
   "execution_count": 69,
   "metadata": {},
   "outputs": [
    {
     "name": "stdout",
     "output_type": "stream",
     "text": [
      "Model: \"sequential_4\"\n",
      "_________________________________________________________________\n",
      "Layer (type)                 Output Shape              Param #   \n",
      "=================================================================\n",
      "embedding_4 (Embedding)      (None, None, 100)         40259700  \n",
      "_________________________________________________________________\n",
      "bidirectional_2 (Bidirection (None, None, 200)         40200     \n",
      "_________________________________________________________________\n",
      "dropout_2 (Dropout)          (None, None, 200)         0         \n",
      "_________________________________________________________________\n",
      "dense_4 (Dense)              (None, None, 11)          2211      \n",
      "=================================================================\n",
      "Total params: 40,302,111\n",
      "Trainable params: 42,411\n",
      "Non-trainable params: 40,259,700\n",
      "_________________________________________________________________\n",
      "Epoch 1/15\n",
      "469/469 [==============================] - 34s 72ms/step - loss: 0.0611 - accuracy: 0.9860 - val_loss: 0.0317 - val_accuracy: 0.9909\n",
      "Epoch 2/15\n",
      "469/469 [==============================] - 34s 72ms/step - loss: 0.0264 - accuracy: 0.9924 - val_loss: 0.0235 - val_accuracy: 0.9932\n",
      "Epoch 3/15\n",
      "469/469 [==============================] - 34s 72ms/step - loss: 0.0212 - accuracy: 0.9937 - val_loss: 0.0203 - val_accuracy: 0.9940\n",
      "Epoch 4/15\n",
      "469/469 [==============================] - 35s 75ms/step - loss: 0.0184 - accuracy: 0.9947 - val_loss: 0.0182 - val_accuracy: 0.9944\n",
      "Epoch 5/15\n",
      "469/469 [==============================] - 34s 73ms/step - loss: 0.0163 - accuracy: 0.9953 - val_loss: 0.0161 - val_accuracy: 0.9956\n",
      "Epoch 6/15\n",
      "469/469 [==============================] - 35s 74ms/step - loss: 0.0151 - accuracy: 0.9957 - val_loss: 0.0161 - val_accuracy: 0.9955\n",
      "Epoch 7/15\n",
      "469/469 [==============================] - 34s 73ms/step - loss: 0.0138 - accuracy: 0.9960 - val_loss: 0.0149 - val_accuracy: 0.9959\n",
      "Epoch 8/15\n",
      "469/469 [==============================] - 35s 74ms/step - loss: 0.0127 - accuracy: 0.9963 - val_loss: 0.0148 - val_accuracy: 0.9959\n",
      "Epoch 9/15\n",
      "469/469 [==============================] - 34s 73ms/step - loss: 0.0121 - accuracy: 0.9964 - val_loss: 0.0135 - val_accuracy: 0.9963\n",
      "Epoch 10/15\n",
      "469/469 [==============================] - 35s 74ms/step - loss: 0.0141 - accuracy: 0.9959 - val_loss: 0.0153 - val_accuracy: 0.9958\n",
      "Epoch 11/15\n",
      "469/469 [==============================] - 34s 73ms/step - loss: 0.0120 - accuracy: 0.9965 - val_loss: 0.0133 - val_accuracy: 0.9963\n",
      "Epoch 12/15\n",
      "469/469 [==============================] - 35s 74ms/step - loss: 0.0112 - accuracy: 0.9967 - val_loss: 0.0138 - val_accuracy: 0.9963\n",
      "Epoch 13/15\n",
      "469/469 [==============================] - 34s 73ms/step - loss: 0.0106 - accuracy: 0.9968 - val_loss: 0.0138 - val_accuracy: 0.9963\n",
      "Epoch 14/15\n",
      "469/469 [==============================] - 36s 76ms/step - loss: 0.0101 - accuracy: 0.9969 - val_loss: 0.0139 - val_accuracy: 0.9963\n",
      "Epoch 15/15\n",
      "469/469 [==============================] - 35s 74ms/step - loss: 0.0098 - accuracy: 0.9971 - val_loss: 0.0121 - val_accuracy: 0.9967\n"
     ]
    }
   ],
   "source": [
    "model = Sequential()\n",
    "model.add(Embedding(M, N, weights = [embedding_matrix], trainable = False))\n",
    "model.add(Bidirectional(SimpleRNN(N, return_sequences=True)))\n",
    "model.add(Dropout(0.2))\n",
    "model.add(Dense(nmClasses, activation='softmax'))\n",
    "model.compile(optimizer='adam', loss='categorical_crossentropy', metrics=['accuracy'])\n",
    "model.summary()\n",
    "history = model.fit(X_idx, y_train, batch_size=32, epochs = EPOCHS, validation_data=(X_dev_idx, y_dev))"
   ]
  },
  {
   "cell_type": "code",
   "execution_count": 70,
   "metadata": {},
   "outputs": [],
   "source": [
    "model.save('model2.h5')"
   ]
  },
  {
   "cell_type": "code",
   "execution_count": 71,
   "metadata": {},
   "outputs": [],
   "source": [
    "model = load_model('model2.h5')"
   ]
  },
  {
   "cell_type": "code",
   "execution_count": 72,
   "metadata": {},
   "outputs": [
    {
     "data": {
      "image/png": "[encoded data removed]",
      "text/plain": [
       "<Figure size 432x288 with 1 Axes>"
      ]
     },
     "metadata": {
      "needs_background": "light"
     },
     "output_type": "display_data"
    },
    {
     "data": {
      "image/png": "[encoded data removed]",
      "text/plain": [
       "<Figure size 432x288 with 1 Axes>"
      ]
     },
     "metadata": {
      "needs_background": "light"
     },
     "output_type": "display_data"
    }
   ],
   "source": [
    "plot_perf()"
   ]
  },
  {
   "cell_type": "code",
   "execution_count": 73,
   "metadata": {},
   "outputs": [],
   "source": [
    "Y_test_hat = model.predict(X_test_padded)\n",
    "test_dict = pner2dict(Y_test_padded, Y_test_hat)"
   ]
  },
  {
   "cell_type": "code",
   "execution_count": 74,
   "metadata": {},
   "outputs": [
    {
     "data": {
      "text/plain": [
       "0.7938849880010665"
      ]
     },
     "execution_count": 74,
     "metadata": {},
     "output_type": "execute_result"
    }
   ],
   "source": [
    "baseline_score2 = evaluate('2')\n",
    "baseline_score2"
   ]
  },
  {
   "cell_type": "markdown",
   "metadata": {},
   "source": [
    "## Building a LSTM Network"
   ]
  },
  {
   "cell_type": "markdown",
   "metadata": {},
   "source": [
    "1. Create a simple LSTM network and train a model with the train set. As layers, you will use <tt>Embedding</tt>, <tt>LSTM</tt>, and <tt>Dense</tt>.\n",
    "2. Apply conlleval to your output. Report the F1 result.\n",
    "3. Try to improve your model by modifying some parameters, adding layers, adding <tt>Bidirectional</tt>, <tt>Dropout</tt>, possibly mixing <tt>SimpleRNN</tt>.\n",
    "4. Apply your network to the test set and report the accuracy you obtained. you need to reach a F1 of 82 to pass."
   ]
  },
  {
   "cell_type": "code",
   "execution_count": 75,
   "metadata": {},
   "outputs": [],
   "source": [
    "model = Sequential()\n",
    "model.add(Embedding(M, N,\n",
    "              weights=[embedding_matrix],\n",
    "              trainable=False))\n",
    "model.add(LSTM(units=LSTM_UNITS, return_sequences=True, input_shape = (M, N)))\n",
    "model.add(Dense(nmClasses, activation='softmax'))"
   ]
  },
  {
   "cell_type": "code",
   "execution_count": 76,
   "metadata": {},
   "outputs": [
    {
     "name": "stdout",
     "output_type": "stream",
     "text": [
      "Model: \"sequential_5\"\n",
      "_________________________________________________________________\n",
      "Layer (type)                 Output Shape              Param #   \n",
      "=================================================================\n",
      "embedding_5 (Embedding)      (None, None, 100)         40259700  \n",
      "_________________________________________________________________\n",
      "lstm (LSTM)                  (None, None, 100)         80400     \n",
      "_________________________________________________________________\n",
      "dense_5 (Dense)              (None, None, 11)          1111      \n",
      "=================================================================\n",
      "Total params: 40,341,211\n",
      "Trainable params: 81,511\n",
      "Non-trainable params: 40,259,700\n",
      "_________________________________________________________________\n"
     ]
    }
   ],
   "source": [
    "model.summary()"
   ]
  },
  {
   "cell_type": "markdown",
   "metadata": {},
   "source": [
    "Compile and fit it"
   ]
  },
  {
   "cell_type": "code",
   "execution_count": 77,
   "metadata": {},
   "outputs": [
    {
     "name": "stdout",
     "output_type": "stream",
     "text": [
      "Epoch 1/15\n",
      "469/469 [==============================] - 5s 11ms/step - loss: 0.0760 - accuracy: 0.9857 - val_loss: 0.0270 - val_accuracy: 0.9932\n",
      "Epoch 2/15\n",
      "469/469 [==============================] - 5s 10ms/step - loss: 0.0194 - accuracy: 0.9947 - val_loss: 0.0183 - val_accuracy: 0.9952\n",
      "Epoch 3/15\n",
      "469/469 [==============================] - 5s 11ms/step - loss: 0.0145 - accuracy: 0.9958 - val_loss: 0.0157 - val_accuracy: 0.9958\n",
      "Epoch 4/15\n",
      "469/469 [==============================] - 5s 10ms/step - loss: 0.0124 - accuracy: 0.9964 - val_loss: 0.0142 - val_accuracy: 0.9961\n",
      "Epoch 5/15\n",
      "469/469 [==============================] - 5s 10ms/step - loss: 0.0110 - accuracy: 0.9968 - val_loss: 0.0147 - val_accuracy: 0.9961\n",
      "Epoch 6/15\n",
      "469/469 [==============================] - 5s 11ms/step - loss: 0.0100 - accuracy: 0.9971 - val_loss: 0.0140 - val_accuracy: 0.9962\n",
      "Epoch 7/15\n",
      "469/469 [==============================] - 5s 11ms/step - loss: 0.0091 - accuracy: 0.9973 - val_loss: 0.0130 - val_accuracy: 0.9964\n",
      "Epoch 8/15\n",
      "469/469 [==============================] - 4s 10ms/step - loss: 0.0105 - accuracy: 0.9969 - val_loss: 0.0124 - val_accuracy: 0.9965\n",
      "Epoch 9/15\n",
      "469/469 [==============================] - 4s 9ms/step - loss: 0.0079 - accuracy: 0.9977 - val_loss: 0.0127 - val_accuracy: 0.9966\n",
      "Epoch 10/15\n",
      "469/469 [==============================] - 5s 10ms/step - loss: 0.0073 - accuracy: 0.9978 - val_loss: 0.0129 - val_accuracy: 0.9963\n",
      "Epoch 11/15\n",
      "469/469 [==============================] - 5s 11ms/step - loss: 0.0068 - accuracy: 0.9980 - val_loss: 0.0129 - val_accuracy: 0.9963\n",
      "Epoch 12/15\n",
      "469/469 [==============================] - 5s 10ms/step - loss: 0.0063 - accuracy: 0.9981 - val_loss: 0.0128 - val_accuracy: 0.9965\n",
      "Epoch 13/15\n",
      "469/469 [==============================] - 5s 10ms/step - loss: 0.0059 - accuracy: 0.9982 - val_loss: 0.0123 - val_accuracy: 0.9965\n",
      "Epoch 14/15\n",
      "469/469 [==============================] - 5s 10ms/step - loss: 0.0055 - accuracy: 0.9983 - val_loss: 0.0129 - val_accuracy: 0.9966\n",
      "Epoch 15/15\n",
      "469/469 [==============================] - 5s 11ms/step - loss: 0.0051 - accuracy: 0.9985 - val_loss: 0.0129 - val_accuracy: 0.9967\n"
     ]
    }
   ],
   "source": [
    "model.compile(optimizer='rmsprop', loss='categorical_crossentropy', metrics=['accuracy'])\n",
    "history = model.fit(X_idx, y_train, epochs = EPOCHS, validation_data=(X_dev_idx, y_dev))"
   ]
  },
  {
   "cell_type": "code",
   "execution_count": 78,
   "metadata": {},
   "outputs": [],
   "source": [
    "model.save('model3.h5')"
   ]
  },
  {
   "cell_type": "code",
   "execution_count": 125,
   "metadata": {},
   "outputs": [],
   "source": [
    "model = load_model('model3.h5')"
   ]
  },
  {
   "cell_type": "markdown",
   "metadata": {},
   "source": [
    "Create a figure to show the training and validation losses and accuracies and comment on a possible overfit."
   ]
  },
  {
   "cell_type": "code",
   "execution_count": 80,
   "metadata": {},
   "outputs": [
    {
     "data": {
      "image/png": "[encoded data removed]",
      "text/plain": [
       "<Figure size 432x288 with 1 Axes>"
      ]
     },
     "metadata": {
      "needs_background": "light"
     },
     "output_type": "display_data"
    },
    {
     "data": {
      "image/png": "[encoded data removed]",
      "text/plain": [
       "<Figure size 432x288 with 1 Axes>"
      ]
     },
     "metadata": {
      "needs_background": "light"
     },
     "output_type": "display_data"
    }
   ],
   "source": [
    "plot_perf()"
   ]
  },
  {
   "cell_type": "markdown",
   "metadata": {},
   "source": [
    "Predict the NER sequence"
   ]
  },
  {
   "cell_type": "code",
   "execution_count": 126,
   "metadata": {},
   "outputs": [],
   "source": [
    "Y_test_hat = model.predict(X_test_padded)"
   ]
  },
  {
   "cell_type": "markdown",
   "metadata": {},
   "source": [
    "Extract the indices of the highest probabilities from the lists and convert them into NER values. Add them with the `pner` key to the dictionaries in the `test_dict` list."
   ]
  },
  {
   "cell_type": "code",
   "execution_count": 127,
   "metadata": {},
   "outputs": [],
   "source": [
    "test_dict = pner2dict(Y_test_padded, Y_test_hat)"
   ]
  },
  {
   "cell_type": "code",
   "execution_count": 128,
   "metadata": {},
   "outputs": [
    {
     "data": {
      "text/plain": [
       "0.7664482306684142"
      ]
     },
     "execution_count": 128,
     "metadata": {},
     "output_type": "execute_result"
    }
   ],
   "source": [
    "baseline_score3 = evaluate('3')\n",
    "baseline_score3"
   ]
  },
  {
   "cell_type": "markdown",
   "metadata": {},
   "source": [
    "You need to reach 82 to pass the assignment."
   ]
  },
  {
   "cell_type": "markdown",
   "metadata": {},
   "source": [
    "## Optimized LSTM"
   ]
  },
  {
   "cell_type": "code",
   "execution_count": 160,
   "metadata": {},
   "outputs": [
    {
     "name": "stdout",
     "output_type": "stream",
     "text": [
      "Model: \"sequential_17\"\n",
      "_________________________________________________________________\n",
      "Layer (type)                 Output Shape              Param #   \n",
      "=================================================================\n",
      "embedding_17 (Embedding)     (None, None, 100)         40259700  \n",
      "_________________________________________________________________\n",
      "bidirectional_14 (Bidirectio (None, None, 200)         160800    \n",
      "_________________________________________________________________\n",
      "dropout_14 (Dropout)         (None, None, 200)         0         \n",
      "_________________________________________________________________\n",
      "dense_21 (Dense)             (None, None, 11)          2211      \n",
      "=================================================================\n",
      "Total params: 40,422,711\n",
      "Trainable params: 163,011\n",
      "Non-trainable params: 40,259,700\n",
      "_________________________________________________________________\n",
      "Epoch 1/15\n",
      "469/469 [==============================] - 8s 18ms/step - loss: 0.0841 - accuracy: 0.9827 - val_loss: 0.0329 - val_accuracy: 0.9905\n",
      "Epoch 2/15\n",
      "469/469 [==============================] - 8s 17ms/step - loss: 0.0251 - accuracy: 0.9927 - val_loss: 0.0214 - val_accuracy: 0.9938\n",
      "Epoch 3/15\n",
      "469/469 [==============================] - 8s 17ms/step - loss: 0.0181 - accuracy: 0.9947 - val_loss: 0.0168 - val_accuracy: 0.9950\n",
      "Epoch 4/15\n",
      "469/469 [==============================] - 8s 17ms/step - loss: 0.0146 - accuracy: 0.9958 - val_loss: 0.0145 - val_accuracy: 0.9962\n",
      "Epoch 5/15\n",
      "469/469 [==============================] - 8s 17ms/step - loss: 0.0124 - accuracy: 0.9965 - val_loss: 0.0128 - val_accuracy: 0.9965\n",
      "Epoch 6/15\n",
      "469/469 [==============================] - 8s 17ms/step - loss: 0.0109 - accuracy: 0.9969 - val_loss: 0.0119 - val_accuracy: 0.9967\n",
      "Epoch 7/15\n",
      "469/469 [==============================] - 8s 17ms/step - loss: 0.0096 - accuracy: 0.9973 - val_loss: 0.0117 - val_accuracy: 0.9968\n",
      "Epoch 8/15\n",
      "469/469 [==============================] - 8s 18ms/step - loss: 0.0086 - accuracy: 0.9975 - val_loss: 0.0107 - val_accuracy: 0.9970\n",
      "Epoch 9/15\n",
      "469/469 [==============================] - 8s 17ms/step - loss: 0.0075 - accuracy: 0.9978 - val_loss: 0.0106 - val_accuracy: 0.9971\n",
      "Epoch 10/15\n",
      "469/469 [==============================] - 8s 17ms/step - loss: 0.0068 - accuracy: 0.9980 - val_loss: 0.0101 - val_accuracy: 0.9972\n",
      "Epoch 11/15\n",
      "469/469 [==============================] - 8s 18ms/step - loss: 0.0061 - accuracy: 0.9982 - val_loss: 0.0094 - val_accuracy: 0.9973\n",
      "Epoch 12/15\n",
      "469/469 [==============================] - 8s 17ms/step - loss: 0.0055 - accuracy: 0.9984 - val_loss: 0.0097 - val_accuracy: 0.9974\n",
      "Epoch 13/15\n",
      "469/469 [==============================] - 8s 17ms/step - loss: 0.0048 - accuracy: 0.9986 - val_loss: 0.0100 - val_accuracy: 0.9974\n",
      "Epoch 14/15\n",
      "469/469 [==============================] - 8s 18ms/step - loss: 0.0042 - accuracy: 0.9987 - val_loss: 0.0093 - val_accuracy: 0.9974\n",
      "Epoch 15/15\n",
      "469/469 [==============================] - 8s 17ms/step - loss: 0.0038 - accuracy: 0.9989 - val_loss: 0.0095 - val_accuracy: 0.9974\n"
     ]
    }
   ],
   "source": [
    "model = Sequential()\n",
    "model.add(Embedding(M, N, weights = [embedding_matrix], trainable = False))\n",
    "model.add(Bidirectional(LSTM(units=LSTM_UNITS, return_sequences=True, dropout=0.15, recurrent_dropout=0.1)))\n",
    "# model.add(Dropout(0.15))\n",
    "model.add(Dense(nmClasses, activation='softmax'))\n",
    "model.compile(optimizer='adam', loss='categorical_crossentropy', metrics=['accuracy'])\n",
    "model.summary()\n",
    "history = model.fit(X_idx, y_train, epochs = EPOCHS, validation_data=(X_dev_idx, y_dev))"
   ]
  },
  {
   "cell_type": "code",
   "execution_count": 161,
   "metadata": {},
   "outputs": [],
   "source": [
    "model.save('model4.h5')"
   ]
  },
  {
   "cell_type": "code",
   "execution_count": 162,
   "metadata": {},
   "outputs": [],
   "source": [
    "model = load_model('model4.h5')"
   ]
  },
  {
   "cell_type": "code",
   "execution_count": 163,
   "metadata": {},
   "outputs": [
    {
     "data": {
      "image/png": "[encoded data removed]",
      "text/plain": [
       "<Figure size 432x288 with 1 Axes>"
      ]
     },
     "metadata": {
      "needs_background": "light"
     },
     "output_type": "display_data"
    },
    {
     "data": {
      "image/png": "[encoded data removed]",
      "text/plain": [
       "<Figure size 432x288 with 1 Axes>"
      ]
     },
     "metadata": {
      "needs_background": "light"
     },
     "output_type": "display_data"
    }
   ],
   "source": [
    "plot_perf()"
   ]
  },
  {
   "cell_type": "code",
   "execution_count": 164,
   "metadata": {},
   "outputs": [],
   "source": [
    "Y_test_hat = model.predict(X_test_padded)\n",
    "test_dict = pner2dict(Y_test_padded, Y_test_hat)"
   ]
  },
  {
   "cell_type": "code",
   "execution_count": 165,
   "metadata": {},
   "outputs": [
    {
     "data": {
      "text/plain": [
       "0.8309314586994727"
      ]
     },
     "execution_count": 165,
     "metadata": {},
     "output_type": "execute_result"
    }
   ],
   "source": [
    "baseline_score4 = evaluate('4')\n",
    "baseline_score4"
   ]
  },
  {
   "cell_type": "code",
   "execution_count": 166,
   "metadata": {},
   "outputs": [
    {
     "name": "stdout",
     "output_type": "stream",
     "text": [
      "F1:\n",
      "Simple RNN :  0.7428318584070797\n",
      "Optimized RNN :  0.7938849880010665\n",
      "Simple LSTM :  0.7664482306684142\n",
      "Optimized LSTM :  0.8309314586994727\n"
     ]
    }
   ],
   "source": [
    "print(\"F1:\")\n",
    "print('Simple RNN : ', baseline_score1)\n",
    "print('Optimized RNN : ', baseline_score2)\n",
    "print('Simple LSTM : ', baseline_score3)\n",
    "print('Optimized LSTM : ', baseline_score4)"
   ]
  },
  {
   "cell_type": "code",
   "execution_count": null,
   "metadata": {},
   "outputs": [],
   "source": []
  }
 ],
 "metadata": {
  "kernelspec": {
   "display_name": "Python 3",
   "language": "python",
   "name": "python3"
  },
  "language_info": {
   "codemirror_mode": {
    "name": "ipython",
    "version": 3
   },
   "file_extension": ".py",
   "mimetype": "text/x-python",
   "name": "python",
   "nbconvert_exporter": "python",
   "pygments_lexer": "ipython3",
   "version": "3.7.3"
  }
 },
 "nbformat": 4,
 "nbformat_minor": 4
}

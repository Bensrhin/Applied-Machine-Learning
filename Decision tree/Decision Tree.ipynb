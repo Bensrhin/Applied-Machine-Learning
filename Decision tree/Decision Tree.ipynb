{
 "cells": [
  {
   "cell_type": "markdown",
   "metadata": {},
   "source": [
    "# SciKitLearn DecisionTreeClassifier (based on CART)"
   ]
  },
  {
   "cell_type": "markdown",
   "metadata": {},
   "source": [
    "### 1) Loading the digits dataset from the datasets provided in SciKitLearn. "
   ]
  },
  {
   "cell_type": "code",
   "execution_count": 59,
   "metadata": {},
   "outputs": [],
   "source": [
    "from sklearn import datasets\n",
    "digits = datasets.load_digits()\n",
    "# Features\n",
    "x = digits.data\n",
    "# Labels\n",
    "y = digits.target\n",
    "# images\n",
    "images = digits.images"
   ]
  },
  {
   "cell_type": "code",
   "execution_count": 60,
   "metadata": {},
   "outputs": [
    {
     "data": {
      "text/plain": [
       "dict_keys(['data', 'target', 'target_names', 'images', 'DESCR'])"
      ]
     },
     "execution_count": 60,
     "metadata": {},
     "output_type": "execute_result"
    }
   ],
   "source": [
    "import numpy as np\n",
    "import pandas as pd\n",
    "digits.keys()"
   ]
  },
  {
   "cell_type": "code",
   "execution_count": 61,
   "metadata": {},
   "outputs": [],
   "source": [
    "# convert array of int target names to array of str\n",
    "import numpy as np\n",
    "t = digits.target_names\n",
    "target_names=np.array(t).astype('str').tolist()"
   ]
  },
  {
   "cell_type": "markdown",
   "metadata": {},
   "source": [
    "### 2) Spliting the data set into 70% training data and 30% test data."
   ]
  },
  {
   "cell_type": "code",
   "execution_count": 62,
   "metadata": {},
   "outputs": [],
   "source": [
    "from sklearn.model_selection import train_test_split\n",
    "x_train, x_test, y_train, y_test, img_tr, img_ts = train_test_split(x, y, images, test_size=0.3)"
   ]
  },
  {
   "cell_type": "code",
   "execution_count": 63,
   "metadata": {},
   "outputs": [
    {
     "data": {
      "text/plain": [
       "{0.0: 37548,\n",
       " 8.0: 2302,\n",
       " 15.0: 2874,\n",
       " 16.0: 6956,\n",
       " 6.0: 1702,\n",
       " 2.0: 2224,\n",
       " 11.0: 1910,\n",
       " 5.0: 1854,\n",
       " 3.0: 1980,\n",
       " 13.0: 2378,\n",
       " 10.0: 1791,\n",
       " 1.0: 2702,\n",
       " 4.0: 2176,\n",
       " 9.0: 1754,\n",
       " 14.0: 2409,\n",
       " 12.0: 2471,\n",
       " 7.0: 1769}"
      ]
     },
     "execution_count": 63,
     "metadata": {},
     "output_type": "execute_result"
    }
   ],
   "source": [
    "att = {}\n",
    "x_train[1, 9]\n",
    "for i in range(1200):\n",
    "    for j in range(64):\n",
    "        if x_train[i,j] not in att:\n",
    "            att[x_train[i,j]] = 1\n",
    "        else:\n",
    "            att[x_train[i,j]] += 1\n",
    "att"
   ]
  },
  {
   "cell_type": "markdown",
   "metadata": {},
   "source": [
    "### 3) Set up a DecisionTreeClassifier"
   ]
  },
  {
   "cell_type": "code",
   "execution_count": 64,
   "metadata": {},
   "outputs": [],
   "source": [
    "from sklearn import tree\n",
    "classifier = tree.DecisionTreeClassifier()\n",
    "# train a decision tree classifier for the digits dataset based on the training data\n",
    "classifier = classifier.fit(x_train, y_train)"
   ]
  },
  {
   "cell_type": "markdown",
   "metadata": {},
   "source": [
    "#### Produce a plot of the tree with GraphViz"
   ]
  },
  {
   "cell_type": "code",
   "execution_count": 65,
   "metadata": {
    "scrolled": false
   },
   "outputs": [
    {
     "data": {
      "text/plain": [
       "'digits.pdf'"
      ]
     },
     "execution_count": 65,
     "metadata": {},
     "output_type": "execute_result"
    }
   ],
   "source": [
    "import graphviz \n",
    "dot_data = tree.export_graphviz(classifier, out_file=None,   \n",
    "                      class_names=target_names,  \n",
    "                      filled=True, rounded=True,  \n",
    "                      special_characters=True)  \n",
    "graph = graphviz.Source(dot_data) \n",
    "graph.render(\"digits\") \n",
    "# graph"
   ]
  },
  {
   "cell_type": "markdown",
   "metadata": {},
   "source": [
    "### 4) Test the classifier with the remaining test data"
   ]
  },
  {
   "cell_type": "code",
   "execution_count": 66,
   "metadata": {},
   "outputs": [],
   "source": [
    "# predicting the labels of the test set\n",
    "y_hat = classifier.predict(x_test)"
   ]
  },
  {
   "cell_type": "code",
   "execution_count": 67,
   "metadata": {},
   "outputs": [
    {
     "name": "stdout",
     "output_type": "stream",
     "text": [
      "              precision    recall  f1-score   support\n",
      "\n",
      "           0       0.97      0.97      0.97        58\n",
      "           1       0.78      0.87      0.82        60\n",
      "           2       0.83      0.83      0.83        53\n",
      "           3       0.81      0.86      0.83        63\n",
      "           4       0.82      0.84      0.83        55\n",
      "           5       0.88      0.90      0.89        58\n",
      "           6       0.94      0.89      0.91        36\n",
      "           7       0.80      0.80      0.80        44\n",
      "           8       0.83      0.67      0.74        60\n",
      "           9       0.78      0.79      0.79        53\n",
      "\n",
      "    accuracy                           0.84       540\n",
      "   macro avg       0.84      0.84      0.84       540\n",
      "weighted avg       0.84      0.84      0.84       540\n",
      "\n"
     ]
    }
   ],
   "source": [
    "# Evaluating the classifier\n",
    "from sklearn.metrics import classification_report, confusion_matrix\n",
    "print(classification_report(y_test, y_hat))"
   ]
  },
  {
   "cell_type": "code",
   "execution_count": 68,
   "metadata": {},
   "outputs": [
    {
     "name": "stdout",
     "output_type": "stream",
     "text": [
      "[[56  0  0  0  1  0  0  0  1  0]\n",
      " [ 0 52  2  1  2  1  0  0  0  2]\n",
      " [ 0  4 44  3  0  0  0  2  0  0]\n",
      " [ 0  2  1 54  0  1  0  0  2  3]\n",
      " [ 1  2  0  0 46  1  0  3  1  1]\n",
      " [ 0  0  0  0  0 52  1  1  2  2]\n",
      " [ 1  0  0  0  2  0 32  1  0  0]\n",
      " [ 0  0  1  1  2  1  0 35  1  3]\n",
      " [ 0  7  4  4  2  1  1  0 40  1]\n",
      " [ 0  0  1  4  1  2  0  2  1 42]]\n"
     ]
    }
   ],
   "source": [
    "print(confusion_matrix(y_test, y_hat))"
   ]
  },
  {
   "cell_type": "markdown",
   "metadata": {},
   "source": [
    "The **min_samples_split** parameter:\n",
    "will evaluate the number of samples in the node, and \n",
    "if the number is less than the minimum the split will be avoided and the node will be a leaf.\n",
    "\n",
    "The **min_samples_leaf** parameter checks before the node is generated, that is, \n",
    "if the possible split results in a child with fewer samples, the split will be avoided \n",
    "(since the minimum number of samples for the child to be a leaf has not been reached) \n",
    "and the node will be replaced by a leaf.\n",
    "\n",
    "In all cases, when we have samples with more than one Class in a leaf, the Final Class will be the most likely to happen, according to the samples that reached it in training."
   ]
  },
  {
   "cell_type": "markdown",
   "metadata": {},
   "source": [
    "### 5) Tuning parameters"
   ]
  },
  {
   "cell_type": "code",
   "execution_count": 69,
   "metadata": {},
   "outputs": [
    {
     "name": "stderr",
     "output_type": "stream",
     "text": [
      "/home/nabil/anaconda3/lib/python3.7/site-packages/sklearn/model_selection/_split.py:1978: FutureWarning: The default value of cv will change from 3 to 5 in version 0.22. Specify it explicitly to silence this warning.\n",
      "  warnings.warn(CV_WARNING, FutureWarning)\n"
     ]
    },
    {
     "name": "stdout",
     "output_type": "stream",
     "text": [
      "Best splitter: random\n",
      "Best Criterion: entropy\n",
      "Best min_samples_split: 2\n",
      "Best min_samples_leaf: 1\n",
      "Best max_depth: 12\n"
     ]
    },
    {
     "name": "stderr",
     "output_type": "stream",
     "text": [
      "/home/nabil/anaconda3/lib/python3.7/site-packages/sklearn/model_selection/_search.py:813: DeprecationWarning: The default of the `iid` parameter will change from True to False in version 0.22 and will be removed in 0.24. This will change numeric results when test-set sizes are unequal.\n",
      "  DeprecationWarning)\n"
     ]
    }
   ],
   "source": [
    "# importing libraries\n",
    "from sklearn import decomposition, datasets\n",
    "from sklearn import tree\n",
    "from sklearn.pipeline import Pipeline\n",
    "from sklearn.model_selection import GridSearchCV\n",
    "from sklearn.preprocessing import StandardScaler\n",
    "X, Y = x_train, y_train\n",
    "\n",
    "# Creating a DecisionTreeClassifier\n",
    "dec_tree = tree.DecisionTreeClassifier()\n",
    "# Steps : training a Decision Tree Classifier on the data.\n",
    "pipe = Pipeline(steps=[('dec_tree', dec_tree)])\n",
    "\n",
    "\n",
    "# Creating lists of parameter for Decision Tree Classifier\n",
    "splitter = [\"best\", \"random\"]\n",
    "criterion = ['gini', 'entropy']\n",
    "max_depth = [2,4,6,8,10,12, None]\n",
    "splits = [2, 5, 8, 10]\n",
    "leaves = [1, 2, 3, 4, 5, 6]\n",
    "# Creating a dictionary of all the parameter options \n",
    "# Note that we can access the parameters of steps of a pipeline by using '__’\n",
    "parameters = dict(#pca__n_components=n_components,\n",
    "                  dec_tree__splitter=splitter,\n",
    "                  dec_tree__criterion=criterion,\n",
    "                  dec_tree__min_samples_split=splits,\n",
    "                  dec_tree__min_samples_leaf=leaves,\n",
    "                  dec_tree__max_depth=max_depth)\n",
    "\n",
    "# Creating a grid search object\n",
    "clf_GS = GridSearchCV(pipe, parameters)\n",
    "\n",
    "# Fitting the grid search\n",
    "clf_GS.fit(X, Y)\n",
    "\n",
    "# Viewing The Best Parameters\n",
    "print('Best splitter:', clf_GS.best_estimator_.get_params()['dec_tree__splitter'])\n",
    "print('Best Criterion:', clf_GS.best_estimator_.get_params()['dec_tree__criterion'])\n",
    "print('Best min_samples_split:', clf_GS.best_estimator_.get_params()['dec_tree__min_samples_split'])\n",
    "print('Best min_samples_leaf:', clf_GS.best_estimator_.get_params()['dec_tree__min_samples_leaf'])\n",
    "print('Best max_depth:', clf_GS.best_estimator_.get_params()['dec_tree__max_depth'])"
   ]
  },
  {
   "cell_type": "markdown",
   "metadata": {},
   "source": [
    "#### Change the parameters of the classifier"
   ]
  },
  {
   "cell_type": "code",
   "execution_count": 70,
   "metadata": {},
   "outputs": [
    {
     "name": "stdout",
     "output_type": "stream",
     "text": [
      "              precision    recall  f1-score   support\n",
      "\n",
      "           0       0.90      0.95      0.92        58\n",
      "           1       0.85      0.88      0.87        60\n",
      "           2       0.77      0.91      0.83        53\n",
      "           3       0.87      0.86      0.86        63\n",
      "           4       0.86      0.78      0.82        55\n",
      "           5       0.92      0.81      0.86        58\n",
      "           6       0.89      0.94      0.92        36\n",
      "           7       0.71      0.84      0.77        44\n",
      "           8       0.74      0.57      0.64        60\n",
      "           9       0.80      0.85      0.83        53\n",
      "\n",
      "    accuracy                           0.83       540\n",
      "   macro avg       0.83      0.84      0.83       540\n",
      "weighted avg       0.83      0.83      0.83       540\n",
      "\n",
      "[[55  0  0  0  0  0  0  0  2  1]\n",
      " [ 0 53  2  0  1  0  0  0  3  1]\n",
      " [ 0  0 48  3  0  0  0  2  0  0]\n",
      " [ 0  0  3 54  0  1  0  1  2  2]\n",
      " [ 4  1  0  0 43  1  3  3  0  0]\n",
      " [ 0  0  0  2  0 47  1  1  4  3]\n",
      " [ 1  0  0  0  1  0 34  0  0  0]\n",
      " [ 0  0  1  2  4  0  0 37  0  0]\n",
      " [ 1  8  7  0  1  2  0  3 34  4]\n",
      " [ 0  0  1  1  0  0  0  5  1 45]]\n"
     ]
    }
   ],
   "source": [
    "classifier = tree.DecisionTreeClassifier(splitter=\"best\",\n",
    "                                         criterion=\"entropy\",\n",
    "                                         min_samples_split=2,\n",
    "                                         min_samples_leaf=1,\n",
    "                                         max_depth=None)\n",
    "# training\n",
    "classifier = classifier.fit(x_train, y_train)\n",
    "\n",
    "# predicting the labels of the test set\n",
    "y_hat = classifier.predict(x_test)\n",
    "\n",
    "# Evaluation\n",
    "print(classification_report(y_test, y_hat))\n",
    "print(confusion_matrix(y_test, y_hat))"
   ]
  },
  {
   "cell_type": "markdown",
   "metadata": {},
   "source": [
    "## ID3:"
   ]
  },
  {
   "cell_type": "code",
   "execution_count": 71,
   "metadata": {},
   "outputs": [],
   "source": [
    "# libraries\n",
    "import collections\n",
    "import ToyData as td\n",
    "import ID3"
   ]
  },
  {
   "cell_type": "markdown",
   "metadata": {},
   "source": [
    "### ----------------------- ToyData -------------------------"
   ]
  },
  {
   "cell_type": "code",
   "execution_count": 72,
   "metadata": {},
   "outputs": [],
   "source": [
    "# Importing data\n",
    "attributes, classes, data, target, data2, target2 = td.ToyData().get_data()"
   ]
  },
  {
   "cell_type": "code",
   "execution_count": 73,
   "metadata": {},
   "outputs": [],
   "source": [
    "# ID3 classifier\n",
    "id3 = ID3.ID3DecisionTreeClassifier()\n",
    "\n",
    "# Fitting the model\n",
    "myTree = id3.fit(data, target, attributes, classes)"
   ]
  },
  {
   "cell_type": "code",
   "execution_count": 74,
   "metadata": {},
   "outputs": [
    {
     "name": "stdout",
     "output_type": "stream",
     "text": [
      "Tree:\n",
      " // The Decision Tree: ID3\n",
      "digraph {\n",
      "\t0 [label=\"\n",
      "id: 0\n",
      "value: -\n",
      "attribute: size\n",
      "entropy: 0.9886994082884974\n",
      "samples: 16\n",
      "classCounts: {'+': 9, '-': 7}\"]\n",
      "\t1 [label=\"\n",
      "id: 1\n",
      "value: s\n",
      "attribute: shape\n",
      "entropy: 0.8112781244591328\n",
      "samples: 8\n",
      "classCounts: {'+': 6, '-': 2}\"]\n",
      "\t0 -> 1\n",
      "\t2 [label=\"\n",
      "id: 2\n",
      "value: r\n",
      "attribute: color\n",
      "entropy: 0.9182958340544896\n",
      "samples: 6\n",
      "classCounts: {'+': 4, '-': 2}\"]\n",
      "\t1 -> 2\n",
      "\t3 [label=\"\n",
      "id: 3\n",
      "value: y\n",
      "label: +\n",
      "entropy: 0.7219280948873623\n",
      "samples: 5\n",
      "classCounts: {'+': 4, '-': 1}\"]\n",
      "\t2 -> 3\n",
      "\t4 [label=\"\n",
      "id: 4\n",
      "value: g\n",
      "label: -\n",
      "entropy: 0\n",
      "samples: 1\n",
      "classCounts: {'-': 1}\"]\n",
      "\t2 -> 4\n",
      "\t5 [label=\"\n",
      "id: 5\n",
      "value: b\n",
      "label: +\n",
      "samples: 0\"]\n",
      "\t2 -> 5\n",
      "\t6 [label=\"\n",
      "id: 6\n",
      "value: i\n",
      "label: +\n",
      "entropy: 0\n",
      "samples: 2\n",
      "classCounts: {'+': 2}\"]\n",
      "\t1 -> 6\n",
      "\t7 [label=\"\n",
      "id: 7\n",
      "value: l\n",
      "attribute: color\n",
      "entropy: 0.9544340029249649\n",
      "samples: 8\n",
      "classCounts: {'-': 5, '+': 3}\"]\n",
      "\t0 -> 7\n",
      "\t8 [label=\"\n",
      "id: 8\n",
      "value: y\n",
      "attribute: shape\n",
      "entropy: 0.9852281360342516\n",
      "samples: 7\n",
      "classCounts: {'+': 3, '-': 4}\"]\n",
      "\t7 -> 8\n",
      "\t9 [label=\"\n",
      "id: 9\n",
      "value: r\n",
      "label: -\n",
      "entropy: 0.9182958340544896\n",
      "samples: 6\n",
      "classCounts: {'+': 2, '-': 4}\"]\n",
      "\t8 -> 9\n",
      "\t10 [label=\"\n",
      "id: 10\n",
      "value: i\n",
      "label: +\n",
      "entropy: 0\n",
      "samples: 1\n",
      "classCounts: {'+': 1}\"]\n",
      "\t8 -> 10\n",
      "\t11 [label=\"\n",
      "id: 11\n",
      "value: g\n",
      "label: -\n",
      "entropy: 0\n",
      "samples: 1\n",
      "classCounts: {'-': 1}\"]\n",
      "\t7 -> 11\n",
      "\t12 [label=\"\n",
      "id: 12\n",
      "value: b\n",
      "label: -\n",
      "samples: 0\"]\n",
      "\t7 -> 12\n",
      "} \n",
      "\n"
     ]
    },
    {
     "data": {
      "image/svg+xml": [
       "<?xml version=\"1.0\" encoding=\"UTF-8\" standalone=\"no\"?>\n",
       "<!DOCTYPE svg PUBLIC \"-//W3C//DTD SVG 1.1//EN\"\n",
       " \"http://www.w3.org/Graphics/SVG/1.1/DTD/svg11.dtd\">\n",
       "<!-- Generated by graphviz version 2.40.1 (20161225.0304)\n",
       " -->\n",
       "<!-- Title: %3 Pages: 1 -->\n",
       "<svg width=\"1300pt\" height=\"761pt\"\n",
       " viewBox=\"0.00 0.00 1300.14 760.88\" xmlns=\"http://www.w3.org/2000/svg\" xmlns:xlink=\"http://www.w3.org/1999/xlink\">\n",
       "<g id=\"graph0\" class=\"graph\" transform=\"scale(1 1) rotate(0) translate(4 756.8814)\">\n",
       "<title>%3</title>\n",
       "<polygon fill=\"#ffffff\" stroke=\"transparent\" points=\"-4,4 -4,-756.8814 1296.1407,-756.8814 1296.1407,4 -4,4\"/>\n",
       "<!-- 0 -->\n",
       "<g id=\"node1\" class=\"node\">\n",
       "<title>0</title>\n",
       "<ellipse fill=\"none\" stroke=\"#000000\" cx=\"744.1076\" cy=\"-672.2712\" rx=\"130.2154\" ry=\"80.7205\"/>\n",
       "<text text-anchor=\"middle\" x=\"744.1076\" y=\"-698.0712\" font-family=\"Times,serif\" font-size=\"14.00\" fill=\"#000000\">id: 0</text>\n",
       "<text text-anchor=\"middle\" x=\"744.1076\" y=\"-683.0712\" font-family=\"Times,serif\" font-size=\"14.00\" fill=\"#000000\">value: &#45;</text>\n",
       "<text text-anchor=\"middle\" x=\"744.1076\" y=\"-668.0712\" font-family=\"Times,serif\" font-size=\"14.00\" fill=\"#000000\">attribute: size</text>\n",
       "<text text-anchor=\"middle\" x=\"744.1076\" y=\"-653.0712\" font-family=\"Times,serif\" font-size=\"14.00\" fill=\"#000000\">entropy: 0.9886994082884974</text>\n",
       "<text text-anchor=\"middle\" x=\"744.1076\" y=\"-638.0712\" font-family=\"Times,serif\" font-size=\"14.00\" fill=\"#000000\">samples: 16</text>\n",
       "<text text-anchor=\"middle\" x=\"744.1076\" y=\"-623.0712\" font-family=\"Times,serif\" font-size=\"14.00\" fill=\"#000000\">classCounts: {&#39;+&#39;: 9, &#39;&#45;&#39;: 7}</text>\n",
       "</g>\n",
       "<!-- 1 -->\n",
       "<g id=\"node2\" class=\"node\">\n",
       "<title>1</title>\n",
       "<ellipse fill=\"none\" stroke=\"#000000\" cx=\"605.1076\" cy=\"-475.0509\" rx=\"130.2154\" ry=\"80.7205\"/>\n",
       "<text text-anchor=\"middle\" x=\"605.1076\" y=\"-500.8509\" font-family=\"Times,serif\" font-size=\"14.00\" fill=\"#000000\">id: 1</text>\n",
       "<text text-anchor=\"middle\" x=\"605.1076\" y=\"-485.8509\" font-family=\"Times,serif\" font-size=\"14.00\" fill=\"#000000\">value: s</text>\n",
       "<text text-anchor=\"middle\" x=\"605.1076\" y=\"-470.8509\" font-family=\"Times,serif\" font-size=\"14.00\" fill=\"#000000\">attribute: shape</text>\n",
       "<text text-anchor=\"middle\" x=\"605.1076\" y=\"-455.8509\" font-family=\"Times,serif\" font-size=\"14.00\" fill=\"#000000\">entropy: 0.8112781244591328</text>\n",
       "<text text-anchor=\"middle\" x=\"605.1076\" y=\"-440.8509\" font-family=\"Times,serif\" font-size=\"14.00\" fill=\"#000000\">samples: 8</text>\n",
       "<text text-anchor=\"middle\" x=\"605.1076\" y=\"-425.8509\" font-family=\"Times,serif\" font-size=\"14.00\" fill=\"#000000\">classCounts: {&#39;+&#39;: 6, &#39;&#45;&#39;: 2}</text>\n",
       "</g>\n",
       "<!-- 0&#45;&gt;1 -->\n",
       "<g id=\"edge1\" class=\"edge\">\n",
       "<title>0&#45;&gt;1</title>\n",
       "<path fill=\"none\" stroke=\"#000000\" d=\"M691.9537,-598.2725C682.5759,-584.9668 672.748,-571.0225 663.2142,-557.4954\"/>\n",
       "<polygon fill=\"#000000\" stroke=\"#000000\" points=\"665.9445,-555.2937 657.3227,-549.1362 660.2227,-559.3264 665.9445,-555.2937\"/>\n",
       "</g>\n",
       "<!-- 7 -->\n",
       "<g id=\"node8\" class=\"node\">\n",
       "<title>7</title>\n",
       "<ellipse fill=\"none\" stroke=\"#000000\" cx=\"981.1076\" cy=\"-475.0509\" rx=\"130.2154\" ry=\"80.7205\"/>\n",
       "<text text-anchor=\"middle\" x=\"981.1076\" y=\"-500.8509\" font-family=\"Times,serif\" font-size=\"14.00\" fill=\"#000000\">id: 7</text>\n",
       "<text text-anchor=\"middle\" x=\"981.1076\" y=\"-485.8509\" font-family=\"Times,serif\" font-size=\"14.00\" fill=\"#000000\">value: l</text>\n",
       "<text text-anchor=\"middle\" x=\"981.1076\" y=\"-470.8509\" font-family=\"Times,serif\" font-size=\"14.00\" fill=\"#000000\">attribute: color</text>\n",
       "<text text-anchor=\"middle\" x=\"981.1076\" y=\"-455.8509\" font-family=\"Times,serif\" font-size=\"14.00\" fill=\"#000000\">entropy: 0.9544340029249649</text>\n",
       "<text text-anchor=\"middle\" x=\"981.1076\" y=\"-440.8509\" font-family=\"Times,serif\" font-size=\"14.00\" fill=\"#000000\">samples: 8</text>\n",
       "<text text-anchor=\"middle\" x=\"981.1076\" y=\"-425.8509\" font-family=\"Times,serif\" font-size=\"14.00\" fill=\"#000000\">classCounts: {&#39;&#45;&#39;: 5, &#39;+&#39;: 3}</text>\n",
       "</g>\n",
       "<!-- 0&#45;&gt;7 -->\n",
       "<g id=\"edge7\" class=\"edge\">\n",
       "<title>0&#45;&gt;7</title>\n",
       "<path fill=\"none\" stroke=\"#000000\" d=\"M822.0386,-607.4207C845.5343,-587.8687 871.45,-566.3029 895.421,-546.3553\"/>\n",
       "<polygon fill=\"#000000\" stroke=\"#000000\" points=\"897.682,-549.0272 903.1299,-539.9403 893.2044,-543.6465 897.682,-549.0272\"/>\n",
       "</g>\n",
       "<!-- 2 -->\n",
       "<g id=\"node3\" class=\"node\">\n",
       "<title>2</title>\n",
       "<ellipse fill=\"none\" stroke=\"#000000\" cx=\"366.1076\" cy=\"-277.8305\" rx=\"130.2154\" ry=\"80.7205\"/>\n",
       "<text text-anchor=\"middle\" x=\"366.1076\" y=\"-303.6305\" font-family=\"Times,serif\" font-size=\"14.00\" fill=\"#000000\">id: 2</text>\n",
       "<text text-anchor=\"middle\" x=\"366.1076\" y=\"-288.6305\" font-family=\"Times,serif\" font-size=\"14.00\" fill=\"#000000\">value: r</text>\n",
       "<text text-anchor=\"middle\" x=\"366.1076\" y=\"-273.6305\" font-family=\"Times,serif\" font-size=\"14.00\" fill=\"#000000\">attribute: color</text>\n",
       "<text text-anchor=\"middle\" x=\"366.1076\" y=\"-258.6305\" font-family=\"Times,serif\" font-size=\"14.00\" fill=\"#000000\">entropy: 0.9182958340544896</text>\n",
       "<text text-anchor=\"middle\" x=\"366.1076\" y=\"-243.6305\" font-family=\"Times,serif\" font-size=\"14.00\" fill=\"#000000\">samples: 6</text>\n",
       "<text text-anchor=\"middle\" x=\"366.1076\" y=\"-228.6305\" font-family=\"Times,serif\" font-size=\"14.00\" fill=\"#000000\">classCounts: {&#39;+&#39;: 4, &#39;&#45;&#39;: 2}</text>\n",
       "</g>\n",
       "<!-- 1&#45;&gt;2 -->\n",
       "<g id=\"edge2\" class=\"edge\">\n",
       "<title>1&#45;&gt;2</title>\n",
       "<path fill=\"none\" stroke=\"#000000\" d=\"M526.8501,-410.4735C503.0186,-390.808 476.6927,-369.0842 452.3641,-349.0084\"/>\n",
       "<polygon fill=\"#000000\" stroke=\"#000000\" points=\"454.4817,-346.2181 444.541,-342.5529 450.0264,-351.6172 454.4817,-346.2181\"/>\n",
       "</g>\n",
       "<!-- 6 -->\n",
       "<g id=\"node7\" class=\"node\">\n",
       "<title>6</title>\n",
       "<ellipse fill=\"none\" stroke=\"#000000\" cx=\"605.1076\" cy=\"-277.8305\" rx=\"91.4341\" ry=\"80.7205\"/>\n",
       "<text text-anchor=\"middle\" x=\"605.1076\" y=\"-303.6305\" font-family=\"Times,serif\" font-size=\"14.00\" fill=\"#000000\">id: 6</text>\n",
       "<text text-anchor=\"middle\" x=\"605.1076\" y=\"-288.6305\" font-family=\"Times,serif\" font-size=\"14.00\" fill=\"#000000\">value: i</text>\n",
       "<text text-anchor=\"middle\" x=\"605.1076\" y=\"-273.6305\" font-family=\"Times,serif\" font-size=\"14.00\" fill=\"#000000\">label: +</text>\n",
       "<text text-anchor=\"middle\" x=\"605.1076\" y=\"-258.6305\" font-family=\"Times,serif\" font-size=\"14.00\" fill=\"#000000\">entropy: 0</text>\n",
       "<text text-anchor=\"middle\" x=\"605.1076\" y=\"-243.6305\" font-family=\"Times,serif\" font-size=\"14.00\" fill=\"#000000\">samples: 2</text>\n",
       "<text text-anchor=\"middle\" x=\"605.1076\" y=\"-228.6305\" font-family=\"Times,serif\" font-size=\"14.00\" fill=\"#000000\">classCounts: {&#39;+&#39;: 2}</text>\n",
       "</g>\n",
       "<!-- 1&#45;&gt;6 -->\n",
       "<g id=\"edge6\" class=\"edge\">\n",
       "<title>1&#45;&gt;6</title>\n",
       "<path fill=\"none\" stroke=\"#000000\" d=\"M605.1076,-394.2648C605.1076,-385.7779 605.1076,-377.1088 605.1076,-368.5203\"/>\n",
       "<polygon fill=\"#000000\" stroke=\"#000000\" points=\"608.6077,-368.491 605.1076,-358.491 601.6077,-368.491 608.6077,-368.491\"/>\n",
       "</g>\n",
       "<!-- 3 -->\n",
       "<g id=\"node4\" class=\"node\">\n",
       "<title>3</title>\n",
       "<ellipse fill=\"none\" stroke=\"#000000\" cx=\"130.1076\" cy=\"-80.6102\" rx=\"130.2154\" ry=\"80.7205\"/>\n",
       "<text text-anchor=\"middle\" x=\"130.1076\" y=\"-106.4102\" font-family=\"Times,serif\" font-size=\"14.00\" fill=\"#000000\">id: 3</text>\n",
       "<text text-anchor=\"middle\" x=\"130.1076\" y=\"-91.4102\" font-family=\"Times,serif\" font-size=\"14.00\" fill=\"#000000\">value: y</text>\n",
       "<text text-anchor=\"middle\" x=\"130.1076\" y=\"-76.4102\" font-family=\"Times,serif\" font-size=\"14.00\" fill=\"#000000\">label: +</text>\n",
       "<text text-anchor=\"middle\" x=\"130.1076\" y=\"-61.4102\" font-family=\"Times,serif\" font-size=\"14.00\" fill=\"#000000\">entropy: 0.7219280948873623</text>\n",
       "<text text-anchor=\"middle\" x=\"130.1076\" y=\"-46.4102\" font-family=\"Times,serif\" font-size=\"14.00\" fill=\"#000000\">samples: 5</text>\n",
       "<text text-anchor=\"middle\" x=\"130.1076\" y=\"-31.4102\" font-family=\"Times,serif\" font-size=\"14.00\" fill=\"#000000\">classCounts: {&#39;+&#39;: 4, &#39;&#45;&#39;: 1}</text>\n",
       "</g>\n",
       "<!-- 2&#45;&gt;3 -->\n",
       "<g id=\"edge3\" class=\"edge\">\n",
       "<title>2&#45;&gt;3</title>\n",
       "<path fill=\"none\" stroke=\"#000000\" d=\"M288.5056,-212.98C265.1089,-193.428 239.3026,-171.8622 215.4328,-151.9146\"/>\n",
       "<polygon fill=\"#000000\" stroke=\"#000000\" points=\"217.6741,-149.2264 207.7564,-145.4996 213.1854,-154.5978 217.6741,-149.2264\"/>\n",
       "</g>\n",
       "<!-- 4 -->\n",
       "<g id=\"node5\" class=\"node\">\n",
       "<title>4</title>\n",
       "<ellipse fill=\"none\" stroke=\"#000000\" cx=\"366.1076\" cy=\"-80.6102\" rx=\"88.2768\" ry=\"80.7205\"/>\n",
       "<text text-anchor=\"middle\" x=\"366.1076\" y=\"-106.4102\" font-family=\"Times,serif\" font-size=\"14.00\" fill=\"#000000\">id: 4</text>\n",
       "<text text-anchor=\"middle\" x=\"366.1076\" y=\"-91.4102\" font-family=\"Times,serif\" font-size=\"14.00\" fill=\"#000000\">value: g</text>\n",
       "<text text-anchor=\"middle\" x=\"366.1076\" y=\"-76.4102\" font-family=\"Times,serif\" font-size=\"14.00\" fill=\"#000000\">label: &#45;</text>\n",
       "<text text-anchor=\"middle\" x=\"366.1076\" y=\"-61.4102\" font-family=\"Times,serif\" font-size=\"14.00\" fill=\"#000000\">entropy: 0</text>\n",
       "<text text-anchor=\"middle\" x=\"366.1076\" y=\"-46.4102\" font-family=\"Times,serif\" font-size=\"14.00\" fill=\"#000000\">samples: 1</text>\n",
       "<text text-anchor=\"middle\" x=\"366.1076\" y=\"-31.4102\" font-family=\"Times,serif\" font-size=\"14.00\" fill=\"#000000\">classCounts: {&#39;&#45;&#39;: 1}</text>\n",
       "</g>\n",
       "<!-- 2&#45;&gt;4 -->\n",
       "<g id=\"edge4\" class=\"edge\">\n",
       "<title>2&#45;&gt;4</title>\n",
       "<path fill=\"none\" stroke=\"#000000\" d=\"M366.1076,-197.0444C366.1076,-188.5575 366.1076,-179.8884 366.1076,-171.3\"/>\n",
       "<polygon fill=\"#000000\" stroke=\"#000000\" points=\"369.6077,-171.2706 366.1076,-161.2706 362.6077,-171.2707 369.6077,-171.2706\"/>\n",
       "</g>\n",
       "<!-- 5 -->\n",
       "<g id=\"node6\" class=\"node\">\n",
       "<title>5</title>\n",
       "<ellipse fill=\"none\" stroke=\"#000000\" cx=\"525.1076\" cy=\"-80.6102\" rx=\"53.066\" ry=\"59.2941\"/>\n",
       "<text text-anchor=\"middle\" x=\"525.1076\" y=\"-91.4102\" font-family=\"Times,serif\" font-size=\"14.00\" fill=\"#000000\">id: 5</text>\n",
       "<text text-anchor=\"middle\" x=\"525.1076\" y=\"-76.4102\" font-family=\"Times,serif\" font-size=\"14.00\" fill=\"#000000\">value: b</text>\n",
       "<text text-anchor=\"middle\" x=\"525.1076\" y=\"-61.4102\" font-family=\"Times,serif\" font-size=\"14.00\" fill=\"#000000\">label: +</text>\n",
       "<text text-anchor=\"middle\" x=\"525.1076\" y=\"-46.4102\" font-family=\"Times,serif\" font-size=\"14.00\" fill=\"#000000\">samples: 0</text>\n",
       "</g>\n",
       "<!-- 2&#45;&gt;5 -->\n",
       "<g id=\"edge5\" class=\"edge\">\n",
       "<title>2&#45;&gt;5</title>\n",
       "<path fill=\"none\" stroke=\"#000000\" d=\"M426.3063,-206.3383C438.5871,-191.509 451.3456,-175.9228 463.1076,-161.2203 470.1027,-152.4766 477.4371,-143.1177 484.5134,-133.9852\"/>\n",
       "<polygon fill=\"#000000\" stroke=\"#000000\" points=\"487.308,-136.0927 490.6505,-126.039 481.7679,-131.8139 487.308,-136.0927\"/>\n",
       "</g>\n",
       "<!-- 8 -->\n",
       "<g id=\"node9\" class=\"node\">\n",
       "<title>8</title>\n",
       "<ellipse fill=\"none\" stroke=\"#000000\" cx=\"844.1076\" cy=\"-277.8305\" rx=\"130.2154\" ry=\"80.7205\"/>\n",
       "<text text-anchor=\"middle\" x=\"844.1076\" y=\"-303.6305\" font-family=\"Times,serif\" font-size=\"14.00\" fill=\"#000000\">id: 8</text>\n",
       "<text text-anchor=\"middle\" x=\"844.1076\" y=\"-288.6305\" font-family=\"Times,serif\" font-size=\"14.00\" fill=\"#000000\">value: y</text>\n",
       "<text text-anchor=\"middle\" x=\"844.1076\" y=\"-273.6305\" font-family=\"Times,serif\" font-size=\"14.00\" fill=\"#000000\">attribute: shape</text>\n",
       "<text text-anchor=\"middle\" x=\"844.1076\" y=\"-258.6305\" font-family=\"Times,serif\" font-size=\"14.00\" fill=\"#000000\">entropy: 0.9852281360342516</text>\n",
       "<text text-anchor=\"middle\" x=\"844.1076\" y=\"-243.6305\" font-family=\"Times,serif\" font-size=\"14.00\" fill=\"#000000\">samples: 7</text>\n",
       "<text text-anchor=\"middle\" x=\"844.1076\" y=\"-228.6305\" font-family=\"Times,serif\" font-size=\"14.00\" fill=\"#000000\">classCounts: {&#39;+&#39;: 3, &#39;&#45;&#39;: 4}</text>\n",
       "</g>\n",
       "<!-- 7&#45;&gt;8 -->\n",
       "<g id=\"edge8\" class=\"edge\">\n",
       "<title>7&#45;&gt;8</title>\n",
       "<path fill=\"none\" stroke=\"#000000\" d=\"M929.509,-400.7713C920.3383,-387.5694 910.7364,-373.7469 901.4184,-360.3331\"/>\n",
       "<polygon fill=\"#000000\" stroke=\"#000000\" points=\"904.2394,-358.2592 895.6598,-352.0431 898.4904,-362.2528 904.2394,-358.2592\"/>\n",
       "</g>\n",
       "<!-- 11 -->\n",
       "<g id=\"node12\" class=\"node\">\n",
       "<title>11</title>\n",
       "<ellipse fill=\"none\" stroke=\"#000000\" cx=\"1080.1076\" cy=\"-277.8305\" rx=\"88.2768\" ry=\"80.7205\"/>\n",
       "<text text-anchor=\"middle\" x=\"1080.1076\" y=\"-303.6305\" font-family=\"Times,serif\" font-size=\"14.00\" fill=\"#000000\">id: 11</text>\n",
       "<text text-anchor=\"middle\" x=\"1080.1076\" y=\"-288.6305\" font-family=\"Times,serif\" font-size=\"14.00\" fill=\"#000000\">value: g</text>\n",
       "<text text-anchor=\"middle\" x=\"1080.1076\" y=\"-273.6305\" font-family=\"Times,serif\" font-size=\"14.00\" fill=\"#000000\">label: &#45;</text>\n",
       "<text text-anchor=\"middle\" x=\"1080.1076\" y=\"-258.6305\" font-family=\"Times,serif\" font-size=\"14.00\" fill=\"#000000\">entropy: 0</text>\n",
       "<text text-anchor=\"middle\" x=\"1080.1076\" y=\"-243.6305\" font-family=\"Times,serif\" font-size=\"14.00\" fill=\"#000000\">samples: 1</text>\n",
       "<text text-anchor=\"middle\" x=\"1080.1076\" y=\"-228.6305\" font-family=\"Times,serif\" font-size=\"14.00\" fill=\"#000000\">classCounts: {&#39;&#45;&#39;: 1}</text>\n",
       "</g>\n",
       "<!-- 7&#45;&gt;11 -->\n",
       "<g id=\"edge11\" class=\"edge\">\n",
       "<title>7&#45;&gt;11</title>\n",
       "<path fill=\"none\" stroke=\"#000000\" d=\"M1019.809,-397.953C1026.0058,-385.6082 1032.44,-372.7905 1038.6969,-360.3259\"/>\n",
       "<polygon fill=\"#000000\" stroke=\"#000000\" points=\"1041.8574,-361.8314 1043.2157,-351.324 1035.6013,-358.6909 1041.8574,-361.8314\"/>\n",
       "</g>\n",
       "<!-- 12 -->\n",
       "<g id=\"node13\" class=\"node\">\n",
       "<title>12</title>\n",
       "<ellipse fill=\"none\" stroke=\"#000000\" cx=\"1239.1076\" cy=\"-277.8305\" rx=\"53.066\" ry=\"59.2941\"/>\n",
       "<text text-anchor=\"middle\" x=\"1239.1076\" y=\"-288.6305\" font-family=\"Times,serif\" font-size=\"14.00\" fill=\"#000000\">id: 12</text>\n",
       "<text text-anchor=\"middle\" x=\"1239.1076\" y=\"-273.6305\" font-family=\"Times,serif\" font-size=\"14.00\" fill=\"#000000\">value: b</text>\n",
       "<text text-anchor=\"middle\" x=\"1239.1076\" y=\"-258.6305\" font-family=\"Times,serif\" font-size=\"14.00\" fill=\"#000000\">label: &#45;</text>\n",
       "<text text-anchor=\"middle\" x=\"1239.1076\" y=\"-243.6305\" font-family=\"Times,serif\" font-size=\"14.00\" fill=\"#000000\">samples: 0</text>\n",
       "</g>\n",
       "<!-- 7&#45;&gt;12 -->\n",
       "<g id=\"edge12\" class=\"edge\">\n",
       "<title>7&#45;&gt;12</title>\n",
       "<path fill=\"none\" stroke=\"#000000\" d=\"M1082.5342,-424.4716C1114.5518,-406.0251 1148.902,-383.4764 1177.1076,-358.4407 1185.482,-351.0075 1193.5123,-342.3098 1200.8551,-333.4303\"/>\n",
       "<polygon fill=\"#000000\" stroke=\"#000000\" points=\"1203.6013,-335.6003 1207.1222,-325.6076 1198.1382,-331.2236 1203.6013,-335.6003\"/>\n",
       "</g>\n",
       "<!-- 9 -->\n",
       "<g id=\"node10\" class=\"node\">\n",
       "<title>9</title>\n",
       "<ellipse fill=\"none\" stroke=\"#000000\" cx=\"785.1076\" cy=\"-80.6102\" rx=\"130.2154\" ry=\"80.7205\"/>\n",
       "<text text-anchor=\"middle\" x=\"785.1076\" y=\"-106.4102\" font-family=\"Times,serif\" font-size=\"14.00\" fill=\"#000000\">id: 9</text>\n",
       "<text text-anchor=\"middle\" x=\"785.1076\" y=\"-91.4102\" font-family=\"Times,serif\" font-size=\"14.00\" fill=\"#000000\">value: r</text>\n",
       "<text text-anchor=\"middle\" x=\"785.1076\" y=\"-76.4102\" font-family=\"Times,serif\" font-size=\"14.00\" fill=\"#000000\">label: &#45;</text>\n",
       "<text text-anchor=\"middle\" x=\"785.1076\" y=\"-61.4102\" font-family=\"Times,serif\" font-size=\"14.00\" fill=\"#000000\">entropy: 0.9182958340544896</text>\n",
       "<text text-anchor=\"middle\" x=\"785.1076\" y=\"-46.4102\" font-family=\"Times,serif\" font-size=\"14.00\" fill=\"#000000\">samples: 6</text>\n",
       "<text text-anchor=\"middle\" x=\"785.1076\" y=\"-31.4102\" font-family=\"Times,serif\" font-size=\"14.00\" fill=\"#000000\">classCounts: {&#39;+&#39;: 2, &#39;&#45;&#39;: 4}</text>\n",
       "</g>\n",
       "<!-- 8&#45;&gt;9 -->\n",
       "<g id=\"edge9\" class=\"edge\">\n",
       "<title>8&#45;&gt;9</title>\n",
       "<path fill=\"none\" stroke=\"#000000\" d=\"M820.3651,-198.466C817.5608,-189.092 814.6843,-179.4766 811.8423,-169.9766\"/>\n",
       "<polygon fill=\"#000000\" stroke=\"#000000\" points=\"815.1169,-168.7107 808.8976,-160.1334 808.4106,-170.717 815.1169,-168.7107\"/>\n",
       "</g>\n",
       "<!-- 10 -->\n",
       "<g id=\"node11\" class=\"node\">\n",
       "<title>10</title>\n",
       "<ellipse fill=\"none\" stroke=\"#000000\" cx=\"1024.1076\" cy=\"-80.6102\" rx=\"91.4341\" ry=\"80.7205\"/>\n",
       "<text text-anchor=\"middle\" x=\"1024.1076\" y=\"-106.4102\" font-family=\"Times,serif\" font-size=\"14.00\" fill=\"#000000\">id: 10</text>\n",
       "<text text-anchor=\"middle\" x=\"1024.1076\" y=\"-91.4102\" font-family=\"Times,serif\" font-size=\"14.00\" fill=\"#000000\">value: i</text>\n",
       "<text text-anchor=\"middle\" x=\"1024.1076\" y=\"-76.4102\" font-family=\"Times,serif\" font-size=\"14.00\" fill=\"#000000\">label: +</text>\n",
       "<text text-anchor=\"middle\" x=\"1024.1076\" y=\"-61.4102\" font-family=\"Times,serif\" font-size=\"14.00\" fill=\"#000000\">entropy: 0</text>\n",
       "<text text-anchor=\"middle\" x=\"1024.1076\" y=\"-46.4102\" font-family=\"Times,serif\" font-size=\"14.00\" fill=\"#000000\">samples: 1</text>\n",
       "<text text-anchor=\"middle\" x=\"1024.1076\" y=\"-31.4102\" font-family=\"Times,serif\" font-size=\"14.00\" fill=\"#000000\">classCounts: {&#39;+&#39;: 1}</text>\n",
       "</g>\n",
       "<!-- 8&#45;&gt;10 -->\n",
       "<g id=\"edge10\" class=\"edge\">\n",
       "<title>8&#45;&gt;10</title>\n",
       "<path fill=\"none\" stroke=\"#000000\" d=\"M908.3295,-207.4647C925.0263,-189.1705 943.016,-169.4598 959.7213,-151.1563\"/>\n",
       "<polygon fill=\"#000000\" stroke=\"#000000\" points=\"962.6385,-153.152 966.7946,-143.4063 957.4681,-148.4331 962.6385,-153.152\"/>\n",
       "</g>\n",
       "</g>\n",
       "</svg>\n"
      ],
      "text/plain": [
       "<graphviz.files.Source at 0x7f51774d2940>"
      ]
     },
     "execution_count": 74,
     "metadata": {},
     "output_type": "execute_result"
    }
   ],
   "source": [
    "# Visualization of the Tree\n",
    "plot = id3.make_dot_data()\n",
    "# Text form\n",
    "print(\"Tree:\\n\", plot.source, \"\\n\")\n",
    "# graphic form\n",
    "plot.render(\"testTree\")\n",
    "graphviz.Source(plot) "
   ]
  },
  {
   "cell_type": "code",
   "execution_count": 75,
   "metadata": {},
   "outputs": [
    {
     "name": "stdout",
     "output_type": "stream",
     "text": [
      "Confusion matrix:\n",
      " [[2 1]\n",
      " [1 1]] \n",
      "\n",
      "classification report:\n",
      "               precision    recall  f1-score   support\n",
      "\n",
      "           +       0.67      0.67      0.67         3\n",
      "           -       0.50      0.50      0.50         2\n",
      "\n",
      "    accuracy                           0.60         5\n",
      "   macro avg       0.58      0.58      0.58         5\n",
      "weighted avg       0.60      0.60      0.60         5\n",
      " \n",
      "\n"
     ]
    }
   ],
   "source": [
    "# Testing the model\n",
    "predicted = id3.predict(data2, myTree)\n",
    "\n",
    "# Evaluation\n",
    "print(\"Confusion matrix:\\n\", confusion_matrix(predicted, target2), \"\\n\")\n",
    "print(\"classification report:\\n\", classification_report(predicted, target2), \"\\n\")"
   ]
  },
  {
   "cell_type": "markdown",
   "metadata": {},
   "source": [
    "### ------------------------ Digits -----------------------------------"
   ]
  },
  {
   "cell_type": "code",
   "execution_count": 76,
   "metadata": {},
   "outputs": [],
   "source": [
    "# Ordered Attributes : 1..16\n",
    "attributes = collections.OrderedDict()\n",
    "for i in range(64):\n",
    "    attributes[i] = [j for j in range(17)]"
   ]
  },
  {
   "cell_type": "code",
   "execution_count": 77,
   "metadata": {},
   "outputs": [],
   "source": [
    "# The classifier ID3\n",
    "clf = ID3.ID3DecisionTreeClassifier()\n",
    "\n",
    "# Fitting the model\n",
    "tree = clf.fit(x_train, y_train, attributes, target_names)"
   ]
  },
  {
   "cell_type": "code",
   "execution_count": 78,
   "metadata": {},
   "outputs": [
    {
     "data": {
      "text/plain": [
       "'digitsTree_16.pdf'"
      ]
     },
     "execution_count": 78,
     "metadata": {},
     "output_type": "execute_result"
    }
   ],
   "source": [
    "# Visualization\n",
    "plot = clf.make_dot_data()\n",
    "plot.render(\"digitsTree_16\")\n",
    "# print(\"Tree:\\n\", plot.source, \"\\n\")"
   ]
  },
  {
   "cell_type": "code",
   "execution_count": 79,
   "metadata": {},
   "outputs": [
    {
     "name": "stdout",
     "output_type": "stream",
     "text": [
      "Confusion matrix:\n",
      " [[25  2  3 10  5  0  0  3  5  5]\n",
      " [ 0 15  5  3 18  7  3  5  2  2]\n",
      " [ 2  4 19  2  2  7  0 10  4  3]\n",
      " [ 5  5  8 16  7  5  1  6  6  4]\n",
      " [ 1  5  1  0 31  0  7  4  4  2]\n",
      " [ 1  5  2  2  5 38  3  1  1  0]\n",
      " [ 0  0  1  0  1  4 30  0  0  0]\n",
      " [ 3  5  5  0  5  2  0 16  5  3]\n",
      " [ 4  5  5  7  6  0  0 16 12  5]\n",
      " [10  4  4  7  2  0  0  3  3 20]] \n",
      "\n",
      "classification report:\n",
      "               precision    recall  f1-score   support\n",
      "\n",
      "           0       0.49      0.43      0.46        58\n",
      "           1       0.30      0.25      0.27        60\n",
      "           2       0.36      0.36      0.36        53\n",
      "           3       0.34      0.25      0.29        63\n",
      "           4       0.38      0.56      0.45        55\n",
      "           5       0.60      0.66      0.63        58\n",
      "           6       0.68      0.83      0.75        36\n",
      "           7       0.25      0.36      0.30        44\n",
      "           8       0.29      0.20      0.24        60\n",
      "           9       0.45      0.38      0.41        53\n",
      "\n",
      "    accuracy                           0.41       540\n",
      "   macro avg       0.41      0.43      0.42       540\n",
      "weighted avg       0.41      0.41      0.40       540\n",
      " \n",
      "\n"
     ]
    }
   ],
   "source": [
    "# Testing the model\n",
    "y_hat = clf.predict(x_test, tree)\n",
    "print(\"Confusion matrix:\\n\", confusion_matrix(y_test, y_hat), \"\\n\")\n",
    "print(\"classification report:\\n\", classification_report(y_test, y_hat), \"\\n\")"
   ]
  },
  {
   "cell_type": "code",
   "execution_count": 80,
   "metadata": {},
   "outputs": [],
   "source": [
    "# Ordered Attributes : dark, light, gray\n",
    "attributes = collections.OrderedDict()\n",
    "for i in range(64):\n",
    "    attributes[i] = ['dark', 'light', 'gray']\n",
    "    \n",
    "# Modify your data set to contain only three values for the attributes\n",
    "X = np.array(x, dtype='<U21')\n",
    "for i in range(len(x)):\n",
    "    for j in range(64):\n",
    "        if x[i,j] < 5:\n",
    "            X[i,j] = 'dark'\n",
    "        elif x[i,j] > 10:\n",
    "            X[i,j] = 'light'\n",
    "        else:\n",
    "            X[i,j] = 'gray'\n",
    "            \n",
    "# Splitting the new data\n",
    "x_train, x_test, y_train, y_test = train_test_split(X, y, test_size=0.3)"
   ]
  },
  {
   "cell_type": "code",
   "execution_count": 81,
   "metadata": {},
   "outputs": [
    {
     "name": "stdout",
     "output_type": "stream",
     "text": [
      "Confusion matrix:\n",
      " [[56  0  0  1  0  1  1  0  1  0]\n",
      " [ 0 36  2  1  1  7  0  1  4  0]\n",
      " [ 1  5 42  6  1  1  0  0  5  0]\n",
      " [ 1  0  2 48  0  2  0  4  2  5]\n",
      " [ 0  2  0  0 36  1  2  0  2  2]\n",
      " [ 3  2  0  0  1 47  0  1  2  3]\n",
      " [ 0  1  1  0  3  0 39  1  0  0]\n",
      " [ 1  0  1  1  3  1  0 38  1  0]\n",
      " [ 0  7  1  1  3  0  2  0 34  2]\n",
      " [ 0  0  2  0  1  3  0  1  6 45]] \n",
      "\n",
      "classification report:\n",
      "               precision    recall  f1-score   support\n",
      "\n",
      "           0       0.90      0.93      0.92        60\n",
      "           1       0.68      0.69      0.69        52\n",
      "           2       0.82      0.69      0.75        61\n",
      "           3       0.83      0.75      0.79        64\n",
      "           4       0.73      0.80      0.77        45\n",
      "           5       0.75      0.80      0.77        59\n",
      "           6       0.89      0.87      0.88        45\n",
      "           7       0.83      0.83      0.83        46\n",
      "           8       0.60      0.68      0.64        50\n",
      "           9       0.79      0.78      0.78        58\n",
      "\n",
      "    accuracy                           0.78       540\n",
      "   macro avg       0.78      0.78      0.78       540\n",
      "weighted avg       0.78      0.78      0.78       540\n",
      " \n",
      "\n"
     ]
    }
   ],
   "source": [
    "# building a new model\n",
    "clf = ID3.ID3DecisionTreeClassifier()\n",
    "tree = clf.fit(x_train, y_train, attributes, target_names)\n",
    "\n",
    "# Visualize\n",
    "plot = clf.make_dot_data()\n",
    "plot.render(\"digitsTree_3\")\n",
    "\n",
    "# Testing it\n",
    "y_hat = clf.predict(x_test, tree)\n",
    "\n",
    "# Evaluation:\n",
    "print(\"Confusion matrix:\\n\", confusion_matrix(y_test, y_hat), \"\\n\")\n",
    "print(\"classification report:\\n\", classification_report(y_test, y_hat), \"\\n\")"
   ]
  }
 ],
 "metadata": {
  "kernelspec": {
   "display_name": "Python 3",
   "language": "python",
   "name": "python3"
  },
  "language_info": {
   "codemirror_mode": {
    "name": "ipython",
    "version": 3
   },
   "file_extension": ".py",
   "mimetype": "text/x-python",
   "name": "python",
   "nbconvert_exporter": "python",
   "pygments_lexer": "ipython3",
   "version": "3.7.3"
  }
 },
 "nbformat": 4,
 "nbformat_minor": 2
}
